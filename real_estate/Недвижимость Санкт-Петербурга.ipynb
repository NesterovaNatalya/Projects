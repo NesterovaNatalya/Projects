{
 "cells": [
  {
   "cell_type": "markdown",
   "metadata": {},
   "source": [
    "# Исследование объявлений о продаже квартир\n",
    "\n",
    "В вашем распоряжении данные сервиса Яндекс.Недвижимость — архив объявлений о продаже квартир в Санкт-Петербурге и соседних населённых пунктов за несколько лет. Нужно научиться определять рыночную стоимость объектов недвижимости. Ваша задача — установить параметры. Это позволит построить автоматизированную систему: она отследит аномалии и мошенническую деятельность. \n",
    "\n",
    "По каждой квартире на продажу доступны два вида данных. Первые вписаны пользователем, вторые — получены автоматически на основе картографических данных. Например, расстояние до центра, аэропорта, ближайшего парка и водоёма. "
   ]
  },
  {
   "cell_type": "markdown",
   "metadata": {},
   "source": [
    "### Откройте файл с данными и изучите общую информацию. "
   ]
  },
  {
   "cell_type": "code",
   "execution_count": 4,
   "metadata": {},
   "outputs": [
    {
     "name": "stdout",
     "output_type": "stream",
     "text": [
      "<class 'pandas.core.frame.DataFrame'>\n",
      "RangeIndex: 23699 entries, 0 to 23698\n",
      "Data columns (total 22 columns):\n",
      " #   Column                Non-Null Count  Dtype \n",
      "---  ------                --------------  ----- \n",
      " 0   total_images          23699 non-null  int64 \n",
      " 1   last_price            23699 non-null  object\n",
      " 2   total_area            23699 non-null  object\n",
      " 3   first_day_exposition  23699 non-null  object\n",
      " 4   rooms                 23699 non-null  int64 \n",
      " 5   ceiling_height        14504 non-null  object\n",
      " 6   floors_total          23613 non-null  object\n",
      " 7   living_area           21796 non-null  object\n",
      " 8   floor                 23699 non-null  int64 \n",
      " 9   is_apartment          2775 non-null   object\n",
      " 10  studio                23699 non-null  bool  \n",
      " 11  open_plan             23699 non-null  bool  \n",
      " 12  kitchen_area          21421 non-null  object\n",
      " 13  balcony               12180 non-null  object\n",
      " 14  locality_name         23650 non-null  object\n",
      " 15  airports_nearest      18157 non-null  object\n",
      " 16  cityCenters_nearest   18180 non-null  object\n",
      " 17  parks_around3000      18181 non-null  object\n",
      " 18  parks_nearest         8079 non-null   object\n",
      " 19  ponds_around3000      18181 non-null  object\n",
      " 20  ponds_nearest         9110 non-null   object\n",
      " 21  days_exposition       20518 non-null  object\n",
      "dtypes: bool(2), int64(3), object(17)\n",
      "memory usage: 3.7+ MB\n"
     ]
    },
    {
     "data": {
      "text/html": [
       "<div>\n",
       "<style scoped>\n",
       "    .dataframe tbody tr th:only-of-type {\n",
       "        vertical-align: middle;\n",
       "    }\n",
       "\n",
       "    .dataframe tbody tr th {\n",
       "        vertical-align: top;\n",
       "    }\n",
       "\n",
       "    .dataframe thead th {\n",
       "        text-align: right;\n",
       "    }\n",
       "</style>\n",
       "<table border=\"1\" class=\"dataframe\">\n",
       "  <thead>\n",
       "    <tr style=\"text-align: right;\">\n",
       "      <th></th>\n",
       "      <th>total_images</th>\n",
       "      <th>last_price</th>\n",
       "      <th>total_area</th>\n",
       "      <th>first_day_exposition</th>\n",
       "      <th>rooms</th>\n",
       "      <th>ceiling_height</th>\n",
       "      <th>floors_total</th>\n",
       "      <th>living_area</th>\n",
       "      <th>floor</th>\n",
       "      <th>is_apartment</th>\n",
       "      <th>...</th>\n",
       "      <th>kitchen_area</th>\n",
       "      <th>balcony</th>\n",
       "      <th>locality_name</th>\n",
       "      <th>airports_nearest</th>\n",
       "      <th>cityCenters_nearest</th>\n",
       "      <th>parks_around3000</th>\n",
       "      <th>parks_nearest</th>\n",
       "      <th>ponds_around3000</th>\n",
       "      <th>ponds_nearest</th>\n",
       "      <th>days_exposition</th>\n",
       "    </tr>\n",
       "  </thead>\n",
       "  <tbody>\n",
       "    <tr>\n",
       "      <th>0</th>\n",
       "      <td>20</td>\n",
       "      <td>13000000.0</td>\n",
       "      <td>108.0</td>\n",
       "      <td>2019-03-07T00:00:00</td>\n",
       "      <td>3</td>\n",
       "      <td>2.7</td>\n",
       "      <td>16.0</td>\n",
       "      <td>51.0</td>\n",
       "      <td>8</td>\n",
       "      <td>NaN</td>\n",
       "      <td>...</td>\n",
       "      <td>25.0</td>\n",
       "      <td>NaN</td>\n",
       "      <td>Санкт-Петербург</td>\n",
       "      <td>18863.0</td>\n",
       "      <td>16028.0</td>\n",
       "      <td>1.0</td>\n",
       "      <td>482.0</td>\n",
       "      <td>2.0</td>\n",
       "      <td>755.0</td>\n",
       "      <td>NaN</td>\n",
       "    </tr>\n",
       "    <tr>\n",
       "      <th>1</th>\n",
       "      <td>7</td>\n",
       "      <td>3350000.0</td>\n",
       "      <td>40.4</td>\n",
       "      <td>2018-12-04T00:00:00</td>\n",
       "      <td>1</td>\n",
       "      <td>NaN</td>\n",
       "      <td>11.0</td>\n",
       "      <td>18.6</td>\n",
       "      <td>1</td>\n",
       "      <td>NaN</td>\n",
       "      <td>...</td>\n",
       "      <td>11.0</td>\n",
       "      <td>2.0</td>\n",
       "      <td>посёлок Шушары</td>\n",
       "      <td>12817.0</td>\n",
       "      <td>18603.0</td>\n",
       "      <td>0.0</td>\n",
       "      <td>NaN</td>\n",
       "      <td>0.0</td>\n",
       "      <td>NaN</td>\n",
       "      <td>81.0</td>\n",
       "    </tr>\n",
       "    <tr>\n",
       "      <th>2</th>\n",
       "      <td>10</td>\n",
       "      <td>5196000.0</td>\n",
       "      <td>56.0</td>\n",
       "      <td>2015-08-20T00:00:00</td>\n",
       "      <td>2</td>\n",
       "      <td>NaN</td>\n",
       "      <td>5.0</td>\n",
       "      <td>34.3</td>\n",
       "      <td>4</td>\n",
       "      <td>NaN</td>\n",
       "      <td>...</td>\n",
       "      <td>8.3</td>\n",
       "      <td>0.0</td>\n",
       "      <td>Санкт-Петербург</td>\n",
       "      <td>21741.0</td>\n",
       "      <td>13933.0</td>\n",
       "      <td>1.0</td>\n",
       "      <td>90.0</td>\n",
       "      <td>2.0</td>\n",
       "      <td>574.0</td>\n",
       "      <td>558.0</td>\n",
       "    </tr>\n",
       "    <tr>\n",
       "      <th>3</th>\n",
       "      <td>0</td>\n",
       "      <td>64900000.0</td>\n",
       "      <td>159.0</td>\n",
       "      <td>2015-07-24T00:00:00</td>\n",
       "      <td>3</td>\n",
       "      <td>NaN</td>\n",
       "      <td>14.0</td>\n",
       "      <td>NaN</td>\n",
       "      <td>9</td>\n",
       "      <td>NaN</td>\n",
       "      <td>...</td>\n",
       "      <td>NaN</td>\n",
       "      <td>0.0</td>\n",
       "      <td>Санкт-Петербург</td>\n",
       "      <td>28098.0</td>\n",
       "      <td>6800.0</td>\n",
       "      <td>2.0</td>\n",
       "      <td>84.0</td>\n",
       "      <td>3.0</td>\n",
       "      <td>234.0</td>\n",
       "      <td>424.0</td>\n",
       "    </tr>\n",
       "    <tr>\n",
       "      <th>4</th>\n",
       "      <td>2</td>\n",
       "      <td>10000000.0</td>\n",
       "      <td>100.0</td>\n",
       "      <td>2018-06-19T00:00:00</td>\n",
       "      <td>2</td>\n",
       "      <td>3.03</td>\n",
       "      <td>14.0</td>\n",
       "      <td>32.0</td>\n",
       "      <td>13</td>\n",
       "      <td>NaN</td>\n",
       "      <td>...</td>\n",
       "      <td>41.0</td>\n",
       "      <td>NaN</td>\n",
       "      <td>Санкт-Петербург</td>\n",
       "      <td>31856.0</td>\n",
       "      <td>8098.0</td>\n",
       "      <td>2.0</td>\n",
       "      <td>112.0</td>\n",
       "      <td>1.0</td>\n",
       "      <td>48.0</td>\n",
       "      <td>121.0</td>\n",
       "    </tr>\n",
       "    <tr>\n",
       "      <th>5</th>\n",
       "      <td>10</td>\n",
       "      <td>2890000.0</td>\n",
       "      <td>30.4</td>\n",
       "      <td>2018-09-10T00:00:00</td>\n",
       "      <td>1</td>\n",
       "      <td>NaN</td>\n",
       "      <td>12.0</td>\n",
       "      <td>14.4</td>\n",
       "      <td>5</td>\n",
       "      <td>NaN</td>\n",
       "      <td>...</td>\n",
       "      <td>9.1</td>\n",
       "      <td>NaN</td>\n",
       "      <td>городской посёлок Янино-1</td>\n",
       "      <td>NaN</td>\n",
       "      <td>NaN</td>\n",
       "      <td>NaN</td>\n",
       "      <td>NaN</td>\n",
       "      <td>NaN</td>\n",
       "      <td>NaN</td>\n",
       "      <td>55.0</td>\n",
       "    </tr>\n",
       "    <tr>\n",
       "      <th>6</th>\n",
       "      <td>6</td>\n",
       "      <td>3700000.0</td>\n",
       "      <td>37.3</td>\n",
       "      <td>2017-11-02T00:00:00</td>\n",
       "      <td>1</td>\n",
       "      <td>NaN</td>\n",
       "      <td>26.0</td>\n",
       "      <td>10.6</td>\n",
       "      <td>6</td>\n",
       "      <td>NaN</td>\n",
       "      <td>...</td>\n",
       "      <td>14.4</td>\n",
       "      <td>1.0</td>\n",
       "      <td>посёлок Парголово</td>\n",
       "      <td>52996.0</td>\n",
       "      <td>19143.0</td>\n",
       "      <td>0.0</td>\n",
       "      <td>NaN</td>\n",
       "      <td>0.0</td>\n",
       "      <td>NaN</td>\n",
       "      <td>155.0</td>\n",
       "    </tr>\n",
       "    <tr>\n",
       "      <th>7</th>\n",
       "      <td>5</td>\n",
       "      <td>7915000.0</td>\n",
       "      <td>71.6</td>\n",
       "      <td>2019-04-18T00:00:00</td>\n",
       "      <td>2</td>\n",
       "      <td>NaN</td>\n",
       "      <td>24.0</td>\n",
       "      <td>NaN</td>\n",
       "      <td>22</td>\n",
       "      <td>NaN</td>\n",
       "      <td>...</td>\n",
       "      <td>18.9</td>\n",
       "      <td>2.0</td>\n",
       "      <td>Санкт-Петербург</td>\n",
       "      <td>23982.0</td>\n",
       "      <td>11634.0</td>\n",
       "      <td>0.0</td>\n",
       "      <td>NaN</td>\n",
       "      <td>0.0</td>\n",
       "      <td>NaN</td>\n",
       "      <td>NaN</td>\n",
       "    </tr>\n",
       "    <tr>\n",
       "      <th>8</th>\n",
       "      <td>20</td>\n",
       "      <td>2900000.0</td>\n",
       "      <td>33.16</td>\n",
       "      <td>2018-05-23T00:00:00</td>\n",
       "      <td>1</td>\n",
       "      <td>NaN</td>\n",
       "      <td>27.0</td>\n",
       "      <td>15.43</td>\n",
       "      <td>26</td>\n",
       "      <td>NaN</td>\n",
       "      <td>...</td>\n",
       "      <td>8.81</td>\n",
       "      <td>NaN</td>\n",
       "      <td>посёлок Мурино</td>\n",
       "      <td>NaN</td>\n",
       "      <td>NaN</td>\n",
       "      <td>NaN</td>\n",
       "      <td>NaN</td>\n",
       "      <td>NaN</td>\n",
       "      <td>NaN</td>\n",
       "      <td>189.00000000000003</td>\n",
       "    </tr>\n",
       "    <tr>\n",
       "      <th>9</th>\n",
       "      <td>18</td>\n",
       "      <td>5400000.0</td>\n",
       "      <td>61.0</td>\n",
       "      <td>2017-02-26T00:00:00</td>\n",
       "      <td>3</td>\n",
       "      <td>2.5</td>\n",
       "      <td>9.0</td>\n",
       "      <td>43.6</td>\n",
       "      <td>7</td>\n",
       "      <td>NaN</td>\n",
       "      <td>...</td>\n",
       "      <td>6.5</td>\n",
       "      <td>2.0</td>\n",
       "      <td>Санкт-Петербург</td>\n",
       "      <td>50898.0</td>\n",
       "      <td>15008.0</td>\n",
       "      <td>0.0</td>\n",
       "      <td>NaN</td>\n",
       "      <td>0.0</td>\n",
       "      <td>NaN</td>\n",
       "      <td>289.0</td>\n",
       "    </tr>\n",
       "  </tbody>\n",
       "</table>\n",
       "<p>10 rows × 22 columns</p>\n",
       "</div>"
      ],
      "text/plain": [
       "   total_images  last_price total_area first_day_exposition  rooms  \\\n",
       "0            20  13000000.0      108.0  2019-03-07T00:00:00      3   \n",
       "1             7   3350000.0       40.4  2018-12-04T00:00:00      1   \n",
       "2            10   5196000.0       56.0  2015-08-20T00:00:00      2   \n",
       "3             0  64900000.0      159.0  2015-07-24T00:00:00      3   \n",
       "4             2  10000000.0      100.0  2018-06-19T00:00:00      2   \n",
       "5            10   2890000.0       30.4  2018-09-10T00:00:00      1   \n",
       "6             6   3700000.0       37.3  2017-11-02T00:00:00      1   \n",
       "7             5   7915000.0       71.6  2019-04-18T00:00:00      2   \n",
       "8            20   2900000.0      33.16  2018-05-23T00:00:00      1   \n",
       "9            18   5400000.0       61.0  2017-02-26T00:00:00      3   \n",
       "\n",
       "  ceiling_height floors_total living_area  floor is_apartment  ...  \\\n",
       "0            2.7         16.0        51.0      8          NaN  ...   \n",
       "1            NaN         11.0        18.6      1          NaN  ...   \n",
       "2            NaN          5.0        34.3      4          NaN  ...   \n",
       "3            NaN         14.0         NaN      9          NaN  ...   \n",
       "4           3.03         14.0        32.0     13          NaN  ...   \n",
       "5            NaN         12.0        14.4      5          NaN  ...   \n",
       "6            NaN         26.0        10.6      6          NaN  ...   \n",
       "7            NaN         24.0         NaN     22          NaN  ...   \n",
       "8            NaN         27.0       15.43     26          NaN  ...   \n",
       "9            2.5          9.0        43.6      7          NaN  ...   \n",
       "\n",
       "   kitchen_area  balcony              locality_name airports_nearest  \\\n",
       "0          25.0      NaN            Санкт-Петербург          18863.0   \n",
       "1          11.0      2.0             посёлок Шушары          12817.0   \n",
       "2           8.3      0.0            Санкт-Петербург          21741.0   \n",
       "3           NaN      0.0            Санкт-Петербург          28098.0   \n",
       "4          41.0      NaN            Санкт-Петербург          31856.0   \n",
       "5           9.1      NaN  городской посёлок Янино-1              NaN   \n",
       "6          14.4      1.0          посёлок Парголово          52996.0   \n",
       "7          18.9      2.0            Санкт-Петербург          23982.0   \n",
       "8          8.81      NaN             посёлок Мурино              NaN   \n",
       "9           6.5      2.0            Санкт-Петербург          50898.0   \n",
       "\n",
       "  cityCenters_nearest parks_around3000 parks_nearest ponds_around3000  \\\n",
       "0             16028.0              1.0         482.0              2.0   \n",
       "1             18603.0              0.0           NaN              0.0   \n",
       "2             13933.0              1.0          90.0              2.0   \n",
       "3              6800.0              2.0          84.0              3.0   \n",
       "4              8098.0              2.0         112.0              1.0   \n",
       "5                 NaN              NaN           NaN              NaN   \n",
       "6             19143.0              0.0           NaN              0.0   \n",
       "7             11634.0              0.0           NaN              0.0   \n",
       "8                 NaN              NaN           NaN              NaN   \n",
       "9             15008.0              0.0           NaN              0.0   \n",
       "\n",
       "  ponds_nearest     days_exposition  \n",
       "0         755.0                 NaN  \n",
       "1           NaN                81.0  \n",
       "2         574.0               558.0  \n",
       "3         234.0               424.0  \n",
       "4          48.0               121.0  \n",
       "5           NaN                55.0  \n",
       "6           NaN               155.0  \n",
       "7           NaN                 NaN  \n",
       "8           NaN  189.00000000000003  \n",
       "9           NaN               289.0  \n",
       "\n",
       "[10 rows x 22 columns]"
      ]
     },
     "metadata": {},
     "output_type": "display_data"
    },
    {
     "data": {
      "text/plain": [
       "array([[<AxesSubplot:title={'center':'total_images'}>,\n",
       "        <AxesSubplot:title={'center':'rooms'}>],\n",
       "       [<AxesSubplot:title={'center':'floor'}>, <AxesSubplot:>]],\n",
       "      dtype=object)"
      ]
     },
     "execution_count": 4,
     "metadata": {},
     "output_type": "execute_result"
    },
    {
     "data": {
      "image/png": "[encoded data removed]",
      "text/plain": [
       "<Figure size 1080x1440 with 4 Axes>"
      ]
     },
     "metadata": {
      "needs_background": "light"
     },
     "output_type": "display_data"
    }
   ],
   "source": [
    "import pandas as pd\n",
    "data = pd.read_csv('/datasets/real_estate_data.csv',sep='\\t', decimal=',')\n",
    "data.info()\n",
    "display (data.head(10))\n",
    "data.hist(figsize=(15, 20))"
   ]
  },
  {
   "cell_type": "markdown",
   "metadata": {},
   "source": [
    "### Предобработка данных"
   ]
  },
  {
   "cell_type": "code",
   "execution_count": 7,
   "metadata": {},
   "outputs": [
    {
     "name": "stdout",
     "output_type": "stream",
     "text": [
      "total_images 0\n",
      "last_price 0\n",
      "total_area 0\n",
      "first_day_exposition 0\n",
      "rooms 0\n",
      "ceiling_height 0\n",
      "floors_total 86\n",
      "living_area 0\n",
      "floor 0\n",
      "is_apartment 0\n",
      "studio 0\n",
      "open_plan 0\n",
      "kitchen_area 2278\n",
      "balcony 0\n",
      "locality_name 49\n",
      "airports_nearest 5542\n",
      "cityCenters_nearest 5519\n",
      "parks_around3000 0\n",
      "parks_nearest 15620\n",
      "ponds_around3000 0\n",
      "ponds_nearest 14589\n",
      "days_exposition 3181\n",
      "first_day_year 0\n"
     ]
    },
    {
     "data": {
      "text/html": [
       "<div>\n",
       "<style scoped>\n",
       "    .dataframe tbody tr th:only-of-type {\n",
       "        vertical-align: middle;\n",
       "    }\n",
       "\n",
       "    .dataframe tbody tr th {\n",
       "        vertical-align: top;\n",
       "    }\n",
       "\n",
       "    .dataframe thead th {\n",
       "        text-align: right;\n",
       "    }\n",
       "</style>\n",
       "<table border=\"1\" class=\"dataframe\">\n",
       "  <thead>\n",
       "    <tr style=\"text-align: right;\">\n",
       "      <th>first_day_year</th>\n",
       "      <th>2014</th>\n",
       "      <th>2015</th>\n",
       "      <th>2016</th>\n",
       "      <th>2017</th>\n",
       "      <th>2018</th>\n",
       "      <th>2019</th>\n",
       "    </tr>\n",
       "  </thead>\n",
       "  <tbody>\n",
       "    <tr>\n",
       "      <th>total_area</th>\n",
       "      <td>18</td>\n",
       "      <td>70</td>\n",
       "      <td>67</td>\n",
       "      <td>271</td>\n",
       "      <td>959</td>\n",
       "      <td>1796</td>\n",
       "    </tr>\n",
       "  </tbody>\n",
       "</table>\n",
       "</div>"
      ],
      "text/plain": [
       "first_day_year  2014  2015  2016  2017  2018  2019\n",
       "total_area        18    70    67   271   959  1796"
      ]
     },
     "metadata": {},
     "output_type": "display_data"
    }
   ],
   "source": [
    "for i in data:\n",
    "    print (i,data[i].isna().sum()) #смотрим количество нулевых значений в столбцах\n",
    "# заменим нулевые значение в столбце с высотой потолков на медианные значения, так как параметр не играет весомой роли при анализе данных и разброс значений в =- 0,5 метра не является существенным.\n",
    "data['ceiling_height'] = data['ceiling_height'].fillna(data['ceiling_height'].median()) \n",
    "\n",
    "#Проанализируем столбец с длительностью продаж\n",
    "import datetime as dt\n",
    "\n",
    "data['first_day_exposition'] = pd.to_datetime(data['first_day_exposition'], format='%Y-%m-%dT%H:%M:%S')\n",
    "data['first_day_year'] = data['first_day_exposition'].dt.year\n",
    "display(data[data['days_exposition'].isnull()].pivot_table(columns = 'first_day_year', values = 'total_area', aggfunc = 'count'))\n",
    "\n",
    "\n",
    "\n",
    "#пропуски значений в столбце \"является апартаментом\" логично заменить на \"0\", так как обычно укзывают этот параметр только, если квартира является апартаментом. Получим '0 ' - не является апартаментом, '1' - является\n",
    "#то же касается и столбца с наличием балконов,если данных нет, то и балконов скорее всего нет. Заменяем на \"0\". \n",
    "#аналогично, если не указано количество водоемов и парков поблизости,то скорее всего их нет. Земеним значения на \"0\n",
    "list_0 = {'is_apartment','balcony','parks_around3000','ponds_around3000'}\n",
    "for i in list_0:\n",
    "    data[i] = data[i].fillna('0')\n",
    "\n",
    "# На каком этаже находится квартира важно, как и сколько этажей всего в доме, но если этих показателей нет, взять значение неоткуда, оставляем как есть. \n",
    "# Можем допустить, что площадь кухни и жилая площадь в среднем зависит от количетва комнат в квартире, тогда заменим пропуски в данном столбце на медианные значения (допущение очень грубое, возможно лучше было бы оставить пустые значения):\n",
    "\n",
    "for el in data['rooms'].unique():\n",
    "    data.loc[( data['rooms'] == el) & (data['living_area'].isna()), 'living_area'] =\\\n",
    "    data.loc[( data['rooms'] == el),'living_area'].median()\n",
    "    #data.loc[( data['rooms'] == el) & (data['kitchen_area'].isna()), 'kitchen_area'] =\\\n",
    "    #data.loc[( data['rooms'] == el),'kitchen_area'].median()\n",
    "#Расстояния и название мест нам взять не откуда, оставим пропуски как есть.\n",
    "\n"
   ]
  },
  {
   "cell_type": "markdown",
   "metadata": {},
   "source": []
  },
  {
   "cell_type": "markdown",
   "metadata": {},
   "source": [
    "К пропускам в данных могло привести отсутствие сведений о недвижимости от продавца,отсутствие техпаспорта на квартиру, \"человеческий\" фактор при внесении данных,  не желание ответственного за данные лица выяснять расстояния по карте) "
   ]
  },
  {
   "cell_type": "code",
   "execution_count": 39,
   "metadata": {},
   "outputs": [
    {
     "name": "stdout",
     "output_type": "stream",
     "text": [
      "<class 'pandas.core.frame.DataFrame'>\n",
      "Int64Index: 21303 entries, 0 to 23698\n",
      "Data columns (total 29 columns):\n",
      " #   Column                Non-Null Count  Dtype         \n",
      "---  ------                --------------  -----         \n",
      " 0   total_images          21303 non-null  int64         \n",
      " 1   last_price            21303 non-null  int64         \n",
      " 2   total_area            21303 non-null  float64       \n",
      " 3   first_day_exposition  21303 non-null  datetime64[ns]\n",
      " 4   rooms                 21303 non-null  int64         \n",
      " 5   ceiling_height        21303 non-null  float64       \n",
      " 6   floors_total          21264 non-null  float64       \n",
      " 7   living_area           21303 non-null  float64       \n",
      " 8   floor                 21303 non-null  int64         \n",
      " 9   is_apartment          21303 non-null  bool          \n",
      " 10  studio                21303 non-null  bool          \n",
      " 11  open_plan             21303 non-null  bool          \n",
      " 12  kitchen_area          21303 non-null  float64       \n",
      " 13  balcony               21303 non-null  int64         \n",
      " 14  locality_name         21263 non-null  object        \n",
      " 15  airports_nearest      16493 non-null  float64       \n",
      " 16  cityCenters_nearest   16514 non-null  float64       \n",
      " 17  parks_around3000      21303 non-null  int64         \n",
      " 18  parks_nearest         7329 non-null   float64       \n",
      " 19  ponds_around3000      21303 non-null  int64         \n",
      " 20  ponds_nearest         8203 non-null   float64       \n",
      " 21  days_exposition       18342 non-null  float64       \n",
      " 22  first_day_year        21303 non-null  int64         \n",
      " 23  metr_price            21303 non-null  float64       \n",
      " 24  day_exp               21303 non-null  int64         \n",
      " 25  month_exp             21303 non-null  int64         \n",
      " 26  year_exp              21303 non-null  int64         \n",
      " 27  floor_type            21303 non-null  object        \n",
      " 28  to_centr              16514 non-null  float64       \n",
      "dtypes: bool(3), datetime64[ns](1), float64(12), int64(11), object(2)\n",
      "memory usage: 4.4+ MB\n",
      "    total_images  last_price  total_area first_day_exposition  rooms  \\\n",
      "0             20       13000      108.00           2019-03-07      3   \n",
      "1              7        3350       40.40           2018-12-04      1   \n",
      "2             10        5196       56.00           2015-08-20      2   \n",
      "4              2       10000      100.00           2018-06-19      2   \n",
      "5             10        2890       30.40           2018-09-10      1   \n",
      "6              6        3700       37.30           2017-11-02      1   \n",
      "7              5        7915       71.60           2019-04-18      2   \n",
      "8             20        2900       33.16           2018-05-23      1   \n",
      "9             18        5400       61.00           2017-02-26      3   \n",
      "10             5        5050       39.60           2017-11-16      1   \n",
      "\n",
      "    ceiling_height  floors_total  living_area  floor  is_apartment  ...  \\\n",
      "0             2.70          16.0        51.00      8          True  ...   \n",
      "1             2.65          11.0        18.60      1          True  ...   \n",
      "2             2.65           5.0        34.30      4          True  ...   \n",
      "4             3.03          14.0        32.00     13          True  ...   \n",
      "5             2.65          12.0        14.40      5          True  ...   \n",
      "6             2.65          26.0        10.60      6          True  ...   \n",
      "7             2.65          24.0        30.50     22          True  ...   \n",
      "8             2.65          27.0        15.43     26          True  ...   \n",
      "9             2.50           9.0        43.60      7          True  ...   \n",
      "10            2.67          12.0        20.30      3          True  ...   \n",
      "\n",
      "    ponds_around3000  ponds_nearest  days_exposition  first_day_year  \\\n",
      "0                  2          755.0              NaN            2019   \n",
      "1                  0            NaN             81.0            2018   \n",
      "2                  2          574.0            558.0            2015   \n",
      "4                  1           48.0            121.0            2018   \n",
      "5                  0            NaN             55.0            2018   \n",
      "6                  0            NaN            155.0            2017   \n",
      "7                  0            NaN              NaN            2019   \n",
      "8                  0            NaN            189.0            2018   \n",
      "9                  0            NaN            289.0            2017   \n",
      "10                 2          553.0            137.0            2017   \n",
      "\n",
      "   metr_price  day_exp  month_exp  year_exp  floor_type  to_centr  \n",
      "0    120370.0        3          3      2019      другой      16.0  \n",
      "1     82921.0        1         12      2018      первый      19.0  \n",
      "2     92786.0        3          8      2015      другой      14.0  \n",
      "4    100000.0        1          6      2018      другой       8.0  \n",
      "5     95066.0        0          9      2018   последний       NaN  \n",
      "6     99196.0        3         11      2017      другой      19.0  \n",
      "7    110545.0        3          4      2019      другой      12.0  \n",
      "8     87455.0        2          5      2018      другой       NaN  \n",
      "9     88525.0        6          2      2017      другой      15.0  \n",
      "10   127525.0        3         11      2017      другой      14.0  \n",
      "\n",
      "[10 rows x 29 columns]\n"
     ]
    }
   ],
   "source": [
    "# В столбцах  \"last_price\",    \"floors_total\" ,   \"balcony\", \"parks_around3000\",  \"ponds_around3000\", \"airports_nearest\"  \n",
    "# \"cityCenters_nearest\", \"parks_nearest\", \"ponds_nearest\" находятся целочисленные значения.\n",
    "#Преобразуем в них тип данных в int \n",
    "\n",
    "list1 = {'last_price','floors_total','balcony','parks_around3000','ponds_around3000','days_exposition'}\n",
    "for i in list1:\n",
    "    data[i] = data[i].astype('float64').astype('int',errors='ignore')\n",
    "\n",
    "# В столюцах    \"total_area\" ,\"ceiling_height\" ,\"living_area\", \"kitchen_area\" надо преобразовать тип данных в числовой с плавающей точкой\n",
    "\n",
    "list2 = {'total_area','ceiling_height','living_area','kitchen_area','airports_nearest','cityCenters_nearest','parks_nearest','ponds_nearest'}\n",
    "for el in list2:\n",
    "    data[el] = pd.to_numeric(data[el],errors='ignore') \n",
    "\n",
    "#first_day_exposition  - дата. Сделаем её красивой\n",
    "data['first_day_exposition'] = pd.to_datetime(data['first_day_exposition'], format='%Y-%m-%dT%H:%M:%S')\n",
    "# осталось изменить тип в столбце \" is_apartment\" на bool, так как либо квартира на самом деле апартаменты, либо нет\n",
    "data['is_apartment'] = data['is_apartment'].astype('bool') \n",
    "# Посмотрим на то, что получилось. Выведем основные сведения о таблице и первые её 10 строк\n",
    "data.info()\n",
    "print (data.head(10))\n",
    "\n"
   ]
  },
  {
   "cell_type": "markdown",
   "metadata": {},
   "source": [
    "Изменять тип данных необходимо для того, чтобы в дальнейшем при анализе можно было совершать над данными различные математические и логические операции, которые \"не работают\" для строк."
   ]
  },
  {
   "cell_type": "code",
   "execution_count": 10,
   "metadata": {},
   "outputs": [
    {
     "name": "stdout",
     "output_type": "stream",
     "text": [
      "санкт-петербург      15721\n",
      "посёлок мурино         522\n",
      "посёлок шушары         440\n",
      "всеволожск             398\n",
      "пушкин                 369\n",
      "                     ...  \n",
      "деревня лупполово        1\n",
      "деревня каськово         1\n",
      "деревня котлы            1\n",
      "деревня кривко           1\n",
      "деревня ялгино           1\n",
      "Name: locality_name, Length: 364, dtype: int64\n",
      "['санкт-петербург' 'посёлок шушары' 'городской посёлок янино-1'\n",
      " 'посёлок парголово' 'посёлок мурино' 'ломоносов' 'сертолово' 'петергоф'\n",
      " 'пушкин' 'деревня кудрово' 'коммунар' 'колпино'\n",
      " 'поселок городского типа красный бор' 'гатчина' 'поселок мурино'\n",
      " 'деревня фёдоровское' 'выборг' 'кронштадт' 'кировск'\n",
      " 'деревня новое девяткино' 'посёлок металлострой'\n",
      " 'посёлок городского типа лебяжье' 'посёлок городского типа сиверский'\n",
      " 'поселок молодцово' 'поселок городского типа кузьмоловский'\n",
      " 'садовое товарищество новая ропша' 'павловск' 'деревня пикколово'\n",
      " 'всеволожск' 'волхов' 'кингисепп' 'приозерск' 'сестрорецк'\n",
      " 'деревня куттузи' 'посёлок аннино' 'поселок городского типа ефимовский'\n",
      " 'посёлок плодовое' 'деревня заклинье' 'поселок торковичи'\n",
      " 'поселок первомайское' 'красное село' 'посёлок понтонный' 'сясьстрой'\n",
      " 'деревня старая' 'деревня лесколово' 'посёлок новый свет' 'сланцы'\n",
      " 'село путилово' 'ивангород' 'мурино' 'шлиссельбург' 'никольское'\n",
      " 'зеленогорск' 'сосновый бор' 'поселок новый свет' 'деревня оржицы'\n",
      " 'деревня кальтино' 'кудрово' 'поселок романовка' 'посёлок бугры'\n",
      " 'поселок бугры' 'поселок городского типа рощино' 'кириши' 'луга'\n",
      " 'волосово' 'отрадное' 'село павлово' 'поселок оредеж' 'село копорье'\n",
      " 'посёлок городского типа красный бор' 'посёлок молодёжное' 'тихвин'\n",
      " 'посёлок победа' 'деревня нурма' 'поселок городского типа синявино'\n",
      " 'тосно' 'посёлок городского типа кузьмоловский' 'посёлок стрельна'\n",
      " 'бокситогорск' 'посёлок александровская' 'деревня лопухинка' 'пикалёво'\n",
      " 'поселок терволово' 'поселок городского типа советский' 'подпорожье'\n",
      " 'посёлок петровское' 'посёлок городского типа токсово' 'поселок сельцо'\n",
      " 'посёлок городского типа вырица' 'деревня кипень' 'деревня келози'\n",
      " 'деревня вартемяги' 'посёлок тельмана' 'поселок севастьяново'\n",
      " 'городской поселок большая ижора' nan 'городской посёлок павлово'\n",
      " 'деревня агалатово' 'посёлок новогорелово'\n",
      " 'городской посёлок лесогорский' 'деревня лаголово' 'поселок цвелодубово'\n",
      " 'поселок городского типа рахья' 'поселок городского типа вырица'\n",
      " 'деревня белогорка' 'поселок заводской' 'городской посёлок новоселье'\n",
      " 'деревня большие колпаны' 'деревня горбунки' 'деревня батово'\n",
      " 'деревня заневка' 'деревня иссад' 'приморск'\n",
      " 'городской посёлок фёдоровское' 'деревня мистолово' 'новая ладога'\n",
      " 'поселок зимитицы' 'поселок барышево' 'деревня разметелево'\n",
      " 'поселок городского типа имени свердлова' 'деревня пеники'\n",
      " 'поселок рябово' 'деревня пудомяги' 'поселок станции корнево'\n",
      " 'деревня низино' 'деревня бегуницы' 'посёлок поляны'\n",
      " 'городской посёлок мга' 'поселок елизаветино'\n",
      " 'посёлок городского типа кузнечное' 'деревня колтуши'\n",
      " 'поселок запорожское' 'посёлок городского типа рощино'\n",
      " 'деревня гостилицы' 'деревня малое карлино' 'посёлок мичуринское'\n",
      " 'посёлок городского типа имени морозова' 'посёлок песочный'\n",
      " 'посёлок сосново' 'деревня аро' 'поселок ильичёво'\n",
      " 'посёлок городского типа тайцы' 'деревня малое верево' 'деревня извара'\n",
      " 'поселок станции вещево' 'село паша' 'деревня калитино'\n",
      " 'посёлок городского типа ульяновка' 'деревня чудской бор'\n",
      " 'поселок городского типа дубровка' 'деревня мины' 'поселок войсковицы'\n",
      " 'посёлок городского типа имени свердлова' 'деревня коркино'\n",
      " 'посёлок ропша' 'поселок городского типа приладожский' 'посёлок щеглово'\n",
      " 'посёлок гаврилово' 'лодейное поле' 'деревня рабитицы'\n",
      " 'поселок городского типа никольский' 'деревня кузьмолово'\n",
      " 'деревня малые колпаны' 'поселок тельмана' 'посёлок петро-славянка'\n",
      " 'городской посёлок назия' 'посёлок репино' 'посёлок ильичёво'\n",
      " 'поселок углово' 'поселок старая малукса' 'садовое товарищество рахья'\n",
      " 'поселок аннино' 'поселок победа' 'деревня меньково'\n",
      " 'деревня старые бегуницы' 'посёлок сапёрный' 'поселок семрино'\n",
      " 'поселок гаврилово' 'поселок глажево' 'поселок кобринское'\n",
      " 'деревня гарболово' 'деревня юкки' 'поселок станции приветнинское'\n",
      " 'деревня мануйлово' 'деревня пчева' 'поселок поляны' 'поселок цвылёво'\n",
      " 'поселок мельниково' 'посёлок пудость' 'посёлок усть-луга' 'светогорск'\n",
      " 'любань' 'поселок селезнёво' 'поселок городского типа рябово'\n",
      " 'каменногорск' 'деревня кривко' 'поселок глебычево' 'деревня парицы'\n",
      " 'поселок жилпосёлок' 'посёлок городского типа мга'\n",
      " 'городской поселок янино-1' 'посёлок войскорово' 'село никольское'\n",
      " 'посёлок терволово' 'поселок стеклянный' 'посёлок городского типа важины'\n",
      " 'посёлок мыза-ивановка' 'село русско-высоцкое'\n",
      " 'поселок городского типа лебяжье' 'поселок городского типа форносово'\n",
      " 'село старая ладога' 'поселок житково' 'городской посёлок виллози'\n",
      " 'деревня лампово' 'деревня шпаньково' 'деревня лаврики' 'посёлок сумино'\n",
      " 'посёлок возрождение' 'деревня старосиверская' 'посёлок кикерино'\n",
      " 'поселок возрождение' 'деревня старое хинколово' 'посёлок пригородный'\n",
      " 'посёлок торфяное' 'городской посёлок будогощь' 'поселок суходолье'\n",
      " 'поселок красная долина' 'деревня хапо-ое'\n",
      " 'поселок городского типа дружная горка' 'поселок лисий нос'\n",
      " 'деревня яльгелево' 'посёлок стеклянный' 'село рождествено'\n",
      " 'деревня старополье' 'посёлок левашово' 'деревня сяськелево'\n",
      " 'деревня камышовка'\n",
      " 'садоводческое некоммерческое товарищество лесная поляна'\n",
      " 'деревня хязельки' 'поселок жилгородок' 'посёлок городского типа павлово'\n",
      " 'деревня ялгино' 'поселок новый учхоз' 'городской посёлок рощино'\n",
      " 'поселок гончарово' 'поселок почап' 'посёлок сапёрное'\n",
      " 'посёлок платформа 69-й километр' 'поселок каложицы' 'деревня фалилеево'\n",
      " 'деревня пельгора' 'поселок городского типа лесогорский'\n",
      " 'деревня торошковичи' 'посёлок белоостров' 'посёлок алексеевка'\n",
      " 'поселок серебрянский' 'поселок лукаши' 'поселок петровское'\n",
      " 'деревня щеглово' 'поселок мичуринское' 'деревня тарасово'\n",
      " 'поселок кингисеппский' 'посёлок при железнодорожной станции вещево'\n",
      " 'поселок ушаки' 'деревня котлы' 'деревня сижно' 'деревня торосово'\n",
      " 'посёлок форт красная горка' 'поселок городского типа токсово'\n",
      " 'деревня новолисино' 'посёлок станции громово' 'деревня глинка'\n",
      " 'посёлок мельниково' 'поселок городского типа назия'\n",
      " 'деревня старая пустошь' 'поселок коммунары' 'поселок починок'\n",
      " 'посёлок городского типа вознесенье' 'деревня разбегаево'\n",
      " 'посёлок городского типа рябово' 'поселок гладкое'\n",
      " 'посёлок при железнодорожной станции приветнинское' 'поселок тёсово-4'\n",
      " 'посёлок жилгородок' 'деревня бор' 'посёлок коробицыно'\n",
      " 'деревня большая вруда' 'деревня курковицы' 'посёлок лисий нос'\n",
      " 'городской посёлок советский' 'посёлок кобралово' 'деревня суоранда'\n",
      " 'поселок кобралово' 'поселок городского типа кондратьево'\n",
      " 'коттеджный поселок счастье' 'поселок любань' 'деревня реброво'\n",
      " 'деревня зимитицы' 'деревня тойворово' 'поселок семиозерье'\n",
      " 'поселок лесное' 'поселок совхозный' 'поселок усть-луга'\n",
      " 'посёлок ленинское' 'посёлок суйда' 'посёлок городского типа форносово'\n",
      " 'деревня нижние осельки' 'посёлок станции свирь' 'поселок перово'\n",
      " 'высоцк' 'поселок гарболово' 'село шум' 'поселок котельский'\n",
      " 'поселок станции лужайка' 'деревня большая пустомержа'\n",
      " 'поселок красносельское' 'деревня вахнова кара' 'деревня пижма'\n",
      " 'коттеджный поселок кивеннапа север' 'поселок коробицыно'\n",
      " 'поселок ромашки' 'посёлок перово' 'деревня каськово' 'деревня куровицы'\n",
      " 'посёлок плоское' 'поселок сумино'\n",
      " 'поселок городского типа большая ижора' 'поселок кирпичное'\n",
      " 'деревня ям-тесово' 'деревня раздолье' 'деревня терпилицы'\n",
      " 'посёлок шугозеро' 'деревня ваганово' 'поселок пушное'\n",
      " 'садовое товарищество садко' 'посёлок усть-ижора' 'деревня выскатка'\n",
      " 'городской посёлок свирьстрой' 'поселок громово' 'деревня кисельня'\n",
      " 'посёлок старая малукса' 'деревня трубников бор' 'поселок калитино'\n",
      " 'посёлок высокоключевой' 'садовое товарищество приладожский'\n",
      " 'посёлок пансионат зелёный бор' 'деревня ненимяки'\n",
      " 'поселок пансионат зелёный бор' 'деревня снегирёвка' 'деревня рапполово'\n",
      " 'деревня пустынка' 'поселок рабитицы' 'деревня большой сабск'\n",
      " 'деревня русско' 'деревня лупполово' 'деревня большое рейзино'\n",
      " 'деревня малая романовка' 'поселок дружноселье' 'поселок пчевжа'\n",
      " 'поселок володарское' 'деревня нижняя' 'коттеджный посёлок лесное'\n",
      " 'деревня тихковицы' 'деревня борисова грива' 'посёлок дзержинского']\n"
     ]
    }
   ],
   "source": [
    "data['locality_name'] = data['locality_name'].str.lower() \n",
    "print(data['locality_name'].value_counts())\n",
    "print(data['locality_name'].unique())\n",
    "#Создаю функцию для переименования дублей\n",
    "def replace_wrong_values(wrong_values, correct_value):\n",
    "    for wrong_value in wrong_values: \n",
    "        data['locality_name'] = data['locality_name'].replace(wrong_value, correct_value) \n",
    "\n",
    "duplicates = ['поселок мурино', 'мурино'] \n",
    "name = 'посёлок мурино'\n",
    "replace_wrong_values(duplicates, name)\n",
    "duplicates = ['поселок бугры']\n",
    "name = 'посёлок бугры'\n",
    "replace_wrong_values(duplicates, name)\n",
    "duplicates = ['поселок возрождение']\n",
    "name = 'посёлок возрождение'\n",
    "replace_wrong_values(duplicates, name)\n",
    "duplicates = ['посёлок городского типа павлово', 'село павлово','городской посёлок павлово']\n",
    "name = 'павлово'\n",
    "replace_wrong_values(duplicates, name)\n",
    "duplicates = ['поселок новый свет']\n",
    "name = 'посёлок новый свет'\n",
    "replace_wrong_values(duplicates, name)\n",
    "duplicates = ['деревня кудрово' ]\n",
    "name = 'кудрово'\n",
    "replace_wrong_values(duplicates, name)\n",
    "duplicates = [ 'городской посёлок фёдоровское','деревня фёдоровское' ]\n",
    "name = 'фёдоровское'\n",
    "replace_wrong_values(duplicates, name)\n",
    "duplicates = ['поселок победа', ]\n",
    "name = 'посёлок победа'\n",
    "replace_wrong_values(duplicates, name)\n",
    "duplicates = ['городской поселок янино-1', ]\n",
    "name = 'городской посёлок янино-1'\n",
    "replace_wrong_values(duplicates, name)\n",
    "duplicates = [ 'поселок городского типа красный бор', ]\n",
    "name = 'посёлок городского типа красный бор'\n",
    "replace_wrong_values(duplicates, name)\n",
    "duplicates = [ 'городской посёлок советский' ]\n",
    "name = ' поселок городского типа советский'\n",
    "replace_wrong_values(duplicates, name)\n",
    "duplicates = ['поселок кингисеппский', ]\n",
    "name = 'кингисепп'\n",
    "replace_wrong_values(duplicates, name)\n",
    "duplicates = ['городской посёлок рощино', ]\n",
    "name = 'посёлок городского типа рощино'\n",
    "replace_wrong_values(duplicates, name)\n",
    "duplicates = [  'поселок кобралово' ]\n",
    "name = 'посёлок кобралово'\n",
    "replace_wrong_values(duplicates, name)\n",
    "duplicates = ['поселок городского типа токсово', ]\n",
    "name = 'посёлок городского типа токсово'\n",
    "replace_wrong_values(duplicates, name)\n",
    "duplicates = ['поселок перово', ]\n",
    "name = 'посёлок перово'\n",
    "replace_wrong_values(duplicates, name)\n",
    "duplicates = ['поселок коробицыно', ]\n",
    "name = 'посёлок коробицыно'\n",
    "replace_wrong_values(duplicates, name)\n",
    "duplicates = ['поселок пансионат зелёный бор', ]\n",
    "name = 'посёлок пансионат зелёный бор'\n",
    "replace_wrong_values(duplicates, name)\n",
    "duplicates = [ 'городской поселок большая ижора'  ]\n",
    "name = 'поселок городского типа большая ижора'\n",
    "replace_wrong_values(duplicates, name)\n",
    "duplicates = ['поселок рябово'] \n",
    "name = 'поселок городского типа рябово'\n",
    "replace_wrong_values(duplicates, name)\n",
    "duplicates = ['поселок тельмана'] \n",
    "name = 'посёлок тельмана'\n",
    "replace_wrong_values(duplicates, name)"
   ]
  },
  {
   "cell_type": "code",
   "execution_count": 11,
   "metadata": {},
   "outputs": [
    {
     "name": "stdout",
     "output_type": "stream",
     "text": [
      "total_images 10    1798\n",
      "9     1725\n",
      "20    1694\n",
      "8     1585\n",
      "7     1521\n",
      "6     1482\n",
      "11    1362\n",
      "5     1301\n",
      "12    1225\n",
      "0     1059\n",
      "13    1015\n",
      "4      986\n",
      "14     986\n",
      "15     948\n",
      "1      872\n",
      "3      769\n",
      "16     761\n",
      "17     650\n",
      "18     642\n",
      "2      640\n",
      "19     603\n",
      "23      16\n",
      "21      12\n",
      "24       8\n",
      "22       8\n",
      "26       5\n",
      "28       4\n",
      "32       4\n",
      "29       3\n",
      "50       3\n",
      "27       2\n",
      "35       2\n",
      "30       2\n",
      "31       2\n",
      "39       1\n",
      "25       1\n",
      "42       1\n",
      "37       1\n",
      "Name: total_images, dtype: int64\n",
      "total_images [20  7 10  0  2  6  5 18  9  1 16 11  8 12 13  3 15 17 14 19 32  4 35 39\n",
      " 23 21 27 30 24 25 28 31 22 29 26 50 42 37]\n",
      "last_price 4500000     342\n",
      "3500000     291\n",
      "4000000     260\n",
      "4300000     260\n",
      "4200000     259\n",
      "           ... \n",
      "1320000       1\n",
      "19150000      1\n",
      "6649000       1\n",
      "10296437      1\n",
      "11615600      1\n",
      "Name: last_price, Length: 2978, dtype: int64\n",
      "last_price [13000000  3350000  5196000 ...  6151120 21400000 11475000]\n",
      "total_area 45.00     419\n",
      "42.00     383\n",
      "60.00     347\n",
      "31.00     346\n",
      "44.00     345\n",
      "         ... \n",
      "44.24       1\n",
      "56.85       1\n",
      "37.92       1\n",
      "115.60      1\n",
      "55.06       1\n",
      "Name: total_area, Length: 2182, dtype: int64\n",
      "total_area [108.    40.4   56.   ...  66.86 133.81  76.75]\n",
      "first_day_exposition 2018-02-01    368\n",
      "2017-11-10    240\n",
      "2017-10-13    124\n",
      "2017-09-27    111\n",
      "2018-03-26     97\n",
      "             ... \n",
      "2015-05-17      1\n",
      "2017-01-06      1\n",
      "2016-12-30      1\n",
      "2016-07-06      1\n",
      "2015-03-27      1\n",
      "Name: first_day_exposition, Length: 1491, dtype: int64\n",
      "first_day_exposition ['2019-03-07T00:00:00.000000000' '2018-12-04T00:00:00.000000000'\n",
      " '2015-08-20T00:00:00.000000000' ... '2014-12-29T00:00:00.000000000'\n",
      " '2016-09-12T00:00:00.000000000' '2015-07-19T00:00:00.000000000']\n",
      "rooms 1     8047\n",
      "2     7940\n",
      "3     5814\n",
      "4     1180\n",
      "5      326\n",
      "0      197\n",
      "6      105\n",
      "7       59\n",
      "8       12\n",
      "9        8\n",
      "10       3\n",
      "11       2\n",
      "14       2\n",
      "19       1\n",
      "16       1\n",
      "12       1\n",
      "15       1\n",
      "Name: rooms, dtype: int64\n",
      "rooms [ 3  1  2  4  5  6  0  7 11  8 14 10 15  9 19 16 12]\n",
      "ceiling_height 2.65     9871\n",
      "2.50     3515\n",
      "2.60     1646\n",
      "2.70     1574\n",
      "3.00     1112\n",
      "         ... \n",
      "4.25        1\n",
      "3.39        1\n",
      "3.93        1\n",
      "10.30       1\n",
      "4.65        1\n",
      "Name: ceiling_height, Length: 183, dtype: int64\n",
      "ceiling_height [  2.7    2.65   3.03   2.5    2.67   2.56   3.05   2.75   2.6    2.9\n",
      "   2.8    2.55   3.     3.2    2.61   3.25   3.45   2.77   2.85   2.64\n",
      "   2.57   4.15   3.5    3.3    2.71   4.     2.47   2.73   2.84   3.1\n",
      "   2.34   3.4    3.06   2.72   2.54   2.51   2.78   2.76  25.     2.58\n",
      "   3.7    2.52   5.2    2.87   2.66   2.59   2.     2.45   3.6    2.92\n",
      "   3.11   3.13   3.8    3.15   3.55   3.16   3.62   3.12   2.53   2.74\n",
      "   2.96   2.46   5.3    5.     2.79   2.95   4.06   2.94   3.82   3.54\n",
      "   3.53   2.83   4.7    2.4    3.38   3.01   5.6    3.65   3.9    3.18\n",
      "   3.35   2.3    3.57   2.48   2.62   2.82   3.98   2.63   3.83   3.52\n",
      "   3.95   3.75   2.88   3.67   3.87   3.66   3.85   3.86   4.19   3.24\n",
      "   4.8    4.5    4.2    3.36  32.     3.08   3.68   3.07   3.37   3.09\n",
      "   8.     3.26   3.34   2.81   3.44   2.97   3.14   4.37   2.68   3.22\n",
      "   3.27  27.     4.1    2.93   3.46  24.     3.47   3.33   3.63   3.32\n",
      "  26.     1.2    8.3    2.98   2.86   3.17   4.4    3.28   3.04   4.45\n",
      "   5.5    3.84   3.23   3.02   3.21   3.43   3.78   4.3    3.39   2.69\n",
      "   3.31   4.65   3.56   2.2    3.51   3.93   3.42   2.99   3.49  14.\n",
      "   4.14   2.91   3.88   1.75   4.25   3.29  20.     2.25   3.76   3.69\n",
      "   6.    22.6    2.89   3.58   5.8   27.5    2.49   4.9    3.48  10.3\n",
      "   1.   100.     3.59]\n",
      "floors_total 5.0     5788\n",
      "9.0     3761\n",
      "16.0    1376\n",
      "12.0    1362\n",
      "4.0     1200\n",
      "10.0    1174\n",
      "25.0    1075\n",
      "6.0      914\n",
      "17.0     833\n",
      "3.0      668\n",
      "7.0      592\n",
      "14.0     553\n",
      "18.0     505\n",
      "24.0     469\n",
      "8.0      390\n",
      "2.0      383\n",
      "15.0     365\n",
      "23.0     352\n",
      "19.0     339\n",
      "22.0     286\n",
      "20.0     271\n",
      "13.0     229\n",
      "11.0     203\n",
      "27.0     164\n",
      "21.0     158\n",
      "26.0     124\n",
      "1.0       25\n",
      "35.0      24\n",
      "28.0      21\n",
      "36.0       3\n",
      "37.0       1\n",
      "34.0       1\n",
      "33.0       1\n",
      "60.0       1\n",
      "29.0       1\n",
      "52.0       1\n",
      "Name: floors_total, dtype: int64\n",
      "floors_total [16. 11.  5. 14. 12. 26. 24. 27.  9.  6. 17. 25.  3. 23. 19. 18.  4. 22.\n",
      "  8.  2. 10.  7. 13. 15. nan 20. 28. 36. 21. 35. 34. 60.  1. 29. 33. 52.\n",
      " 37.]\n",
      "living_area 18.00    896\n",
      "17.60    755\n",
      "30.50    710\n",
      "17.00    675\n",
      "30.00    598\n",
      "        ... \n",
      "96.40      1\n",
      "50.26      1\n",
      "43.81      1\n",
      "54.43      1\n",
      "16.74      1\n",
      "Name: living_area, Length: 1783, dtype: int64\n",
      "living_area [51.   18.6  34.3  ... 31.65 13.59 42.55]\n",
      "floor 2     3368\n",
      "3     3073\n",
      "1     2917\n",
      "4     2804\n",
      "5     2621\n",
      "6     1305\n",
      "7     1218\n",
      "8     1083\n",
      "9     1051\n",
      "10     687\n",
      "12     526\n",
      "11     523\n",
      "13     379\n",
      "15     343\n",
      "14     337\n",
      "16     315\n",
      "17     227\n",
      "18     178\n",
      "19     147\n",
      "21     125\n",
      "22     113\n",
      "20     110\n",
      "23     100\n",
      "24      63\n",
      "25      46\n",
      "26      24\n",
      "27      10\n",
      "28       1\n",
      "29       1\n",
      "32       1\n",
      "30       1\n",
      "33       1\n",
      "31       1\n",
      "Name: floor, dtype: int64\n",
      "floor [ 8  1  4  9 13  5  6 22 26  7  3  2 11 15 18 10 19 16 20 27 25 17 14 12\n",
      " 21 28 24 23 30 29 32 33 31]\n",
      "is_apartment True     20974\n",
      "False     2725\n",
      "Name: is_apartment, dtype: int64\n",
      "is_apartment [ True False]\n",
      "studio False    23550\n",
      "True       149\n",
      "Name: studio, dtype: int64\n",
      "studio [False  True]\n",
      "open_plan False    23632\n",
      "True        67\n",
      "Name: open_plan, dtype: int64\n",
      "open_plan [False  True]\n",
      "kitchen_area 6.00     1300\n",
      "10.00    1262\n",
      "8.00     1110\n",
      "9.00     1101\n",
      "7.00     1062\n",
      "         ... \n",
      "7.12        1\n",
      "13.73       1\n",
      "14.74       1\n",
      "53.10       1\n",
      "16.74       1\n",
      "Name: kitchen_area, Length: 971, dtype: int64\n",
      "kitchen_area [ 25.    11.     8.3     nan  41.     9.1   14.4   18.9    8.81   6.5\n",
      "   8.5    6.     9.     5.2    8.     7.6    5.6   12.     5.7    6.1\n",
      "  19.6   15.     7.     9.2   11.7   13.4   17.     6.3   11.6    8.8\n",
      "  10.    17.6    7.5    9.5   50.    15.5   10.7   11.1   20.    11.9\n",
      "  16.     5.3   11.5    7.2    6.2   10.4    7.1    4.9    7.3   11.95\n",
      "  10.2    6.4    5.5   13.     8.4   23.6   10.8   18.3    5.     8.2\n",
      "  24.    23.8    6.6   26.85  15.4    7.8   33.8    5.4   12.72  12.2\n",
      "  19.    12.4    7.9   10.3    9.8   17.5   14.7   20.91  21.3   10.6\n",
      "  10.9    9.7    7.7   12.5   11.4    8.6   11.24  14.1   15.7   13.29\n",
      "  14.    12.9   12.7   16.5    9.36  21.5   35.    10.5    8.7   19.3\n",
      "  21.4   40.    49.2   11.52   8.9    9.6   30.    14.2    8.1   10.44\n",
      "   4.5   16.3   11.2   18.4    7.4   11.3    9.4   13.1   10.19   7.06\n",
      "  22.    36.     5.1   18.7    9.9   14.3   18.    23.    19.4   11.8\n",
      "  13.3   17.7   23.1   10.63  21.1   11.33  13.5   19.5   13.2   17.2\n",
      "  77.    13.8   12.3    9.3    5.8   26.1   12.88   9.28  16.1   14.5\n",
      "  31.     5.9   10.1   23.4   16.2   19.2   28.6   15.1   26.4    8.98\n",
      "  10.59  17.9   16.8   11.27  16.74   9.57  23.43  15.2    8.07  12.24\n",
      "  13.39  36.6   10.84  15.3   18.5   23.9   19.7   19.9   22.1   10.35\n",
      "  10.69  16.9    5.49  31.2    6.8    8.29   6.7   13.6   16.6   10.75\n",
      "  18.8   17.8    2.     6.77  11.06  12.6    7.71  27.    11.35  13.31\n",
      "  63.    21.    20.6   11.78  20.5   13.79  20.52   5.75  66.    18.78\n",
      "  23.5   24.3    6.9   14.8    8.87  14.9    8.71   9.95  17.53  42.6\n",
      "  25.2    8.31   9.67  16.7   14.61  32.    22.4   16.4    6.36  17.1\n",
      "  13.14  18.2    9.18  13.7   15.61  22.31   9.45  29.    14.49   5.35\n",
      "  29.9   25.1    8.08  13.11   6.25  26.    35.35  12.8   30.2   10.09\n",
      "  46.    32.1   11.29  14.56  11.11  11.49  13.67  16.72  24.5   11.14\n",
      "  20.9   11.05   4.    14.84   8.21  12.18  25.34   9.25   8.65  13.9\n",
      "  13.53  15.09   9.39  18.6   15.9   24.7   12.35  20.8   27.4    7.17\n",
      "   3.     8.23  24.03   9.17  43.    10.45  11.39  19.92  20.2   10.72\n",
      "  20.07  11.81  18.45  10.51  39.    10.91   6.73  11.85  37.8    4.8\n",
      " 100.7   21.6    5.78  12.1   11.28   9.97  10.68  21.2   10.56   9.68\n",
      "   8.25   4.7   17.4   10.02  40.2   11.62  14.6   11.71  13.69  18.1\n",
      "  22.22  17.3    6.35  23.3   10.88   6.76  28.    10.29  11.63  25.6\n",
      "  19.1   15.6   21.87   3.2   12.27  10.39  10.89  60.    11.53   5.68\n",
      "  10.55  33.     3.8   36.2    9.22   5.62  38.    21.9   12.17  19.8\n",
      "  37.     4.2   21.7   12.38  11.46   7.89  31.7   24.4   14.57  30.9\n",
      "  10.15  12.05   9.27  15.33   6.58   9.93  35.05  25.3   28.8   13.05\n",
      "  29.4   36.5    7.92  15.8   15.69  42.     7.85  13.16  12.86  48.\n",
      "  30.5   29.3   45.     9.32  44.     5.74  11.26  13.38  14.31  26.6\n",
      "   6.55  10.52   6.72  13.02  11.17  56.2   12.52  28.2   12.29  11.59\n",
      "   8.38   5.47  10.18  10.64  18.88   9.89  36.3   12.92  23.53  37.7\n",
      "  10.36  14.05   9.04  10.78  14.24  13.42  32.8   20.16  10.12   7.12\n",
      "  17.64  23.25  11.41  11.42  40.4   31.47  13.55  13.28  14.55   9.38\n",
      "   8.32  11.55  13.81  24.1   11.51   7.65   9.91  16.83  11.34 100.\n",
      "  11.16  18.34  34.19   6.02  18.07  20.1   12.08   7.18   8.11   8.05\n",
      "   8.06  12.96  42.4    8.93  44.9   10.62   9.72  22.5   11.18  10.22\n",
      "  51.    21.8   10.94  13.49  31.73  70.    25.7    5.86   7.63  11.47\n",
      "  13.25  22.2   19.35  17.28  14.04  39.9   21.76   4.3   10.06   8.19\n",
      "  28.4   22.7   14.74  11.12  25.11  14.02  13.06   8.01  20.38   5.53\n",
      "  46.8   11.31  17.85  20.7   34.78   9.46   6.31  42.5    9.48  43.4\n",
      "  11.57  12.44  14.46  12.58  12.47   7.95  16.32  15.26  12.23  11.37\n",
      "  27.9    8.58  19.51  12.39   9.65   9.05   6.84  20.3   26.5   63.4\n",
      "  41.9    6.82  11.36  10.08  10.54   9.16  14.95  12.84  22.9    8.76\n",
      "  10.03   9.35  11.13   7.87   2.89  45.5    7.36  24.9    9.59   7.97\n",
      "   9.85  33.9   42.8    7.86   5.25  10.26   5.33  12.85   9.51  58.4\n",
      "  10.34  23.71  19.42   6.83  11.92  13.17  13.27  11.84  12.56  53.1\n",
      "  20.56  41.3    9.01   8.73   5.82   3.7    2.4   31.8   42.7   40.5\n",
      "  12.02   8.57  12.76   8.66  11.04  40.3   15.83  18.59   9.37  23.38\n",
      "  10.42  13.93   7.54  23.42  13.64   5.61  19.45  17.59  29.1    5.65\n",
      "  15.42  11.09  11.73  15.72  25.4   10.25  10.38  13.41   5.23   9.09\n",
      "  11.45  11.74  14.64  12.14   8.84  16.66  10.27   3.5   12.55  32.55\n",
      "  16.26   6.62  10.33  13.26  32.3   23.2   14.14   9.62  34.    10.92\n",
      "  10.58  22.8   15.85   7.78   8.94   9.82  34.7    8.45  15.62  22.3\n",
      "  14.17  15.39  56.     8.43  87.2   12.66   8.35   8.47  22.72   9.52\n",
      "  28.1   14.97   4.6    5.29  10.49  15.07  15.37  20.31  23.28   8.54\n",
      "  30.59  27.57   9.71  28.63   9.98  37.9    6.91  25.9   47.    51.8\n",
      "  14.27  40.7   19.61   9.44  27.76  25.86  36.4   15.78  10.05  26.2\n",
      "  10.32  19.39   9.77  29.5   13.73  10.71  10.73  13.84   6.19  28.5\n",
      "  16.25  13.47   4.4   43.2   27.5   11.67  44.7   12.57  16.27   6.28\n",
      "  12.01  37.6   13.35   3.4    8.61   8.96  34.8   27.3   10.24   8.15\n",
      "  35.5    4.1   10.43  16.46   7.19  62.    34.3   48.5   30.6   17.55\n",
      "  10.74  13.24   5.91   9.43  20.92   8.13  33.1   10.37  16.77   6.27\n",
      "  26.8   12.37  22.6   33.6    9.76  16.92  15.54   6.23  15.35  37.5\n",
      "  21.82   7.94  34.1    6.03  15.55   8.44  43.8   29.09  18.93  12.75\n",
      "   6.33  24.8    5.64  22.43  39.1   27.6    7.48  32.7    5.44   6.22\n",
      "   7.41  27.1   17.06  75.    34.51   6.26  35.6    9.83  54.3   28.7\n",
      "   3.3   13.63  62.5   10.47  11.87  28.3   11.25   5.42  18.25   8.82\n",
      "   9.58   5.04  13.52  11.44   8.48  13.21   8.03  16.89  26.9   35.4\n",
      "  13.95  14.72   9.34  64.    37.78  23.7   29.8    6.95  16.05  11.65\n",
      "  38.1   10.99  10.86   8.85  14.65   9.24  16.45   7.84  93.2    9.79\n",
      "   7.03  17.12   5.28  12.53  14.51   9.31  31.6   72.     6.86  11.07\n",
      "  14.06  93.     6.93  15.15  32.9    8.34  55.7   24.89  35.9   22.78\n",
      "  16.47  38.86  18.16   8.69  25.5   22.46  13.74  54.2   19.21  31.5\n",
      "  12.11  11.98  10.17  35.7   12.71   2.3   16.07   9.42  20.77  28.64\n",
      "  13.86  10.01  24.2   12.45  12.87  14.33  12.15  39.7   65.     5.06\n",
      "  14.29  14.43  25.02   8.52  11.56  12.89   8.63  13.32  16.42   5.31\n",
      "  14.77  27.2    9.26  14.93  31.4    9.06   6.61  20.4    6.65  19.19\n",
      "  20.24  13.77   6.37  53.    14.58   9.19   8.67  21.22 112.    13.58\n",
      "  12.03  10.87  19.28  16.48  32.6    9.08  12.69   8.09   5.21  12.83\n",
      "  54.    11.64 107.     1.3   55.5   48.3    9.11  21.53  29.86  28.52\n",
      "  15.43  15.57  13.43  19.94   8.77  50.2   15.03  16.38  13.33  12.43\n",
      "  17.61   9.66  12.32  58.    24.6    6.47  41.1    8.12  21.25  10.13\n",
      "  41.6   49.4   12.25  28.56  11.69  14.85  15.18   8.02  11.22   8.95\n",
      "  34.6   29.2    9.73  10.46  26.7   29.7   32.4   12.93  12.63  15.24\n",
      "   8.18  22.15  11.43   7.02  11.93   7.09   6.16   7.15  13.65  10.79\n",
      "  14.98  34.4    5.14   9.75   5.59  35.1   13.04  10.95  16.03   9.13\n",
      "  17.44  40.1    5.85   6.24  21.74  31.3   30.8   16.88  21.55  18.55\n",
      "  17.87  13.83]\n",
      "balcony 0    15277\n",
      "1     4195\n",
      "2     3659\n",
      "5      304\n",
      "4      183\n",
      "3       81\n",
      "Name: balcony, dtype: int64\n",
      "balcony [0 2 1 5 4 3]\n",
      "locality_name санкт-петербург           15721\n",
      "посёлок мурино              590\n",
      "кудрово                     472\n",
      "посёлок шушары              440\n",
      "всеволожск                  398\n",
      "                          ...  \n",
      "деревня нижние осельки        1\n",
      "поселок каложицы              1\n",
      "деревня кривко                1\n",
      "деревня пикколово             1\n",
      "деревня ялгино                1\n",
      "Name: locality_name, Length: 342, dtype: int64\n",
      "locality_name ['санкт-петербург' 'посёлок шушары' 'городской посёлок янино-1'\n",
      " 'посёлок парголово' 'посёлок мурино' 'ломоносов' 'сертолово' 'петергоф'\n",
      " 'пушкин' 'кудрово' 'коммунар' 'колпино'\n",
      " 'посёлок городского типа красный бор' 'гатчина' 'фёдоровское' 'выборг'\n",
      " 'кронштадт' 'кировск' 'деревня новое девяткино' 'посёлок металлострой'\n",
      " 'посёлок городского типа лебяжье' 'посёлок городского типа сиверский'\n",
      " 'поселок молодцово' 'поселок городского типа кузьмоловский'\n",
      " 'садовое товарищество новая ропша' 'павловск' 'деревня пикколово'\n",
      " 'всеволожск' 'волхов' 'кингисепп' 'приозерск' 'сестрорецк'\n",
      " 'деревня куттузи' 'посёлок аннино' 'поселок городского типа ефимовский'\n",
      " 'посёлок плодовое' 'деревня заклинье' 'поселок торковичи'\n",
      " 'поселок первомайское' 'красное село' 'посёлок понтонный' 'сясьстрой'\n",
      " 'деревня старая' 'деревня лесколово' 'посёлок новый свет' 'сланцы'\n",
      " 'село путилово' 'ивангород' 'шлиссельбург' 'никольское' 'зеленогорск'\n",
      " 'сосновый бор' 'деревня оржицы' 'деревня кальтино' 'поселок романовка'\n",
      " 'посёлок бугры' 'поселок городского типа рощино' 'кириши' 'луга'\n",
      " 'волосово' 'отрадное' 'павлово' 'поселок оредеж' 'село копорье'\n",
      " 'посёлок молодёжное' 'тихвин' 'посёлок победа' 'деревня нурма'\n",
      " 'поселок городского типа синявино' 'тосно'\n",
      " 'посёлок городского типа кузьмоловский' 'посёлок стрельна' 'бокситогорск'\n",
      " 'посёлок александровская' 'деревня лопухинка' 'пикалёво'\n",
      " 'поселок терволово' 'поселок городского типа советский' 'подпорожье'\n",
      " 'посёлок петровское' 'посёлок городского типа токсово' 'поселок сельцо'\n",
      " 'посёлок городского типа вырица' 'деревня кипень' 'деревня келози'\n",
      " 'деревня вартемяги' 'посёлок тельмана' 'поселок севастьяново'\n",
      " 'поселок городского типа большая ижора' nan 'деревня агалатово'\n",
      " 'посёлок новогорелово' 'городской посёлок лесогорский' 'деревня лаголово'\n",
      " 'поселок цвелодубово' 'поселок городского типа рахья'\n",
      " 'поселок городского типа вырица' 'деревня белогорка' 'поселок заводской'\n",
      " 'городской посёлок новоселье' 'деревня большие колпаны'\n",
      " 'деревня горбунки' 'деревня батово' 'деревня заневка' 'деревня иссад'\n",
      " 'приморск' 'деревня мистолово' 'новая ладога' 'поселок зимитицы'\n",
      " 'поселок барышево' 'деревня разметелево'\n",
      " 'поселок городского типа имени свердлова' 'деревня пеники'\n",
      " 'поселок городского типа рябово' 'деревня пудомяги'\n",
      " 'поселок станции корнево' 'деревня низино' 'деревня бегуницы'\n",
      " 'посёлок поляны' 'городской посёлок мга' 'поселок елизаветино'\n",
      " 'посёлок городского типа кузнечное' 'деревня колтуши'\n",
      " 'поселок запорожское' 'посёлок городского типа рощино'\n",
      " 'деревня гостилицы' 'деревня малое карлино' 'посёлок мичуринское'\n",
      " 'посёлок городского типа имени морозова' 'посёлок песочный'\n",
      " 'посёлок сосново' 'деревня аро' 'поселок ильичёво'\n",
      " 'посёлок городского типа тайцы' 'деревня малое верево' 'деревня извара'\n",
      " 'поселок станции вещево' 'село паша' 'деревня калитино'\n",
      " 'посёлок городского типа ульяновка' 'деревня чудской бор'\n",
      " 'поселок городского типа дубровка' 'деревня мины' 'поселок войсковицы'\n",
      " 'посёлок городского типа имени свердлова' 'деревня коркино'\n",
      " 'посёлок ропша' 'поселок городского типа приладожский' 'посёлок щеглово'\n",
      " 'посёлок гаврилово' 'лодейное поле' 'деревня рабитицы'\n",
      " 'поселок городского типа никольский' 'деревня кузьмолово'\n",
      " 'деревня малые колпаны' 'посёлок петро-славянка'\n",
      " 'городской посёлок назия' 'посёлок репино' 'посёлок ильичёво'\n",
      " 'поселок углово' 'поселок старая малукса' 'садовое товарищество рахья'\n",
      " 'поселок аннино' 'деревня меньково' 'деревня старые бегуницы'\n",
      " 'посёлок сапёрный' 'поселок семрино' 'поселок гаврилово'\n",
      " 'поселок глажево' 'поселок кобринское' 'деревня гарболово' 'деревня юкки'\n",
      " 'поселок станции приветнинское' 'деревня мануйлово' 'деревня пчева'\n",
      " 'поселок поляны' 'поселок цвылёво' 'поселок мельниково' 'посёлок пудость'\n",
      " 'посёлок усть-луга' 'светогорск' 'любань' 'поселок селезнёво'\n",
      " 'каменногорск' 'деревня кривко' 'поселок глебычево' 'деревня парицы'\n",
      " 'поселок жилпосёлок' 'посёлок городского типа мга' 'посёлок войскорово'\n",
      " 'село никольское' 'посёлок терволово' 'поселок стеклянный'\n",
      " 'посёлок городского типа важины' 'посёлок мыза-ивановка'\n",
      " 'село русско-высоцкое' 'поселок городского типа лебяжье'\n",
      " 'поселок городского типа форносово' 'село старая ладога'\n",
      " 'поселок житково' 'городской посёлок виллози' 'деревня лампово'\n",
      " 'деревня шпаньково' 'деревня лаврики' 'посёлок сумино'\n",
      " 'посёлок возрождение' 'деревня старосиверская' 'посёлок кикерино'\n",
      " 'деревня старое хинколово' 'посёлок пригородный' 'посёлок торфяное'\n",
      " 'городской посёлок будогощь' 'поселок суходолье' 'поселок красная долина'\n",
      " 'деревня хапо-ое' 'поселок городского типа дружная горка'\n",
      " 'поселок лисий нос' 'деревня яльгелево' 'посёлок стеклянный'\n",
      " 'село рождествено' 'деревня старополье' 'посёлок левашово'\n",
      " 'деревня сяськелево' 'деревня камышовка'\n",
      " 'садоводческое некоммерческое товарищество лесная поляна'\n",
      " 'деревня хязельки' 'поселок жилгородок' 'деревня ялгино'\n",
      " 'поселок новый учхоз' 'поселок гончарово' 'поселок почап'\n",
      " 'посёлок сапёрное' 'посёлок платформа 69-й километр' 'поселок каложицы'\n",
      " 'деревня фалилеево' 'деревня пельгора'\n",
      " 'поселок городского типа лесогорский' 'деревня торошковичи'\n",
      " 'посёлок белоостров' 'посёлок алексеевка' 'поселок серебрянский'\n",
      " 'поселок лукаши' 'поселок петровское' 'деревня щеглово'\n",
      " 'поселок мичуринское' 'деревня тарасово'\n",
      " 'посёлок при железнодорожной станции вещево' 'поселок ушаки'\n",
      " 'деревня котлы' 'деревня сижно' 'деревня торосово'\n",
      " 'посёлок форт красная горка' 'деревня новолисино'\n",
      " 'посёлок станции громово' 'деревня глинка' 'посёлок мельниково'\n",
      " 'поселок городского типа назия' 'деревня старая пустошь'\n",
      " 'поселок коммунары' 'поселок починок'\n",
      " 'посёлок городского типа вознесенье' 'деревня разбегаево'\n",
      " 'посёлок городского типа рябово' 'поселок гладкое'\n",
      " 'посёлок при железнодорожной станции приветнинское' 'поселок тёсово-4'\n",
      " 'посёлок жилгородок' 'деревня бор' 'посёлок коробицыно'\n",
      " 'деревня большая вруда' 'деревня курковицы' 'посёлок лисий нос'\n",
      " ' поселок городского типа советский' 'посёлок кобралово'\n",
      " 'деревня суоранда' 'поселок городского типа кондратьево'\n",
      " 'коттеджный поселок счастье' 'поселок любань' 'деревня реброво'\n",
      " 'деревня зимитицы' 'деревня тойворово' 'поселок семиозерье'\n",
      " 'поселок лесное' 'поселок совхозный' 'поселок усть-луга'\n",
      " 'посёлок ленинское' 'посёлок суйда' 'посёлок городского типа форносово'\n",
      " 'деревня нижние осельки' 'посёлок станции свирь' 'посёлок перово'\n",
      " 'высоцк' 'поселок гарболово' 'село шум' 'поселок котельский'\n",
      " 'поселок станции лужайка' 'деревня большая пустомержа'\n",
      " 'поселок красносельское' 'деревня вахнова кара' 'деревня пижма'\n",
      " 'коттеджный поселок кивеннапа север' 'поселок ромашки' 'деревня каськово'\n",
      " 'деревня куровицы' 'посёлок плоское' 'поселок сумино' 'поселок кирпичное'\n",
      " 'деревня ям-тесово' 'деревня раздолье' 'деревня терпилицы'\n",
      " 'посёлок шугозеро' 'деревня ваганово' 'поселок пушное'\n",
      " 'садовое товарищество садко' 'посёлок усть-ижора' 'деревня выскатка'\n",
      " 'городской посёлок свирьстрой' 'поселок громово' 'деревня кисельня'\n",
      " 'посёлок старая малукса' 'деревня трубников бор' 'поселок калитино'\n",
      " 'посёлок высокоключевой' 'садовое товарищество приладожский'\n",
      " 'посёлок пансионат зелёный бор' 'деревня ненимяки' 'деревня снегирёвка'\n",
      " 'деревня рапполово' 'деревня пустынка' 'поселок рабитицы'\n",
      " 'деревня большой сабск' 'деревня русско' 'деревня лупполово'\n",
      " 'деревня большое рейзино' 'деревня малая романовка' 'поселок дружноселье'\n",
      " 'поселок пчевжа' 'поселок володарское' 'деревня нижняя'\n",
      " 'коттеджный посёлок лесное' 'деревня тихковицы' 'деревня борисова грива'\n",
      " 'посёлок дзержинского']\n",
      "airports_nearest 37434.0    61\n",
      "21928.0    32\n",
      "39946.0    30\n",
      "44870.0    30\n",
      "18732.0    27\n",
      "           ..\n",
      "53478.0     1\n",
      "20335.0     1\n",
      "33699.0     1\n",
      "26945.0     1\n",
      "20875.0     1\n",
      "Name: airports_nearest, Length: 8275, dtype: int64\n",
      "airports_nearest [18863. 12817. 21741. ... 11751. 20151. 24665.]\n",
      "cityCenters_nearest 8460.0     61\n",
      "20802.0    32\n",
      "10720.0    30\n",
      "8434.0     27\n",
      "20444.0    27\n",
      "           ..\n",
      "5278.0      1\n",
      "11575.0     1\n",
      "3205.0      1\n",
      "12747.0     1\n",
      "4234.0      1\n",
      "Name: cityCenters_nearest, Length: 7642, dtype: int64\n",
      "cityCenters_nearest [16028. 18603. 13933. ... 27977.  7262.  6263.]\n",
      "parks_around3000 0    15624\n",
      "1     5681\n",
      "2     1747\n",
      "3      647\n",
      "Name: parks_around3000, dtype: int64\n",
      "parks_around3000 [1 0 2 3]\n",
      "parks_nearest 441.0     67\n",
      "392.0     41\n",
      "173.0     41\n",
      "456.0     40\n",
      "471.0     32\n",
      "          ..\n",
      "2489.0     1\n",
      "786.0      1\n",
      "793.0      1\n",
      "92.0       1\n",
      "929.0      1\n",
      "Name: parks_nearest, Length: 995, dtype: int64\n",
      "parks_nearest [4.820e+02       nan 9.000e+01 8.400e+01 1.120e+02 3.100e+02 2.940e+02\n",
      " 5.900e+02 4.200e+02 7.590e+02 2.480e+02 5.170e+02 4.110e+02 4.520e+02\n",
      " 5.320e+02 4.590e+02 7.250e+02 4.700e+01 6.200e+02 6.750e+02 5.310e+02\n",
      " 5.260e+02 2.710e+02 3.630e+02 6.480e+02 3.820e+02 3.340e+02 1.670e+02\n",
      " 4.450e+02 2.310e+02 5.110e+02 7.510e+02 6.660e+02 3.840e+02 1.270e+02\n",
      " 2.410e+02 4.880e+02 1.560e+02 5.760e+02 2.850e+02 6.330e+02 1.500e+01\n",
      " 2.150e+02 5.330e+02 1.410e+02 3.660e+02 3.410e+02 5.890e+02 3.440e+02\n",
      " 5.080e+02 4.170e+02 7.620e+02 4.410e+02 5.590e+02 7.490e+02 1.230e+02\n",
      " 5.010e+02 1.000e+01 1.133e+03 1.205e+03 5.160e+02 8.600e+02 2.760e+02\n",
      " 9.800e+02 4.630e+02 5.910e+02 2.390e+02 6.510e+02 1.021e+03 4.850e+02\n",
      " 5.860e+02 3.700e+02 6.880e+02 2.750e+02 5.460e+02 4.660e+02 1.390e+02\n",
      " 2.510e+02 5.370e+02 6.270e+02 1.040e+02 4.500e+02 6.570e+02 5.780e+02\n",
      " 7.700e+01 1.210e+02 3.140e+02 1.950e+02 5.560e+02 4.690e+02 7.500e+01\n",
      " 3.980e+02 6.810e+02 5.000e+01 9.200e+01 9.290e+02 3.200e+02 5.100e+02\n",
      " 7.410e+02 3.570e+02 2.295e+03 6.340e+02 3.770e+02 6.110e+02 3.490e+02\n",
      " 4.510e+02 6.410e+02 3.740e+02 8.350e+02 9.300e+01 5.130e+02 3.010e+02\n",
      " 1.620e+02 1.510e+03 5.190e+02 3.600e+01 5.570e+02 4.210e+02 1.060e+02\n",
      " 5.400e+02 6.300e+02 3.850e+02 4.710e+02 3.250e+02 8.030e+02 4.010e+02\n",
      " 1.850e+02 7.830e+02 3.920e+02 4.680e+02 1.820e+02 2.870e+02 3.090e+02\n",
      " 5.050e+02 1.870e+02 4.530e+02 3.880e+02 6.350e+02 6.530e+02 2.900e+02\n",
      " 5.380e+02 2.260e+02 7.980e+02 6.800e+02 4.160e+02 4.120e+02 1.380e+02\n",
      " 6.370e+02 8.160e+02 7.020e+02 6.060e+02 1.520e+02 2.102e+03 4.600e+02\n",
      " 5.960e+02 6.040e+02 3.280e+02 6.760e+02 5.340e+02 5.580e+02 4.720e+02\n",
      " 1.443e+03 1.590e+02 1.900e+01 5.300e+01 2.070e+02 4.980e+02 5.200e+02\n",
      " 6.450e+02 1.610e+02 7.690e+02 5.800e+02 3.780e+02 4.940e+02 7.140e+02\n",
      " 4.640e+02 4.460e+02 2.200e+02 8.020e+02 2.880e+02 5.150e+02 6.010e+02\n",
      " 1.920e+02 4.560e+02 1.700e+02 6.320e+02 5.870e+02 6.430e+02 9.090e+02\n",
      " 2.910e+02 6.870e+02 7.840e+02 5.060e+02 4.350e+02 4.830e+02 5.200e+01\n",
      " 1.750e+02 4.610e+02 2.330e+02 2.137e+03 2.010e+02 5.630e+02 9.680e+02\n",
      " 2.380e+02 4.760e+02 1.300e+01 3.670e+02 7.350e+02 1.770e+02 2.920e+02\n",
      " 4.700e+02 5.700e+01 3.930e+02 4.960e+02 1.496e+03 1.570e+02 4.390e+02\n",
      " 7.070e+02 2.890e+02 5.990e+02 9.370e+02 5.500e+02 3.990e+02 3.370e+02\n",
      " 1.188e+03 6.100e+01 2.650e+02 1.810e+02 5.360e+02 2.950e+02 2.590e+02\n",
      " 5.210e+02 2.630e+02 2.360e+02 3.910e+02 4.330e+02 2.430e+02 3.680e+02\n",
      " 4.810e+02 4.030e+02 4.250e+02 7.560e+02 7.120e+02 1.940e+02 2.580e+02\n",
      " 4.910e+02 1.470e+02 6.720e+02 7.370e+02 7.000e+02 3.260e+02 6.800e+01\n",
      " 3.360e+02 5.410e+02 8.700e+01 8.230e+02 5.720e+02 2.340e+02 2.245e+03\n",
      " 4.920e+02 2.110e+02 2.700e+01 2.520e+02 3.300e+02 4.200e+01 6.960e+02\n",
      " 3.430e+02 1.960e+02 2.500e+02 1.730e+02 5.920e+02 4.580e+02 6.900e+02\n",
      " 4.970e+02 1.731e+03 3.060e+02 8.420e+02 1.510e+02 6.550e+02 5.070e+02\n",
      " 4.430e+02 5.680e+02 2.270e+02 6.260e+02 1.100e+02 6.500e+02 8.050e+02\n",
      " 6.460e+02 3.020e+02 3.040e+02 6.580e+02 3.180e+02 2.780e+02 2.470e+02\n",
      " 9.340e+02 2.180e+02 1.600e+02 5.420e+02 7.210e+02 6.680e+02 4.570e+02\n",
      " 3.860e+02 2.610e+02 4.140e+02 2.840e+02 8.430e+02 1.440e+02 1.830e+02\n",
      " 5.970e+02 7.900e+02 6.090e+02 9.510e+02 2.100e+02 1.530e+02 2.170e+02\n",
      " 7.100e+02 1.065e+03 1.740e+02 3.500e+01 4.400e+02 3.810e+02 1.100e+01\n",
      " 8.110e+02 6.830e+02 3.350e+02 1.630e+02 3.650e+02 9.200e+02 6.240e+02\n",
      " 4.780e+02 8.500e+02 5.240e+02 5.540e+02 1.550e+02 8.980e+02 3.800e+02\n",
      " 7.150e+02 2.790e+02 3.310e+02 7.390e+02 1.370e+02 6.910e+02 5.100e+01\n",
      " 5.810e+02 5.700e+02 6.440e+02 2.400e+02 1.490e+02 3.640e+02 1.756e+03\n",
      " 2.130e+02 6.380e+02 1.103e+03 2.460e+02 7.600e+01 1.114e+03 1.600e+01\n",
      " 1.790e+02 5.690e+02 5.470e+02 5.520e+02 9.420e+02 1.340e+02 7.380e+02\n",
      " 7.820e+02 6.500e+01 3.890e+02 4.620e+02 3.580e+02 1.780e+02 6.920e+02\n",
      " 9.330e+02 6.820e+02 6.770e+02 6.390e+02 2.000e+01 1.145e+03 6.520e+02\n",
      " 5.350e+02 6.740e+02 5.290e+02 3.540e+02 4.890e+02 3.064e+03 4.470e+02\n",
      " 5.090e+02 5.280e+02 8.300e+02 1.660e+02 6.710e+02 8.700e+02 6.310e+02\n",
      " 4.800e+02 4.070e+02 3.150e+02 7.800e+01 5.740e+02 9.450e+02 8.080e+02\n",
      " 1.080e+02 3.110e+02 4.740e+02 1.514e+03 3.120e+02 4.320e+02 2.570e+02\n",
      " 9.270e+02 3.800e+01 2.230e+02 8.310e+02 2.700e+02 2.665e+03 2.090e+02\n",
      " 9.100e+01 4.480e+02 6.600e+02 1.360e+02 2.060e+02 1.640e+02 4.930e+02\n",
      " 4.420e+02 7.330e+02 2.888e+03 2.300e+02 3.330e+02 3.760e+02 5.650e+02\n",
      " 9.810e+02 1.980e+02 5.600e+02 5.770e+02 3.420e+02 5.610e+02 2.420e+02\n",
      " 2.276e+03 3.590e+02 1.264e+03 5.250e+02 5.450e+02 2.990e+02 9.790e+02\n",
      " 2.930e+02 3.320e+02 7.200e+01 2.450e+02 4.090e+02 1.477e+03 1.140e+02\n",
      " 5.800e+01 5.530e+02 5.880e+02 3.700e+01 3.940e+02 3.600e+02 5.550e+02\n",
      " 4.870e+02 6.190e+02 7.400e+01 3.730e+02 6.210e+02 2.080e+02 7.040e+02\n",
      " 4.990e+02 5.620e+02 4.080e+02 6.170e+02 1.342e+03 4.220e+02 2.560e+02\n",
      " 5.230e+02 2.467e+03 4.550e+02 6.840e+02 1.320e+02 6.030e+02 6.970e+02\n",
      " 4.260e+02 3.900e+02 2.000e+02 4.340e+02 5.480e+02 5.940e+02 5.040e+02\n",
      " 4.100e+01 1.050e+02 5.430e+02 5.440e+02 8.260e+02 3.000e+01 5.020e+02\n",
      " 7.530e+02 8.930e+02 3.870e+02 1.930e+02 8.010e+02 9.400e+01 6.250e+02\n",
      " 7.060e+02 6.360e+02 3.460e+02 7.190e+02 7.170e+02 2.290e+02 4.770e+02\n",
      " 7.320e+02 6.670e+02 4.840e+02 5.300e+02 8.880e+02 9.380e+02 2.348e+03\n",
      " 3.030e+02 9.650e+02 5.140e+02 5.900e+01 5.220e+02 9.000e+00 6.790e+02\n",
      " 2.209e+03 1.880e+02 6.950e+02 9.610e+02 1.304e+03 3.270e+02 1.028e+03\n",
      " 3.790e+02 7.660e+02 1.097e+03 8.900e+02 4.150e+02 2.860e+02 3.560e+02\n",
      " 8.670e+02 7.910e+02 1.300e+02 8.800e+01 2.905e+03 3.070e+02 6.690e+02\n",
      " 3.710e+02 5.030e+02 4.440e+02 1.424e+03 5.660e+02 1.007e+03 5.930e+02\n",
      " 1.362e+03 3.610e+02 1.499e+03 9.600e+01 1.480e+02 1.260e+02 1.690e+02\n",
      " 6.600e+01 9.040e+02 1.272e+03 6.490e+02 7.960e+02 3.900e+01 1.767e+03\n",
      " 7.420e+02 3.620e+02 2.820e+02 9.170e+02 5.510e+02 5.120e+02 4.900e+01\n",
      " 3.230e+02 2.300e+01 2.160e+02 7.800e+02 6.160e+02 6.400e+02 4.240e+02\n",
      " 1.077e+03 1.049e+03 6.980e+02 3.500e+02 4.790e+02 7.870e+02 1.586e+03\n",
      " 3.190e+02 8.290e+02 2.800e+02 4.900e+02 6.000e+02 4.230e+02 6.620e+02\n",
      " 9.160e+02 2.810e+02 7.780e+02 2.690e+02 1.350e+02 4.950e+02 8.790e+02\n",
      " 1.416e+03 2.280e+02 4.130e+02 7.630e+02 2.030e+02 7.310e+02 4.370e+02\n",
      " 5.850e+02 3.400e+02 1.213e+03 6.020e+02 7.890e+02 8.860e+02 7.240e+02\n",
      " 9.700e+01 7.010e+02 2.220e+02 3.000e+02 4.600e+01 4.270e+02 4.280e+02\n",
      " 2.660e+02 4.310e+02 2.100e+01 3.970e+02 6.280e+02 3.050e+02 2.120e+02\n",
      " 6.220e+02 1.700e+01 2.550e+02 1.910e+02 2.066e+03 1.650e+02 3.550e+02\n",
      " 1.280e+02 3.830e+02 2.320e+02 5.180e+02 4.000e+02 7.610e+02 3.220e+02\n",
      " 8.560e+02 1.200e+03 3.520e+02 2.847e+03 6.730e+02 6.860e+02 9.630e+02\n",
      " 5.390e+02 1.420e+02 1.860e+02 4.040e+02 1.802e+03 2.620e+02 6.230e+02\n",
      " 8.500e+01 2.240e+02 8.270e+02 7.090e+02 4.360e+02 4.060e+02 7.360e+02\n",
      " 4.730e+02 9.150e+02 3.290e+02 5.750e+02 4.500e+01 1.181e+03 6.140e+02\n",
      " 2.600e+02 2.409e+03 8.170e+02 9.970e+02 5.790e+02 2.830e+02 1.186e+03\n",
      " 1.596e+03 8.100e+01 1.800e+01 6.940e+02 3.480e+02 3.530e+02 1.020e+02\n",
      " 1.720e+02 5.830e+02 1.290e+02 2.530e+02 7.110e+02 1.190e+03 4.650e+02\n",
      " 5.490e+02 6.100e+02 8.140e+02 7.160e+02 2.770e+02 8.340e+02 1.326e+03\n",
      " 1.240e+02 3.170e+02 9.360e+02 3.390e+02 8.120e+02 4.490e+02 4.190e+02\n",
      " 3.450e+02 1.170e+02 1.840e+02 9.500e+01 2.960e+02 1.580e+02 7.440e+02\n",
      " 6.050e+02 1.228e+03 5.950e+02 9.060e+02 8.090e+02 5.270e+02 7.650e+02\n",
      " 5.600e+01 6.420e+02 6.300e+01 2.416e+03 8.300e+01 9.730e+02 2.670e+02\n",
      " 2.350e+02 6.850e+02 1.970e+02 6.130e+02 5.640e+02 6.180e+02 3.080e+02\n",
      " 2.640e+02 1.199e+03 1.008e+03 8.460e+02 1.074e+03 1.990e+02 6.700e+01\n",
      " 2.400e+01 7.670e+02 1.069e+03 8.200e+01 3.300e+01 3.130e+02 4.670e+02\n",
      " 1.053e+03 7.030e+02 2.740e+02 6.700e+02 1.710e+02 1.010e+02 6.630e+02\n",
      " 1.942e+03 8.000e+02 6.120e+02 9.560e+02 7.640e+02 2.200e+01 4.180e+02\n",
      " 1.130e+02 4.300e+02 1.256e+03 4.860e+02 6.150e+02 1.722e+03 8.620e+02\n",
      " 6.200e+01 6.890e+02 4.290e+02 3.160e+02 1.648e+03 5.000e+02 2.711e+03\n",
      " 2.540e+02 3.720e+02 1.951e+03 5.840e+02 4.020e+02 7.280e+02 3.750e+02\n",
      " 7.290e+02 6.070e+02 8.520e+02 7.180e+02 2.020e+02 2.970e+02 1.760e+02\n",
      " 1.040e+03 4.750e+02 7.050e+02 3.950e+02 2.980e+02 4.100e+02 4.000e+01\n",
      " 1.098e+03 2.633e+03 1.354e+03 3.240e+02 8.060e+02 6.650e+02 4.300e+01\n",
      " 9.190e+02 6.540e+02 1.500e+02 9.660e+02 3.380e+02 1.310e+02 9.210e+02\n",
      " 7.460e+02 6.990e+02 7.540e+02 7.860e+02 1.909e+03 6.290e+02 1.248e+03\n",
      " 2.720e+02 2.747e+03 7.230e+02 9.740e+02 2.040e+02 7.920e+02 4.400e+01\n",
      " 1.680e+02 1.562e+03 8.410e+02 6.080e+02 9.430e+02 1.022e+03 2.250e+02\n",
      " 2.490e+02 2.880e+03 1.160e+02 5.710e+02 5.500e+01 8.680e+02 3.960e+02\n",
      " 1.540e+02 1.180e+02 1.481e+03 5.980e+02 9.520e+02 8.200e+02 1.090e+02\n",
      " 2.218e+03 1.150e+02 2.440e+02 7.100e+01 2.210e+02 8.730e+02 8.690e+02\n",
      " 2.050e+02 3.400e+01 6.900e+01 8.590e+02 9.670e+02 1.150e+03 5.400e+01\n",
      " 6.400e+01 3.510e+02 7.000e+00 1.400e+02 1.086e+03 1.460e+02 1.299e+03\n",
      " 1.501e+03 6.610e+02 2.026e+03 9.130e+02 5.670e+02 2.730e+02 8.040e+02\n",
      " 7.750e+02 1.200e+02 3.470e+02 8.580e+02 1.330e+02 1.030e+02 4.540e+02\n",
      " 1.000e+02 8.280e+02 4.050e+02 4.800e+01 7.220e+02 1.887e+03 1.809e+03\n",
      " 3.690e+02 8.870e+02 8.390e+02 7.270e+02 1.120e+03 7.700e+02 1.900e+02\n",
      " 1.250e+02 1.057e+03 8.610e+02 3.190e+03 9.320e+02 7.400e+02 8.480e+02\n",
      " 1.191e+03 2.131e+03 8.750e+02 7.710e+02 1.041e+03 3.210e+02 6.930e+02\n",
      " 8.600e+01 2.370e+02 1.215e+03 7.970e+02 3.000e+00 9.030e+02 1.790e+03\n",
      " 1.094e+03 7.480e+02 6.560e+02 7.680e+02 6.590e+02 8.320e+02 9.900e+01\n",
      " 1.220e+02 1.800e+02 5.820e+02 1.620e+03 2.800e+01 7.260e+02 1.364e+03\n",
      " 6.000e+01 7.550e+02 7.300e+02 9.410e+02 1.190e+02 1.200e+01 7.300e+01\n",
      " 1.070e+02 1.211e+03 1.270e+03 9.930e+02 1.400e+03 1.000e+00 9.800e+01\n",
      " 7.080e+02 8.890e+02 7.580e+02 1.450e+02 7.450e+02 8.660e+02 1.568e+03\n",
      " 1.079e+03 8.630e+02 1.400e+01 4.380e+02 1.148e+03 1.061e+03 7.930e+02\n",
      " 8.850e+02 2.489e+03 5.730e+02 7.990e+02 1.361e+03 6.780e+02 7.790e+02\n",
      " 1.423e+03 1.064e+03 1.564e+03 2.555e+03 2.427e+03 9.690e+02 7.130e+02\n",
      " 2.532e+03 1.011e+03 1.890e+02 8.530e+02 3.013e+03 1.312e+03 2.190e+02\n",
      " 8.450e+02 6.470e+02 7.940e+02 1.329e+03 8.220e+02 1.262e+03 1.073e+03\n",
      " 1.798e+03 9.850e+02 1.657e+03 7.880e+02 6.640e+02 3.200e+01 7.570e+02\n",
      " 2.680e+02 8.000e+01 2.768e+03 2.009e+03 8.470e+02 7.600e+02 1.167e+03\n",
      " 4.000e+00 2.984e+03]\n",
      "ponds_around3000 0    14589\n",
      "1     5717\n",
      "2     1892\n",
      "3     1501\n",
      "Name: ponds_around3000, dtype: int64\n",
      "ponds_around3000 [2 0 3 1]\n",
      "ponds_nearest 427.0     70\n",
      "454.0     41\n",
      "153.0     40\n",
      "433.0     39\n",
      "564.0     37\n",
      "          ..\n",
      "1075.0     1\n",
      "74.0       1\n",
      "1236.0     1\n",
      "395.0      1\n",
      "995.0      1\n",
      "Name: ponds_nearest, Length: 1096, dtype: int64\n",
      "ponds_nearest [ 755.   nan  574. ...  959.   40. 1134.]\n",
      "days_exposition 45.0      880\n",
      "60.0      538\n",
      "7.0       234\n",
      "30.0      208\n",
      "90.0      204\n",
      "         ... \n",
      "969.0       1\n",
      "1.0         1\n",
      "1147.0      1\n",
      "1148.0      1\n",
      "1174.0      1\n",
      "Name: days_exposition, Length: 1141, dtype: int64\n",
      "days_exposition [  nan   81.  558. ... 1360. 1007.  971.]\n",
      "first_day_year 2018    8519\n",
      "2017    8190\n",
      "2019    2879\n",
      "2016    2783\n",
      "2015    1191\n",
      "2014     137\n",
      "Name: first_day_year, dtype: int64\n",
      "first_day_year [2019 2018 2015 2017 2016 2014]\n"
     ]
    },
    {
     "data": {
      "text/html": [
       "<div>\n",
       "<style scoped>\n",
       "    .dataframe tbody tr th:only-of-type {\n",
       "        vertical-align: middle;\n",
       "    }\n",
       "\n",
       "    .dataframe tbody tr th {\n",
       "        vertical-align: top;\n",
       "    }\n",
       "\n",
       "    .dataframe thead th {\n",
       "        text-align: right;\n",
       "    }\n",
       "</style>\n",
       "<table border=\"1\" class=\"dataframe\">\n",
       "  <thead>\n",
       "    <tr style=\"text-align: right;\">\n",
       "      <th></th>\n",
       "      <th>total_images</th>\n",
       "      <th>last_price</th>\n",
       "      <th>total_area</th>\n",
       "      <th>first_day_exposition</th>\n",
       "      <th>rooms</th>\n",
       "      <th>ceiling_height</th>\n",
       "      <th>floors_total</th>\n",
       "      <th>living_area</th>\n",
       "      <th>floor</th>\n",
       "      <th>is_apartment</th>\n",
       "      <th>...</th>\n",
       "      <th>balcony</th>\n",
       "      <th>locality_name</th>\n",
       "      <th>airports_nearest</th>\n",
       "      <th>cityCenters_nearest</th>\n",
       "      <th>parks_around3000</th>\n",
       "      <th>parks_nearest</th>\n",
       "      <th>ponds_around3000</th>\n",
       "      <th>ponds_nearest</th>\n",
       "      <th>days_exposition</th>\n",
       "      <th>first_day_year</th>\n",
       "    </tr>\n",
       "  </thead>\n",
       "  <tbody>\n",
       "    <tr>\n",
       "      <th>0</th>\n",
       "      <td>20</td>\n",
       "      <td>13000000</td>\n",
       "      <td>108.00</td>\n",
       "      <td>2019-03-07</td>\n",
       "      <td>3</td>\n",
       "      <td>2.70</td>\n",
       "      <td>16.0</td>\n",
       "      <td>51.0</td>\n",
       "      <td>8</td>\n",
       "      <td>True</td>\n",
       "      <td>...</td>\n",
       "      <td>0</td>\n",
       "      <td>санкт-петербург</td>\n",
       "      <td>18863.0</td>\n",
       "      <td>16028.0</td>\n",
       "      <td>1</td>\n",
       "      <td>482.0</td>\n",
       "      <td>2</td>\n",
       "      <td>755.0</td>\n",
       "      <td>NaN</td>\n",
       "      <td>2019</td>\n",
       "    </tr>\n",
       "    <tr>\n",
       "      <th>1</th>\n",
       "      <td>7</td>\n",
       "      <td>3350000</td>\n",
       "      <td>40.40</td>\n",
       "      <td>2018-12-04</td>\n",
       "      <td>1</td>\n",
       "      <td>2.65</td>\n",
       "      <td>11.0</td>\n",
       "      <td>18.6</td>\n",
       "      <td>1</td>\n",
       "      <td>True</td>\n",
       "      <td>...</td>\n",
       "      <td>2</td>\n",
       "      <td>посёлок шушары</td>\n",
       "      <td>12817.0</td>\n",
       "      <td>18603.0</td>\n",
       "      <td>0</td>\n",
       "      <td>NaN</td>\n",
       "      <td>0</td>\n",
       "      <td>NaN</td>\n",
       "      <td>81.0</td>\n",
       "      <td>2018</td>\n",
       "    </tr>\n",
       "    <tr>\n",
       "      <th>2</th>\n",
       "      <td>10</td>\n",
       "      <td>5196000</td>\n",
       "      <td>56.00</td>\n",
       "      <td>2015-08-20</td>\n",
       "      <td>2</td>\n",
       "      <td>2.65</td>\n",
       "      <td>5.0</td>\n",
       "      <td>34.3</td>\n",
       "      <td>4</td>\n",
       "      <td>True</td>\n",
       "      <td>...</td>\n",
       "      <td>0</td>\n",
       "      <td>санкт-петербург</td>\n",
       "      <td>21741.0</td>\n",
       "      <td>13933.0</td>\n",
       "      <td>1</td>\n",
       "      <td>90.0</td>\n",
       "      <td>2</td>\n",
       "      <td>574.0</td>\n",
       "      <td>558.0</td>\n",
       "      <td>2015</td>\n",
       "    </tr>\n",
       "    <tr>\n",
       "      <th>4</th>\n",
       "      <td>2</td>\n",
       "      <td>10000000</td>\n",
       "      <td>100.00</td>\n",
       "      <td>2018-06-19</td>\n",
       "      <td>2</td>\n",
       "      <td>3.03</td>\n",
       "      <td>14.0</td>\n",
       "      <td>32.0</td>\n",
       "      <td>13</td>\n",
       "      <td>True</td>\n",
       "      <td>...</td>\n",
       "      <td>0</td>\n",
       "      <td>санкт-петербург</td>\n",
       "      <td>31856.0</td>\n",
       "      <td>8098.0</td>\n",
       "      <td>2</td>\n",
       "      <td>112.0</td>\n",
       "      <td>1</td>\n",
       "      <td>48.0</td>\n",
       "      <td>121.0</td>\n",
       "      <td>2018</td>\n",
       "    </tr>\n",
       "    <tr>\n",
       "      <th>5</th>\n",
       "      <td>10</td>\n",
       "      <td>2890000</td>\n",
       "      <td>30.40</td>\n",
       "      <td>2018-09-10</td>\n",
       "      <td>1</td>\n",
       "      <td>2.65</td>\n",
       "      <td>12.0</td>\n",
       "      <td>14.4</td>\n",
       "      <td>5</td>\n",
       "      <td>True</td>\n",
       "      <td>...</td>\n",
       "      <td>0</td>\n",
       "      <td>городской посёлок янино-1</td>\n",
       "      <td>NaN</td>\n",
       "      <td>NaN</td>\n",
       "      <td>0</td>\n",
       "      <td>NaN</td>\n",
       "      <td>0</td>\n",
       "      <td>NaN</td>\n",
       "      <td>55.0</td>\n",
       "      <td>2018</td>\n",
       "    </tr>\n",
       "    <tr>\n",
       "      <th>...</th>\n",
       "      <td>...</td>\n",
       "      <td>...</td>\n",
       "      <td>...</td>\n",
       "      <td>...</td>\n",
       "      <td>...</td>\n",
       "      <td>...</td>\n",
       "      <td>...</td>\n",
       "      <td>...</td>\n",
       "      <td>...</td>\n",
       "      <td>...</td>\n",
       "      <td>...</td>\n",
       "      <td>...</td>\n",
       "      <td>...</td>\n",
       "      <td>...</td>\n",
       "      <td>...</td>\n",
       "      <td>...</td>\n",
       "      <td>...</td>\n",
       "      <td>...</td>\n",
       "      <td>...</td>\n",
       "      <td>...</td>\n",
       "      <td>...</td>\n",
       "    </tr>\n",
       "    <tr>\n",
       "      <th>23693</th>\n",
       "      <td>9</td>\n",
       "      <td>4600000</td>\n",
       "      <td>62.40</td>\n",
       "      <td>2016-08-05</td>\n",
       "      <td>3</td>\n",
       "      <td>2.60</td>\n",
       "      <td>9.0</td>\n",
       "      <td>40.0</td>\n",
       "      <td>8</td>\n",
       "      <td>True</td>\n",
       "      <td>...</td>\n",
       "      <td>0</td>\n",
       "      <td>петергоф</td>\n",
       "      <td>45602.0</td>\n",
       "      <td>34104.0</td>\n",
       "      <td>1</td>\n",
       "      <td>352.0</td>\n",
       "      <td>1</td>\n",
       "      <td>675.0</td>\n",
       "      <td>239.0</td>\n",
       "      <td>2016</td>\n",
       "    </tr>\n",
       "    <tr>\n",
       "      <th>23694</th>\n",
       "      <td>9</td>\n",
       "      <td>9700000</td>\n",
       "      <td>133.81</td>\n",
       "      <td>2017-03-21</td>\n",
       "      <td>3</td>\n",
       "      <td>3.70</td>\n",
       "      <td>5.0</td>\n",
       "      <td>73.3</td>\n",
       "      <td>3</td>\n",
       "      <td>True</td>\n",
       "      <td>...</td>\n",
       "      <td>0</td>\n",
       "      <td>санкт-петербург</td>\n",
       "      <td>24665.0</td>\n",
       "      <td>4232.0</td>\n",
       "      <td>1</td>\n",
       "      <td>796.0</td>\n",
       "      <td>3</td>\n",
       "      <td>381.0</td>\n",
       "      <td>NaN</td>\n",
       "      <td>2017</td>\n",
       "    </tr>\n",
       "    <tr>\n",
       "      <th>23695</th>\n",
       "      <td>14</td>\n",
       "      <td>3100000</td>\n",
       "      <td>59.00</td>\n",
       "      <td>2018-01-15</td>\n",
       "      <td>3</td>\n",
       "      <td>2.65</td>\n",
       "      <td>5.0</td>\n",
       "      <td>38.0</td>\n",
       "      <td>4</td>\n",
       "      <td>True</td>\n",
       "      <td>...</td>\n",
       "      <td>0</td>\n",
       "      <td>тосно</td>\n",
       "      <td>NaN</td>\n",
       "      <td>NaN</td>\n",
       "      <td>0</td>\n",
       "      <td>NaN</td>\n",
       "      <td>0</td>\n",
       "      <td>NaN</td>\n",
       "      <td>45.0</td>\n",
       "      <td>2018</td>\n",
       "    </tr>\n",
       "    <tr>\n",
       "      <th>23697</th>\n",
       "      <td>13</td>\n",
       "      <td>11475000</td>\n",
       "      <td>76.75</td>\n",
       "      <td>2017-03-28</td>\n",
       "      <td>2</td>\n",
       "      <td>3.00</td>\n",
       "      <td>17.0</td>\n",
       "      <td>30.5</td>\n",
       "      <td>12</td>\n",
       "      <td>True</td>\n",
       "      <td>...</td>\n",
       "      <td>2</td>\n",
       "      <td>санкт-петербург</td>\n",
       "      <td>39140.0</td>\n",
       "      <td>10364.0</td>\n",
       "      <td>2</td>\n",
       "      <td>173.0</td>\n",
       "      <td>3</td>\n",
       "      <td>196.0</td>\n",
       "      <td>602.0</td>\n",
       "      <td>2017</td>\n",
       "    </tr>\n",
       "    <tr>\n",
       "      <th>23698</th>\n",
       "      <td>4</td>\n",
       "      <td>1350000</td>\n",
       "      <td>32.30</td>\n",
       "      <td>2017-07-21</td>\n",
       "      <td>1</td>\n",
       "      <td>2.50</td>\n",
       "      <td>5.0</td>\n",
       "      <td>12.3</td>\n",
       "      <td>1</td>\n",
       "      <td>True</td>\n",
       "      <td>...</td>\n",
       "      <td>0</td>\n",
       "      <td>поселок новый учхоз</td>\n",
       "      <td>NaN</td>\n",
       "      <td>NaN</td>\n",
       "      <td>0</td>\n",
       "      <td>NaN</td>\n",
       "      <td>0</td>\n",
       "      <td>NaN</td>\n",
       "      <td>NaN</td>\n",
       "      <td>2017</td>\n",
       "    </tr>\n",
       "  </tbody>\n",
       "</table>\n",
       "<p>21303 rows × 23 columns</p>\n",
       "</div>"
      ],
      "text/plain": [
       "       total_images  last_price  total_area first_day_exposition  rooms  \\\n",
       "0                20    13000000      108.00           2019-03-07      3   \n",
       "1                 7     3350000       40.40           2018-12-04      1   \n",
       "2                10     5196000       56.00           2015-08-20      2   \n",
       "4                 2    10000000      100.00           2018-06-19      2   \n",
       "5                10     2890000       30.40           2018-09-10      1   \n",
       "...             ...         ...         ...                  ...    ...   \n",
       "23693             9     4600000       62.40           2016-08-05      3   \n",
       "23694             9     9700000      133.81           2017-03-21      3   \n",
       "23695            14     3100000       59.00           2018-01-15      3   \n",
       "23697            13    11475000       76.75           2017-03-28      2   \n",
       "23698             4     1350000       32.30           2017-07-21      1   \n",
       "\n",
       "       ceiling_height  floors_total  living_area  floor  is_apartment  ...  \\\n",
       "0                2.70          16.0         51.0      8          True  ...   \n",
       "1                2.65          11.0         18.6      1          True  ...   \n",
       "2                2.65           5.0         34.3      4          True  ...   \n",
       "4                3.03          14.0         32.0     13          True  ...   \n",
       "5                2.65          12.0         14.4      5          True  ...   \n",
       "...               ...           ...          ...    ...           ...  ...   \n",
       "23693            2.60           9.0         40.0      8          True  ...   \n",
       "23694            3.70           5.0         73.3      3          True  ...   \n",
       "23695            2.65           5.0         38.0      4          True  ...   \n",
       "23697            3.00          17.0         30.5     12          True  ...   \n",
       "23698            2.50           5.0         12.3      1          True  ...   \n",
       "\n",
       "       balcony              locality_name  airports_nearest  \\\n",
       "0            0            санкт-петербург           18863.0   \n",
       "1            2             посёлок шушары           12817.0   \n",
       "2            0            санкт-петербург           21741.0   \n",
       "4            0            санкт-петербург           31856.0   \n",
       "5            0  городской посёлок янино-1               NaN   \n",
       "...        ...                        ...               ...   \n",
       "23693        0                   петергоф           45602.0   \n",
       "23694        0            санкт-петербург           24665.0   \n",
       "23695        0                      тосно               NaN   \n",
       "23697        2            санкт-петербург           39140.0   \n",
       "23698        0        поселок новый учхоз               NaN   \n",
       "\n",
       "       cityCenters_nearest parks_around3000  parks_nearest  ponds_around3000  \\\n",
       "0                  16028.0                1          482.0                 2   \n",
       "1                  18603.0                0            NaN                 0   \n",
       "2                  13933.0                1           90.0                 2   \n",
       "4                   8098.0                2          112.0                 1   \n",
       "5                      NaN                0            NaN                 0   \n",
       "...                    ...              ...            ...               ...   \n",
       "23693              34104.0                1          352.0                 1   \n",
       "23694               4232.0                1          796.0                 3   \n",
       "23695                  NaN                0            NaN                 0   \n",
       "23697              10364.0                2          173.0                 3   \n",
       "23698                  NaN                0            NaN                 0   \n",
       "\n",
       "       ponds_nearest  days_exposition  first_day_year  \n",
       "0              755.0              NaN            2019  \n",
       "1                NaN             81.0            2018  \n",
       "2              574.0            558.0            2015  \n",
       "4               48.0            121.0            2018  \n",
       "5                NaN             55.0            2018  \n",
       "...              ...              ...             ...  \n",
       "23693          675.0            239.0            2016  \n",
       "23694          381.0              NaN            2017  \n",
       "23695            NaN             45.0            2018  \n",
       "23697          196.0            602.0            2017  \n",
       "23698            NaN              NaN            2017  \n",
       "\n",
       "[21303 rows x 23 columns]"
      ]
     },
     "metadata": {},
     "output_type": "display_data"
    }
   ],
   "source": [
    "# Посмотрим какие уникальные значения есть в столбцах и в каком количестве\n",
    "columns = list(data)\n",
    "for i in columns:\n",
    "    print(i,data[i].value_counts())\n",
    "    print(i,data[i].unique())\n",
    "# Видно, что есть неправдоподобные данные в столбце с количеством комнат. Больше 6и комнат ЦИАН не предлагает) Поэтому значения больше 6 будем считать неправдоподобными и заменим на 0\n",
    "# Также удалим значения общего количества этажей, если их в доме больше 36. Если верить Яндексу, таких в Санкт-Петербурге нет)\n",
    "\n",
    "data.loc[data['rooms'] > 6, 'rooms'] = 0\n",
    "data.loc[data['floors_total'] > 36, 'floors_total'] = 0 \n",
    "# Если высота потолков больше 10 метров, то скорее всего в данных не там поставили \",\".  Если же высота потолков меньше 2 метров или больше 4, то такие данные кажутся неправдоподобными, заменим их медианным значением\n",
    "data.loc[data['ceiling_height'] > 10, 'ceiling_height'] = data['ceiling_height'] / 10\n",
    "data.loc[(data['ceiling_height'] < 2) | (data['ceiling_height'] > 4), 'ceiling_height'] = data['ceiling_height'].median()\n",
    "# Аномально маленькие жилые площади удалим:\n",
    "data = data[data['living_area']> 10]\n",
    "\n",
    "#Посмотрим, сколько есть квартир с огромными кухнями\n",
    "#print ('Квартиры с очень большими кухнями',len(data.loc[data['kitchen_area'] > 50]))\n",
    "#Удалим нереально большие кухни и очень маленькие)\n",
    "data = data[(data['kitchen_area']< 50)&(data['kitchen_area']> 3)]\n",
    "# Удaлим значения из столбца с последней ценой подозрительно дешевые квартиры, стоимостью меньше 1 млн. руб. Очень дорогие удалять не будем, потолка цен нет.\n",
    "data.loc[data['last_price'] >1000000]\n",
    "display (data)\n",
    "\n",
    " "
   ]
  },
  {
   "cell_type": "markdown",
   "metadata": {},
   "source": [
    "В данных были выявлены следующие аномалии:\n",
    " - количество этажей в доме больше 36\n",
    " - высота потолков меньше 2 метров и больше 4\n",
    " - количество комнат в квартире больше 6\n",
    " Немного смущает слишком большое количество фотографий (больше 15 штук), но с другой стороны, кто мешает показать всё?)\n",
    " Площадь кухни больше 50 кв. м  вызывает большие сомнения.  46 значений огромных кухонь, думаю, можно не учитывать при анализе. Стоимость квартиры ниже 1 млн руб крайне нереалистична.\n",
    " Не могу понять, почему тип данных в столбце \"parks_nearest\" вдруг преобразовался в int вместо float"
   ]
  },
  {
   "cell_type": "markdown",
   "metadata": {},
   "source": [
    "### Посчитайте и добавьте в таблицу новые столбцы"
   ]
  },
  {
   "cell_type": "code",
   "execution_count": 12,
   "metadata": {},
   "outputs": [
    {
     "data": {
      "text/html": [
       "<div>\n",
       "<style scoped>\n",
       "    .dataframe tbody tr th:only-of-type {\n",
       "        vertical-align: middle;\n",
       "    }\n",
       "\n",
       "    .dataframe tbody tr th {\n",
       "        vertical-align: top;\n",
       "    }\n",
       "\n",
       "    .dataframe thead th {\n",
       "        text-align: right;\n",
       "    }\n",
       "</style>\n",
       "<table border=\"1\" class=\"dataframe\">\n",
       "  <thead>\n",
       "    <tr style=\"text-align: right;\">\n",
       "      <th></th>\n",
       "      <th>total_images</th>\n",
       "      <th>last_price</th>\n",
       "      <th>total_area</th>\n",
       "      <th>first_day_exposition</th>\n",
       "      <th>rooms</th>\n",
       "      <th>ceiling_height</th>\n",
       "      <th>floors_total</th>\n",
       "      <th>living_area</th>\n",
       "      <th>floor</th>\n",
       "      <th>is_apartment</th>\n",
       "      <th>...</th>\n",
       "      <th>ponds_around3000</th>\n",
       "      <th>ponds_nearest</th>\n",
       "      <th>days_exposition</th>\n",
       "      <th>first_day_year</th>\n",
       "      <th>metr_price</th>\n",
       "      <th>day_exp</th>\n",
       "      <th>month_exp</th>\n",
       "      <th>year_exp</th>\n",
       "      <th>floor_type</th>\n",
       "      <th>to_centr</th>\n",
       "    </tr>\n",
       "  </thead>\n",
       "  <tbody>\n",
       "    <tr>\n",
       "      <th>0</th>\n",
       "      <td>20</td>\n",
       "      <td>13000000</td>\n",
       "      <td>108.00</td>\n",
       "      <td>2019-03-07</td>\n",
       "      <td>3</td>\n",
       "      <td>2.70</td>\n",
       "      <td>16.0</td>\n",
       "      <td>51.00</td>\n",
       "      <td>8</td>\n",
       "      <td>True</td>\n",
       "      <td>...</td>\n",
       "      <td>2</td>\n",
       "      <td>755.0</td>\n",
       "      <td>NaN</td>\n",
       "      <td>2019</td>\n",
       "      <td>120370.0</td>\n",
       "      <td>3</td>\n",
       "      <td>3</td>\n",
       "      <td>2019</td>\n",
       "      <td>другой</td>\n",
       "      <td>16.0</td>\n",
       "    </tr>\n",
       "    <tr>\n",
       "      <th>1</th>\n",
       "      <td>7</td>\n",
       "      <td>3350000</td>\n",
       "      <td>40.40</td>\n",
       "      <td>2018-12-04</td>\n",
       "      <td>1</td>\n",
       "      <td>2.65</td>\n",
       "      <td>11.0</td>\n",
       "      <td>18.60</td>\n",
       "      <td>1</td>\n",
       "      <td>True</td>\n",
       "      <td>...</td>\n",
       "      <td>0</td>\n",
       "      <td>NaN</td>\n",
       "      <td>81.0</td>\n",
       "      <td>2018</td>\n",
       "      <td>82921.0</td>\n",
       "      <td>1</td>\n",
       "      <td>12</td>\n",
       "      <td>2018</td>\n",
       "      <td>первый</td>\n",
       "      <td>19.0</td>\n",
       "    </tr>\n",
       "    <tr>\n",
       "      <th>2</th>\n",
       "      <td>10</td>\n",
       "      <td>5196000</td>\n",
       "      <td>56.00</td>\n",
       "      <td>2015-08-20</td>\n",
       "      <td>2</td>\n",
       "      <td>2.65</td>\n",
       "      <td>5.0</td>\n",
       "      <td>34.30</td>\n",
       "      <td>4</td>\n",
       "      <td>True</td>\n",
       "      <td>...</td>\n",
       "      <td>2</td>\n",
       "      <td>574.0</td>\n",
       "      <td>558.0</td>\n",
       "      <td>2015</td>\n",
       "      <td>92786.0</td>\n",
       "      <td>3</td>\n",
       "      <td>8</td>\n",
       "      <td>2015</td>\n",
       "      <td>другой</td>\n",
       "      <td>14.0</td>\n",
       "    </tr>\n",
       "    <tr>\n",
       "      <th>4</th>\n",
       "      <td>2</td>\n",
       "      <td>10000000</td>\n",
       "      <td>100.00</td>\n",
       "      <td>2018-06-19</td>\n",
       "      <td>2</td>\n",
       "      <td>3.03</td>\n",
       "      <td>14.0</td>\n",
       "      <td>32.00</td>\n",
       "      <td>13</td>\n",
       "      <td>True</td>\n",
       "      <td>...</td>\n",
       "      <td>1</td>\n",
       "      <td>48.0</td>\n",
       "      <td>121.0</td>\n",
       "      <td>2018</td>\n",
       "      <td>100000.0</td>\n",
       "      <td>1</td>\n",
       "      <td>6</td>\n",
       "      <td>2018</td>\n",
       "      <td>другой</td>\n",
       "      <td>8.0</td>\n",
       "    </tr>\n",
       "    <tr>\n",
       "      <th>5</th>\n",
       "      <td>10</td>\n",
       "      <td>2890000</td>\n",
       "      <td>30.40</td>\n",
       "      <td>2018-09-10</td>\n",
       "      <td>1</td>\n",
       "      <td>2.65</td>\n",
       "      <td>12.0</td>\n",
       "      <td>14.40</td>\n",
       "      <td>5</td>\n",
       "      <td>True</td>\n",
       "      <td>...</td>\n",
       "      <td>0</td>\n",
       "      <td>NaN</td>\n",
       "      <td>55.0</td>\n",
       "      <td>2018</td>\n",
       "      <td>95066.0</td>\n",
       "      <td>0</td>\n",
       "      <td>9</td>\n",
       "      <td>2018</td>\n",
       "      <td>последний</td>\n",
       "      <td>NaN</td>\n",
       "    </tr>\n",
       "    <tr>\n",
       "      <th>6</th>\n",
       "      <td>6</td>\n",
       "      <td>3700000</td>\n",
       "      <td>37.30</td>\n",
       "      <td>2017-11-02</td>\n",
       "      <td>1</td>\n",
       "      <td>2.65</td>\n",
       "      <td>26.0</td>\n",
       "      <td>10.60</td>\n",
       "      <td>6</td>\n",
       "      <td>True</td>\n",
       "      <td>...</td>\n",
       "      <td>0</td>\n",
       "      <td>NaN</td>\n",
       "      <td>155.0</td>\n",
       "      <td>2017</td>\n",
       "      <td>99196.0</td>\n",
       "      <td>3</td>\n",
       "      <td>11</td>\n",
       "      <td>2017</td>\n",
       "      <td>другой</td>\n",
       "      <td>19.0</td>\n",
       "    </tr>\n",
       "    <tr>\n",
       "      <th>7</th>\n",
       "      <td>5</td>\n",
       "      <td>7915000</td>\n",
       "      <td>71.60</td>\n",
       "      <td>2019-04-18</td>\n",
       "      <td>2</td>\n",
       "      <td>2.65</td>\n",
       "      <td>24.0</td>\n",
       "      <td>30.50</td>\n",
       "      <td>22</td>\n",
       "      <td>True</td>\n",
       "      <td>...</td>\n",
       "      <td>0</td>\n",
       "      <td>NaN</td>\n",
       "      <td>NaN</td>\n",
       "      <td>2019</td>\n",
       "      <td>110545.0</td>\n",
       "      <td>3</td>\n",
       "      <td>4</td>\n",
       "      <td>2019</td>\n",
       "      <td>другой</td>\n",
       "      <td>12.0</td>\n",
       "    </tr>\n",
       "    <tr>\n",
       "      <th>8</th>\n",
       "      <td>20</td>\n",
       "      <td>2900000</td>\n",
       "      <td>33.16</td>\n",
       "      <td>2018-05-23</td>\n",
       "      <td>1</td>\n",
       "      <td>2.65</td>\n",
       "      <td>27.0</td>\n",
       "      <td>15.43</td>\n",
       "      <td>26</td>\n",
       "      <td>True</td>\n",
       "      <td>...</td>\n",
       "      <td>0</td>\n",
       "      <td>NaN</td>\n",
       "      <td>189.0</td>\n",
       "      <td>2018</td>\n",
       "      <td>87455.0</td>\n",
       "      <td>2</td>\n",
       "      <td>5</td>\n",
       "      <td>2018</td>\n",
       "      <td>другой</td>\n",
       "      <td>NaN</td>\n",
       "    </tr>\n",
       "    <tr>\n",
       "      <th>9</th>\n",
       "      <td>18</td>\n",
       "      <td>5400000</td>\n",
       "      <td>61.00</td>\n",
       "      <td>2017-02-26</td>\n",
       "      <td>3</td>\n",
       "      <td>2.50</td>\n",
       "      <td>9.0</td>\n",
       "      <td>43.60</td>\n",
       "      <td>7</td>\n",
       "      <td>True</td>\n",
       "      <td>...</td>\n",
       "      <td>0</td>\n",
       "      <td>NaN</td>\n",
       "      <td>289.0</td>\n",
       "      <td>2017</td>\n",
       "      <td>88525.0</td>\n",
       "      <td>6</td>\n",
       "      <td>2</td>\n",
       "      <td>2017</td>\n",
       "      <td>другой</td>\n",
       "      <td>15.0</td>\n",
       "    </tr>\n",
       "    <tr>\n",
       "      <th>10</th>\n",
       "      <td>5</td>\n",
       "      <td>5050000</td>\n",
       "      <td>39.60</td>\n",
       "      <td>2017-11-16</td>\n",
       "      <td>1</td>\n",
       "      <td>2.67</td>\n",
       "      <td>12.0</td>\n",
       "      <td>20.30</td>\n",
       "      <td>3</td>\n",
       "      <td>True</td>\n",
       "      <td>...</td>\n",
       "      <td>2</td>\n",
       "      <td>553.0</td>\n",
       "      <td>137.0</td>\n",
       "      <td>2017</td>\n",
       "      <td>127525.0</td>\n",
       "      <td>3</td>\n",
       "      <td>11</td>\n",
       "      <td>2017</td>\n",
       "      <td>другой</td>\n",
       "      <td>14.0</td>\n",
       "    </tr>\n",
       "  </tbody>\n",
       "</table>\n",
       "<p>10 rows × 29 columns</p>\n",
       "</div>"
      ],
      "text/plain": [
       "    total_images  last_price  total_area first_day_exposition  rooms  \\\n",
       "0             20    13000000      108.00           2019-03-07      3   \n",
       "1              7     3350000       40.40           2018-12-04      1   \n",
       "2             10     5196000       56.00           2015-08-20      2   \n",
       "4              2    10000000      100.00           2018-06-19      2   \n",
       "5             10     2890000       30.40           2018-09-10      1   \n",
       "6              6     3700000       37.30           2017-11-02      1   \n",
       "7              5     7915000       71.60           2019-04-18      2   \n",
       "8             20     2900000       33.16           2018-05-23      1   \n",
       "9             18     5400000       61.00           2017-02-26      3   \n",
       "10             5     5050000       39.60           2017-11-16      1   \n",
       "\n",
       "    ceiling_height  floors_total  living_area  floor  is_apartment  ...  \\\n",
       "0             2.70          16.0        51.00      8          True  ...   \n",
       "1             2.65          11.0        18.60      1          True  ...   \n",
       "2             2.65           5.0        34.30      4          True  ...   \n",
       "4             3.03          14.0        32.00     13          True  ...   \n",
       "5             2.65          12.0        14.40      5          True  ...   \n",
       "6             2.65          26.0        10.60      6          True  ...   \n",
       "7             2.65          24.0        30.50     22          True  ...   \n",
       "8             2.65          27.0        15.43     26          True  ...   \n",
       "9             2.50           9.0        43.60      7          True  ...   \n",
       "10            2.67          12.0        20.30      3          True  ...   \n",
       "\n",
       "    ponds_around3000  ponds_nearest  days_exposition  first_day_year  \\\n",
       "0                  2          755.0              NaN            2019   \n",
       "1                  0            NaN             81.0            2018   \n",
       "2                  2          574.0            558.0            2015   \n",
       "4                  1           48.0            121.0            2018   \n",
       "5                  0            NaN             55.0            2018   \n",
       "6                  0            NaN            155.0            2017   \n",
       "7                  0            NaN              NaN            2019   \n",
       "8                  0            NaN            189.0            2018   \n",
       "9                  0            NaN            289.0            2017   \n",
       "10                 2          553.0            137.0            2017   \n",
       "\n",
       "   metr_price  day_exp  month_exp  year_exp  floor_type  to_centr  \n",
       "0    120370.0        3          3      2019      другой      16.0  \n",
       "1     82921.0        1         12      2018      первый      19.0  \n",
       "2     92786.0        3          8      2015      другой      14.0  \n",
       "4    100000.0        1          6      2018      другой       8.0  \n",
       "5     95066.0        0          9      2018   последний       NaN  \n",
       "6     99196.0        3         11      2017      другой      19.0  \n",
       "7    110545.0        3          4      2019      другой      12.0  \n",
       "8     87455.0        2          5      2018      другой       NaN  \n",
       "9     88525.0        6          2      2017      другой      15.0  \n",
       "10   127525.0        3         11      2017      другой      14.0  \n",
       "\n",
       "[10 rows x 29 columns]"
      ]
     },
     "metadata": {},
     "output_type": "display_data"
    }
   ],
   "source": [
    "#Цена одного нвадратного метра (округлим до целых рублей):\n",
    "data['metr_price'] = round( data['last_price']/ data['total_area'] )\n",
    "# Добавляем столбец с днём недели выпуска объявления:\n",
    "data['day_exp'] = data['first_day_exposition'].dt.dayofweek\n",
    "# Добавляем столбец с месяцем выпуска объявления:\n",
    "data['month_exp'] = data['first_day_exposition'].dt.month\n",
    "#Добавляем столбец с годом выпуска объявления:\n",
    "data['year_exp'] = data['first_day_exposition'].dt.year\n",
    "# Определим тип этажа квартиры:\n",
    "for i in data['floors_total']:\n",
    "    def floor_t (floor):\n",
    "        if floor == 1 :\n",
    "            return 'первый'\n",
    "        if floor == i  :\n",
    "            return 'последний'\n",
    "        return 'другой'\n",
    "data['floor_type'] = data['floor'].apply(floor_t)\n",
    "# Расстояние до центра города в километрах (переведите из м в км и округлите до целых значений).\n",
    "data['to_centr'] = round( data['cityCenters_nearest']/1000)\n",
    "display (data.head(10))"
   ]
  },
  {
   "cell_type": "markdown",
   "metadata": {},
   "source": [
    "### Проведите исследовательский анализ данных"
   ]
  },
  {
   "cell_type": "code",
   "execution_count": 13,
   "metadata": {},
   "outputs": [
    {
     "data": {
      "text/plain": [
       "count    21303.000000\n",
       "mean        60.342447\n",
       "std         32.865089\n",
       "min         20.000000\n",
       "25%         40.600000\n",
       "50%         52.400000\n",
       "75%         70.000000\n",
       "max        631.200000\n",
       "Name: total_area, dtype: float64"
      ]
     },
     "execution_count": 13,
     "metadata": {},
     "output_type": "execute_result"
    },
    {
     "data": {
      "image/png": "[encoded data removed]",
      "text/plain": [
       "<Figure size 432x288 with 1 Axes>"
      ]
     },
     "metadata": {
      "needs_background": "light"
     },
     "output_type": "display_data"
    }
   ],
   "source": [
    "\n",
    "import seaborn as sns\n",
    "import matplotlib.pyplot as plt\n",
    "\n",
    "data['total_area'].hist(bins =30, range=(0,400))\n",
    "data['total_area'].describe()\n",
    "\n"
   ]
  },
  {
   "cell_type": "markdown",
   "metadata": {},
   "source": [
    "Половина квартир на рынке с общей площадью 52 кв.метров, так же много предложений квартир площадью от 50 до 80 кв.м. Квартир свыше 100 кв.м. существенно меньше, а тех, чья площадь больше 200 кв.м - единицы. Минимальная площадь квартиры - 14 кв.м., максимальная - 631.2 кв.м."
   ]
  },
  {
   "cell_type": "code",
   "execution_count": 14,
   "metadata": {},
   "outputs": [
    {
     "data": {
      "text/plain": [
       "count    7329.000000\n",
       "mean      488.329786\n",
       "std       338.260252\n",
       "min         1.000000\n",
       "25%       288.000000\n",
       "50%       453.000000\n",
       "75%       611.000000\n",
       "max      3190.000000\n",
       "Name: parks_nearest, dtype: float64"
      ]
     },
     "execution_count": 14,
     "metadata": {},
     "output_type": "execute_result"
    },
    {
     "data": {
      "image/png": "[encoded data removed]",
      "text/plain": [
       "<Figure size 432x288 with 1 Axes>"
      ]
     },
     "metadata": {
      "needs_background": "light"
     },
     "output_type": "display_data"
    }
   ],
   "source": [
    "data['parks_nearest'].hist(bins =30)\n",
    "data['parks_nearest'].describe()"
   ]
  },
  {
   "cell_type": "markdown",
   "metadata": {},
   "source": [
    "Большинство людей, видимо, предпочитают жить радом с парком. Больше всего предложений с парком в радиусе 500 метров. Немного предложений от 1500 до 3000 м. Если парк находится дальше 3 км смысла его указывать особо нет - далеко. Минимальное расстояние до парка 1 м вызывает явные сомнения, но кто как считает, может парк через дорогу."
   ]
  },
  {
   "cell_type": "code",
   "execution_count": 15,
   "metadata": {},
   "outputs": [
    {
     "data": {
      "text/plain": [
       "count    21303.000000\n",
       "mean         2.551566\n",
       "std          1.783476\n",
       "min          0.000000\n",
       "25%          1.000000\n",
       "50%          3.000000\n",
       "75%          4.000000\n",
       "max          6.000000\n",
       "Name: day_exp, dtype: float64"
      ]
     },
     "execution_count": 15,
     "metadata": {},
     "output_type": "execute_result"
    },
    {
     "data": {
      "image/png": "[encoded data removed]",
      "text/plain": [
       "<Figure size 432x288 with 1 Axes>"
      ]
     },
     "metadata": {
      "needs_background": "light"
     },
     "output_type": "display_data"
    }
   ],
   "source": [
    "data['day_exp'].hist(bins = 10)\n",
    "data['day_exp'].describe()"
   ]
  },
  {
   "cell_type": "markdown",
   "metadata": {},
   "source": [
    "Меньше всего объявлений публикуют в выходные, больше всего во вторник и четверг, чуть меньше в среду и пятницу."
   ]
  },
  {
   "cell_type": "code",
   "execution_count": 16,
   "metadata": {},
   "outputs": [
    {
     "data": {
      "text/plain": [
       "count    16514.000000\n",
       "mean     14236.133765\n",
       "std       8645.838848\n",
       "min        181.000000\n",
       "25%       9350.000000\n",
       "50%      13105.000000\n",
       "75%      16275.000000\n",
       "max      65968.000000\n",
       "Name: cityCenters_nearest, dtype: float64"
      ]
     },
     "execution_count": 16,
     "metadata": {},
     "output_type": "execute_result"
    },
    {
     "data": {
      "image/png": "[encoded data removed]",
      "text/plain": [
       "<Figure size 432x288 with 1 Axes>"
      ]
     },
     "metadata": {
      "needs_background": "light"
     },
     "output_type": "display_data"
    }
   ],
   "source": [
    "data['cityCenters_nearest'].hist(bins = 30)\n",
    "data['cityCenters_nearest'].describe()"
   ]
  },
  {
   "cell_type": "markdown",
   "metadata": {},
   "source": [
    "Большинство квартир находится в радиусе от 10 до 20 км от центра города. Среднее значение расстояния от центра - чуть более 14км. Инфраструктура людям важна) В самом центре предложений не так уж и много. Сильно далеко (больше 45 км) квартир в продаже мало. А те, что находятся дальше, чем 60 км можно в расчёт не брать вовсе - их ничтожно мало."
   ]
  },
  {
   "cell_type": "code",
   "execution_count": 17,
   "metadata": {},
   "outputs": [
    {
     "data": {
      "text/plain": [
       "count    21303.000000\n",
       "mean         5.856217\n",
       "std          4.833490\n",
       "min          1.000000\n",
       "25%          2.000000\n",
       "50%          4.000000\n",
       "75%          8.000000\n",
       "max         33.000000\n",
       "Name: floor, dtype: float64"
      ]
     },
     "execution_count": 17,
     "metadata": {},
     "output_type": "execute_result"
    },
    {
     "data": {
      "image/png": "[encoded data removed]",
      "text/plain": [
       "<Figure size 432x288 with 1 Axes>"
      ]
     },
     "metadata": {
      "needs_background": "light"
     },
     "output_type": "display_data"
    }
   ],
   "source": [
    "data['floor'].hist(bins = 30)\n",
    "data['floor'].describe()"
   ]
  },
  {
   "cell_type": "markdown",
   "metadata": {},
   "source": [
    "Большинство квартир находится на первых трёх этажах зданий.  Есть существенная доля квартир с 5 по 10 этаж. На более высоких этажах количесвто предложений снижается. Чем выше хочешь этаж, тем сложнее найти подходящую квартиру. В высотках более 25 этажей - единичные предложения. Самый высокий этаж, на котором можног поселиться - 33."
   ]
  },
  {
   "cell_type": "code",
   "execution_count": 18,
   "metadata": {},
   "outputs": [
    {
     "data": {
      "text/plain": [
       "count    21303.000000\n",
       "mean         2.693335\n",
       "std          0.206577\n",
       "min          2.000000\n",
       "25%          2.600000\n",
       "50%          2.650000\n",
       "75%          2.700000\n",
       "max          4.000000\n",
       "Name: ceiling_height, dtype: float64"
      ]
     },
     "execution_count": 18,
     "metadata": {},
     "output_type": "execute_result"
    },
    {
     "data": {
      "image/png": "[encoded data removed]",
      "text/plain": [
       "<Figure size 432x288 with 1 Axes>"
      ]
     },
     "metadata": {
      "needs_background": "light"
     },
     "output_type": "display_data"
    }
   ],
   "source": [
    "data['ceiling_height'].hist(bins = 20)\n",
    "data['ceiling_height'].describe()"
   ]
  },
  {
   "cell_type": "markdown",
   "metadata": {},
   "source": [
    "Высота потолков в среднем составляет 2,7 метра. Квартир с высокми потолками более 3,5 метра очень мало. Но есть из чего выбрать квартиры с высотой потолков от 3 до 3,35 метров. Самые высокие потолки достигают 4 метров."
   ]
  },
  {
   "cell_type": "code",
   "execution_count": 19,
   "metadata": {},
   "outputs": [
    {
     "data": {
      "text/plain": [
       "count    21264.000000\n",
       "mean        10.579477\n",
       "std          6.514310\n",
       "min          0.000000\n",
       "25%          5.000000\n",
       "50%          9.000000\n",
       "75%         15.000000\n",
       "max         36.000000\n",
       "Name: floors_total, dtype: float64"
      ]
     },
     "execution_count": 19,
     "metadata": {},
     "output_type": "execute_result"
    },
    {
     "data": {
      "image/png": "[encoded data removed]",
      "text/plain": [
       "<Figure size 432x288 with 1 Axes>"
      ]
     },
     "metadata": {
      "needs_background": "light"
     },
     "output_type": "display_data"
    }
   ],
   "source": [
    "data['floors_total'].hist(bins = 30)\n",
    "data['floors_total'].describe()"
   ]
  },
  {
   "cell_type": "markdown",
   "metadata": {},
   "source": [
    "Самое большое количество квартир продаётся в пятиэтажках. Ещё довольно много предложений в десятиэтажных домах. Дома в 17,25 этажей тоже представлены на рынке. А очень высоких домов этажностью свыше 30 этажей практически нет. Самый высокий дом - в 36 этажей."
   ]
  },
  {
   "cell_type": "code",
   "execution_count": 20,
   "metadata": {},
   "outputs": [
    {
     "data": {
      "text/plain": [
       "count    21303.000000\n",
       "mean         2.065578\n",
       "std          0.992588\n",
       "min          0.000000\n",
       "25%          1.000000\n",
       "50%          2.000000\n",
       "75%          3.000000\n",
       "max          6.000000\n",
       "Name: rooms, dtype: float64"
      ]
     },
     "execution_count": 20,
     "metadata": {},
     "output_type": "execute_result"
    },
    {
     "data": {
      "image/png": "[encoded data removed]",
      "text/plain": [
       "<Figure size 432x288 with 1 Axes>"
      ]
     },
     "metadata": {
      "needs_background": "light"
     },
     "output_type": "display_data"
    }
   ],
   "source": [
    "data['rooms'].hist(bins = 20)\n",
    "data['rooms'].describe()"
   ]
  },
  {
   "cell_type": "markdown",
   "metadata": {},
   "source": [
    "Больше всего на рынке одно- и двух-комнаттных квартир.Их доля составляет больше половины рынка недвижимости. Трёхкомнатных значительно больше, чем четырёх. А квартир свыше 5 комнат очень мало."
   ]
  },
  {
   "cell_type": "code",
   "execution_count": 21,
   "metadata": {},
   "outputs": [
    {
     "data": {
      "text/plain": [
       "count     21303.000000\n",
       "mean       6393.801077\n",
       "std        8565.483727\n",
       "min          12.190000\n",
       "25%        3500.000000\n",
       "50%        4700.000000\n",
       "75%        6800.000000\n",
       "max      401300.000000\n",
       "Name: last_price, dtype: float64"
      ]
     },
     "execution_count": 21,
     "metadata": {},
     "output_type": "execute_result"
    },
    {
     "data": {
      "image/png": "[encoded data removed]",
      "text/plain": [
       "<Figure size 432x288 with 1 Axes>"
      ]
     },
     "metadata": {
      "needs_background": "light"
     },
     "output_type": "display_data"
    }
   ],
   "source": [
    "data['last_price'] = round((data['last_price']/1000),2)\n",
    "data['last_price'].hist(bins = 30, range = (0,50000))\n",
    "\n",
    "data['last_price'].describe()"
   ]
  },
  {
   "cell_type": "markdown",
   "metadata": {},
   "source": [
    "Средняя стоимость квартир составляет 6,4 млн рублей. Минимальная цена - 1219000 тысяч рублей\n",
    "Очень много квартир на рынке стоимостью от 3 до 5 млн рублей.Немного предложений дешевых квартир до 2 млн и примерно столько же очень дорогих, стоимостью свыше 8 млн рублей."
   ]
  },
  {
   "cell_type": "code",
   "execution_count": 22,
   "metadata": {},
   "outputs": [
    {
     "data": {
      "text/plain": [
       "count    21303.000000\n",
       "mean        34.463079\n",
       "std         20.888138\n",
       "min         10.080000\n",
       "25%         18.800000\n",
       "50%         30.300000\n",
       "75%         42.600000\n",
       "max        347.500000\n",
       "Name: living_area, dtype: float64"
      ]
     },
     "execution_count": 22,
     "metadata": {},
     "output_type": "execute_result"
    },
    {
     "data": {
      "image/png": "[encoded data removed]",
      "text/plain": [
       "<Figure size 432x288 with 1 Axes>"
      ]
     },
     "metadata": {
      "needs_background": "light"
     },
     "output_type": "display_data"
    }
   ],
   "source": [
    "data['living_area'].hist(bins = 30, range = (0,200))\n",
    "data['living_area'].describe()"
   ]
  },
  {
   "cell_type": "markdown",
   "metadata": {},
   "source": [
    "Квартир с площадью более 110 кв.м.крайне мало. Преобладают на рынке маленькие квартиры (видимо, студии ) с площадью от 15 до 20 кв.м. Так же много наверное однушек с площадью около 30 кв.м. БОльшая часть квартир с площадью до 50 кв.м. От 50 кв.м. до 100 кв.м. - резкий спад. Чем площадь больше, тем меньше предложений."
   ]
  },
  {
   "cell_type": "code",
   "execution_count": 23,
   "metadata": {},
   "outputs": [
    {
     "data": {
      "text/plain": [
       "count    21303.000000\n",
       "mean        10.422957\n",
       "std          5.170081\n",
       "min          3.200000\n",
       "25%          7.000000\n",
       "50%          9.100000\n",
       "75%         12.000000\n",
       "max         49.400000\n",
       "Name: kitchen_area, dtype: float64"
      ]
     },
     "execution_count": 23,
     "metadata": {},
     "output_type": "execute_result"
    },
    {
     "data": {
      "image/png": "[encoded data removed]",
      "text/plain": [
       "<Figure size 432x288 with 1 Axes>"
      ]
     },
     "metadata": {
      "needs_background": "light"
     },
     "output_type": "display_data"
    }
   ],
   "source": [
    "data['kitchen_area'].hist(bins = 50, range = (0,50))\n",
    "data['kitchen_area'].describe()"
   ]
  },
  {
   "cell_type": "markdown",
   "metadata": {},
   "source": [
    "Площадь кухни от 5 до 12 метров - самая популярная. Кухни менее 5 кв.м. встречаются очень редко, как и те, чья площадь больше 25 кв.м. Квартир с большими кухнями от 16 до 25 кв.м. совсем немного."
   ]
  },
  {
   "cell_type": "code",
   "execution_count": 24,
   "metadata": {},
   "outputs": [
    {
     "data": {
      "text/plain": [
       "count    16493.000000\n",
       "mean     28805.628509\n",
       "std      12643.826494\n",
       "min          0.000000\n",
       "25%      18551.000000\n",
       "50%      26757.000000\n",
       "75%      37310.000000\n",
       "max      84869.000000\n",
       "Name: airports_nearest, dtype: float64"
      ]
     },
     "execution_count": 24,
     "metadata": {},
     "output_type": "execute_result"
    },
    {
     "data": {
      "image/png": "[encoded data removed]",
      "text/plain": [
       "<Figure size 432x288 with 1 Axes>"
      ]
     },
     "metadata": {
      "needs_background": "light"
     },
     "output_type": "display_data"
    }
   ],
   "source": [
    "data['airports_nearest'].hist(bins = 30)\n",
    "data['airports_nearest'].describe()"
   ]
  },
  {
   "cell_type": "markdown",
   "metadata": {},
   "source": [
    "Большинство предлоджений в радиусе 10 - 40 км от аэропорта. Среднее расстояние до аэропорта - почти 29 км. Меньше, но есть из чего выбрать, на расстоянии от 40 до 70 км. А вот дальше 70 км то аэропорта предложений практичеки нет."
   ]
  },
  {
   "cell_type": "code",
   "execution_count": 25,
   "metadata": {},
   "outputs": [
    {
     "data": {
      "text/plain": [
       "count    21303.000000\n",
       "mean         6.420504\n",
       "std          3.466060\n",
       "min          1.000000\n",
       "25%          3.000000\n",
       "50%          6.000000\n",
       "75%         10.000000\n",
       "max         12.000000\n",
       "Name: month_exp, dtype: float64"
      ]
     },
     "execution_count": 25,
     "metadata": {},
     "output_type": "execute_result"
    },
    {
     "data": {
      "image/png": "[encoded data removed]",
      "text/plain": [
       "<Figure size 432x288 with 1 Axes>"
      ]
     },
     "metadata": {
      "needs_background": "light"
     },
     "output_type": "display_data"
    }
   ],
   "source": [
    "data['month_exp'].hist(bins = 30)\n",
    "data['month_exp'].describe()"
   ]
  },
  {
   "cell_type": "markdown",
   "metadata": {},
   "source": [
    "Самые \"активные\" месяца начала продаж - это февраль, март и декабрь. Меньше вего объявлений появляется в январе, мае (видимо из-за большого количества нерабочих дней). Примерно одинакова активность летом и в декабре."
   ]
  },
  {
   "cell_type": "markdown",
   "metadata": {},
   "source": [
    "Спасибо!"
   ]
  },
  {
   "cell_type": "code",
   "execution_count": 27,
   "metadata": {},
   "outputs": [
    {
     "name": "stdout",
     "output_type": "stream",
     "text": [
      "Медианное значение длительности продаж:  102.0\n",
      "Среднее значение длительности продаж:  185.49329407916258\n"
     ]
    },
    {
     "data": {
      "text/plain": [
       "count    18342.000000\n",
       "mean       185.493294\n",
       "std        222.396925\n",
       "min          1.000000\n",
       "25%         45.000000\n",
       "50%        102.000000\n",
       "75%        239.000000\n",
       "max       1580.000000\n",
       "Name: days_exposition, dtype: float64"
      ]
     },
     "execution_count": 27,
     "metadata": {},
     "output_type": "execute_result"
    },
    {
     "data": {
      "image/png": "[encoded data removed]",
      "text/plain": [
       "<Figure size 432x288 with 1 Axes>"
      ]
     },
     "metadata": {
      "needs_background": "light"
     },
     "output_type": "display_data"
    }
   ],
   "source": [
    "print('Медианное значение длительности продаж: ',data['days_exposition'].median())\n",
    "print('Среднее значение длительности продаж: ',data['days_exposition'].mean())\n",
    "data['days_exposition'].hist(bins = 50, range = (0,1400))\n",
    "data['days_exposition'].describe()"
   ]
  },
  {
   "cell_type": "markdown",
   "metadata": {},
   "source": [
    "В среднем, для того чтобы продать квартиру в Санкт-Петербурге и пригородах требуется полгода. Большое количество квартир продаётся быстрее - за пару месяцев.  Продажи за месяц можно ститать быстрыми и таких немало. Значительно реже случаются очень долгие продажи. Квартиры, которые продаются дольше двух лет  - долгие продажи. Хорошо, что такие долгие сделки случаются крайне  редко."
   ]
  },
  {
   "cell_type": "code",
   "execution_count": 28,
   "metadata": {},
   "outputs": [
    {
     "data": {
      "text/plain": [
       "<AxesSubplot:title={'center':'Зависимоть цены от общей площади'}, xlabel='total_area'>"
      ]
     },
     "execution_count": 28,
     "metadata": {},
     "output_type": "execute_result"
    },
    {
     "data": {
      "image/png": "[encoded data removed]",
      "text/plain": [
       "<Figure size 432x288 with 1 Axes>"
      ]
     },
     "metadata": {
      "needs_background": "light"
     },
     "output_type": "display_data"
    }
   ],
   "source": [
    "tot_area = data.pivot_table(index ='total_area',values ='last_price')\n",
    "tot_area.plot(title ='Зависимоть цены от общей площади',style='o', grid=True) "
   ]
  },
  {
   "cell_type": "markdown",
   "metadata": {},
   "source": [
    "Разброс цен на квартиры с общей площадью до 100 кв.м. невелик. Если поискать, то можно найти квартиры с общей площадью от 50 до 10 кв.м. примерно по одной цене.Так как предложений небольших квартир много, есть из чего выбрать. В диапозоне до 5,5 млн.р. масса предложений. Цены растут с увеличеникм площади, на квартирах больше 100 кв. м. разброс цен нагляднее. При этом большие квартиры примерно одной общей площади могут отличаться по цене в несколько раз. Есть как подозрительно дешевые большие квартиры, так и очень дорогие. Квартир с общей площадью больше 600 кв.м. всего 3. Возможно, нужно исключить их из расчёта. Но вдруг кто-то продаёт этажи больших домов как квартиры?)"
   ]
  },
  {
   "cell_type": "code",
   "execution_count": 29,
   "metadata": {},
   "outputs": [
    {
     "data": {
      "text/plain": [
       "<AxesSubplot:title={'center':'Зависимоть цены от жилой площади'}, xlabel='living_area'>"
      ]
     },
     "execution_count": 29,
     "metadata": {},
     "output_type": "execute_result"
    },
    {
     "data": {
      "image/png": "[encoded data removed]",
      "text/plain": [
       "<Figure size 432x288 with 1 Axes>"
      ]
     },
     "metadata": {
      "needs_background": "light"
     },
     "output_type": "display_data"
    }
   ],
   "source": [
    "liv_area = data.pivot_table(index ='living_area',values ='last_price')\n",
    "liv_area.plot(title='Зависимоть цены от жилой площади',style='o', grid=True)\n"
   ]
  },
  {
   "cell_type": "markdown",
   "metadata": {},
   "source": [
    "Есть несколько аномально дорогих квартир жилой площадью около 200 кв.м. по сравнению со средней ценой на рынке, также выделяется подозрительно дешевая квартира с жилой площадью более 400 кв.м. Вообще квартир с большой жилой площадь. (более 200 кв.м) на рынке немного и на них сильно разнятся цены. На квартиры с меньшей жилой площадью и уены меньше. Прямая зависимость цены от площади прослеживается, но для любых площадей есть квартиры с высокой ценой, чего не скажешь о нижней границе стоимости."
   ]
  },
  {
   "cell_type": "code",
   "execution_count": 30,
   "metadata": {},
   "outputs": [
    {
     "data": {
      "text/plain": [
       "<AxesSubplot:title={'center':'Зависимоть цены от площади кухни'}, xlabel='kitchen_area'>"
      ]
     },
     "execution_count": 30,
     "metadata": {},
     "output_type": "execute_result"
    },
    {
     "data": {
      "image/png": "[encoded data removed]",
      "text/plain": [
       "<Figure size 432x288 with 1 Axes>"
      ]
     },
     "metadata": {
      "needs_background": "light"
     },
     "output_type": "display_data"
    }
   ],
   "source": [
    "kit_area = data.pivot_table(index ='kitchen_area',values ='last_price')\n",
    "kit_area.plot(title='Зависимоть цены от площади кухни',style='o', grid=True) "
   ]
  },
  {
   "cell_type": "markdown",
   "metadata": {},
   "source": [
    "Цены на квартиры с кухнями до 15 кв.м. находятся примерно в одном диапозоне. Нельзя сказать, что размер кухни прямо влияет на стоимость. Но выделяется несколько предложений с большими кухнями от 25 до 45 кв.м. по очень высокой цене."
   ]
  },
  {
   "cell_type": "code",
   "execution_count": 31,
   "metadata": {},
   "outputs": [
    {
     "data": {
      "text/plain": [
       "<AxesSubplot:title={'center':'Зависимоть цены от количества комнат'}, xlabel='rooms'>"
      ]
     },
     "execution_count": 31,
     "metadata": {},
     "output_type": "execute_result"
    },
    {
     "data": {
      "image/png": "[encoded data removed]",
      "text/plain": [
       "<Figure size 432x288 with 1 Axes>"
      ]
     },
     "metadata": {
      "needs_background": "light"
     },
     "output_type": "display_data"
    }
   ],
   "source": [
    "room = data.pivot_table(index ='rooms',values ='last_price')\n",
    "room.plot(title='Зависимоть цены от количества комнат',style='o-', grid=True) "
   ]
  },
  {
   "cell_type": "markdown",
   "metadata": {},
   "source": [
    "На графике явно видно, что чем больше комнат в квартире, тем она дороже. Учитывая, что под \"0\" комнат у нас находтся недостоверные данные со слишком   большим изначальным количеством комнат,делать выводы о их стоимости не совсем корректно."
   ]
  },
  {
   "cell_type": "code",
   "execution_count": 32,
   "metadata": {},
   "outputs": [
    {
     "data": {
      "text/plain": [
       "<AxesSubplot:title={'center':'Зависимоть цены от типа этажа'}, xlabel='floor_type'>"
      ]
     },
     "execution_count": 32,
     "metadata": {},
     "output_type": "execute_result"
    },
    {
     "data": {
      "image/png": "[encoded data removed]",
      "text/plain": [
       "<Figure size 432x288 with 1 Axes>"
      ]
     },
     "metadata": {
      "needs_background": "light"
     },
     "output_type": "display_data"
    }
   ],
   "source": [
    "fl_type = data.pivot_table(index ='floor_type',values ='last_price')\n",
    "fl_type.plot(title='Зависимоть цены от типа этажа',style='o-', grid=True) "
   ]
  },
  {
   "cell_type": "markdown",
   "metadata": {},
   "source": [
    "Видимо, квартиры, находящиеся на первом этаже сильно уступают в цене всем другим. Квартиры на последнем этаже тоже чуть дешевле тех, что находятся ниже, но разница эта не столь существенна, как с первым."
   ]
  },
  {
   "cell_type": "code",
   "execution_count": 33,
   "metadata": {},
   "outputs": [
    {
     "data": {
      "text/plain": [
       "<AxesSubplot:title={'center':'Зависимоть цены от дня продажи'}, xlabel='day_exp'>"
      ]
     },
     "execution_count": 33,
     "metadata": {},
     "output_type": "execute_result"
    },
    {
     "data": {
      "image/png": "[encoded data removed]",
      "text/plain": [
       "<Figure size 432x288 with 1 Axes>"
      ]
     },
     "metadata": {
      "needs_background": "light"
     },
     "output_type": "display_data"
    }
   ],
   "source": [
    "day = data.pivot_table(index ='day_exp',values ='last_price')\n",
    "day.plot(title='Зависимоть цены от дня продажи',style='o-', grid=True) "
   ]
  },
  {
   "cell_type": "markdown",
   "metadata": {},
   "source": [
    "Самые дорогие сделки проходят по четвергам, а самые дешевые - по пятницам и  воскресеньям."
   ]
  },
  {
   "cell_type": "code",
   "execution_count": 34,
   "metadata": {},
   "outputs": [
    {
     "data": {
      "text/plain": [
       "<AxesSubplot:title={'center':'Зависимоть цены от месяца продажи'}, xlabel='month_exp'>"
      ]
     },
     "execution_count": 34,
     "metadata": {},
     "output_type": "execute_result"
    },
    {
     "data": {
      "image/png": "[encoded data removed]",
      "text/plain": [
       "<Figure size 432x288 with 1 Axes>"
      ]
     },
     "metadata": {
      "needs_background": "light"
     },
     "output_type": "display_data"
    }
   ],
   "source": [
    "month = data.pivot_table(index ='month_exp',values ='last_price')\n",
    "month.plot(title='Зависимоть цены от месяца продажи',style='o-', grid=True) "
   ]
  },
  {
   "cell_type": "markdown",
   "metadata": {},
   "source": [
    "Меньше всего квартир продаётся в октябре,есть спад также в марте. Больше всего в апреле и декабре. В остально время года рынок более-менее стабилен."
   ]
  },
  {
   "cell_type": "code",
   "execution_count": 35,
   "metadata": {},
   "outputs": [
    {
     "data": {
      "text/plain": [
       "<AxesSubplot:title={'center':'Зависимоть цены от года продажи'}, xlabel='year_exp'>"
      ]
     },
     "execution_count": 35,
     "metadata": {},
     "output_type": "execute_result"
    },
    {
     "data": {
      "image/png": "[encoded data removed]",
      "text/plain": [
       "<Figure size 432x288 with 1 Axes>"
      ]
     },
     "metadata": {
      "needs_background": "light"
     },
     "output_type": "display_data"
    }
   ],
   "source": [
    "year = data.pivot_table(index ='year_exp',values ='last_price')\n",
    "year.plot(title='Зависимоть цены от года продажи',style='o-', grid=True) "
   ]
  },
  {
   "cell_type": "markdown",
   "metadata": {},
   "source": [
    "Очень странно, но цены после кризиса 2014 года пошли на спад, вплоть до кризиса 2018. Затем начался плавный рост цен."
   ]
  },
  {
   "cell_type": "code",
   "execution_count": 36,
   "metadata": {},
   "outputs": [
    {
     "data": {
      "text/plain": [
       "'Населенные пункты с наибольшим числом объявлений:'"
      ]
     },
     "metadata": {},
     "output_type": "display_data"
    },
    {
     "data": {
      "text/html": [
       "<div>\n",
       "<style scoped>\n",
       "    .dataframe tbody tr th:only-of-type {\n",
       "        vertical-align: middle;\n",
       "    }\n",
       "\n",
       "    .dataframe tbody tr th {\n",
       "        vertical-align: top;\n",
       "    }\n",
       "\n",
       "    .dataframe thead th {\n",
       "        text-align: right;\n",
       "    }\n",
       "</style>\n",
       "<table border=\"1\" class=\"dataframe\">\n",
       "  <thead>\n",
       "    <tr style=\"text-align: right;\">\n",
       "      <th></th>\n",
       "      <th>locality_name</th>\n",
       "      <th>count</th>\n",
       "      <th>mean_price</th>\n",
       "    </tr>\n",
       "  </thead>\n",
       "  <tbody>\n",
       "    <tr>\n",
       "      <th>305</th>\n",
       "      <td>санкт-петербург</td>\n",
       "      <td>14247</td>\n",
       "      <td>113512.0</td>\n",
       "    </tr>\n",
       "    <tr>\n",
       "      <th>258</th>\n",
       "      <td>посёлок мурино</td>\n",
       "      <td>474</td>\n",
       "      <td>85379.0</td>\n",
       "    </tr>\n",
       "    <tr>\n",
       "      <th>295</th>\n",
       "      <td>посёлок шушары</td>\n",
       "      <td>397</td>\n",
       "      <td>78582.0</td>\n",
       "    </tr>\n",
       "    <tr>\n",
       "      <th>123</th>\n",
       "      <td>кудрово</td>\n",
       "      <td>388</td>\n",
       "      <td>95320.0</td>\n",
       "    </tr>\n",
       "    <tr>\n",
       "      <th>4</th>\n",
       "      <td>всеволожск</td>\n",
       "      <td>357</td>\n",
       "      <td>69029.0</td>\n",
       "    </tr>\n",
       "    <tr>\n",
       "      <th>299</th>\n",
       "      <td>пушкин</td>\n",
       "      <td>331</td>\n",
       "      <td>102982.0</td>\n",
       "    </tr>\n",
       "    <tr>\n",
       "      <th>117</th>\n",
       "      <td>колпино</td>\n",
       "      <td>322</td>\n",
       "      <td>75226.0</td>\n",
       "    </tr>\n",
       "    <tr>\n",
       "      <th>7</th>\n",
       "      <td>гатчина</td>\n",
       "      <td>294</td>\n",
       "      <td>68693.0</td>\n",
       "    </tr>\n",
       "    <tr>\n",
       "      <th>263</th>\n",
       "      <td>посёлок парголово</td>\n",
       "      <td>289</td>\n",
       "      <td>90691.0</td>\n",
       "    </tr>\n",
       "    <tr>\n",
       "      <th>5</th>\n",
       "      <td>выборг</td>\n",
       "      <td>200</td>\n",
       "      <td>58311.0</td>\n",
       "    </tr>\n",
       "  </tbody>\n",
       "</table>\n",
       "</div>"
      ],
      "text/plain": [
       "         locality_name  count  mean_price\n",
       "305    санкт-петербург  14247    113512.0\n",
       "258     посёлок мурино    474     85379.0\n",
       "295     посёлок шушары    397     78582.0\n",
       "123            кудрово    388     95320.0\n",
       "4           всеволожск    357     69029.0\n",
       "299             пушкин    331    102982.0\n",
       "117            колпино    322     75226.0\n",
       "7              гатчина    294     68693.0\n",
       "263  посёлок парголово    289     90691.0\n",
       "5               выборг    200     58311.0"
      ]
     },
     "metadata": {},
     "output_type": "display_data"
    },
    {
     "data": {
      "text/plain": [
       "'Населенный пункт с самой высокой стоимотью квадратного метра: '"
      ]
     },
     "metadata": {},
     "output_type": "display_data"
    },
    {
     "data": {
      "text/plain": [
       "'санкт-петербург'"
      ]
     },
     "metadata": {},
     "output_type": "display_data"
    },
    {
     "data": {
      "text/plain": [
       "'Средняя цена за квадратный метр:'"
      ]
     },
     "metadata": {},
     "output_type": "display_data"
    },
    {
     "data": {
      "text/plain": [
       "113512.0"
      ]
     },
     "metadata": {},
     "output_type": "display_data"
    },
    {
     "data": {
      "text/plain": [
       "'Населенный пункт с самой низкой стоимотью квадратного метра: '"
      ]
     },
     "metadata": {},
     "output_type": "display_data"
    },
    {
     "data": {
      "text/plain": [
       "'выборг'"
      ]
     },
     "metadata": {},
     "output_type": "display_data"
    },
    {
     "data": {
      "text/plain": [
       "'Средняя цена за квадратный метр:'"
      ]
     },
     "metadata": {},
     "output_type": "display_data"
    },
    {
     "data": {
      "text/plain": [
       "58311.0"
      ]
     },
     "metadata": {},
     "output_type": "display_data"
    }
   ],
   "source": [
    "id_max = data.pivot_table( index='locality_name',values = 'metr_price',aggfunc=['count', 'mean']).reset_index()\n",
    "#Не пойму как с 0 пронумеровать индексы. на 'drop = True' - ругается:(\n",
    "id_max.columns = [ 'locality_name','count', 'mean_price']\n",
    "#Округлим среднюю стоимость жилья за метр до целых рублей\n",
    "id_max['mean_price'] = round(id_max['mean_price'])\n",
    "top_cities = id_max.sort_values(by = 'count', ascending=False).head(10)\n",
    "display ('Населенные пункты с наибольшим числом объявлений:',top_cities)\n",
    "\n",
    "display('Населенный пункт с самой высокой стоимотью квадратного метра: ',top_cities.loc[305,'locality_name'], 'Средняя цена за квадратный метр:',top_cities['mean_price'].max())\n",
    "display('Населенный пункт с самой низкой стоимотью квадратного метра: ', top_cities.loc[5,'locality_name'], 'Средняя цена за квадратный метр:',top_cities['mean_price'].min())\n"
   ]
  },
  {
   "cell_type": "markdown",
   "metadata": {},
   "source": [
    "Самое большое количество объявление в г. Санк-Петербурге, там же и самая высока цена за квадтраный метр - 113517 руб. Самая изкая стоимость квадратного метра из ТОП-10 популярных мест в Выборге, почти в 2 раза дешевле, чем в Санкт-Петербурге - 58311 руб."
   ]
  },
  {
   "cell_type": "code",
   "execution_count": 37,
   "metadata": {
    "scrolled": true
   },
   "outputs": [
    {
     "data": {
      "text/plain": [
       "'Средняя цена каждого километра:'"
      ]
     },
     "metadata": {},
     "output_type": "display_data"
    },
    {
     "data": {
      "text/html": [
       "<div>\n",
       "<style scoped>\n",
       "    .dataframe tbody tr th:only-of-type {\n",
       "        vertical-align: middle;\n",
       "    }\n",
       "\n",
       "    .dataframe tbody tr th {\n",
       "        vertical-align: top;\n",
       "    }\n",
       "\n",
       "    .dataframe thead th {\n",
       "        text-align: right;\n",
       "    }\n",
       "</style>\n",
       "<table border=\"1\" class=\"dataframe\">\n",
       "  <thead>\n",
       "    <tr style=\"text-align: right;\">\n",
       "      <th></th>\n",
       "      <th>to_centr</th>\n",
       "      <th>metr_price</th>\n",
       "    </tr>\n",
       "  </thead>\n",
       "  <tbody>\n",
       "    <tr>\n",
       "      <th>0</th>\n",
       "      <td>0.0</td>\n",
       "      <td>241173.173913</td>\n",
       "    </tr>\n",
       "    <tr>\n",
       "      <th>1</th>\n",
       "      <td>1.0</td>\n",
       "      <td>168437.286550</td>\n",
       "    </tr>\n",
       "    <tr>\n",
       "      <th>2</th>\n",
       "      <td>2.0</td>\n",
       "      <td>159856.877256</td>\n",
       "    </tr>\n",
       "    <tr>\n",
       "      <th>3</th>\n",
       "      <td>3.0</td>\n",
       "      <td>119994.850000</td>\n",
       "    </tr>\n",
       "    <tr>\n",
       "      <th>4</th>\n",
       "      <td>4.0</td>\n",
       "      <td>128970.895161</td>\n",
       "    </tr>\n",
       "    <tr>\n",
       "      <th>5</th>\n",
       "      <td>5.0</td>\n",
       "      <td>136337.840633</td>\n",
       "    </tr>\n",
       "    <tr>\n",
       "      <th>6</th>\n",
       "      <td>6.0</td>\n",
       "      <td>145449.710526</td>\n",
       "    </tr>\n",
       "    <tr>\n",
       "      <th>7</th>\n",
       "      <td>7.0</td>\n",
       "      <td>153967.575269</td>\n",
       "    </tr>\n",
       "    <tr>\n",
       "      <th>8</th>\n",
       "      <td>8.0</td>\n",
       "      <td>125052.512868</td>\n",
       "    </tr>\n",
       "    <tr>\n",
       "      <th>9</th>\n",
       "      <td>9.0</td>\n",
       "      <td>112534.100372</td>\n",
       "    </tr>\n",
       "    <tr>\n",
       "      <th>10</th>\n",
       "      <td>10.0</td>\n",
       "      <td>111848.763554</td>\n",
       "    </tr>\n",
       "    <tr>\n",
       "      <th>11</th>\n",
       "      <td>11.0</td>\n",
       "      <td>108289.589580</td>\n",
       "    </tr>\n",
       "    <tr>\n",
       "      <th>12</th>\n",
       "      <td>12.0</td>\n",
       "      <td>107371.847354</td>\n",
       "    </tr>\n",
       "    <tr>\n",
       "      <th>13</th>\n",
       "      <td>13.0</td>\n",
       "      <td>107574.036842</td>\n",
       "    </tr>\n",
       "    <tr>\n",
       "      <th>14</th>\n",
       "      <td>14.0</td>\n",
       "      <td>103629.678814</td>\n",
       "    </tr>\n",
       "    <tr>\n",
       "      <th>15</th>\n",
       "      <td>15.0</td>\n",
       "      <td>104180.123163</td>\n",
       "    </tr>\n",
       "    <tr>\n",
       "      <th>16</th>\n",
       "      <td>16.0</td>\n",
       "      <td>100236.180870</td>\n",
       "    </tr>\n",
       "    <tr>\n",
       "      <th>17</th>\n",
       "      <td>17.0</td>\n",
       "      <td>96285.676806</td>\n",
       "    </tr>\n",
       "    <tr>\n",
       "      <th>18</th>\n",
       "      <td>18.0</td>\n",
       "      <td>96774.912500</td>\n",
       "    </tr>\n",
       "    <tr>\n",
       "      <th>19</th>\n",
       "      <td>19.0</td>\n",
       "      <td>97819.938356</td>\n",
       "    </tr>\n",
       "    <tr>\n",
       "      <th>20</th>\n",
       "      <td>20.0</td>\n",
       "      <td>100863.326087</td>\n",
       "    </tr>\n",
       "    <tr>\n",
       "      <th>21</th>\n",
       "      <td>21.0</td>\n",
       "      <td>94059.534653</td>\n",
       "    </tr>\n",
       "    <tr>\n",
       "      <th>22</th>\n",
       "      <td>22.0</td>\n",
       "      <td>90719.580645</td>\n",
       "    </tr>\n",
       "    <tr>\n",
       "      <th>23</th>\n",
       "      <td>23.0</td>\n",
       "      <td>92304.973333</td>\n",
       "    </tr>\n",
       "    <tr>\n",
       "      <th>24</th>\n",
       "      <td>24.0</td>\n",
       "      <td>85404.333333</td>\n",
       "    </tr>\n",
       "    <tr>\n",
       "      <th>25</th>\n",
       "      <td>25.0</td>\n",
       "      <td>88071.444444</td>\n",
       "    </tr>\n",
       "    <tr>\n",
       "      <th>26</th>\n",
       "      <td>26.0</td>\n",
       "      <td>84423.120000</td>\n",
       "    </tr>\n",
       "    <tr>\n",
       "      <th>27</th>\n",
       "      <td>27.0</td>\n",
       "      <td>132115.500000</td>\n",
       "    </tr>\n",
       "    <tr>\n",
       "      <th>28</th>\n",
       "      <td>28.0</td>\n",
       "      <td>81161.857143</td>\n",
       "    </tr>\n",
       "    <tr>\n",
       "      <th>29</th>\n",
       "      <td>29.0</td>\n",
       "      <td>76148.800000</td>\n",
       "    </tr>\n",
       "  </tbody>\n",
       "</table>\n",
       "</div>"
      ],
      "text/plain": [
       "    to_centr     metr_price\n",
       "0        0.0  241173.173913\n",
       "1        1.0  168437.286550\n",
       "2        2.0  159856.877256\n",
       "3        3.0  119994.850000\n",
       "4        4.0  128970.895161\n",
       "5        5.0  136337.840633\n",
       "6        6.0  145449.710526\n",
       "7        7.0  153967.575269\n",
       "8        8.0  125052.512868\n",
       "9        9.0  112534.100372\n",
       "10      10.0  111848.763554\n",
       "11      11.0  108289.589580\n",
       "12      12.0  107371.847354\n",
       "13      13.0  107574.036842\n",
       "14      14.0  103629.678814\n",
       "15      15.0  104180.123163\n",
       "16      16.0  100236.180870\n",
       "17      17.0   96285.676806\n",
       "18      18.0   96774.912500\n",
       "19      19.0   97819.938356\n",
       "20      20.0  100863.326087\n",
       "21      21.0   94059.534653\n",
       "22      22.0   90719.580645\n",
       "23      23.0   92304.973333\n",
       "24      24.0   85404.333333\n",
       "25      25.0   88071.444444\n",
       "26      26.0   84423.120000\n",
       "27      27.0  132115.500000\n",
       "28      28.0   81161.857143\n",
       "29      29.0   76148.800000"
      ]
     },
     "metadata": {},
     "output_type": "display_data"
    },
    {
     "data": {
      "text/plain": [
       "<AxesSubplot:title={'center':'Зависимоть цены от удаленности от центра'}>"
      ]
     },
     "execution_count": 37,
     "metadata": {},
     "output_type": "execute_result"
    },
    {
     "data": {
      "image/png": "[encoded data removed]",
      "text/plain": [
       "<Figure size 432x288 with 1 Axes>"
      ]
     },
     "metadata": {
      "needs_background": "light"
     },
     "output_type": "display_data"
    }
   ],
   "source": [
    "flat_spb = data.query('locality_name == \"санкт-петербург\"')\n",
    "#display (flat_spb)\n",
    "flat_spb_mean_price = flat_spb.pivot_table(index = 'to_centr',values ='metr_price',aggfunc='mean').reset_index()\n",
    "display('Средняя цена каждого километра:',flat_spb_mean_price)\n",
    "\n",
    "flat_spb_mean_price.plot(title='Зависимоть цены от удаленности от центра',style='-', grid=True) \n"
   ]
  },
  {
   "cell_type": "markdown",
   "metadata": {},
   "source": [
    "Самый дорогой квадратный метр в центре города.Довольно резко ддешевеет в радиусе 3х км, потом цена за метр становится выше в райне 6-7 км от центра. В радиусе 10-23 км от  цена хоть и снижается дальше от центра, но не значительно. Резкий скачок цен наблюдается на расстоянии  27 км от центра Санкт-Петербурга, скорее всего в курортном пригороде) Цена квадратного метра в 30 км от центра и в самом центре разниться более, чем в 2 раза."
   ]
  },
  {
   "cell_type": "code",
   "execution_count": 38,
   "metadata": {},
   "outputs": [
    {
     "data": {
      "text/plain": [
       "<AxesSubplot:title={'center':'Зависимоть цены от удаленности от центра'}>"
      ]
     },
     "execution_count": 38,
     "metadata": {},
     "output_type": "execute_result"
    },
    {
     "data": {
      "image/png": "[encoded data removed]",
      "text/plain": [
       "<Figure size 432x288 with 1 Axes>"
      ]
     },
     "metadata": {
      "needs_background": "light"
     },
     "output_type": "display_data"
    }
   ],
   "source": [
    "flat_spb_mean_price.plot(title='Зависимоть цены от удаленности от центра',style='-', grid=True) "
   ]
  },
  {
   "cell_type": "markdown",
   "metadata": {},
   "source": [
    "### Общий вывод"
   ]
  },
  {
   "cell_type": "markdown",
   "metadata": {},
   "source": [
    "В ходе работы надо проектом была проведена первичная обработка данных: удалены/заменены некорректные и пустые значения, устранены дубликаты в названиях.\n",
    "Исследования полученных данных показали, что на рынке недвижимости города Санкт-Петербурга преобладают квартиры небольшой площадью (до 50 кв.м.) - студии/одно - двух комнатные квартиры.Есть и элитные квартиры в продаже с общей площадью более 400 кв.м., но таких предложений немного.Интересно, что цены на такие большие квартиры очень сильно разнятся.Стоимость жилья напрямую зависит от его площади и количества комнат. Средняя стоимость  жилья до 50кв. м. около 4 млн рублей, но цена разница от расположения (ближе к центру дороже) и довольно сильно отличается в зависимости от того, на каком этаже располагается. \n",
    "Можно сделать вывод, что самые дешевые квартиры можно купить в Выборге, скорее всего на первом этаже пятиэтажного дома, с небольшой площадью около 30 кв.м., средней кухней м в 7 и потолками в 2,6 метра. Самый дорогой квадратный метр  - в центре Санкт-Петербурга. \n",
    "При выборе квартиры люди обращают внимание на её расположение относительно парков, много предложений в радиусе 500 м до зелёной зоны. Инфраструктура также имеет большое значение, поэтому бБольшая часть предложений в радиусе 40 км от центра и от аэропорта.\n",
    "Максимальное количество объявлений появляется по четвергам, в декабре и апреле.В октябре наблюдается резкий спад рынка.\n",
    "\"Первый, последний не предлагать, рядом с метро, центр\" -актуально в Питере по сей день:)"
   ]
  }
 ],
 "metadata": {
  "ExecuteTimeLog": [
   {
    "duration": 607,
    "start_time": "2022-10-10T06:44:54.080Z"
   },
   {
    "duration": 98,
    "start_time": "2022-10-10T06:46:33.137Z"
   },
   {
    "duration": 108,
    "start_time": "2022-10-10T06:46:51.367Z"
   },
   {
    "duration": 126,
    "start_time": "2022-10-10T06:47:05.968Z"
   },
   {
    "duration": 82,
    "start_time": "2022-10-10T06:50:24.315Z"
   },
   {
    "duration": 101,
    "start_time": "2022-10-10T06:50:46.824Z"
   },
   {
    "duration": 99,
    "start_time": "2022-10-10T06:50:54.552Z"
   },
   {
    "duration": 99,
    "start_time": "2022-10-10T06:52:04.314Z"
   },
   {
    "duration": 107,
    "start_time": "2022-10-10T06:52:11.456Z"
   },
   {
    "duration": 86,
    "start_time": "2022-10-10T06:52:27.281Z"
   },
   {
    "duration": 104,
    "start_time": "2022-10-10T06:52:38.546Z"
   },
   {
    "duration": 173,
    "start_time": "2022-10-10T06:54:00.731Z"
   },
   {
    "duration": 174,
    "start_time": "2022-10-10T06:55:06.578Z"
   },
   {
    "duration": 169,
    "start_time": "2022-10-10T06:55:16.588Z"
   },
   {
    "duration": 1126,
    "start_time": "2022-10-10T06:56:47.502Z"
   },
   {
    "duration": 74,
    "start_time": "2022-10-10T07:04:14.580Z"
   },
   {
    "duration": 44,
    "start_time": "2022-10-10T07:05:37.253Z"
   },
   {
    "duration": 27,
    "start_time": "2022-10-10T07:05:45.652Z"
   },
   {
    "duration": 29,
    "start_time": "2022-10-10T07:05:57.892Z"
   },
   {
    "duration": 30,
    "start_time": "2022-10-10T07:06:12.859Z"
   },
   {
    "duration": 41,
    "start_time": "2022-10-10T07:11:15.457Z"
   },
   {
    "duration": 43,
    "start_time": "2022-10-10T07:21:36.074Z"
   },
   {
    "duration": 722,
    "start_time": "2022-10-10T07:22:37.225Z"
   },
   {
    "duration": 636,
    "start_time": "2022-10-10T07:23:07.105Z"
   },
   {
    "duration": 44,
    "start_time": "2022-10-10T07:23:33.506Z"
   },
   {
    "duration": 873,
    "start_time": "2022-10-10T07:27:54.130Z"
   },
   {
    "duration": 48,
    "start_time": "2022-10-10T07:30:02.162Z"
   },
   {
    "duration": 58,
    "start_time": "2022-10-10T07:33:11.513Z"
   },
   {
    "duration": 57,
    "start_time": "2022-10-10T07:38:57.101Z"
   },
   {
    "duration": 81,
    "start_time": "2022-10-10T07:39:39.827Z"
   },
   {
    "duration": 65,
    "start_time": "2022-10-10T07:40:15.987Z"
   },
   {
    "duration": 44,
    "start_time": "2022-10-10T08:17:11.173Z"
   },
   {
    "duration": 44,
    "start_time": "2022-10-10T08:19:04.317Z"
   },
   {
    "duration": 46,
    "start_time": "2022-10-10T08:19:16.989Z"
   },
   {
    "duration": 48,
    "start_time": "2022-10-10T08:20:49.645Z"
   },
   {
    "duration": 49,
    "start_time": "2022-10-10T08:23:58.536Z"
   },
   {
    "duration": 48,
    "start_time": "2022-10-10T08:26:31.086Z"
   },
   {
    "duration": 48,
    "start_time": "2022-10-10T08:27:14.550Z"
   },
   {
    "duration": 58,
    "start_time": "2022-10-10T08:27:35.078Z"
   },
   {
    "duration": 47,
    "start_time": "2022-10-10T08:27:44.056Z"
   },
   {
    "duration": 47,
    "start_time": "2022-10-10T08:28:14.249Z"
   },
   {
    "duration": 53,
    "start_time": "2022-10-10T08:30:39.415Z"
   },
   {
    "duration": 105,
    "start_time": "2022-10-10T09:47:28.724Z"
   },
   {
    "duration": 102,
    "start_time": "2022-10-10T09:53:22.922Z"
   },
   {
    "duration": 99,
    "start_time": "2022-10-10T09:53:47.921Z"
   },
   {
    "duration": 92,
    "start_time": "2022-10-10T09:56:34.363Z"
   },
   {
    "duration": 98,
    "start_time": "2022-10-10T10:01:34.137Z"
   },
   {
    "duration": 100,
    "start_time": "2022-10-10T10:01:55.717Z"
   },
   {
    "duration": 218,
    "start_time": "2022-10-10T10:16:41.706Z"
   },
   {
    "duration": 115,
    "start_time": "2022-10-10T10:16:52.180Z"
   },
   {
    "duration": 135,
    "start_time": "2022-10-10T10:17:18.105Z"
   },
   {
    "duration": 68,
    "start_time": "2022-10-10T10:22:54.069Z"
   },
   {
    "duration": 420,
    "start_time": "2022-10-10T10:24:31.213Z"
   },
   {
    "duration": 697,
    "start_time": "2022-10-10T10:25:58.021Z"
   },
   {
    "duration": 394,
    "start_time": "2022-10-10T10:26:01.744Z"
   },
   {
    "duration": 702,
    "start_time": "2022-10-10T10:26:17.406Z"
   },
   {
    "duration": 364,
    "start_time": "2022-10-10T10:26:23.698Z"
   },
   {
    "duration": 143,
    "start_time": "2022-10-10T10:27:57.304Z"
   },
   {
    "duration": 121,
    "start_time": "2022-10-10T10:28:15.748Z"
   },
   {
    "duration": 118,
    "start_time": "2022-10-10T10:28:51.636Z"
   },
   {
    "duration": 201,
    "start_time": "2022-10-10T10:32:22.127Z"
   },
   {
    "duration": 195,
    "start_time": "2022-10-10T10:35:10.306Z"
   },
   {
    "duration": 104,
    "start_time": "2022-10-10T10:55:36.391Z"
   },
   {
    "duration": 14,
    "start_time": "2022-10-10T10:59:00.484Z"
   },
   {
    "duration": 544,
    "start_time": "2022-10-10T10:59:45.062Z"
   },
   {
    "duration": 12,
    "start_time": "2022-10-10T11:05:37.596Z"
   },
   {
    "duration": 67,
    "start_time": "2022-10-10T11:08:17.639Z"
   },
   {
    "duration": 25,
    "start_time": "2022-10-10T11:12:45.633Z"
   },
   {
    "duration": 43,
    "start_time": "2022-10-10T11:12:55.506Z"
   },
   {
    "duration": 12,
    "start_time": "2022-10-10T11:15:30.153Z"
   },
   {
    "duration": 81,
    "start_time": "2022-10-10T11:16:47.394Z"
   },
   {
    "duration": 147,
    "start_time": "2022-10-10T11:17:24.522Z"
   },
   {
    "duration": 89,
    "start_time": "2022-10-10T11:18:42.625Z"
   },
   {
    "duration": 129,
    "start_time": "2022-10-10T11:19:20.218Z"
   },
   {
    "duration": 11,
    "start_time": "2022-10-10T11:19:33.504Z"
   },
   {
    "duration": 12,
    "start_time": "2022-10-10T11:20:02.303Z"
   },
   {
    "duration": 96,
    "start_time": "2022-10-10T11:20:37.834Z"
   },
   {
    "duration": 140,
    "start_time": "2022-10-10T11:21:18.010Z"
   },
   {
    "duration": 11,
    "start_time": "2022-10-10T11:23:10.347Z"
   },
   {
    "duration": 15,
    "start_time": "2022-10-10T11:25:19.485Z"
   },
   {
    "duration": 11,
    "start_time": "2022-10-10T11:25:56.052Z"
   },
   {
    "duration": 294,
    "start_time": "2022-10-10T11:27:53.749Z"
   },
   {
    "duration": 22,
    "start_time": "2022-10-10T11:28:32.581Z"
   },
   {
    "duration": 53,
    "start_time": "2022-10-10T11:29:06.237Z"
   },
   {
    "duration": 107,
    "start_time": "2022-10-10T11:30:19.525Z"
   },
   {
    "duration": 1429,
    "start_time": "2022-10-10T11:33:15.860Z"
   },
   {
    "duration": 31,
    "start_time": "2022-10-10T11:33:50.301Z"
   },
   {
    "duration": 14,
    "start_time": "2022-10-10T11:35:47.828Z"
   },
   {
    "duration": 31,
    "start_time": "2022-10-10T11:36:39.438Z"
   },
   {
    "duration": 58,
    "start_time": "2022-10-10T11:40:54.012Z"
   },
   {
    "duration": 45,
    "start_time": "2022-10-10T11:42:26.494Z"
   },
   {
    "duration": 73,
    "start_time": "2022-10-10T11:46:25.809Z"
   },
   {
    "duration": 71,
    "start_time": "2022-10-10T11:46:55.142Z"
   },
   {
    "duration": 43,
    "start_time": "2022-10-10T11:47:13.807Z"
   },
   {
    "duration": 657,
    "start_time": "2022-10-10T11:47:22.765Z"
   },
   {
    "duration": 52,
    "start_time": "2022-10-10T11:47:25.878Z"
   },
   {
    "duration": 55,
    "start_time": "2022-10-10T11:48:21.249Z"
   },
   {
    "duration": 116,
    "start_time": "2022-10-10T11:48:42.010Z"
   },
   {
    "duration": 79,
    "start_time": "2022-10-10T11:49:24.301Z"
   },
   {
    "duration": 52,
    "start_time": "2022-10-10T11:49:39.550Z"
   },
   {
    "duration": 51,
    "start_time": "2022-10-10T11:53:33.769Z"
   },
   {
    "duration": 73,
    "start_time": "2022-10-10T11:53:39.849Z"
   },
   {
    "duration": 753,
    "start_time": "2022-10-10T11:53:49.514Z"
   },
   {
    "duration": 110,
    "start_time": "2022-10-10T11:53:51.648Z"
   },
   {
    "duration": 77,
    "start_time": "2022-10-10T11:53:57.168Z"
   },
   {
    "duration": 657,
    "start_time": "2022-10-10T11:54:56.825Z"
   },
   {
    "duration": 143,
    "start_time": "2022-10-10T11:54:58.833Z"
   },
   {
    "duration": 80,
    "start_time": "2022-10-10T11:55:02.167Z"
   },
   {
    "duration": 415,
    "start_time": "2022-10-10T11:55:33.799Z"
   },
   {
    "duration": 53,
    "start_time": "2022-10-10T11:56:02.250Z"
   },
   {
    "duration": 55,
    "start_time": "2022-10-10T11:57:08.537Z"
   },
   {
    "duration": 681,
    "start_time": "2022-10-10T11:57:58.988Z"
   },
   {
    "duration": 129,
    "start_time": "2022-10-10T11:58:03.562Z"
   },
   {
    "duration": 75,
    "start_time": "2022-10-10T11:58:06.063Z"
   },
   {
    "duration": 49,
    "start_time": "2022-10-10T12:01:17.011Z"
   },
   {
    "duration": 143,
    "start_time": "2022-10-10T12:01:24.306Z"
   },
   {
    "duration": 46,
    "start_time": "2022-10-10T12:01:36.627Z"
   },
   {
    "duration": 345,
    "start_time": "2022-10-10T12:01:52.082Z"
   },
   {
    "duration": 13,
    "start_time": "2022-10-10T12:02:59.820Z"
   },
   {
    "duration": 374,
    "start_time": "2022-10-10T12:03:14.491Z"
   },
   {
    "duration": 79,
    "start_time": "2022-10-10T12:03:41.723Z"
   },
   {
    "duration": 47,
    "start_time": "2022-10-10T12:03:47.394Z"
   },
   {
    "duration": 50,
    "start_time": "2022-10-10T12:04:17.547Z"
   },
   {
    "duration": 85,
    "start_time": "2022-10-10T12:09:04.418Z"
   },
   {
    "duration": 113,
    "start_time": "2022-10-10T12:09:20.494Z"
   },
   {
    "duration": 51,
    "start_time": "2022-10-10T12:10:04.980Z"
   },
   {
    "duration": 52,
    "start_time": "2022-10-10T12:10:14.812Z"
   },
   {
    "duration": 50,
    "start_time": "2022-10-10T12:10:33.212Z"
   },
   {
    "duration": 49,
    "start_time": "2022-10-10T12:11:20.747Z"
   },
   {
    "duration": 658,
    "start_time": "2022-10-10T12:11:32.721Z"
   },
   {
    "duration": 137,
    "start_time": "2022-10-10T12:11:35.981Z"
   },
   {
    "duration": 83,
    "start_time": "2022-10-10T12:11:45.108Z"
   },
   {
    "duration": 13,
    "start_time": "2022-10-10T12:13:01.821Z"
   },
   {
    "duration": 22,
    "start_time": "2022-10-10T12:16:48.886Z"
   },
   {
    "duration": 32,
    "start_time": "2022-10-10T12:17:38.965Z"
   },
   {
    "duration": 29,
    "start_time": "2022-10-10T12:17:44.733Z"
   },
   {
    "duration": 24,
    "start_time": "2022-10-10T12:17:50.116Z"
   },
   {
    "duration": 37,
    "start_time": "2022-10-10T12:18:12.053Z"
   },
   {
    "duration": 26,
    "start_time": "2022-10-10T12:21:05.471Z"
   },
   {
    "duration": 104,
    "start_time": "2022-10-10T12:42:49.253Z"
   },
   {
    "duration": 82,
    "start_time": "2022-10-10T12:43:09.847Z"
   },
   {
    "duration": 29,
    "start_time": "2022-10-10T12:43:23.706Z"
   },
   {
    "duration": 30,
    "start_time": "2022-10-10T12:44:05.938Z"
   },
   {
    "duration": 29,
    "start_time": "2022-10-10T12:44:44.389Z"
   },
   {
    "duration": 30,
    "start_time": "2022-10-10T12:45:11.172Z"
   },
   {
    "duration": 791,
    "start_time": "2022-10-10T12:45:19.081Z"
   },
   {
    "duration": 144,
    "start_time": "2022-10-10T12:45:21.444Z"
   },
   {
    "duration": 84,
    "start_time": "2022-10-10T12:45:28.490Z"
   },
   {
    "duration": 28,
    "start_time": "2022-10-10T12:45:36.746Z"
   },
   {
    "duration": 24,
    "start_time": "2022-10-10T12:45:46.757Z"
   },
   {
    "duration": 28,
    "start_time": "2022-10-10T12:51:36.982Z"
   },
   {
    "duration": 30,
    "start_time": "2022-10-10T12:52:17.789Z"
   },
   {
    "duration": 29,
    "start_time": "2022-10-10T12:57:23.908Z"
   },
   {
    "duration": 32,
    "start_time": "2022-10-10T13:05:19.054Z"
   },
   {
    "duration": 5,
    "start_time": "2022-10-10T13:05:44.896Z"
   },
   {
    "duration": 61,
    "start_time": "2022-10-10T13:05:51.556Z"
   },
   {
    "duration": 80,
    "start_time": "2022-10-10T13:06:55.793Z"
   },
   {
    "duration": 31,
    "start_time": "2022-10-10T13:07:47.962Z"
   },
   {
    "duration": 72,
    "start_time": "2022-10-10T13:08:30.778Z"
   },
   {
    "duration": 85,
    "start_time": "2022-10-10T13:09:04.851Z"
   },
   {
    "duration": 35,
    "start_time": "2022-10-10T13:09:45.890Z"
   },
   {
    "duration": 64,
    "start_time": "2022-10-10T14:21:34.486Z"
   },
   {
    "duration": 62,
    "start_time": "2022-10-10T14:22:05.921Z"
   },
   {
    "duration": 31,
    "start_time": "2022-10-10T14:23:28.682Z"
   },
   {
    "duration": 62,
    "start_time": "2022-10-10T14:23:41.082Z"
   },
   {
    "duration": 60,
    "start_time": "2022-10-10T14:24:26.328Z"
   },
   {
    "duration": 83,
    "start_time": "2022-10-10T14:24:38.218Z"
   },
   {
    "duration": 71,
    "start_time": "2022-10-10T14:25:07.089Z"
   },
   {
    "duration": 137,
    "start_time": "2022-10-10T14:26:18.203Z"
   },
   {
    "duration": 168,
    "start_time": "2022-10-10T14:26:33.322Z"
   },
   {
    "duration": 90,
    "start_time": "2022-10-10T14:26:44.849Z"
   },
   {
    "duration": 65,
    "start_time": "2022-10-10T14:26:50.488Z"
   },
   {
    "duration": 68,
    "start_time": "2022-10-10T14:28:11.666Z"
   },
   {
    "duration": 679,
    "start_time": "2022-10-10T14:28:32.066Z"
   },
   {
    "duration": 143,
    "start_time": "2022-10-10T14:28:34.073Z"
   },
   {
    "duration": 81,
    "start_time": "2022-10-10T14:28:39.753Z"
   },
   {
    "duration": 66,
    "start_time": "2022-10-10T14:28:47.145Z"
   },
   {
    "duration": 69,
    "start_time": "2022-10-10T14:29:00.613Z"
   },
   {
    "duration": 658,
    "start_time": "2022-10-10T14:29:35.891Z"
   },
   {
    "duration": 678,
    "start_time": "2022-10-10T14:29:37.779Z"
   },
   {
    "duration": 178,
    "start_time": "2022-10-10T14:29:40.098Z"
   },
   {
    "duration": 121,
    "start_time": "2022-10-10T14:29:41.528Z"
   },
   {
    "duration": 67,
    "start_time": "2022-10-10T14:29:58.410Z"
   },
   {
    "duration": 661,
    "start_time": "2022-10-10T14:33:25.227Z"
   },
   {
    "duration": 281,
    "start_time": "2022-10-10T14:33:26.201Z"
   },
   {
    "duration": 80,
    "start_time": "2022-10-10T14:33:27.624Z"
   },
   {
    "duration": 644,
    "start_time": "2022-10-10T15:44:52.693Z"
   },
   {
    "duration": 140,
    "start_time": "2022-10-10T15:44:55.418Z"
   },
   {
    "duration": 80,
    "start_time": "2022-10-10T15:44:56.706Z"
   },
   {
    "duration": 63,
    "start_time": "2022-10-10T15:44:57.895Z"
   },
   {
    "duration": 69,
    "start_time": "2022-10-10T15:45:14.171Z"
   },
   {
    "duration": 64,
    "start_time": "2022-10-10T15:45:23.956Z"
   },
   {
    "duration": 52,
    "start_time": "2022-10-10T15:45:34.764Z"
   },
   {
    "duration": 1479,
    "start_time": "2022-10-10T15:49:35.860Z"
   },
   {
    "duration": 1309,
    "start_time": "2022-10-10T15:49:48.700Z"
   },
   {
    "duration": 1378,
    "start_time": "2022-10-10T15:50:05.637Z"
   },
   {
    "duration": 1323,
    "start_time": "2022-10-10T15:51:22.300Z"
   },
   {
    "duration": 1404,
    "start_time": "2022-10-10T15:54:32.637Z"
   },
   {
    "duration": 1266,
    "start_time": "2022-10-10T15:54:45.470Z"
   },
   {
    "duration": 1208,
    "start_time": "2022-10-10T15:57:36.191Z"
   },
   {
    "duration": 48,
    "start_time": "2022-10-10T15:57:41.926Z"
   },
   {
    "duration": 43,
    "start_time": "2022-10-10T15:58:13.549Z"
   },
   {
    "duration": 38,
    "start_time": "2022-10-10T15:58:24.925Z"
   },
   {
    "duration": 123,
    "start_time": "2022-10-10T15:59:18.261Z"
   },
   {
    "duration": 37,
    "start_time": "2022-10-10T16:05:24.744Z"
   },
   {
    "duration": 95,
    "start_time": "2022-10-10T16:06:21.249Z"
   },
   {
    "duration": 96,
    "start_time": "2022-10-10T16:06:33.529Z"
   },
   {
    "duration": 49,
    "start_time": "2022-10-10T16:06:39.456Z"
   },
   {
    "duration": 89,
    "start_time": "2022-10-10T16:06:48.495Z"
   },
   {
    "duration": 52,
    "start_time": "2022-10-10T16:07:18.985Z"
   },
   {
    "duration": 65,
    "start_time": "2022-10-10T16:07:28.410Z"
   },
   {
    "duration": 41,
    "start_time": "2022-10-10T16:07:30.752Z"
   },
   {
    "duration": 63,
    "start_time": "2022-10-10T16:08:59.808Z"
   },
   {
    "duration": 111,
    "start_time": "2022-10-10T16:13:14.089Z"
   },
   {
    "duration": 110,
    "start_time": "2022-10-10T16:23:26.668Z"
   },
   {
    "duration": 123,
    "start_time": "2022-10-10T16:23:35.388Z"
   },
   {
    "duration": 118,
    "start_time": "2022-10-10T16:23:43.026Z"
   },
   {
    "duration": 120,
    "start_time": "2022-10-10T16:24:29.853Z"
   },
   {
    "duration": 66,
    "start_time": "2022-10-10T16:24:37.204Z"
   },
   {
    "duration": 113,
    "start_time": "2022-10-10T16:24:47.236Z"
   },
   {
    "duration": 1358,
    "start_time": "2022-10-10T16:25:18.829Z"
   },
   {
    "duration": 106,
    "start_time": "2022-10-10T16:25:30.557Z"
   },
   {
    "duration": 683,
    "start_time": "2022-10-10T16:25:49.794Z"
   },
   {
    "duration": 188,
    "start_time": "2022-10-10T16:25:51.017Z"
   },
   {
    "duration": 94,
    "start_time": "2022-10-10T16:25:52.284Z"
   },
   {
    "duration": 69,
    "start_time": "2022-10-10T16:25:53.940Z"
   },
   {
    "duration": 114,
    "start_time": "2022-10-10T16:25:54.739Z"
   },
   {
    "duration": 103,
    "start_time": "2022-10-10T16:26:41.149Z"
   },
   {
    "duration": 122,
    "start_time": "2022-10-10T16:27:16.053Z"
   },
   {
    "duration": 131,
    "start_time": "2022-10-10T16:27:39.677Z"
   },
   {
    "duration": 78,
    "start_time": "2022-10-10T16:33:51.960Z"
   },
   {
    "duration": 4,
    "start_time": "2022-10-10T16:34:02.973Z"
   },
   {
    "duration": 123,
    "start_time": "2022-10-10T16:34:08.333Z"
   },
   {
    "duration": 137,
    "start_time": "2022-10-10T16:34:31.734Z"
   },
   {
    "duration": 577,
    "start_time": "2022-10-10T16:34:49.638Z"
   },
   {
    "duration": 668,
    "start_time": "2022-10-10T16:36:08.490Z"
   },
   {
    "duration": 155,
    "start_time": "2022-10-10T16:36:10.103Z"
   },
   {
    "duration": 87,
    "start_time": "2022-10-10T16:36:11.310Z"
   },
   {
    "duration": 69,
    "start_time": "2022-10-10T16:36:12.495Z"
   },
   {
    "duration": 654,
    "start_time": "2022-10-10T16:36:13.120Z"
   },
   {
    "duration": 182,
    "start_time": "2022-10-10T16:36:52.896Z"
   },
   {
    "duration": 48,
    "start_time": "2022-10-10T16:38:35.398Z"
   },
   {
    "duration": 85,
    "start_time": "2022-10-10T16:41:02.977Z"
   },
   {
    "duration": 742,
    "start_time": "2022-10-10T16:41:13.319Z"
   },
   {
    "duration": 158,
    "start_time": "2022-10-10T16:41:16.376Z"
   },
   {
    "duration": 85,
    "start_time": "2022-10-10T16:41:22.180Z"
   },
   {
    "duration": 363,
    "start_time": "2022-10-10T16:41:31.631Z"
   },
   {
    "duration": 52,
    "start_time": "2022-10-10T16:41:51.219Z"
   },
   {
    "duration": 80,
    "start_time": "2022-10-10T16:42:02.119Z"
   },
   {
    "duration": 454,
    "start_time": "2022-10-10T16:42:08.672Z"
   },
   {
    "duration": 121,
    "start_time": "2022-10-10T16:42:26.496Z"
   },
   {
    "duration": 77,
    "start_time": "2022-10-10T16:43:16.000Z"
   },
   {
    "duration": 68,
    "start_time": "2022-10-10T16:43:23.097Z"
   },
   {
    "duration": 1621,
    "start_time": "2022-10-10T16:44:01.610Z"
   },
   {
    "duration": 75,
    "start_time": "2022-10-10T16:44:07.378Z"
   },
   {
    "duration": 130,
    "start_time": "2022-10-10T16:44:20.729Z"
   },
   {
    "duration": 1297,
    "start_time": "2022-10-10T16:44:30.743Z"
   },
   {
    "duration": 56,
    "start_time": "2022-10-10T16:48:20.115Z"
   },
   {
    "duration": 9,
    "start_time": "2022-10-10T16:49:27.833Z"
   },
   {
    "duration": 10,
    "start_time": "2022-10-10T16:49:47.562Z"
   },
   {
    "duration": 9,
    "start_time": "2022-10-10T16:50:07.734Z"
   },
   {
    "duration": 8,
    "start_time": "2022-10-10T16:50:11.139Z"
   },
   {
    "duration": 14,
    "start_time": "2022-10-10T16:50:18.683Z"
   },
   {
    "duration": 629,
    "start_time": "2022-10-10T16:50:33.319Z"
   },
   {
    "duration": 129,
    "start_time": "2022-10-10T16:50:34.641Z"
   },
   {
    "duration": 78,
    "start_time": "2022-10-10T16:50:35.880Z"
   },
   {
    "duration": 69,
    "start_time": "2022-10-10T16:50:37.314Z"
   },
   {
    "duration": 122,
    "start_time": "2022-10-10T16:50:39.305Z"
   },
   {
    "duration": 127,
    "start_time": "2022-10-10T16:51:17.523Z"
   },
   {
    "duration": 8,
    "start_time": "2022-10-10T16:52:18.236Z"
   },
   {
    "duration": 13,
    "start_time": "2022-10-10T16:53:53.673Z"
   },
   {
    "duration": 711,
    "start_time": "2022-10-10T16:54:10.442Z"
   },
   {
    "duration": 239,
    "start_time": "2022-10-10T16:54:11.941Z"
   },
   {
    "duration": 80,
    "start_time": "2022-10-10T16:54:13.546Z"
   },
   {
    "duration": 85,
    "start_time": "2022-10-10T16:54:14.961Z"
   },
   {
    "duration": 589,
    "start_time": "2022-10-10T16:54:15.666Z"
   },
   {
    "duration": 89,
    "start_time": "2022-10-10T16:55:44.675Z"
   },
   {
    "duration": 47,
    "start_time": "2022-10-10T16:56:11.183Z"
   },
   {
    "duration": 45,
    "start_time": "2022-10-10T16:56:51.300Z"
   },
   {
    "duration": 65,
    "start_time": "2022-10-10T16:57:14.837Z"
   },
   {
    "duration": 201,
    "start_time": "2022-10-10T16:57:31.163Z"
   },
   {
    "duration": 84,
    "start_time": "2022-10-10T16:57:32.851Z"
   },
   {
    "duration": 105,
    "start_time": "2022-10-10T16:57:33.450Z"
   },
   {
    "duration": 109,
    "start_time": "2022-10-10T16:58:02.666Z"
   },
   {
    "duration": 89,
    "start_time": "2022-10-10T17:00:35.925Z"
   },
   {
    "duration": 5,
    "start_time": "2022-10-10T17:00:46.699Z"
   },
   {
    "duration": 86,
    "start_time": "2022-10-10T17:00:50.051Z"
   },
   {
    "duration": 102,
    "start_time": "2022-10-10T17:01:01.300Z"
   },
   {
    "duration": 10,
    "start_time": "2022-10-10T17:01:52.443Z"
   },
   {
    "duration": 763,
    "start_time": "2022-10-10T17:02:01.493Z"
   },
   {
    "duration": 136,
    "start_time": "2022-10-10T17:02:02.405Z"
   },
   {
    "duration": 104,
    "start_time": "2022-10-10T17:02:03.388Z"
   },
   {
    "duration": 68,
    "start_time": "2022-10-10T17:02:04.348Z"
   },
   {
    "duration": 85,
    "start_time": "2022-10-10T17:02:04.842Z"
   },
   {
    "duration": 9,
    "start_time": "2022-10-10T17:04:57.319Z"
   },
   {
    "duration": 656,
    "start_time": "2022-10-10T17:05:06.008Z"
   },
   {
    "duration": 139,
    "start_time": "2022-10-10T17:05:06.919Z"
   },
   {
    "duration": 100,
    "start_time": "2022-10-10T17:05:07.819Z"
   },
   {
    "duration": 71,
    "start_time": "2022-10-10T17:05:09.133Z"
   },
   {
    "duration": 81,
    "start_time": "2022-10-10T17:05:09.836Z"
   },
   {
    "duration": 46,
    "start_time": "2022-10-10T17:06:41.004Z"
   },
   {
    "duration": 73,
    "start_time": "2022-10-10T17:06:49.965Z"
   },
   {
    "duration": 81,
    "start_time": "2022-10-10T17:06:50.676Z"
   },
   {
    "duration": 87,
    "start_time": "2022-10-10T17:06:55.251Z"
   },
   {
    "duration": 682,
    "start_time": "2022-10-10T17:07:17.197Z"
   },
   {
    "duration": 157,
    "start_time": "2022-10-10T17:07:18.518Z"
   },
   {
    "duration": 120,
    "start_time": "2022-10-10T17:07:20.318Z"
   },
   {
    "duration": 74,
    "start_time": "2022-10-10T17:07:22.173Z"
   },
   {
    "duration": 85,
    "start_time": "2022-10-10T17:07:23.142Z"
   },
   {
    "duration": 4,
    "start_time": "2022-10-10T17:09:08.486Z"
   },
   {
    "duration": 86,
    "start_time": "2022-10-10T17:09:23.710Z"
   },
   {
    "duration": 85,
    "start_time": "2022-10-10T17:09:43.519Z"
   },
   {
    "duration": 88,
    "start_time": "2022-10-10T17:10:18.861Z"
   },
   {
    "duration": 5,
    "start_time": "2022-10-10T17:14:49.183Z"
   },
   {
    "duration": 89,
    "start_time": "2022-10-10T17:15:01.550Z"
   },
   {
    "duration": 91,
    "start_time": "2022-10-10T17:15:32.472Z"
   },
   {
    "duration": 90,
    "start_time": "2022-10-10T17:22:18.673Z"
   },
   {
    "duration": 87,
    "start_time": "2022-10-10T17:22:51.753Z"
   },
   {
    "duration": 93,
    "start_time": "2022-10-10T17:23:14.704Z"
   },
   {
    "duration": 93,
    "start_time": "2022-10-10T17:23:30.976Z"
   },
   {
    "duration": 91,
    "start_time": "2022-10-10T17:23:40.209Z"
   },
   {
    "duration": 97,
    "start_time": "2022-10-10T17:23:49.353Z"
   },
   {
    "duration": 141,
    "start_time": "2022-10-10T17:24:13.395Z"
   },
   {
    "duration": 10,
    "start_time": "2022-10-10T17:24:34.435Z"
   },
   {
    "duration": 665,
    "start_time": "2022-10-10T17:24:50.871Z"
   },
   {
    "duration": 204,
    "start_time": "2022-10-10T17:24:51.779Z"
   },
   {
    "duration": 112,
    "start_time": "2022-10-10T17:24:52.754Z"
   },
   {
    "duration": 72,
    "start_time": "2022-10-10T17:24:53.689Z"
   },
   {
    "duration": 89,
    "start_time": "2022-10-10T17:24:54.135Z"
   },
   {
    "duration": 10,
    "start_time": "2022-10-10T17:25:13.554Z"
   },
   {
    "duration": 813,
    "start_time": "2022-10-10T17:25:30.659Z"
   },
   {
    "duration": 195,
    "start_time": "2022-10-10T17:25:31.728Z"
   },
   {
    "duration": 135,
    "start_time": "2022-10-10T17:25:32.816Z"
   },
   {
    "duration": 78,
    "start_time": "2022-10-10T17:25:34.082Z"
   },
   {
    "duration": 97,
    "start_time": "2022-10-10T17:25:34.745Z"
   },
   {
    "duration": 11,
    "start_time": "2022-10-10T17:26:13.473Z"
   },
   {
    "duration": 10,
    "start_time": "2022-10-10T17:26:31.475Z"
   },
   {
    "duration": 15,
    "start_time": "2022-10-10T17:26:41.997Z"
   },
   {
    "duration": 32,
    "start_time": "2022-10-10T17:27:00.433Z"
   },
   {
    "duration": 34,
    "start_time": "2022-10-10T17:28:44.410Z"
   },
   {
    "duration": 36,
    "start_time": "2022-10-10T17:29:21.282Z"
   },
   {
    "duration": 38,
    "start_time": "2022-10-10T17:33:02.177Z"
   },
   {
    "duration": 41,
    "start_time": "2022-10-10T17:33:08.275Z"
   },
   {
    "duration": 12,
    "start_time": "2022-10-10T17:33:13.177Z"
   },
   {
    "duration": 10,
    "start_time": "2022-10-10T17:33:23.598Z"
   },
   {
    "duration": 10,
    "start_time": "2022-10-10T17:34:54.677Z"
   },
   {
    "duration": 10,
    "start_time": "2022-10-10T17:35:31.203Z"
   },
   {
    "duration": 123,
    "start_time": "2022-10-10T17:38:14.707Z"
   },
   {
    "duration": 12,
    "start_time": "2022-10-10T17:38:19.821Z"
   },
   {
    "duration": 9,
    "start_time": "2022-10-10T17:39:55.710Z"
   },
   {
    "duration": 12,
    "start_time": "2022-10-10T17:40:11.390Z"
   },
   {
    "duration": 10,
    "start_time": "2022-10-10T17:40:39.605Z"
   },
   {
    "duration": 11,
    "start_time": "2022-10-10T17:41:20.903Z"
   },
   {
    "duration": 12,
    "start_time": "2022-10-10T17:42:04.951Z"
   },
   {
    "duration": 879,
    "start_time": "2022-10-10T17:42:11.891Z"
   },
   {
    "duration": 153,
    "start_time": "2022-10-10T17:42:12.773Z"
   },
   {
    "duration": 120,
    "start_time": "2022-10-10T17:42:13.349Z"
   },
   {
    "duration": 71,
    "start_time": "2022-10-10T17:42:14.356Z"
   },
   {
    "duration": 12,
    "start_time": "2022-10-10T17:42:14.429Z"
   },
   {
    "duration": 8,
    "start_time": "2022-10-10T17:42:50.590Z"
   },
   {
    "duration": 6,
    "start_time": "2022-10-10T17:43:03.637Z"
   },
   {
    "duration": 29,
    "start_time": "2022-10-10T17:43:10.021Z"
   },
   {
    "duration": 34,
    "start_time": "2022-10-10T17:44:27.477Z"
   },
   {
    "duration": 139,
    "start_time": "2022-10-10T17:45:00.997Z"
   },
   {
    "duration": 678,
    "start_time": "2022-10-10T17:51:44.784Z"
   },
   {
    "duration": 152,
    "start_time": "2022-10-10T17:51:45.553Z"
   },
   {
    "duration": 108,
    "start_time": "2022-10-10T17:51:46.296Z"
   },
   {
    "duration": 71,
    "start_time": "2022-10-10T17:51:48.030Z"
   },
   {
    "duration": 33,
    "start_time": "2022-10-10T17:51:49.966Z"
   },
   {
    "duration": 660,
    "start_time": "2022-10-10T17:52:30.494Z"
   },
   {
    "duration": 1209,
    "start_time": "2022-10-10T17:54:57.026Z"
   },
   {
    "duration": 19,
    "start_time": "2022-10-10T17:55:11.935Z"
   },
   {
    "duration": 10,
    "start_time": "2022-10-10T17:55:56.088Z"
   },
   {
    "duration": 10,
    "start_time": "2022-10-10T17:56:39.610Z"
   },
   {
    "duration": 10,
    "start_time": "2022-10-10T17:58:46.242Z"
   },
   {
    "duration": 675,
    "start_time": "2022-10-10T17:59:15.390Z"
   },
   {
    "duration": 140,
    "start_time": "2022-10-10T17:59:16.305Z"
   },
   {
    "duration": 135,
    "start_time": "2022-10-10T17:59:17.329Z"
   },
   {
    "duration": 69,
    "start_time": "2022-10-10T17:59:18.377Z"
   },
   {
    "duration": 11,
    "start_time": "2022-10-10T17:59:18.938Z"
   },
   {
    "duration": 10,
    "start_time": "2022-10-10T17:59:25.553Z"
   },
   {
    "duration": 11,
    "start_time": "2022-10-10T17:59:59.235Z"
   },
   {
    "duration": 12,
    "start_time": "2022-10-10T18:00:02.026Z"
   },
   {
    "duration": 683,
    "start_time": "2022-10-10T18:01:44.535Z"
   },
   {
    "duration": 145,
    "start_time": "2022-10-10T18:01:45.473Z"
   },
   {
    "duration": 108,
    "start_time": "2022-10-10T18:01:46.304Z"
   },
   {
    "duration": 76,
    "start_time": "2022-10-10T18:01:47.288Z"
   },
   {
    "duration": 42,
    "start_time": "2022-10-10T18:01:47.952Z"
   },
   {
    "duration": 618,
    "start_time": "2022-10-10T18:02:53.434Z"
   },
   {
    "duration": 141,
    "start_time": "2022-10-10T18:02:54.149Z"
   },
   {
    "duration": 104,
    "start_time": "2022-10-10T18:02:54.786Z"
   },
   {
    "duration": 65,
    "start_time": "2022-10-10T18:02:55.497Z"
   },
   {
    "duration": 122,
    "start_time": "2022-10-10T18:02:55.969Z"
   },
   {
    "duration": 170,
    "start_time": "2022-10-10T18:04:03.891Z"
   },
   {
    "duration": 1704,
    "start_time": "2022-10-11T09:17:29.723Z"
   },
   {
    "duration": 147,
    "start_time": "2022-10-11T09:17:32.336Z"
   },
   {
    "duration": 97,
    "start_time": "2022-10-11T09:17:50.900Z"
   },
   {
    "duration": 60,
    "start_time": "2022-10-11T09:17:57.679Z"
   },
   {
    "duration": 80,
    "start_time": "2022-10-11T09:18:01.632Z"
   },
   {
    "duration": 166,
    "start_time": "2022-10-11T09:20:48.336Z"
   },
   {
    "duration": 44,
    "start_time": "2022-10-11T09:25:13.242Z"
   },
   {
    "duration": 60,
    "start_time": "2022-10-11T09:25:18.536Z"
   },
   {
    "duration": 115,
    "start_time": "2022-10-11T09:25:19.216Z"
   },
   {
    "duration": 104,
    "start_time": "2022-10-11T09:34:12.727Z"
   },
   {
    "duration": 113,
    "start_time": "2022-10-11T09:34:43.764Z"
   },
   {
    "duration": 98,
    "start_time": "2022-10-11T09:35:20.069Z"
   },
   {
    "duration": 102,
    "start_time": "2022-10-11T09:35:26.997Z"
   },
   {
    "duration": 104,
    "start_time": "2022-10-11T09:35:35.628Z"
   },
   {
    "duration": 104,
    "start_time": "2022-10-11T09:35:42.397Z"
   },
   {
    "duration": 73,
    "start_time": "2022-10-11T09:42:53.998Z"
   },
   {
    "duration": 4,
    "start_time": "2022-10-11T09:42:59.309Z"
   },
   {
    "duration": 18,
    "start_time": "2022-10-11T09:43:13.085Z"
   },
   {
    "duration": 16,
    "start_time": "2022-10-11T09:44:50.326Z"
   },
   {
    "duration": 20,
    "start_time": "2022-10-11T09:50:20.432Z"
   },
   {
    "duration": 13,
    "start_time": "2022-10-11T09:59:18.259Z"
   },
   {
    "duration": 31,
    "start_time": "2022-10-11T09:59:40.952Z"
   },
   {
    "duration": 25,
    "start_time": "2022-10-11T10:00:01.347Z"
   },
   {
    "duration": 4,
    "start_time": "2022-10-11T10:11:24.715Z"
   },
   {
    "duration": 63,
    "start_time": "2022-10-11T10:12:18.965Z"
   },
   {
    "duration": 50,
    "start_time": "2022-10-11T10:12:25.228Z"
   },
   {
    "duration": 75,
    "start_time": "2022-10-11T10:12:29.230Z"
   },
   {
    "duration": 4,
    "start_time": "2022-10-11T10:12:35.294Z"
   },
   {
    "duration": 641,
    "start_time": "2022-10-11T10:22:15.855Z"
   },
   {
    "duration": 136,
    "start_time": "2022-10-11T10:22:16.498Z"
   },
   {
    "duration": 113,
    "start_time": "2022-10-11T10:22:16.635Z"
   },
   {
    "duration": 130,
    "start_time": "2022-10-11T10:22:16.750Z"
   },
   {
    "duration": 141,
    "start_time": "2022-10-11T10:22:16.882Z"
   },
   {
    "duration": 39,
    "start_time": "2022-10-11T10:22:17.024Z"
   },
   {
    "duration": 180,
    "start_time": "2022-10-11T10:22:17.243Z"
   },
   {
    "duration": 196,
    "start_time": "2022-10-11T10:26:26.713Z"
   },
   {
    "duration": 774,
    "start_time": "2022-10-11T10:51:28.819Z"
   },
   {
    "duration": 158,
    "start_time": "2022-10-11T10:51:39.636Z"
   },
   {
    "duration": 505,
    "start_time": "2022-10-11T11:10:04.721Z"
   },
   {
    "duration": 3064,
    "start_time": "2022-10-11T11:10:10.044Z"
   },
   {
    "duration": 866,
    "start_time": "2022-10-11T11:10:25.268Z"
   },
   {
    "duration": 16,
    "start_time": "2022-10-11T11:14:24.260Z"
   },
   {
    "duration": 14,
    "start_time": "2022-10-11T11:14:49.154Z"
   },
   {
    "duration": 13,
    "start_time": "2022-10-11T11:15:07.309Z"
   },
   {
    "duration": 12,
    "start_time": "2022-10-11T11:22:48.517Z"
   },
   {
    "duration": 11,
    "start_time": "2022-10-11T11:23:41.837Z"
   },
   {
    "duration": 9,
    "start_time": "2022-10-11T11:24:30.734Z"
   },
   {
    "duration": 16,
    "start_time": "2022-10-11T11:24:51.703Z"
   },
   {
    "duration": 37,
    "start_time": "2022-10-11T11:25:02.732Z"
   },
   {
    "duration": 20,
    "start_time": "2022-10-11T11:25:37.642Z"
   },
   {
    "duration": 14,
    "start_time": "2022-10-11T11:25:53.701Z"
   },
   {
    "duration": 20,
    "start_time": "2022-10-11T11:26:03.445Z"
   },
   {
    "duration": 19,
    "start_time": "2022-10-11T11:26:56.078Z"
   },
   {
    "duration": 63,
    "start_time": "2022-10-11T11:27:43.743Z"
   },
   {
    "duration": 18,
    "start_time": "2022-10-11T11:27:57.429Z"
   },
   {
    "duration": 77,
    "start_time": "2022-10-11T11:29:35.071Z"
   },
   {
    "duration": 12,
    "start_time": "2022-10-11T11:29:42.088Z"
   },
   {
    "duration": 134,
    "start_time": "2022-10-11T11:29:52.478Z"
   },
   {
    "duration": 367,
    "start_time": "2022-10-11T11:32:02.864Z"
   },
   {
    "duration": 365,
    "start_time": "2022-10-11T11:32:18.195Z"
   },
   {
    "duration": 12,
    "start_time": "2022-10-11T11:32:54.905Z"
   },
   {
    "duration": 8,
    "start_time": "2022-10-11T11:33:09.105Z"
   },
   {
    "duration": 372,
    "start_time": "2022-10-11T11:33:12.279Z"
   },
   {
    "duration": 678,
    "start_time": "2022-10-11T11:35:16.297Z"
   },
   {
    "duration": 17,
    "start_time": "2022-10-11T11:36:42.520Z"
   },
   {
    "duration": 1011,
    "start_time": "2022-10-11T11:36:58.808Z"
   },
   {
    "duration": 463,
    "start_time": "2022-10-11T11:37:12.163Z"
   },
   {
    "duration": 378,
    "start_time": "2022-10-11T11:37:51.883Z"
   },
   {
    "duration": 776,
    "start_time": "2022-10-11T11:39:10.601Z"
   },
   {
    "duration": 160,
    "start_time": "2022-10-11T11:39:46.762Z"
   },
   {
    "duration": 146,
    "start_time": "2022-10-11T11:40:08.176Z"
   },
   {
    "duration": 168,
    "start_time": "2022-10-11T11:40:20.629Z"
   },
   {
    "duration": 152,
    "start_time": "2022-10-11T11:40:26.940Z"
   },
   {
    "duration": 159,
    "start_time": "2022-10-11T11:40:48.163Z"
   },
   {
    "duration": 129,
    "start_time": "2022-10-11T11:40:55.443Z"
   },
   {
    "duration": 9,
    "start_time": "2022-10-11T11:41:04.465Z"
   },
   {
    "duration": 168,
    "start_time": "2022-10-11T11:41:07.843Z"
   },
   {
    "duration": 137,
    "start_time": "2022-10-11T11:41:19.618Z"
   },
   {
    "duration": 186,
    "start_time": "2022-10-11T11:41:29.884Z"
   },
   {
    "duration": 126,
    "start_time": "2022-10-11T11:41:50.938Z"
   },
   {
    "duration": 294,
    "start_time": "2022-10-11T11:41:55.761Z"
   },
   {
    "duration": 168,
    "start_time": "2022-10-11T11:42:16.259Z"
   },
   {
    "duration": 150,
    "start_time": "2022-10-11T11:42:27.402Z"
   },
   {
    "duration": 148,
    "start_time": "2022-10-11T11:42:33.987Z"
   },
   {
    "duration": 231,
    "start_time": "2022-10-11T11:42:42.601Z"
   },
   {
    "duration": 166,
    "start_time": "2022-10-11T11:43:19.894Z"
   },
   {
    "duration": 136,
    "start_time": "2022-10-11T11:43:25.274Z"
   },
   {
    "duration": 155,
    "start_time": "2022-10-11T11:44:10.066Z"
   },
   {
    "duration": 259,
    "start_time": "2022-10-11T11:44:15.021Z"
   },
   {
    "duration": 153,
    "start_time": "2022-10-11T11:44:22.442Z"
   },
   {
    "duration": 150,
    "start_time": "2022-10-11T11:44:42.108Z"
   },
   {
    "duration": 115,
    "start_time": "2022-10-11T11:45:06.236Z"
   },
   {
    "duration": 154,
    "start_time": "2022-10-11T11:45:24.765Z"
   },
   {
    "duration": 171,
    "start_time": "2022-10-11T11:45:30.029Z"
   },
   {
    "duration": 155,
    "start_time": "2022-10-11T11:45:44.090Z"
   },
   {
    "duration": 172,
    "start_time": "2022-10-11T11:45:48.423Z"
   },
   {
    "duration": 128,
    "start_time": "2022-10-11T11:45:52.948Z"
   },
   {
    "duration": 158,
    "start_time": "2022-10-11T11:46:28.143Z"
   },
   {
    "duration": 159,
    "start_time": "2022-10-11T11:46:35.198Z"
   },
   {
    "duration": 316,
    "start_time": "2022-10-11T11:46:43.643Z"
   },
   {
    "duration": 130,
    "start_time": "2022-10-11T11:46:54.523Z"
   },
   {
    "duration": 121,
    "start_time": "2022-10-11T11:47:08.125Z"
   },
   {
    "duration": 98,
    "start_time": "2022-10-11T11:48:05.975Z"
   },
   {
    "duration": 156,
    "start_time": "2022-10-11T11:48:47.316Z"
   },
   {
    "duration": 159,
    "start_time": "2022-10-11T11:49:01.708Z"
   },
   {
    "duration": 177,
    "start_time": "2022-10-11T11:49:11.779Z"
   },
   {
    "duration": 159,
    "start_time": "2022-10-11T11:49:21.806Z"
   },
   {
    "duration": 184,
    "start_time": "2022-10-11T11:49:26.845Z"
   },
   {
    "duration": 168,
    "start_time": "2022-10-11T11:49:47.045Z"
   },
   {
    "duration": 174,
    "start_time": "2022-10-11T11:50:00.005Z"
   },
   {
    "duration": 174,
    "start_time": "2022-10-11T11:55:30.788Z"
   },
   {
    "duration": 183,
    "start_time": "2022-10-11T12:23:26.186Z"
   },
   {
    "duration": 204,
    "start_time": "2022-10-11T12:26:25.316Z"
   },
   {
    "duration": 247,
    "start_time": "2022-10-11T12:29:14.420Z"
   },
   {
    "duration": 179,
    "start_time": "2022-10-11T12:29:20.541Z"
   },
   {
    "duration": 181,
    "start_time": "2022-10-11T12:32:06.852Z"
   },
   {
    "duration": 155,
    "start_time": "2022-10-11T12:44:22.481Z"
   },
   {
    "duration": 174,
    "start_time": "2022-10-11T12:45:54.394Z"
   },
   {
    "duration": 824,
    "start_time": "2022-10-11T12:46:05.106Z"
   },
   {
    "duration": 164,
    "start_time": "2022-10-11T12:46:12.425Z"
   },
   {
    "duration": 145,
    "start_time": "2022-10-11T12:46:18.177Z"
   },
   {
    "duration": 116,
    "start_time": "2022-10-11T12:47:56.587Z"
   },
   {
    "duration": 146,
    "start_time": "2022-10-11T12:48:25.227Z"
   },
   {
    "duration": 172,
    "start_time": "2022-10-11T12:49:18.783Z"
   },
   {
    "duration": 184,
    "start_time": "2022-10-11T13:09:56.906Z"
   },
   {
    "duration": 157,
    "start_time": "2022-10-11T13:10:04.647Z"
   },
   {
    "duration": 168,
    "start_time": "2022-10-11T13:13:26.996Z"
   },
   {
    "duration": 161,
    "start_time": "2022-10-11T13:14:23.253Z"
   },
   {
    "duration": 175,
    "start_time": "2022-10-11T13:14:29.580Z"
   },
   {
    "duration": 165,
    "start_time": "2022-10-11T13:18:32.095Z"
   },
   {
    "duration": 178,
    "start_time": "2022-10-11T13:18:55.536Z"
   },
   {
    "duration": 178,
    "start_time": "2022-10-11T13:19:19.500Z"
   },
   {
    "duration": 169,
    "start_time": "2022-10-11T13:21:25.741Z"
   },
   {
    "duration": 156,
    "start_time": "2022-10-11T13:28:13.079Z"
   },
   {
    "duration": 175,
    "start_time": "2022-10-11T13:28:23.352Z"
   },
   {
    "duration": 189,
    "start_time": "2022-10-11T13:28:45.417Z"
   },
   {
    "duration": 218,
    "start_time": "2022-10-11T13:28:49.074Z"
   },
   {
    "duration": 171,
    "start_time": "2022-10-11T13:28:52.177Z"
   },
   {
    "duration": 431,
    "start_time": "2022-10-11T13:28:56.512Z"
   },
   {
    "duration": 146,
    "start_time": "2022-10-11T13:30:04.330Z"
   },
   {
    "duration": 135,
    "start_time": "2022-10-11T13:30:10.736Z"
   },
   {
    "duration": 160,
    "start_time": "2022-10-11T13:30:14.810Z"
   },
   {
    "duration": 198,
    "start_time": "2022-10-11T13:30:27.985Z"
   },
   {
    "duration": 159,
    "start_time": "2022-10-11T13:30:34.442Z"
   },
   {
    "duration": 647,
    "start_time": "2022-10-11T17:39:10.413Z"
   },
   {
    "duration": 141,
    "start_time": "2022-10-11T17:39:15.423Z"
   },
   {
    "duration": 107,
    "start_time": "2022-10-11T17:39:20.121Z"
   },
   {
    "duration": 62,
    "start_time": "2022-10-11T17:39:24.706Z"
   },
   {
    "duration": 122,
    "start_time": "2022-10-11T17:39:25.276Z"
   },
   {
    "duration": 38,
    "start_time": "2022-10-11T17:39:27.572Z"
   },
   {
    "duration": 174,
    "start_time": "2022-10-11T17:39:29.593Z"
   },
   {
    "duration": 164,
    "start_time": "2022-10-11T17:39:31.129Z"
   },
   {
    "duration": 138,
    "start_time": "2022-10-11T17:39:32.417Z"
   },
   {
    "duration": 171,
    "start_time": "2022-10-11T17:39:33.506Z"
   },
   {
    "duration": 156,
    "start_time": "2022-10-11T17:39:34.688Z"
   },
   {
    "duration": 159,
    "start_time": "2022-10-11T17:39:35.786Z"
   },
   {
    "duration": 158,
    "start_time": "2022-10-11T17:39:37.227Z"
   },
   {
    "duration": 155,
    "start_time": "2022-10-11T17:39:38.331Z"
   },
   {
    "duration": 52,
    "start_time": "2022-10-11T17:39:38.945Z"
   },
   {
    "duration": 169,
    "start_time": "2022-10-11T17:39:39.613Z"
   },
   {
    "duration": 173,
    "start_time": "2022-10-11T17:39:40.981Z"
   },
   {
    "duration": 189,
    "start_time": "2022-10-11T17:39:42.914Z"
   },
   {
    "duration": 168,
    "start_time": "2022-10-11T17:39:44.147Z"
   },
   {
    "duration": 158,
    "start_time": "2022-10-11T17:39:45.283Z"
   },
   {
    "duration": 167,
    "start_time": "2022-10-11T17:39:46.592Z"
   },
   {
    "duration": 171,
    "start_time": "2022-10-11T17:39:50.521Z"
   },
   {
    "duration": 212,
    "start_time": "2022-10-11T17:40:18.964Z"
   },
   {
    "duration": 159,
    "start_time": "2022-10-11T17:40:30.025Z"
   },
   {
    "duration": 169,
    "start_time": "2022-10-11T17:40:31.425Z"
   },
   {
    "duration": 194,
    "start_time": "2022-10-11T17:40:32.668Z"
   },
   {
    "duration": 169,
    "start_time": "2022-10-11T17:40:34.459Z"
   },
   {
    "duration": 175,
    "start_time": "2022-10-11T17:40:49.547Z"
   },
   {
    "duration": 159,
    "start_time": "2022-10-11T17:40:56.761Z"
   },
   {
    "duration": 20,
    "start_time": "2022-10-11T17:41:05.563Z"
   },
   {
    "duration": 20,
    "start_time": "2022-10-11T17:41:26.835Z"
   },
   {
    "duration": 24,
    "start_time": "2022-10-11T17:41:38.867Z"
   },
   {
    "duration": 21,
    "start_time": "2022-10-11T17:42:32.563Z"
   },
   {
    "duration": 25,
    "start_time": "2022-10-11T17:43:07.806Z"
   },
   {
    "duration": 23,
    "start_time": "2022-10-11T17:43:40.140Z"
   },
   {
    "duration": 22,
    "start_time": "2022-10-11T17:44:08.092Z"
   },
   {
    "duration": 23,
    "start_time": "2022-10-11T17:46:49.780Z"
   },
   {
    "duration": 25,
    "start_time": "2022-10-11T17:47:20.540Z"
   },
   {
    "duration": 22,
    "start_time": "2022-10-11T17:47:40.983Z"
   },
   {
    "duration": 20,
    "start_time": "2022-10-11T17:48:01.772Z"
   },
   {
    "duration": 23,
    "start_time": "2022-10-11T17:48:10.744Z"
   },
   {
    "duration": 235,
    "start_time": "2022-10-11T17:49:36.625Z"
   },
   {
    "duration": 230,
    "start_time": "2022-10-11T17:49:59.437Z"
   },
   {
    "duration": 21,
    "start_time": "2022-10-11T17:50:21.349Z"
   },
   {
    "duration": 55,
    "start_time": "2022-10-11T17:50:33.952Z"
   },
   {
    "duration": 55,
    "start_time": "2022-10-11T17:51:49.997Z"
   },
   {
    "duration": 46,
    "start_time": "2022-10-11T17:57:38.755Z"
   },
   {
    "duration": 64,
    "start_time": "2022-10-11T17:57:55.831Z"
   },
   {
    "duration": 49,
    "start_time": "2022-10-11T17:58:48.468Z"
   },
   {
    "duration": 42,
    "start_time": "2022-10-11T17:58:58.032Z"
   },
   {
    "duration": 36,
    "start_time": "2022-10-11T17:59:05.361Z"
   },
   {
    "duration": 687,
    "start_time": "2022-10-11T17:59:34.077Z"
   },
   {
    "duration": 21,
    "start_time": "2022-10-11T17:59:44.953Z"
   },
   {
    "duration": 197,
    "start_time": "2022-10-11T18:00:26.785Z"
   },
   {
    "duration": 466,
    "start_time": "2022-10-11T18:01:31.834Z"
   },
   {
    "duration": 1444,
    "start_time": "2022-10-12T10:21:32.612Z"
   },
   {
    "duration": 117,
    "start_time": "2022-10-12T10:21:34.058Z"
   },
   {
    "duration": 86,
    "start_time": "2022-10-12T10:21:34.384Z"
   },
   {
    "duration": 57,
    "start_time": "2022-10-12T10:21:35.317Z"
   },
   {
    "duration": 92,
    "start_time": "2022-10-12T10:21:35.765Z"
   },
   {
    "duration": 33,
    "start_time": "2022-10-12T10:21:37.170Z"
   },
   {
    "duration": 623,
    "start_time": "2022-10-12T10:21:38.086Z"
   },
   {
    "duration": 142,
    "start_time": "2022-10-12T10:21:39.012Z"
   },
   {
    "duration": 106,
    "start_time": "2022-10-12T10:21:39.950Z"
   },
   {
    "duration": 139,
    "start_time": "2022-10-12T10:21:40.908Z"
   },
   {
    "duration": 188,
    "start_time": "2022-10-12T10:21:41.797Z"
   },
   {
    "duration": 146,
    "start_time": "2022-10-12T10:21:42.643Z"
   },
   {
    "duration": 139,
    "start_time": "2022-10-12T10:21:43.531Z"
   },
   {
    "duration": 153,
    "start_time": "2022-10-12T10:21:44.395Z"
   },
   {
    "duration": 197,
    "start_time": "2022-10-12T10:21:44.899Z"
   },
   {
    "duration": 193,
    "start_time": "2022-10-12T10:21:45.357Z"
   },
   {
    "duration": 162,
    "start_time": "2022-10-12T10:21:46.836Z"
   },
   {
    "duration": 144,
    "start_time": "2022-10-12T10:21:48.133Z"
   },
   {
    "duration": 153,
    "start_time": "2022-10-12T10:21:49.261Z"
   },
   {
    "duration": 129,
    "start_time": "2022-10-12T10:21:50.365Z"
   },
   {
    "duration": 138,
    "start_time": "2022-10-12T10:21:51.429Z"
   },
   {
    "duration": 136,
    "start_time": "2022-10-12T10:21:52.533Z"
   },
   {
    "duration": 211,
    "start_time": "2022-10-12T10:22:04.319Z"
   },
   {
    "duration": 140,
    "start_time": "2022-10-12T10:22:05.547Z"
   },
   {
    "duration": 129,
    "start_time": "2022-10-12T10:22:06.611Z"
   },
   {
    "duration": 160,
    "start_time": "2022-10-12T10:22:07.860Z"
   },
   {
    "duration": 141,
    "start_time": "2022-10-12T10:22:08.950Z"
   },
   {
    "duration": 138,
    "start_time": "2022-10-12T10:22:09.990Z"
   },
   {
    "duration": 124,
    "start_time": "2022-10-12T10:22:11.046Z"
   },
   {
    "duration": 45,
    "start_time": "2022-10-12T10:22:12.195Z"
   },
   {
    "duration": 179,
    "start_time": "2022-10-12T10:22:13.213Z"
   },
   {
    "duration": 164,
    "start_time": "2022-10-12T10:23:54.366Z"
   },
   {
    "duration": 69,
    "start_time": "2022-10-12T10:25:22.544Z"
   },
   {
    "duration": 187,
    "start_time": "2022-10-12T10:25:30.390Z"
   },
   {
    "duration": 90,
    "start_time": "2022-10-12T10:26:02.525Z"
   },
   {
    "duration": 69,
    "start_time": "2022-10-12T10:26:09.143Z"
   },
   {
    "duration": 165,
    "start_time": "2022-10-12T10:26:14.823Z"
   },
   {
    "duration": 306,
    "start_time": "2022-10-12T10:29:12.809Z"
   },
   {
    "duration": 111,
    "start_time": "2022-10-12T10:29:18.685Z"
   },
   {
    "duration": 136,
    "start_time": "2022-10-12T10:29:33.938Z"
   },
   {
    "duration": 167,
    "start_time": "2022-10-12T10:29:51.190Z"
   },
   {
    "duration": 115,
    "start_time": "2022-10-12T10:29:59.496Z"
   },
   {
    "duration": 157,
    "start_time": "2022-10-12T10:30:05.402Z"
   },
   {
    "duration": 146,
    "start_time": "2022-10-12T10:30:08.912Z"
   },
   {
    "duration": 185,
    "start_time": "2022-10-12T10:30:17.230Z"
   },
   {
    "duration": 198,
    "start_time": "2022-10-12T10:35:44.472Z"
   },
   {
    "duration": 130,
    "start_time": "2022-10-12T10:36:05.369Z"
   },
   {
    "duration": 151,
    "start_time": "2022-10-12T10:36:35.462Z"
   },
   {
    "duration": 124,
    "start_time": "2022-10-12T10:36:53.120Z"
   },
   {
    "duration": 122,
    "start_time": "2022-10-12T10:37:11.103Z"
   },
   {
    "duration": 1420,
    "start_time": "2022-10-12T13:02:47.835Z"
   },
   {
    "duration": 168,
    "start_time": "2022-10-12T13:02:49.258Z"
   },
   {
    "duration": 99,
    "start_time": "2022-10-12T13:02:49.672Z"
   },
   {
    "duration": 91,
    "start_time": "2022-10-12T13:02:50.623Z"
   },
   {
    "duration": 162,
    "start_time": "2022-10-12T13:02:51.115Z"
   },
   {
    "duration": 46,
    "start_time": "2022-10-12T13:02:52.759Z"
   },
   {
    "duration": 630,
    "start_time": "2022-10-12T13:02:53.843Z"
   },
   {
    "duration": 182,
    "start_time": "2022-10-12T13:02:55.132Z"
   },
   {
    "duration": 109,
    "start_time": "2022-10-12T13:02:56.129Z"
   },
   {
    "duration": 175,
    "start_time": "2022-10-12T13:02:56.931Z"
   },
   {
    "duration": 214,
    "start_time": "2022-10-12T13:02:57.647Z"
   },
   {
    "duration": 144,
    "start_time": "2022-10-12T13:02:58.376Z"
   },
   {
    "duration": 159,
    "start_time": "2022-10-12T13:02:59.464Z"
   },
   {
    "duration": 157,
    "start_time": "2022-10-12T13:03:00.271Z"
   },
   {
    "duration": 98,
    "start_time": "2022-10-12T13:03:00.634Z"
   },
   {
    "duration": 162,
    "start_time": "2022-10-12T13:03:01.027Z"
   },
   {
    "duration": 153,
    "start_time": "2022-10-12T13:03:01.834Z"
   },
   {
    "duration": 185,
    "start_time": "2022-10-12T13:03:02.551Z"
   },
   {
    "duration": 148,
    "start_time": "2022-10-12T13:03:03.258Z"
   },
   {
    "duration": 141,
    "start_time": "2022-10-12T13:03:03.975Z"
   },
   {
    "duration": 198,
    "start_time": "2022-10-12T13:03:05.464Z"
   },
   {
    "duration": 147,
    "start_time": "2022-10-12T13:06:10.054Z"
   },
   {
    "duration": 92,
    "start_time": "2022-10-12T13:06:22.427Z"
   },
   {
    "duration": 79,
    "start_time": "2022-10-12T13:07:18.347Z"
   },
   {
    "duration": 77,
    "start_time": "2022-10-12T13:07:26.118Z"
   },
   {
    "duration": 93,
    "start_time": "2022-10-12T13:07:32.732Z"
   },
   {
    "duration": 215,
    "start_time": "2022-10-12T13:07:54.876Z"
   },
   {
    "duration": 217,
    "start_time": "2022-10-12T13:08:09.790Z"
   },
   {
    "duration": 150,
    "start_time": "2022-10-12T13:08:18.500Z"
   },
   {
    "duration": 134,
    "start_time": "2022-10-12T13:08:38.436Z"
   },
   {
    "duration": 140,
    "start_time": "2022-10-12T13:17:16.445Z"
   },
   {
    "duration": 43,
    "start_time": "2022-10-12T13:21:18.015Z"
   },
   {
    "duration": 66,
    "start_time": "2022-10-12T13:22:04.439Z"
   },
   {
    "duration": 605,
    "start_time": "2022-10-12T13:22:44.404Z"
   },
   {
    "duration": 39,
    "start_time": "2022-10-12T13:22:45.266Z"
   },
   {
    "duration": 55,
    "start_time": "2022-10-12T13:22:46.062Z"
   },
   {
    "duration": 113,
    "start_time": "2022-10-12T13:22:46.407Z"
   },
   {
    "duration": 32,
    "start_time": "2022-10-12T13:22:47.555Z"
   },
   {
    "duration": 145,
    "start_time": "2022-10-12T13:22:48.371Z"
   },
   {
    "duration": 147,
    "start_time": "2022-10-12T13:22:49.186Z"
   },
   {
    "duration": 109,
    "start_time": "2022-10-12T13:22:50.060Z"
   },
   {
    "duration": 140,
    "start_time": "2022-10-12T13:22:51.019Z"
   },
   {
    "duration": 151,
    "start_time": "2022-10-12T13:22:52.019Z"
   },
   {
    "duration": 162,
    "start_time": "2022-10-12T13:22:52.852Z"
   },
   {
    "duration": 160,
    "start_time": "2022-10-12T13:22:53.758Z"
   },
   {
    "duration": 234,
    "start_time": "2022-10-12T13:22:54.661Z"
   },
   {
    "duration": 234,
    "start_time": "2022-10-12T13:22:55.131Z"
   },
   {
    "duration": 175,
    "start_time": "2022-10-12T13:22:55.717Z"
   },
   {
    "duration": 152,
    "start_time": "2022-10-12T13:23:26.519Z"
   },
   {
    "duration": 151,
    "start_time": "2022-10-12T13:23:43.827Z"
   },
   {
    "duration": 160,
    "start_time": "2022-10-12T13:23:45.147Z"
   },
   {
    "duration": 163,
    "start_time": "2022-10-12T13:23:46.373Z"
   },
   {
    "duration": 134,
    "start_time": "2022-10-12T13:23:47.421Z"
   },
   {
    "duration": 172,
    "start_time": "2022-10-12T13:23:48.619Z"
   },
   {
    "duration": 129,
    "start_time": "2022-10-12T13:23:50.245Z"
   },
   {
    "duration": 142,
    "start_time": "2022-10-12T13:23:52.379Z"
   },
   {
    "duration": 128,
    "start_time": "2022-10-12T13:23:53.940Z"
   },
   {
    "duration": 139,
    "start_time": "2022-10-12T13:23:55.217Z"
   },
   {
    "duration": 159,
    "start_time": "2022-10-12T13:23:56.283Z"
   },
   {
    "duration": 149,
    "start_time": "2022-10-12T13:23:57.862Z"
   },
   {
    "duration": 145,
    "start_time": "2022-10-12T13:23:59.327Z"
   },
   {
    "duration": 268,
    "start_time": "2022-10-12T13:24:01.548Z"
   },
   {
    "duration": 4,
    "start_time": "2022-10-12T13:27:47.582Z"
   },
   {
    "duration": 125,
    "start_time": "2022-10-12T13:27:55.861Z"
   },
   {
    "duration": 138,
    "start_time": "2022-10-12T13:28:05.487Z"
   },
   {
    "duration": 3,
    "start_time": "2022-10-12T13:32:51.662Z"
   },
   {
    "duration": 155,
    "start_time": "2022-10-12T13:32:55.048Z"
   },
   {
    "duration": 149,
    "start_time": "2022-10-12T13:33:00.598Z"
   },
   {
    "duration": 65,
    "start_time": "2022-10-12T13:36:20.415Z"
   },
   {
    "duration": 67,
    "start_time": "2022-10-12T13:36:41.944Z"
   },
   {
    "duration": 41,
    "start_time": "2022-10-12T13:36:46.161Z"
   },
   {
    "duration": 63,
    "start_time": "2022-10-12T13:36:46.878Z"
   },
   {
    "duration": 118,
    "start_time": "2022-10-12T13:36:47.384Z"
   },
   {
    "duration": 31,
    "start_time": "2022-10-12T13:36:48.767Z"
   },
   {
    "duration": 150,
    "start_time": "2022-10-12T13:36:49.597Z"
   },
   {
    "duration": 155,
    "start_time": "2022-10-12T13:36:50.989Z"
   },
   {
    "duration": 113,
    "start_time": "2022-10-12T13:36:51.919Z"
   },
   {
    "duration": 141,
    "start_time": "2022-10-12T13:36:52.912Z"
   },
   {
    "duration": 155,
    "start_time": "2022-10-12T13:36:53.847Z"
   },
   {
    "duration": 141,
    "start_time": "2022-10-12T13:36:54.845Z"
   },
   {
    "duration": 173,
    "start_time": "2022-10-12T13:36:56.069Z"
   },
   {
    "duration": 165,
    "start_time": "2022-10-12T13:36:57.135Z"
   },
   {
    "duration": 164,
    "start_time": "2022-10-12T13:36:58.365Z"
   },
   {
    "duration": 159,
    "start_time": "2022-10-12T13:36:59.821Z"
   },
   {
    "duration": 167,
    "start_time": "2022-10-12T13:37:01.581Z"
   },
   {
    "duration": 142,
    "start_time": "2022-10-12T13:37:02.645Z"
   },
   {
    "duration": 284,
    "start_time": "2022-10-12T13:37:04.727Z"
   },
   {
    "duration": 173,
    "start_time": "2022-10-12T13:37:06.512Z"
   },
   {
    "duration": 123,
    "start_time": "2022-10-12T13:37:09.350Z"
   },
   {
    "duration": 122,
    "start_time": "2022-10-12T13:37:11.325Z"
   },
   {
    "duration": 74,
    "start_time": "2022-10-12T13:37:53.864Z"
   },
   {
    "duration": 43,
    "start_time": "2022-10-12T13:37:59.024Z"
   },
   {
    "duration": 55,
    "start_time": "2022-10-12T13:37:59.633Z"
   },
   {
    "duration": 113,
    "start_time": "2022-10-12T13:37:59.908Z"
   },
   {
    "duration": 31,
    "start_time": "2022-10-12T13:38:00.775Z"
   },
   {
    "duration": 146,
    "start_time": "2022-10-12T13:38:01.383Z"
   },
   {
    "duration": 149,
    "start_time": "2022-10-12T13:38:01.994Z"
   },
   {
    "duration": 112,
    "start_time": "2022-10-12T13:38:02.759Z"
   },
   {
    "duration": 139,
    "start_time": "2022-10-12T13:38:03.429Z"
   },
   {
    "duration": 138,
    "start_time": "2022-10-12T13:38:04.119Z"
   },
   {
    "duration": 141,
    "start_time": "2022-10-12T13:38:04.823Z"
   },
   {
    "duration": 144,
    "start_time": "2022-10-12T13:38:05.535Z"
   },
   {
    "duration": 138,
    "start_time": "2022-10-12T13:38:06.249Z"
   },
   {
    "duration": 197,
    "start_time": "2022-10-12T13:38:07.045Z"
   },
   {
    "duration": 183,
    "start_time": "2022-10-12T13:38:08.335Z"
   },
   {
    "duration": 155,
    "start_time": "2022-10-12T13:38:09.863Z"
   },
   {
    "duration": 201,
    "start_time": "2022-10-12T13:38:18.015Z"
   },
   {
    "duration": 181,
    "start_time": "2022-10-12T13:38:38.638Z"
   },
   {
    "duration": 170,
    "start_time": "2022-10-12T13:38:46.430Z"
   },
   {
    "duration": 138,
    "start_time": "2022-10-12T13:38:48.448Z"
   },
   {
    "duration": 310,
    "start_time": "2022-10-12T13:38:49.878Z"
   },
   {
    "duration": 188,
    "start_time": "2022-10-12T13:38:51.598Z"
   },
   {
    "duration": 132,
    "start_time": "2022-10-12T13:38:53.080Z"
   },
   {
    "duration": 161,
    "start_time": "2022-10-12T13:38:54.976Z"
   },
   {
    "duration": 561,
    "start_time": "2022-10-12T13:39:13.386Z"
   },
   {
    "duration": 519,
    "start_time": "2022-10-12T13:39:14.451Z"
   },
   {
    "duration": 90,
    "start_time": "2022-10-12T13:39:15.386Z"
   },
   {
    "duration": 58,
    "start_time": "2022-10-12T13:39:16.274Z"
   },
   {
    "duration": 90,
    "start_time": "2022-10-12T13:39:16.730Z"
   },
   {
    "duration": 34,
    "start_time": "2022-10-12T13:39:17.999Z"
   },
   {
    "duration": 152,
    "start_time": "2022-10-12T13:39:18.870Z"
   },
   {
    "duration": 153,
    "start_time": "2022-10-12T13:39:19.800Z"
   },
   {
    "duration": 117,
    "start_time": "2022-10-12T13:39:20.641Z"
   },
   {
    "duration": 144,
    "start_time": "2022-10-12T13:39:21.512Z"
   },
   {
    "duration": 150,
    "start_time": "2022-10-12T13:39:22.374Z"
   },
   {
    "duration": 144,
    "start_time": "2022-10-12T13:39:23.632Z"
   },
   {
    "duration": 152,
    "start_time": "2022-10-12T13:39:24.550Z"
   },
   {
    "duration": 140,
    "start_time": "2022-10-12T13:39:25.448Z"
   },
   {
    "duration": 170,
    "start_time": "2022-10-12T13:39:26.382Z"
   },
   {
    "duration": 146,
    "start_time": "2022-10-12T13:39:28.310Z"
   },
   {
    "duration": 171,
    "start_time": "2022-10-12T13:39:29.366Z"
   },
   {
    "duration": 147,
    "start_time": "2022-10-12T13:39:30.118Z"
   },
   {
    "duration": 139,
    "start_time": "2022-10-12T13:39:30.916Z"
   },
   {
    "duration": 191,
    "start_time": "2022-10-12T13:39:31.824Z"
   },
   {
    "duration": 139,
    "start_time": "2022-10-12T13:39:32.776Z"
   },
   {
    "duration": 142,
    "start_time": "2022-10-12T13:39:34.777Z"
   },
   {
    "duration": 62,
    "start_time": "2022-10-12T13:47:28.756Z"
   },
   {
    "duration": 87,
    "start_time": "2022-10-12T13:47:45.044Z"
   },
   {
    "duration": 109,
    "start_time": "2022-10-12T13:47:54.949Z"
   },
   {
    "duration": 714,
    "start_time": "2022-10-12T15:02:11.137Z"
   },
   {
    "duration": 19,
    "start_time": "2022-10-12T15:02:26.329Z"
   },
   {
    "duration": 553,
    "start_time": "2022-10-12T15:02:32.559Z"
   },
   {
    "duration": 454,
    "start_time": "2022-10-12T15:02:33.304Z"
   },
   {
    "duration": 91,
    "start_time": "2022-10-12T15:02:33.983Z"
   },
   {
    "duration": 57,
    "start_time": "2022-10-12T15:02:34.653Z"
   },
   {
    "duration": 109,
    "start_time": "2022-10-12T15:02:34.966Z"
   },
   {
    "duration": 34,
    "start_time": "2022-10-12T15:02:35.872Z"
   },
   {
    "duration": 157,
    "start_time": "2022-10-12T15:02:36.476Z"
   },
   {
    "duration": 141,
    "start_time": "2022-10-12T15:02:37.158Z"
   },
   {
    "duration": 120,
    "start_time": "2022-10-12T15:02:37.788Z"
   },
   {
    "duration": 140,
    "start_time": "2022-10-12T15:02:38.462Z"
   },
   {
    "duration": 141,
    "start_time": "2022-10-12T15:02:39.124Z"
   },
   {
    "duration": 149,
    "start_time": "2022-10-12T15:02:39.749Z"
   },
   {
    "duration": 144,
    "start_time": "2022-10-12T15:02:40.421Z"
   },
   {
    "duration": 139,
    "start_time": "2022-10-12T15:02:41.131Z"
   },
   {
    "duration": 152,
    "start_time": "2022-10-12T15:02:41.840Z"
   },
   {
    "duration": 152,
    "start_time": "2022-10-12T15:02:42.476Z"
   },
   {
    "duration": 158,
    "start_time": "2022-10-12T15:02:43.212Z"
   },
   {
    "duration": 146,
    "start_time": "2022-10-12T15:02:43.902Z"
   },
   {
    "duration": 130,
    "start_time": "2022-10-12T15:02:44.671Z"
   },
   {
    "duration": 185,
    "start_time": "2022-10-12T15:02:45.574Z"
   },
   {
    "duration": 137,
    "start_time": "2022-10-12T15:02:46.436Z"
   },
   {
    "duration": 139,
    "start_time": "2022-10-12T15:03:59.656Z"
   },
   {
    "duration": 95,
    "start_time": "2022-10-12T15:04:42.514Z"
   },
   {
    "duration": 6,
    "start_time": "2022-10-12T15:06:09.800Z"
   },
   {
    "duration": 107,
    "start_time": "2022-10-12T15:06:14.621Z"
   },
   {
    "duration": 34,
    "start_time": "2022-10-12T15:06:23.103Z"
   },
   {
    "duration": 152,
    "start_time": "2022-10-12T15:06:23.820Z"
   },
   {
    "duration": 164,
    "start_time": "2022-10-12T15:06:24.523Z"
   },
   {
    "duration": 138,
    "start_time": "2022-10-12T15:06:25.155Z"
   },
   {
    "duration": 142,
    "start_time": "2022-10-12T15:06:25.861Z"
   },
   {
    "duration": 153,
    "start_time": "2022-10-12T15:06:26.581Z"
   },
   {
    "duration": 151,
    "start_time": "2022-10-12T15:06:27.276Z"
   },
   {
    "duration": 148,
    "start_time": "2022-10-12T15:06:27.957Z"
   },
   {
    "duration": 140,
    "start_time": "2022-10-12T15:06:28.909Z"
   },
   {
    "duration": 153,
    "start_time": "2022-10-12T15:06:30.029Z"
   },
   {
    "duration": 396,
    "start_time": "2022-10-12T15:06:31.003Z"
   },
   {
    "duration": 161,
    "start_time": "2022-10-12T15:06:32.139Z"
   },
   {
    "duration": 144,
    "start_time": "2022-10-12T15:06:33.397Z"
   },
   {
    "duration": 135,
    "start_time": "2022-10-12T15:06:34.627Z"
   },
   {
    "duration": 203,
    "start_time": "2022-10-12T15:06:35.883Z"
   },
   {
    "duration": 146,
    "start_time": "2022-10-12T15:06:37.484Z"
   },
   {
    "duration": 148,
    "start_time": "2022-10-12T15:06:39.515Z"
   },
   {
    "duration": 143,
    "start_time": "2022-10-12T15:06:53.927Z"
   },
   {
    "duration": 34,
    "start_time": "2022-10-12T15:07:13.030Z"
   },
   {
    "duration": 33,
    "start_time": "2022-10-12T15:07:37.535Z"
   },
   {
    "duration": 119,
    "start_time": "2022-10-12T15:08:42.972Z"
   },
   {
    "duration": 120,
    "start_time": "2022-10-12T15:15:33.990Z"
   },
   {
    "duration": 110,
    "start_time": "2022-10-12T15:15:39.389Z"
   },
   {
    "duration": 30,
    "start_time": "2022-10-12T15:15:58.812Z"
   },
   {
    "duration": 163,
    "start_time": "2022-10-12T15:15:59.841Z"
   },
   {
    "duration": 156,
    "start_time": "2022-10-12T15:16:00.713Z"
   },
   {
    "duration": 128,
    "start_time": "2022-10-12T15:16:01.562Z"
   },
   {
    "duration": 150,
    "start_time": "2022-10-12T15:16:02.380Z"
   },
   {
    "duration": 137,
    "start_time": "2022-10-12T15:16:03.188Z"
   },
   {
    "duration": 133,
    "start_time": "2022-10-12T15:16:04.027Z"
   },
   {
    "duration": 145,
    "start_time": "2022-10-12T15:16:04.835Z"
   },
   {
    "duration": 144,
    "start_time": "2022-10-12T15:16:05.632Z"
   },
   {
    "duration": 146,
    "start_time": "2022-10-12T15:16:06.424Z"
   },
   {
    "duration": 148,
    "start_time": "2022-10-12T15:16:07.210Z"
   },
   {
    "duration": 159,
    "start_time": "2022-10-12T15:16:08.056Z"
   },
   {
    "duration": 133,
    "start_time": "2022-10-12T15:16:08.865Z"
   },
   {
    "duration": 126,
    "start_time": "2022-10-12T15:16:09.704Z"
   },
   {
    "duration": 170,
    "start_time": "2022-10-12T15:16:10.555Z"
   },
   {
    "duration": 147,
    "start_time": "2022-10-12T15:16:11.364Z"
   },
   {
    "duration": 156,
    "start_time": "2022-10-12T15:16:12.593Z"
   },
   {
    "duration": 144,
    "start_time": "2022-10-12T15:16:15.403Z"
   },
   {
    "duration": 153,
    "start_time": "2022-10-12T15:21:15.539Z"
   },
   {
    "duration": 142,
    "start_time": "2022-10-12T15:23:04.523Z"
   },
   {
    "duration": 176,
    "start_time": "2022-10-12T15:23:08.963Z"
   },
   {
    "duration": 141,
    "start_time": "2022-10-12T15:24:21.553Z"
   },
   {
    "duration": 141,
    "start_time": "2022-10-12T15:24:27.577Z"
   },
   {
    "duration": 170,
    "start_time": "2022-10-12T15:26:00.211Z"
   },
   {
    "duration": 58,
    "start_time": "2022-10-12T15:26:12.036Z"
   },
   {
    "duration": 20,
    "start_time": "2022-10-12T15:28:34.579Z"
   },
   {
    "duration": 49,
    "start_time": "2022-10-12T15:28:56.044Z"
   },
   {
    "duration": 60,
    "start_time": "2022-10-12T15:29:33.644Z"
   },
   {
    "duration": 57,
    "start_time": "2022-10-12T15:29:47.348Z"
   },
   {
    "duration": 121,
    "start_time": "2022-10-12T15:45:00.169Z"
   },
   {
    "duration": 53,
    "start_time": "2022-10-12T15:45:14.058Z"
   },
   {
    "duration": 55,
    "start_time": "2022-10-12T15:46:36.971Z"
   },
   {
    "duration": 52,
    "start_time": "2022-10-12T15:47:14.785Z"
   },
   {
    "duration": 28,
    "start_time": "2022-10-12T15:49:45.338Z"
   },
   {
    "duration": 28,
    "start_time": "2022-10-12T15:50:01.275Z"
   },
   {
    "duration": 28,
    "start_time": "2022-10-12T15:50:47.699Z"
   },
   {
    "duration": 27,
    "start_time": "2022-10-12T15:51:40.015Z"
   },
   {
    "duration": 30,
    "start_time": "2022-10-12T15:57:02.609Z"
   },
   {
    "duration": 25,
    "start_time": "2022-10-12T15:57:40.927Z"
   },
   {
    "duration": 130,
    "start_time": "2022-10-12T15:58:38.494Z"
   },
   {
    "duration": 27,
    "start_time": "2022-10-12T15:58:44.336Z"
   },
   {
    "duration": 23,
    "start_time": "2022-10-12T16:00:16.751Z"
   },
   {
    "duration": 23,
    "start_time": "2022-10-12T16:01:02.622Z"
   },
   {
    "duration": 1213,
    "start_time": "2022-10-12T16:01:17.826Z"
   },
   {
    "duration": 25,
    "start_time": "2022-10-12T16:01:27.785Z"
   },
   {
    "duration": 22,
    "start_time": "2022-10-12T16:01:45.105Z"
   },
   {
    "duration": 22,
    "start_time": "2022-10-12T16:02:04.250Z"
   },
   {
    "duration": 23,
    "start_time": "2022-10-12T16:02:22.270Z"
   },
   {
    "duration": 23,
    "start_time": "2022-10-12T16:02:51.135Z"
   },
   {
    "duration": 23,
    "start_time": "2022-10-12T16:03:05.510Z"
   },
   {
    "duration": 1172,
    "start_time": "2022-10-12T16:03:55.430Z"
   },
   {
    "duration": 24,
    "start_time": "2022-10-12T16:04:44.839Z"
   },
   {
    "duration": 1275,
    "start_time": "2022-10-12T16:06:23.458Z"
   },
   {
    "duration": 420,
    "start_time": "2022-10-12T16:06:30.810Z"
   },
   {
    "duration": 26,
    "start_time": "2022-10-12T16:07:55.735Z"
   },
   {
    "duration": 31,
    "start_time": "2022-10-12T16:10:36.968Z"
   },
   {
    "duration": 25,
    "start_time": "2022-10-12T16:10:40.352Z"
   },
   {
    "duration": 24,
    "start_time": "2022-10-12T16:10:47.458Z"
   },
   {
    "duration": 27,
    "start_time": "2022-10-12T16:11:20.402Z"
   },
   {
    "duration": 24,
    "start_time": "2022-10-12T16:11:48.066Z"
   },
   {
    "duration": 320,
    "start_time": "2022-10-12T16:11:57.315Z"
   },
   {
    "duration": 27,
    "start_time": "2022-10-12T16:14:28.474Z"
   },
   {
    "duration": 32,
    "start_time": "2022-10-12T16:16:39.310Z"
   },
   {
    "duration": 75,
    "start_time": "2022-10-12T16:17:13.432Z"
   },
   {
    "duration": 33,
    "start_time": "2022-10-12T16:17:20.659Z"
   },
   {
    "duration": 35,
    "start_time": "2022-10-12T16:20:01.071Z"
   },
   {
    "duration": 1292,
    "start_time": "2022-10-12T16:23:08.200Z"
   },
   {
    "duration": 1408,
    "start_time": "2022-10-12T16:24:51.251Z"
   },
   {
    "duration": 1587,
    "start_time": "2022-10-12T16:25:05.306Z"
   },
   {
    "duration": 1419,
    "start_time": "2022-10-12T16:25:16.127Z"
   },
   {
    "duration": 34,
    "start_time": "2022-10-12T16:25:34.598Z"
   },
   {
    "duration": 34,
    "start_time": "2022-10-12T16:26:12.991Z"
   },
   {
    "duration": 32,
    "start_time": "2022-10-12T16:28:32.682Z"
   },
   {
    "duration": 245,
    "start_time": "2022-10-12T16:31:36.914Z"
   },
   {
    "duration": 6469,
    "start_time": "2022-10-12T16:35:16.083Z"
   },
   {
    "duration": 4554,
    "start_time": "2022-10-12T16:36:33.103Z"
   },
   {
    "duration": 20,
    "start_time": "2022-10-12T16:36:47.394Z"
   },
   {
    "duration": 265,
    "start_time": "2022-10-12T16:37:42.345Z"
   },
   {
    "duration": 150,
    "start_time": "2022-10-12T16:38:11.568Z"
   },
   {
    "duration": 151,
    "start_time": "2022-10-12T16:40:58.700Z"
   },
   {
    "duration": 152,
    "start_time": "2022-10-12T16:41:22.702Z"
   },
   {
    "duration": 458,
    "start_time": "2022-10-12T16:41:31.606Z"
   },
   {
    "duration": 562,
    "start_time": "2022-10-12T16:47:47.639Z"
   },
   {
    "duration": 368,
    "start_time": "2022-10-12T16:47:49.182Z"
   },
   {
    "duration": 377,
    "start_time": "2022-10-12T16:48:03.231Z"
   },
   {
    "duration": 9,
    "start_time": "2022-10-12T16:53:03.988Z"
   },
   {
    "duration": 371,
    "start_time": "2022-10-12T16:53:08.408Z"
   },
   {
    "duration": 104,
    "start_time": "2022-10-12T16:53:40.394Z"
   },
   {
    "duration": 108,
    "start_time": "2022-10-12T16:53:49.738Z"
   },
   {
    "duration": 51,
    "start_time": "2022-10-12T16:54:04.632Z"
   },
   {
    "duration": 38,
    "start_time": "2022-10-12T16:55:55.929Z"
   },
   {
    "duration": 74,
    "start_time": "2022-10-12T16:57:05.572Z"
   },
   {
    "duration": 42,
    "start_time": "2022-10-12T16:57:48.403Z"
   },
   {
    "duration": 49,
    "start_time": "2022-10-12T16:58:03.715Z"
   },
   {
    "duration": 42,
    "start_time": "2022-10-12T16:58:29.270Z"
   },
   {
    "duration": 39,
    "start_time": "2022-10-12T16:58:54.116Z"
   },
   {
    "duration": 46,
    "start_time": "2022-10-12T17:00:11.349Z"
   },
   {
    "duration": 590,
    "start_time": "2022-10-12T17:00:50.228Z"
   },
   {
    "duration": 577,
    "start_time": "2022-10-12T17:01:10.594Z"
   },
   {
    "duration": 389,
    "start_time": "2022-10-12T17:01:13.161Z"
   },
   {
    "duration": 108,
    "start_time": "2022-10-12T17:01:44.716Z"
   },
   {
    "duration": 71,
    "start_time": "2022-10-12T17:01:55.662Z"
   },
   {
    "duration": 73,
    "start_time": "2022-10-12T17:02:01.868Z"
   },
   {
    "duration": 85,
    "start_time": "2022-10-12T17:02:36.651Z"
   },
   {
    "duration": 56,
    "start_time": "2022-10-12T17:02:54.667Z"
   },
   {
    "duration": 32,
    "start_time": "2022-10-12T17:03:06.691Z"
   },
   {
    "duration": 34,
    "start_time": "2022-10-12T17:03:29.765Z"
   },
   {
    "duration": 15,
    "start_time": "2022-10-12T17:03:49.806Z"
   },
   {
    "duration": 567,
    "start_time": "2022-10-12T17:04:07.354Z"
   },
   {
    "duration": 395,
    "start_time": "2022-10-12T17:04:10.106Z"
   },
   {
    "duration": 584,
    "start_time": "2022-10-12T17:04:32.794Z"
   },
   {
    "duration": 425,
    "start_time": "2022-10-12T17:04:35.547Z"
   },
   {
    "duration": 125,
    "start_time": "2022-10-12T17:04:56.783Z"
   },
   {
    "duration": 106,
    "start_time": "2022-10-12T17:06:26.420Z"
   },
   {
    "duration": 52,
    "start_time": "2022-10-12T17:07:03.080Z"
   },
   {
    "duration": 50,
    "start_time": "2022-10-12T17:08:28.735Z"
   },
   {
    "duration": 56,
    "start_time": "2022-10-12T17:09:33.603Z"
   },
   {
    "duration": 70,
    "start_time": "2022-10-12T17:09:36.878Z"
   },
   {
    "duration": 568,
    "start_time": "2022-10-12T17:09:49.293Z"
   },
   {
    "duration": 140,
    "start_time": "2022-10-12T17:09:53.149Z"
   },
   {
    "duration": 116,
    "start_time": "2022-10-12T17:11:33.844Z"
   },
   {
    "duration": 570,
    "start_time": "2022-10-12T17:11:53.917Z"
   },
   {
    "duration": 85,
    "start_time": "2022-10-12T17:11:57.346Z"
   },
   {
    "duration": 89,
    "start_time": "2022-10-12T17:11:59.220Z"
   },
   {
    "duration": 58,
    "start_time": "2022-10-12T17:12:00.804Z"
   },
   {
    "duration": 92,
    "start_time": "2022-10-12T17:12:03.300Z"
   },
   {
    "duration": 90,
    "start_time": "2022-10-12T17:16:40.014Z"
   },
   {
    "duration": 569,
    "start_time": "2022-10-12T17:17:23.935Z"
   },
   {
    "duration": 455,
    "start_time": "2022-10-12T17:17:33.269Z"
   },
   {
    "duration": 477,
    "start_time": "2022-10-12T17:18:11.982Z"
   },
   {
    "duration": 570,
    "start_time": "2022-10-12T17:18:29.572Z"
   },
   {
    "duration": 89,
    "start_time": "2022-10-12T17:18:32.298Z"
   },
   {
    "duration": 88,
    "start_time": "2022-10-12T17:18:39.876Z"
   },
   {
    "duration": 64,
    "start_time": "2022-10-12T17:18:42.379Z"
   },
   {
    "duration": 104,
    "start_time": "2022-10-12T17:18:44.327Z"
   },
   {
    "duration": 119,
    "start_time": "2022-10-12T17:20:14.118Z"
   },
   {
    "duration": 99,
    "start_time": "2022-10-12T17:20:23.600Z"
   },
   {
    "duration": 102,
    "start_time": "2022-10-12T17:21:07.743Z"
   },
   {
    "duration": 121,
    "start_time": "2022-10-12T17:21:23.368Z"
   },
   {
    "duration": 139,
    "start_time": "2022-10-12T17:21:56.861Z"
   },
   {
    "duration": 317,
    "start_time": "2022-10-12T17:23:37.927Z"
   },
   {
    "duration": 124,
    "start_time": "2022-10-12T17:25:05.276Z"
   },
   {
    "duration": 120,
    "start_time": "2022-10-12T17:25:20.398Z"
   },
   {
    "duration": 607,
    "start_time": "2022-10-12T17:25:29.342Z"
   },
   {
    "duration": 88,
    "start_time": "2022-10-12T17:25:30.717Z"
   },
   {
    "duration": 94,
    "start_time": "2022-10-12T17:25:32.183Z"
   },
   {
    "duration": 67,
    "start_time": "2022-10-12T17:25:33.816Z"
   },
   {
    "duration": 153,
    "start_time": "2022-10-12T17:25:34.777Z"
   },
   {
    "duration": 43,
    "start_time": "2022-10-12T17:25:38.866Z"
   },
   {
    "duration": 187,
    "start_time": "2022-10-12T17:25:49.189Z"
   },
   {
    "duration": 172,
    "start_time": "2022-10-12T17:27:10.152Z"
   },
   {
    "duration": 147,
    "start_time": "2022-10-12T17:31:28.016Z"
   },
   {
    "duration": 133,
    "start_time": "2022-10-12T17:34:15.943Z"
   },
   {
    "duration": 144,
    "start_time": "2022-10-12T17:34:51.287Z"
   },
   {
    "duration": 142,
    "start_time": "2022-10-12T17:36:24.633Z"
   },
   {
    "duration": 140,
    "start_time": "2022-10-12T17:37:48.296Z"
   },
   {
    "duration": 144,
    "start_time": "2022-10-12T17:39:01.056Z"
   },
   {
    "duration": 144,
    "start_time": "2022-10-12T17:40:08.834Z"
   },
   {
    "duration": 142,
    "start_time": "2022-10-12T17:41:31.217Z"
   },
   {
    "duration": 146,
    "start_time": "2022-10-12T17:43:04.213Z"
   },
   {
    "duration": 518,
    "start_time": "2022-10-12T17:43:53.521Z"
   },
   {
    "duration": 153,
    "start_time": "2022-10-12T17:44:32.315Z"
   },
   {
    "duration": 156,
    "start_time": "2022-10-12T17:44:50.985Z"
   },
   {
    "duration": 161,
    "start_time": "2022-10-12T17:46:05.937Z"
   },
   {
    "duration": 152,
    "start_time": "2022-10-12T17:46:39.243Z"
   },
   {
    "duration": 150,
    "start_time": "2022-10-12T17:46:46.129Z"
   },
   {
    "duration": 146,
    "start_time": "2022-10-12T17:47:10.593Z"
   },
   {
    "duration": 151,
    "start_time": "2022-10-12T17:47:27.524Z"
   },
   {
    "duration": 545,
    "start_time": "2022-10-12T17:47:47.934Z"
   },
   {
    "duration": 82,
    "start_time": "2022-10-12T17:47:48.754Z"
   },
   {
    "duration": 102,
    "start_time": "2022-10-12T17:47:49.544Z"
   },
   {
    "duration": 67,
    "start_time": "2022-10-12T17:47:50.348Z"
   },
   {
    "duration": 122,
    "start_time": "2022-10-12T17:47:50.764Z"
   },
   {
    "duration": 30,
    "start_time": "2022-10-12T17:47:52.025Z"
   },
   {
    "duration": 144,
    "start_time": "2022-10-12T17:47:52.929Z"
   },
   {
    "duration": 146,
    "start_time": "2022-10-12T17:47:53.992Z"
   },
   {
    "duration": 137,
    "start_time": "2022-10-12T17:47:55.282Z"
   },
   {
    "duration": 149,
    "start_time": "2022-10-12T17:47:56.497Z"
   },
   {
    "duration": 147,
    "start_time": "2022-10-12T17:47:58.075Z"
   },
   {
    "duration": 138,
    "start_time": "2022-10-12T17:47:59.996Z"
   },
   {
    "duration": 151,
    "start_time": "2022-10-12T17:48:01.480Z"
   },
   {
    "duration": 142,
    "start_time": "2022-10-12T17:48:03.770Z"
   },
   {
    "duration": 158,
    "start_time": "2022-10-12T17:48:06.178Z"
   },
   {
    "duration": 169,
    "start_time": "2022-10-12T17:48:37.219Z"
   },
   {
    "duration": 149,
    "start_time": "2022-10-12T17:48:56.636Z"
   },
   {
    "duration": 153,
    "start_time": "2022-10-12T17:50:26.005Z"
   },
   {
    "duration": 583,
    "start_time": "2022-10-12T17:50:31.537Z"
   },
   {
    "duration": 82,
    "start_time": "2022-10-12T17:50:32.537Z"
   },
   {
    "duration": 91,
    "start_time": "2022-10-12T17:50:33.267Z"
   },
   {
    "duration": 67,
    "start_time": "2022-10-12T17:50:33.987Z"
   },
   {
    "duration": 115,
    "start_time": "2022-10-12T17:50:34.403Z"
   },
   {
    "duration": 41,
    "start_time": "2022-10-12T17:50:35.778Z"
   },
   {
    "duration": 162,
    "start_time": "2022-10-12T17:50:36.713Z"
   },
   {
    "duration": 151,
    "start_time": "2022-10-12T17:50:37.808Z"
   },
   {
    "duration": 139,
    "start_time": "2022-10-12T17:50:38.682Z"
   },
   {
    "duration": 148,
    "start_time": "2022-10-12T17:50:39.547Z"
   },
   {
    "duration": 144,
    "start_time": "2022-10-12T17:50:40.942Z"
   },
   {
    "duration": 144,
    "start_time": "2022-10-12T17:50:43.496Z"
   },
   {
    "duration": 145,
    "start_time": "2022-10-12T17:50:44.706Z"
   },
   {
    "duration": 152,
    "start_time": "2022-10-12T17:50:46.345Z"
   },
   {
    "duration": 140,
    "start_time": "2022-10-12T17:50:47.898Z"
   },
   {
    "duration": 171,
    "start_time": "2022-10-12T17:52:49.072Z"
   },
   {
    "duration": 558,
    "start_time": "2022-10-12T17:52:55.885Z"
   },
   {
    "duration": 83,
    "start_time": "2022-10-12T17:52:57.844Z"
   },
   {
    "duration": 88,
    "start_time": "2022-10-12T17:52:59.689Z"
   },
   {
    "duration": 72,
    "start_time": "2022-10-12T17:53:00.715Z"
   },
   {
    "duration": 119,
    "start_time": "2022-10-12T17:53:01.267Z"
   },
   {
    "duration": 32,
    "start_time": "2022-10-12T17:53:03.451Z"
   },
   {
    "duration": 169,
    "start_time": "2022-10-12T17:53:04.883Z"
   },
   {
    "duration": 163,
    "start_time": "2022-10-12T17:53:06.064Z"
   },
   {
    "duration": 142,
    "start_time": "2022-10-12T17:53:07.354Z"
   },
   {
    "duration": 160,
    "start_time": "2022-10-12T17:53:08.898Z"
   },
   {
    "duration": 145,
    "start_time": "2022-10-12T17:53:10.698Z"
   },
   {
    "duration": 146,
    "start_time": "2022-10-12T17:53:14.417Z"
   },
   {
    "duration": 151,
    "start_time": "2022-10-12T17:53:18.465Z"
   },
   {
    "duration": 160,
    "start_time": "2022-10-12T17:53:21.657Z"
   },
   {
    "duration": 149,
    "start_time": "2022-10-12T17:53:23.611Z"
   },
   {
    "duration": 694,
    "start_time": "2022-10-12T18:03:23.630Z"
   },
   {
    "duration": 178,
    "start_time": "2022-10-12T18:03:31.541Z"
   },
   {
    "duration": 611,
    "start_time": "2022-10-12T18:03:35.359Z"
   },
   {
    "duration": 96,
    "start_time": "2022-10-12T18:03:36.000Z"
   },
   {
    "duration": 108,
    "start_time": "2022-10-12T18:03:36.541Z"
   },
   {
    "duration": 67,
    "start_time": "2022-10-12T18:03:37.060Z"
   },
   {
    "duration": 128,
    "start_time": "2022-10-12T18:03:37.566Z"
   },
   {
    "duration": 45,
    "start_time": "2022-10-12T18:03:38.767Z"
   },
   {
    "duration": 164,
    "start_time": "2022-10-12T18:03:39.558Z"
   },
   {
    "duration": 159,
    "start_time": "2022-10-12T18:03:40.309Z"
   },
   {
    "duration": 134,
    "start_time": "2022-10-12T18:03:41.062Z"
   },
   {
    "duration": 144,
    "start_time": "2022-10-12T18:03:41.827Z"
   },
   {
    "duration": 137,
    "start_time": "2022-10-12T18:03:42.943Z"
   },
   {
    "duration": 151,
    "start_time": "2022-10-12T18:03:44.181Z"
   },
   {
    "duration": 148,
    "start_time": "2022-10-12T18:03:45.108Z"
   },
   {
    "duration": 147,
    "start_time": "2022-10-12T18:03:46.395Z"
   },
   {
    "duration": 152,
    "start_time": "2022-10-12T18:03:47.933Z"
   },
   {
    "duration": 236,
    "start_time": "2022-10-12T18:05:07.801Z"
   },
   {
    "duration": 153,
    "start_time": "2022-10-12T18:05:30.079Z"
   },
   {
    "duration": 159,
    "start_time": "2022-10-12T18:05:34.440Z"
   },
   {
    "duration": 561,
    "start_time": "2022-10-12T18:05:39.551Z"
   },
   {
    "duration": 84,
    "start_time": "2022-10-12T18:05:40.322Z"
   },
   {
    "duration": 91,
    "start_time": "2022-10-12T18:05:40.905Z"
   },
   {
    "duration": 67,
    "start_time": "2022-10-12T18:05:41.479Z"
   },
   {
    "duration": 134,
    "start_time": "2022-10-12T18:05:41.777Z"
   },
   {
    "duration": 32,
    "start_time": "2022-10-12T18:05:42.748Z"
   },
   {
    "duration": 169,
    "start_time": "2022-10-12T18:05:43.387Z"
   },
   {
    "duration": 153,
    "start_time": "2022-10-12T18:05:43.981Z"
   },
   {
    "duration": 127,
    "start_time": "2022-10-12T18:05:44.640Z"
   },
   {
    "duration": 154,
    "start_time": "2022-10-12T18:05:45.350Z"
   },
   {
    "duration": 149,
    "start_time": "2022-10-12T18:05:46.405Z"
   },
   {
    "duration": 139,
    "start_time": "2022-10-12T18:05:48.073Z"
   },
   {
    "duration": 158,
    "start_time": "2022-10-12T18:05:48.959Z"
   },
   {
    "duration": 138,
    "start_time": "2022-10-12T18:05:50.478Z"
   },
   {
    "duration": 147,
    "start_time": "2022-10-12T18:05:51.989Z"
   },
   {
    "duration": 155,
    "start_time": "2022-10-12T18:07:05.903Z"
   },
   {
    "duration": 163,
    "start_time": "2022-10-12T18:08:09.470Z"
   },
   {
    "duration": 135,
    "start_time": "2022-10-12T18:10:15.352Z"
   },
   {
    "duration": 30,
    "start_time": "2022-10-12T18:10:24.744Z"
   },
   {
    "duration": 147,
    "start_time": "2022-10-12T18:10:25.416Z"
   },
   {
    "duration": 145,
    "start_time": "2022-10-12T18:10:26.029Z"
   },
   {
    "duration": 136,
    "start_time": "2022-10-12T18:10:26.639Z"
   },
   {
    "duration": 140,
    "start_time": "2022-10-12T18:10:27.197Z"
   },
   {
    "duration": 141,
    "start_time": "2022-10-12T18:10:27.748Z"
   },
   {
    "duration": 136,
    "start_time": "2022-10-12T18:10:28.327Z"
   },
   {
    "duration": 157,
    "start_time": "2022-10-12T18:10:28.957Z"
   },
   {
    "duration": 134,
    "start_time": "2022-10-12T18:10:29.677Z"
   },
   {
    "duration": 145,
    "start_time": "2022-10-12T18:10:30.664Z"
   },
   {
    "duration": 146,
    "start_time": "2022-10-12T18:10:52.428Z"
   },
   {
    "duration": 148,
    "start_time": "2022-10-12T18:11:00.921Z"
   },
   {
    "duration": 153,
    "start_time": "2022-10-12T18:11:02.445Z"
   },
   {
    "duration": 154,
    "start_time": "2022-10-12T18:11:04.598Z"
   },
   {
    "duration": 147,
    "start_time": "2022-10-12T18:11:38.240Z"
   },
   {
    "duration": 138,
    "start_time": "2022-10-12T18:13:25.571Z"
   },
   {
    "duration": 187,
    "start_time": "2022-10-12T18:14:02.482Z"
   },
   {
    "duration": 684,
    "start_time": "2022-10-12T18:14:40.521Z"
   },
   {
    "duration": 163,
    "start_time": "2022-10-12T18:14:42.151Z"
   },
   {
    "duration": 134,
    "start_time": "2022-10-12T18:14:43.278Z"
   },
   {
    "duration": 142,
    "start_time": "2022-10-12T18:14:44.360Z"
   },
   {
    "duration": 128,
    "start_time": "2022-10-12T18:14:45.378Z"
   },
   {
    "duration": 150,
    "start_time": "2022-10-12T18:14:46.400Z"
   },
   {
    "duration": 146,
    "start_time": "2022-10-12T18:14:47.304Z"
   },
   {
    "duration": 132,
    "start_time": "2022-10-12T18:14:48.495Z"
   },
   {
    "duration": 34,
    "start_time": "2022-10-12T18:14:49.671Z"
   },
   {
    "duration": 155,
    "start_time": "2022-10-12T18:14:54.321Z"
   },
   {
    "duration": 35,
    "start_time": "2022-10-12T18:15:19.379Z"
   },
   {
    "duration": 66,
    "start_time": "2022-10-12T18:26:08.998Z"
   },
   {
    "duration": 35,
    "start_time": "2022-10-12T18:27:15.735Z"
   },
   {
    "duration": 155,
    "start_time": "2022-10-12T18:27:18.000Z"
   },
   {
    "duration": 594,
    "start_time": "2022-10-12T18:44:05.533Z"
   },
   {
    "duration": 88,
    "start_time": "2022-10-12T18:44:06.286Z"
   },
   {
    "duration": 127,
    "start_time": "2022-10-12T18:44:06.965Z"
   },
   {
    "duration": 69,
    "start_time": "2022-10-12T18:44:07.597Z"
   },
   {
    "duration": 133,
    "start_time": "2022-10-12T18:44:07.877Z"
   },
   {
    "duration": 35,
    "start_time": "2022-10-12T18:44:08.848Z"
   },
   {
    "duration": 167,
    "start_time": "2022-10-12T18:44:09.453Z"
   },
   {
    "duration": 152,
    "start_time": "2022-10-12T18:44:10.164Z"
   },
   {
    "duration": 133,
    "start_time": "2022-10-12T18:44:10.795Z"
   },
   {
    "duration": 157,
    "start_time": "2022-10-12T18:44:11.403Z"
   },
   {
    "duration": 147,
    "start_time": "2022-10-12T18:44:12.021Z"
   },
   {
    "duration": 144,
    "start_time": "2022-10-12T18:44:12.709Z"
   },
   {
    "duration": 159,
    "start_time": "2022-10-12T18:44:13.365Z"
   },
   {
    "duration": 140,
    "start_time": "2022-10-12T18:44:14.038Z"
   },
   {
    "duration": 149,
    "start_time": "2022-10-12T18:44:14.717Z"
   },
   {
    "duration": 169,
    "start_time": "2022-10-12T18:44:15.645Z"
   },
   {
    "duration": 183,
    "start_time": "2022-10-12T18:44:16.339Z"
   },
   {
    "duration": 156,
    "start_time": "2022-10-12T18:44:17.016Z"
   },
   {
    "duration": 147,
    "start_time": "2022-10-12T18:44:17.648Z"
   },
   {
    "duration": 194,
    "start_time": "2022-10-12T18:44:18.285Z"
   },
   {
    "duration": 158,
    "start_time": "2022-10-12T18:44:18.924Z"
   },
   {
    "duration": 171,
    "start_time": "2022-10-12T18:44:19.570Z"
   },
   {
    "duration": 136,
    "start_time": "2022-10-12T18:44:20.197Z"
   },
   {
    "duration": 136,
    "start_time": "2022-10-12T18:44:20.765Z"
   },
   {
    "duration": 137,
    "start_time": "2022-10-12T18:44:21.349Z"
   },
   {
    "duration": 139,
    "start_time": "2022-10-12T18:44:21.941Z"
   },
   {
    "duration": 124,
    "start_time": "2022-10-12T18:44:22.525Z"
   },
   {
    "duration": 139,
    "start_time": "2022-10-12T18:44:23.132Z"
   },
   {
    "duration": 36,
    "start_time": "2022-10-12T18:44:23.692Z"
   },
   {
    "duration": 166,
    "start_time": "2022-10-12T18:44:24.355Z"
   },
   {
    "duration": 138,
    "start_time": "2022-10-12T18:44:25.651Z"
   },
   {
    "duration": 46,
    "start_time": "2022-10-13T10:39:36.000Z"
   },
   {
    "duration": 1677,
    "start_time": "2022-10-13T10:39:45.804Z"
   },
   {
    "duration": 100,
    "start_time": "2022-10-13T10:39:47.483Z"
   },
   {
    "duration": 100,
    "start_time": "2022-10-13T10:39:47.956Z"
   },
   {
    "duration": 60,
    "start_time": "2022-10-13T10:39:48.588Z"
   },
   {
    "duration": 128,
    "start_time": "2022-10-13T10:39:48.931Z"
   },
   {
    "duration": 37,
    "start_time": "2022-10-13T10:39:50.139Z"
   },
   {
    "duration": 723,
    "start_time": "2022-10-13T10:39:51.075Z"
   },
   {
    "duration": 187,
    "start_time": "2022-10-13T10:39:51.800Z"
   },
   {
    "duration": 150,
    "start_time": "2022-10-13T10:39:52.320Z"
   },
   {
    "duration": 166,
    "start_time": "2022-10-13T10:39:52.932Z"
   },
   {
    "duration": 228,
    "start_time": "2022-10-13T10:39:53.547Z"
   },
   {
    "duration": 146,
    "start_time": "2022-10-13T10:39:54.443Z"
   },
   {
    "duration": 156,
    "start_time": "2022-10-13T10:39:55.070Z"
   },
   {
    "duration": 155,
    "start_time": "2022-10-13T10:39:55.699Z"
   },
   {
    "duration": 158,
    "start_time": "2022-10-13T10:39:56.311Z"
   },
   {
    "duration": 171,
    "start_time": "2022-10-13T10:39:56.875Z"
   },
   {
    "duration": 178,
    "start_time": "2022-10-13T10:39:57.477Z"
   },
   {
    "duration": 161,
    "start_time": "2022-10-13T10:39:58.075Z"
   },
   {
    "duration": 145,
    "start_time": "2022-10-13T10:39:58.674Z"
   },
   {
    "duration": 200,
    "start_time": "2022-10-13T10:39:59.514Z"
   },
   {
    "duration": 176,
    "start_time": "2022-10-13T10:40:00.837Z"
   },
   {
    "duration": 264,
    "start_time": "2022-10-13T10:40:01.476Z"
   },
   {
    "duration": 154,
    "start_time": "2022-10-13T10:40:02.083Z"
   },
   {
    "duration": 148,
    "start_time": "2022-10-13T10:40:02.687Z"
   },
   {
    "duration": 158,
    "start_time": "2022-10-13T10:40:03.275Z"
   },
   {
    "duration": 157,
    "start_time": "2022-10-13T10:40:03.885Z"
   },
   {
    "duration": 139,
    "start_time": "2022-10-13T10:40:04.483Z"
   },
   {
    "duration": 149,
    "start_time": "2022-10-13T10:40:05.108Z"
   },
   {
    "duration": 37,
    "start_time": "2022-10-13T10:40:05.987Z"
   },
   {
    "duration": 175,
    "start_time": "2022-10-13T10:40:06.875Z"
   },
   {
    "duration": 158,
    "start_time": "2022-10-13T10:40:07.693Z"
   },
   {
    "duration": 87,
    "start_time": "2022-10-13T10:40:11.989Z"
   },
   {
    "duration": 47,
    "start_time": "2022-10-13T10:46:53.928Z"
   },
   {
    "duration": 42,
    "start_time": "2022-10-13T10:57:04.958Z"
   },
   {
    "duration": 55,
    "start_time": "2022-10-13T10:57:33.041Z"
   },
   {
    "duration": 138,
    "start_time": "2022-10-13T10:57:34.301Z"
   },
   {
    "duration": 71,
    "start_time": "2022-10-13T11:00:39.436Z"
   },
   {
    "duration": 73,
    "start_time": "2022-10-13T11:01:05.388Z"
   },
   {
    "duration": 19,
    "start_time": "2022-10-13T11:01:12.357Z"
   },
   {
    "duration": 20,
    "start_time": "2022-10-13T11:01:56.780Z"
   },
   {
    "duration": 11,
    "start_time": "2022-10-13T11:02:23.951Z"
   },
   {
    "duration": 16,
    "start_time": "2022-10-13T11:02:30.485Z"
   },
   {
    "duration": 128,
    "start_time": "2022-10-13T11:03:30.109Z"
   },
   {
    "duration": 1238,
    "start_time": "2022-10-13T11:03:35.197Z"
   },
   {
    "duration": 1203,
    "start_time": "2022-10-13T11:03:52.424Z"
   },
   {
    "duration": 5,
    "start_time": "2022-10-13T11:08:37.373Z"
   },
   {
    "duration": 1351,
    "start_time": "2022-10-13T11:10:23.553Z"
   },
   {
    "duration": 14,
    "start_time": "2022-10-13T11:10:54.607Z"
   },
   {
    "duration": 74,
    "start_time": "2022-10-13T11:11:18.405Z"
   },
   {
    "duration": 83,
    "start_time": "2022-10-13T11:11:30.704Z"
   },
   {
    "duration": 102,
    "start_time": "2022-10-13T11:11:49.889Z"
   },
   {
    "duration": 79,
    "start_time": "2022-10-13T11:12:00.768Z"
   },
   {
    "duration": 79,
    "start_time": "2022-10-13T11:12:08.885Z"
   },
   {
    "duration": 103,
    "start_time": "2022-10-13T11:12:23.785Z"
   },
   {
    "duration": 127,
    "start_time": "2022-10-13T11:14:13.175Z"
   },
   {
    "duration": 113,
    "start_time": "2022-10-13T11:14:19.041Z"
   },
   {
    "duration": 4,
    "start_time": "2022-10-13T11:14:26.945Z"
   },
   {
    "duration": 698,
    "start_time": "2022-10-13T11:14:48.323Z"
   },
   {
    "duration": 89,
    "start_time": "2022-10-13T11:14:49.641Z"
   },
   {
    "duration": 105,
    "start_time": "2022-10-13T11:14:51.239Z"
   },
   {
    "duration": 70,
    "start_time": "2022-10-13T11:14:52.086Z"
   },
   {
    "duration": 145,
    "start_time": "2022-10-13T11:14:52.479Z"
   },
   {
    "duration": 47,
    "start_time": "2022-10-13T11:14:54.238Z"
   },
   {
    "duration": 4,
    "start_time": "2022-10-13T11:14:55.136Z"
   },
   {
    "duration": 4,
    "start_time": "2022-10-13T11:14:58.809Z"
   },
   {
    "duration": 4,
    "start_time": "2022-10-13T11:16:11.746Z"
   },
   {
    "duration": 100,
    "start_time": "2022-10-13T11:16:35.484Z"
   },
   {
    "duration": 76,
    "start_time": "2022-10-13T11:16:47.647Z"
   },
   {
    "duration": 85,
    "start_time": "2022-10-13T11:17:12.930Z"
   },
   {
    "duration": 24,
    "start_time": "2022-10-13T11:17:20.851Z"
   },
   {
    "duration": 16,
    "start_time": "2022-10-13T11:17:59.704Z"
   },
   {
    "duration": 15,
    "start_time": "2022-10-13T11:19:39.801Z"
   },
   {
    "duration": 5,
    "start_time": "2022-10-13T11:20:21.617Z"
   },
   {
    "duration": 5,
    "start_time": "2022-10-13T11:20:36.188Z"
   },
   {
    "duration": 108,
    "start_time": "2022-10-13T11:21:39.845Z"
   },
   {
    "duration": 82,
    "start_time": "2022-10-13T11:21:49.081Z"
   },
   {
    "duration": 72,
    "start_time": "2022-10-13T11:21:56.195Z"
   },
   {
    "duration": 81,
    "start_time": "2022-10-13T11:22:04.938Z"
   },
   {
    "duration": 4,
    "start_time": "2022-10-13T11:22:13.929Z"
   },
   {
    "duration": 11,
    "start_time": "2022-10-13T11:22:46.522Z"
   },
   {
    "duration": 35,
    "start_time": "2022-10-13T11:26:37.050Z"
   },
   {
    "duration": 47,
    "start_time": "2022-10-13T11:26:45.186Z"
   },
   {
    "duration": 42,
    "start_time": "2022-10-13T11:29:40.577Z"
   },
   {
    "duration": 73,
    "start_time": "2022-10-13T11:29:48.269Z"
   },
   {
    "duration": 85,
    "start_time": "2022-10-13T11:29:58.659Z"
   },
   {
    "duration": 146,
    "start_time": "2022-10-13T11:30:02.467Z"
   },
   {
    "duration": 82,
    "start_time": "2022-10-13T11:30:10.966Z"
   },
   {
    "duration": 46,
    "start_time": "2022-10-13T11:30:43.353Z"
   },
   {
    "duration": 45,
    "start_time": "2022-10-13T11:31:39.516Z"
   },
   {
    "duration": 123,
    "start_time": "2022-10-13T11:32:03.615Z"
   },
   {
    "duration": 75,
    "start_time": "2022-10-13T11:32:10.582Z"
   },
   {
    "duration": 49,
    "start_time": "2022-10-13T11:32:25.763Z"
   },
   {
    "duration": 602,
    "start_time": "2022-10-13T11:32:32.447Z"
   },
   {
    "duration": 96,
    "start_time": "2022-10-13T11:34:15.818Z"
   },
   {
    "duration": 56,
    "start_time": "2022-10-13T11:34:19.028Z"
   },
   {
    "duration": 113,
    "start_time": "2022-10-13T11:34:52.051Z"
   },
   {
    "duration": 66,
    "start_time": "2022-10-13T11:34:53.899Z"
   },
   {
    "duration": 26,
    "start_time": "2022-10-13T11:35:42.553Z"
   },
   {
    "duration": 612,
    "start_time": "2022-10-13T11:36:01.744Z"
   },
   {
    "duration": 98,
    "start_time": "2022-10-13T11:36:21.661Z"
   },
   {
    "duration": 97,
    "start_time": "2022-10-13T11:36:43.513Z"
   },
   {
    "duration": 50,
    "start_time": "2022-10-13T11:37:16.934Z"
   },
   {
    "duration": 602,
    "start_time": "2022-10-13T11:37:35.173Z"
   },
   {
    "duration": 114,
    "start_time": "2022-10-13T11:38:53.268Z"
   },
   {
    "duration": 98,
    "start_time": "2022-10-13T11:39:11.030Z"
   },
   {
    "duration": 98,
    "start_time": "2022-10-13T11:39:42.571Z"
   },
   {
    "duration": 107,
    "start_time": "2022-10-13T11:40:02.994Z"
   },
   {
    "duration": 101,
    "start_time": "2022-10-13T11:40:30.738Z"
   },
   {
    "duration": 101,
    "start_time": "2022-10-13T11:41:11.679Z"
   },
   {
    "duration": 99,
    "start_time": "2022-10-13T11:41:20.351Z"
   },
   {
    "duration": 102,
    "start_time": "2022-10-13T11:41:30.801Z"
   },
   {
    "duration": 52,
    "start_time": "2022-10-13T11:41:59.222Z"
   },
   {
    "duration": 100,
    "start_time": "2022-10-13T11:42:37.634Z"
   },
   {
    "duration": 94,
    "start_time": "2022-10-13T11:44:14.467Z"
   },
   {
    "duration": 114,
    "start_time": "2022-10-13T11:44:32.033Z"
   },
   {
    "duration": 98,
    "start_time": "2022-10-13T11:45:12.937Z"
   },
   {
    "duration": 97,
    "start_time": "2022-10-13T11:45:33.531Z"
   },
   {
    "duration": 116,
    "start_time": "2022-10-13T11:46:22.091Z"
   },
   {
    "duration": 96,
    "start_time": "2022-10-13T11:47:09.537Z"
   },
   {
    "duration": 726,
    "start_time": "2022-10-13T11:47:32.280Z"
   },
   {
    "duration": 138,
    "start_time": "2022-10-13T11:47:36.568Z"
   },
   {
    "duration": 103,
    "start_time": "2022-10-13T11:48:03.772Z"
   },
   {
    "duration": 145,
    "start_time": "2022-10-13T11:51:02.501Z"
   },
   {
    "duration": 636,
    "start_time": "2022-10-13T11:51:14.989Z"
   },
   {
    "duration": 111,
    "start_time": "2022-10-13T11:52:22.289Z"
   },
   {
    "duration": 150,
    "start_time": "2022-10-13T11:52:59.685Z"
   },
   {
    "duration": 148,
    "start_time": "2022-10-13T11:53:18.779Z"
   },
   {
    "duration": 66,
    "start_time": "2022-10-13T11:54:09.503Z"
   },
   {
    "duration": 112,
    "start_time": "2022-10-13T11:54:21.260Z"
   },
   {
    "duration": 129,
    "start_time": "2022-10-13T11:54:31.693Z"
   },
   {
    "duration": 61,
    "start_time": "2022-10-13T11:54:47.859Z"
   },
   {
    "duration": 137,
    "start_time": "2022-10-13T11:55:07.606Z"
   },
   {
    "duration": 132,
    "start_time": "2022-10-13T11:56:24.952Z"
   },
   {
    "duration": 132,
    "start_time": "2022-10-13T11:56:46.249Z"
   },
   {
    "duration": 129,
    "start_time": "2022-10-13T11:56:56.039Z"
   },
   {
    "duration": 80,
    "start_time": "2022-10-13T11:58:23.262Z"
   },
   {
    "duration": 41,
    "start_time": "2022-10-13T11:58:38.474Z"
   },
   {
    "duration": 81,
    "start_time": "2022-10-13T11:59:13.231Z"
   },
   {
    "duration": 78,
    "start_time": "2022-10-13T11:59:25.198Z"
   },
   {
    "duration": 93,
    "start_time": "2022-10-13T11:59:44.050Z"
   },
   {
    "duration": 153,
    "start_time": "2022-10-13T12:00:43.038Z"
   },
   {
    "duration": 105,
    "start_time": "2022-10-13T12:01:23.924Z"
   },
   {
    "duration": 91,
    "start_time": "2022-10-13T12:01:39.452Z"
   },
   {
    "duration": 89,
    "start_time": "2022-10-13T12:03:29.753Z"
   },
   {
    "duration": 100,
    "start_time": "2022-10-13T12:08:22.304Z"
   },
   {
    "duration": 87,
    "start_time": "2022-10-13T12:10:45.962Z"
   },
   {
    "duration": 315,
    "start_time": "2022-10-13T12:10:55.559Z"
   },
   {
    "duration": 529,
    "start_time": "2022-10-13T12:11:11.998Z"
   },
   {
    "duration": 129,
    "start_time": "2022-10-13T12:12:59.442Z"
   },
   {
    "duration": 92,
    "start_time": "2022-10-13T12:13:13.240Z"
   },
   {
    "duration": 128,
    "start_time": "2022-10-13T12:13:20.637Z"
   },
   {
    "duration": 122,
    "start_time": "2022-10-13T12:13:42.637Z"
   },
   {
    "duration": 134,
    "start_time": "2022-10-13T12:15:03.884Z"
   },
   {
    "duration": 602,
    "start_time": "2022-10-13T12:17:49.022Z"
   },
   {
    "duration": 57,
    "start_time": "2022-10-13T12:19:05.272Z"
   },
   {
    "duration": 607,
    "start_time": "2022-10-13T12:21:04.990Z"
   },
   {
    "duration": 56,
    "start_time": "2022-10-13T12:21:07.227Z"
   },
   {
    "duration": 198,
    "start_time": "2022-10-13T12:21:26.806Z"
   },
   {
    "duration": 144,
    "start_time": "2022-10-13T12:22:18.452Z"
   },
   {
    "duration": 143,
    "start_time": "2022-10-13T12:26:45.910Z"
   },
   {
    "duration": 619,
    "start_time": "2022-10-13T12:27:01.288Z"
   },
   {
    "duration": 155,
    "start_time": "2022-10-13T12:27:04.078Z"
   },
   {
    "duration": 137,
    "start_time": "2022-10-13T12:30:44.303Z"
   },
   {
    "duration": 136,
    "start_time": "2022-10-13T12:30:54.411Z"
   },
   {
    "duration": 66,
    "start_time": "2022-10-13T12:31:09.732Z"
   },
   {
    "duration": 64,
    "start_time": "2022-10-13T12:32:56.973Z"
   },
   {
    "duration": 204,
    "start_time": "2022-10-13T12:34:07.850Z"
   },
   {
    "duration": 67,
    "start_time": "2022-10-13T12:34:37.339Z"
   },
   {
    "duration": 61,
    "start_time": "2022-10-13T12:35:09.207Z"
   },
   {
    "duration": 126,
    "start_time": "2022-10-13T12:36:35.668Z"
   },
   {
    "duration": 599,
    "start_time": "2022-10-13T12:37:26.996Z"
   },
   {
    "duration": 596,
    "start_time": "2022-10-13T12:37:29.458Z"
   },
   {
    "duration": 154,
    "start_time": "2022-10-13T12:37:31.140Z"
   },
   {
    "duration": 133,
    "start_time": "2022-10-13T12:37:43.379Z"
   },
   {
    "duration": 646,
    "start_time": "2022-10-13T12:37:48.698Z"
   },
   {
    "duration": 752,
    "start_time": "2022-10-13T12:37:54.921Z"
   },
   {
    "duration": 157,
    "start_time": "2022-10-13T12:37:59.696Z"
   },
   {
    "duration": 123,
    "start_time": "2022-10-13T12:41:03.749Z"
   },
   {
    "duration": 603,
    "start_time": "2022-10-13T12:41:12.231Z"
   },
   {
    "duration": 140,
    "start_time": "2022-10-13T12:41:14.266Z"
   },
   {
    "duration": 599,
    "start_time": "2022-10-13T12:41:36.950Z"
   },
   {
    "duration": 137,
    "start_time": "2022-10-13T12:41:40.465Z"
   },
   {
    "duration": 120,
    "start_time": "2022-10-13T12:42:45.477Z"
   },
   {
    "duration": 121,
    "start_time": "2022-10-13T12:48:23.278Z"
   },
   {
    "duration": 21,
    "start_time": "2022-10-13T12:48:28.005Z"
   },
   {
    "duration": 623,
    "start_time": "2022-10-13T12:48:40.986Z"
   },
   {
    "duration": 128,
    "start_time": "2022-10-13T12:48:42.191Z"
   },
   {
    "duration": 102,
    "start_time": "2022-10-13T12:48:44.418Z"
   },
   {
    "duration": 60,
    "start_time": "2022-10-13T12:48:45.153Z"
   },
   {
    "duration": 126,
    "start_time": "2022-10-13T12:48:45.449Z"
   },
   {
    "duration": 46,
    "start_time": "2022-10-13T12:48:46.931Z"
   },
   {
    "duration": 168,
    "start_time": "2022-10-13T12:48:48.073Z"
   },
   {
    "duration": 161,
    "start_time": "2022-10-13T12:48:48.921Z"
   },
   {
    "duration": 145,
    "start_time": "2022-10-13T12:48:49.761Z"
   },
   {
    "duration": 164,
    "start_time": "2022-10-13T12:48:52.131Z"
   },
   {
    "duration": 156,
    "start_time": "2022-10-13T12:48:52.978Z"
   },
   {
    "duration": 148,
    "start_time": "2022-10-13T12:48:53.905Z"
   },
   {
    "duration": 168,
    "start_time": "2022-10-13T12:48:54.794Z"
   },
   {
    "duration": 146,
    "start_time": "2022-10-13T12:48:55.617Z"
   },
   {
    "duration": 392,
    "start_time": "2022-10-13T12:48:56.407Z"
   },
   {
    "duration": 168,
    "start_time": "2022-10-13T12:48:57.169Z"
   },
   {
    "duration": 181,
    "start_time": "2022-10-13T12:48:57.983Z"
   },
   {
    "duration": 156,
    "start_time": "2022-10-13T12:48:58.783Z"
   },
   {
    "duration": 142,
    "start_time": "2022-10-13T12:48:59.553Z"
   },
   {
    "duration": 218,
    "start_time": "2022-10-13T12:49:01.255Z"
   },
   {
    "duration": 166,
    "start_time": "2022-10-13T12:49:07.226Z"
   },
   {
    "duration": 175,
    "start_time": "2022-10-13T12:49:07.991Z"
   },
   {
    "duration": 158,
    "start_time": "2022-10-13T12:49:08.641Z"
   },
   {
    "duration": 147,
    "start_time": "2022-10-13T12:49:09.274Z"
   },
   {
    "duration": 154,
    "start_time": "2022-10-13T12:49:09.913Z"
   },
   {
    "duration": 152,
    "start_time": "2022-10-13T12:49:10.512Z"
   },
   {
    "duration": 149,
    "start_time": "2022-10-13T12:49:11.168Z"
   },
   {
    "duration": 149,
    "start_time": "2022-10-13T12:49:11.792Z"
   },
   {
    "duration": 39,
    "start_time": "2022-10-13T12:49:12.754Z"
   },
   {
    "duration": 175,
    "start_time": "2022-10-13T12:49:13.698Z"
   },
   {
    "duration": 159,
    "start_time": "2022-10-13T12:49:14.286Z"
   },
   {
    "duration": 80,
    "start_time": "2022-10-13T12:54:56.395Z"
   },
   {
    "duration": 592,
    "start_time": "2022-10-13T12:55:04.137Z"
   },
   {
    "duration": 594,
    "start_time": "2022-10-13T12:55:29.860Z"
   },
   {
    "duration": 250,
    "start_time": "2022-10-13T12:55:32.970Z"
   },
   {
    "duration": 604,
    "start_time": "2022-10-13T12:55:42.630Z"
   },
   {
    "duration": 612,
    "start_time": "2022-10-13T12:56:15.652Z"
   },
   {
    "duration": 59,
    "start_time": "2022-10-13T12:57:02.767Z"
   },
   {
    "duration": 713,
    "start_time": "2022-10-13T12:57:16.190Z"
   },
   {
    "duration": 63,
    "start_time": "2022-10-13T12:58:02.874Z"
   },
   {
    "duration": 609,
    "start_time": "2022-10-13T12:58:23.758Z"
   },
   {
    "duration": 90,
    "start_time": "2022-10-13T12:58:51.681Z"
   },
   {
    "duration": 687,
    "start_time": "2022-10-13T12:58:56.158Z"
   },
   {
    "duration": 637,
    "start_time": "2022-10-13T13:00:10.037Z"
   },
   {
    "duration": 605,
    "start_time": "2022-10-13T13:01:05.258Z"
   },
   {
    "duration": 95,
    "start_time": "2022-10-13T13:01:07.558Z"
   },
   {
    "duration": 594,
    "start_time": "2022-10-13T13:01:22.973Z"
   },
   {
    "duration": 298,
    "start_time": "2022-10-13T13:01:24.579Z"
   },
   {
    "duration": 99,
    "start_time": "2022-10-13T13:01:50.728Z"
   },
   {
    "duration": 60,
    "start_time": "2022-10-13T13:03:14.700Z"
   },
   {
    "duration": 635,
    "start_time": "2022-10-13T13:06:21.750Z"
   },
   {
    "duration": 63,
    "start_time": "2022-10-13T13:06:24.454Z"
   },
   {
    "duration": 61,
    "start_time": "2022-10-13T13:07:59.233Z"
   },
   {
    "duration": 7,
    "start_time": "2022-10-13T13:09:16.326Z"
   },
   {
    "duration": 68,
    "start_time": "2022-10-13T13:09:20.630Z"
   },
   {
    "duration": 625,
    "start_time": "2022-10-13T13:09:41.562Z"
   },
   {
    "duration": 626,
    "start_time": "2022-10-13T13:13:47.217Z"
   },
   {
    "duration": 98,
    "start_time": "2022-10-13T13:13:48.608Z"
   },
   {
    "duration": 629,
    "start_time": "2022-10-13T13:14:56.813Z"
   },
   {
    "duration": 107,
    "start_time": "2022-10-13T13:14:57.802Z"
   },
   {
    "duration": 102,
    "start_time": "2022-10-13T13:14:59.289Z"
   },
   {
    "duration": 70,
    "start_time": "2022-10-13T13:14:59.858Z"
   },
   {
    "duration": 133,
    "start_time": "2022-10-13T13:15:00.137Z"
   },
   {
    "duration": 48,
    "start_time": "2022-10-13T13:15:01.247Z"
   },
   {
    "duration": 175,
    "start_time": "2022-10-13T13:15:02.038Z"
   },
   {
    "duration": 168,
    "start_time": "2022-10-13T13:15:02.575Z"
   },
   {
    "duration": 143,
    "start_time": "2022-10-13T13:15:03.158Z"
   },
   {
    "duration": 161,
    "start_time": "2022-10-13T13:15:04.166Z"
   },
   {
    "duration": 169,
    "start_time": "2022-10-13T13:15:04.733Z"
   },
   {
    "duration": 164,
    "start_time": "2022-10-13T13:15:05.246Z"
   },
   {
    "duration": 174,
    "start_time": "2022-10-13T13:15:06.038Z"
   },
   {
    "duration": 172,
    "start_time": "2022-10-13T13:15:06.994Z"
   },
   {
    "duration": 169,
    "start_time": "2022-10-13T13:15:07.880Z"
   },
   {
    "duration": 179,
    "start_time": "2022-10-13T13:15:08.848Z"
   },
   {
    "duration": 189,
    "start_time": "2022-10-13T13:15:10.176Z"
   },
   {
    "duration": 166,
    "start_time": "2022-10-13T13:15:10.958Z"
   },
   {
    "duration": 154,
    "start_time": "2022-10-13T13:15:11.688Z"
   },
   {
    "duration": 196,
    "start_time": "2022-10-13T13:15:16.366Z"
   },
   {
    "duration": 200,
    "start_time": "2022-10-13T13:15:20.167Z"
   },
   {
    "duration": 569,
    "start_time": "2022-10-13T13:17:36.306Z"
   },
   {
    "duration": 1678,
    "start_time": "2022-10-13T16:33:02.405Z"
   },
   {
    "duration": 35,
    "start_time": "2022-10-13T16:33:09.137Z"
   },
   {
    "duration": 1595,
    "start_time": "2022-10-14T07:41:41.503Z"
   },
   {
    "duration": 3,
    "start_time": "2022-10-14T07:41:43.306Z"
   },
   {
    "duration": 2,
    "start_time": "2022-10-14T07:42:44.509Z"
   },
   {
    "duration": 603,
    "start_time": "2022-10-14T07:43:05.194Z"
   },
   {
    "duration": 2,
    "start_time": "2022-10-14T07:43:08.115Z"
   },
   {
    "duration": 95,
    "start_time": "2022-10-14T07:43:09.128Z"
   },
   {
    "duration": 100,
    "start_time": "2022-10-14T07:43:37.334Z"
   },
   {
    "duration": 2,
    "start_time": "2022-10-14T07:44:01.207Z"
   },
   {
    "duration": 97,
    "start_time": "2022-10-14T07:44:02.450Z"
   },
   {
    "duration": 58,
    "start_time": "2022-10-14T07:44:04.228Z"
   },
   {
    "duration": 134,
    "start_time": "2022-10-14T07:44:04.681Z"
   },
   {
    "duration": 59,
    "start_time": "2022-10-14T07:44:06.471Z"
   },
   {
    "duration": 665,
    "start_time": "2022-10-14T07:44:07.803Z"
   },
   {
    "duration": 156,
    "start_time": "2022-10-14T07:44:08.730Z"
   },
   {
    "duration": 132,
    "start_time": "2022-10-14T07:44:09.639Z"
   },
   {
    "duration": 160,
    "start_time": "2022-10-14T07:44:10.544Z"
   },
   {
    "duration": 155,
    "start_time": "2022-10-14T07:44:11.504Z"
   },
   {
    "duration": 141,
    "start_time": "2022-10-14T07:44:12.438Z"
   },
   {
    "duration": 144,
    "start_time": "2022-10-14T07:44:13.303Z"
   },
   {
    "duration": 145,
    "start_time": "2022-10-14T07:44:14.175Z"
   },
   {
    "duration": 148,
    "start_time": "2022-10-14T07:44:15.031Z"
   },
   {
    "duration": 160,
    "start_time": "2022-10-14T07:44:15.872Z"
   },
   {
    "duration": 195,
    "start_time": "2022-10-14T07:44:16.731Z"
   },
   {
    "duration": 249,
    "start_time": "2022-10-14T07:44:17.511Z"
   },
   {
    "duration": 141,
    "start_time": "2022-10-14T07:44:18.599Z"
   },
   {
    "duration": 185,
    "start_time": "2022-10-14T07:44:20.884Z"
   },
   {
    "duration": 179,
    "start_time": "2022-10-14T07:46:22.535Z"
   },
   {
    "duration": 160,
    "start_time": "2022-10-14T07:48:08.501Z"
   },
   {
    "duration": 161,
    "start_time": "2022-10-14T07:48:09.766Z"
   },
   {
    "duration": 132,
    "start_time": "2022-10-14T07:48:10.427Z"
   },
   {
    "duration": 136,
    "start_time": "2022-10-14T07:48:11.027Z"
   },
   {
    "duration": 149,
    "start_time": "2022-10-14T07:48:11.653Z"
   },
   {
    "duration": 142,
    "start_time": "2022-10-14T07:48:12.260Z"
   },
   {
    "duration": 134,
    "start_time": "2022-10-14T07:48:12.965Z"
   },
   {
    "duration": 225,
    "start_time": "2022-10-14T07:48:13.669Z"
   },
   {
    "duration": 36,
    "start_time": "2022-10-14T07:48:14.961Z"
   },
   {
    "duration": 165,
    "start_time": "2022-10-14T07:48:16.681Z"
   },
   {
    "duration": 146,
    "start_time": "2022-10-14T07:48:17.901Z"
   },
   {
    "duration": 42,
    "start_time": "2022-10-14T07:50:59.130Z"
   }
  ],
  "kernelspec": {
   "display_name": "Python 3 (ipykernel)",
   "language": "python",
   "name": "python3"
  },
  "language_info": {
   "codemirror_mode": {
    "name": "ipython",
    "version": 3
   },
   "file_extension": ".py",
   "mimetype": "text/x-python",
   "name": "python",
   "nbconvert_exporter": "python",
   "pygments_lexer": "ipython3",
   "version": "3.9.5"
  },
  "toc": {
   "base_numbering": 1,
   "nav_menu": {},
   "number_sections": true,
   "sideBar": true,
   "skip_h1_title": true,
   "title_cell": "Table of Contents",
   "title_sidebar": "Contents",
   "toc_cell": false,
   "toc_position": {},
   "toc_section_display": true,
   "toc_window_display": false
  }
 },
 "nbformat": 4,
 "nbformat_minor": 2
}
