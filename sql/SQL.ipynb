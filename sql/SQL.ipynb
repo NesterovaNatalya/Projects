{
 "cells": [
  {
   "cell_type": "markdown",
   "metadata": {},
   "source": [
    "# Проект по SQL"
   ]
  },
  {
   "cell_type": "markdown",
   "metadata": {},
   "source": [
    "**Цель проета:**\n",
    "Проанализировать базу данных и выявить данные, которые помогут сформулировать ценностное предложение для нового продукта."
   ]
  },
  {
   "cell_type": "markdown",
   "metadata": {},
   "source": [
    "## Создадим подключение к базе данных"
   ]
  },
  {
   "cell_type": "code",
   "execution_count": 1,
   "metadata": {},
   "outputs": [],
   "source": [
    "import pandas as pd \n",
    "from sqlalchemy import create_engine # устанавливаем параметры \n",
    "db_config = {'user': 'praktikum_student', # имя пользователя  \n",
    "             'pwd': 'Sdf4$2;d-d30pp', # пароль \n",
    "             'host': 'rc1b-wcoijxj3yxfsf3fs.mdb.yandexcloud.net',  \n",
    "             'port': 6432, # порт подключения  \n",
    "             'db': 'data-analyst-final-project-db'} # название базы данных\n",
    "connection_string = 'postgresql://{}:{}@{}:{}/{}'.format(db_config['user'],  db_config['pwd'],  db_config['host'],  db_config['port'],  db_config['db']) # сохраняем коннектор\n",
    "engine = create_engine(connection_string, connect_args={'sslmode':'require'}) "
   ]
  },
  {
   "cell_type": "markdown",
   "metadata": {},
   "source": [
    "## Выведем первые строки таблиц, изучим имеющиеся данные"
   ]
  },
  {
   "cell_type": "code",
   "execution_count": 2,
   "metadata": {},
   "outputs": [
    {
     "data": {
      "text/html": [
       "<div>\n",
       "<style scoped>\n",
       "    .dataframe tbody tr th:only-of-type {\n",
       "        vertical-align: middle;\n",
       "    }\n",
       "\n",
       "    .dataframe tbody tr th {\n",
       "        vertical-align: top;\n",
       "    }\n",
       "\n",
       "    .dataframe thead th {\n",
       "        text-align: right;\n",
       "    }\n",
       "</style>\n",
       "<table border=\"1\" class=\"dataframe\">\n",
       "  <thead>\n",
       "    <tr style=\"text-align: right;\">\n",
       "      <th></th>\n",
       "      <th>book_id</th>\n",
       "      <th>author_id</th>\n",
       "      <th>title</th>\n",
       "      <th>num_pages</th>\n",
       "      <th>publication_date</th>\n",
       "      <th>publisher_id</th>\n",
       "    </tr>\n",
       "  </thead>\n",
       "  <tbody>\n",
       "    <tr>\n",
       "      <th>0</th>\n",
       "      <td>1</td>\n",
       "      <td>546</td>\n",
       "      <td>'Salem's Lot</td>\n",
       "      <td>594</td>\n",
       "      <td>2005-11-01</td>\n",
       "      <td>93</td>\n",
       "    </tr>\n",
       "    <tr>\n",
       "      <th>1</th>\n",
       "      <td>2</td>\n",
       "      <td>465</td>\n",
       "      <td>1 000 Places to See Before You Die</td>\n",
       "      <td>992</td>\n",
       "      <td>2003-05-22</td>\n",
       "      <td>336</td>\n",
       "    </tr>\n",
       "    <tr>\n",
       "      <th>2</th>\n",
       "      <td>3</td>\n",
       "      <td>407</td>\n",
       "      <td>13 Little Blue Envelopes (Little Blue Envelope...</td>\n",
       "      <td>322</td>\n",
       "      <td>2010-12-21</td>\n",
       "      <td>135</td>\n",
       "    </tr>\n",
       "    <tr>\n",
       "      <th>3</th>\n",
       "      <td>4</td>\n",
       "      <td>82</td>\n",
       "      <td>1491: New Revelations of the Americas Before C...</td>\n",
       "      <td>541</td>\n",
       "      <td>2006-10-10</td>\n",
       "      <td>309</td>\n",
       "    </tr>\n",
       "    <tr>\n",
       "      <th>4</th>\n",
       "      <td>5</td>\n",
       "      <td>125</td>\n",
       "      <td>1776</td>\n",
       "      <td>386</td>\n",
       "      <td>2006-07-04</td>\n",
       "      <td>268</td>\n",
       "    </tr>\n",
       "  </tbody>\n",
       "</table>\n",
       "</div>"
      ],
      "text/plain": [
       "   book_id  author_id                                              title  \\\n",
       "0        1        546                                       'Salem's Lot   \n",
       "1        2        465                 1 000 Places to See Before You Die   \n",
       "2        3        407  13 Little Blue Envelopes (Little Blue Envelope...   \n",
       "3        4         82  1491: New Revelations of the Americas Before C...   \n",
       "4        5        125                                               1776   \n",
       "\n",
       "   num_pages publication_date  publisher_id  \n",
       "0        594       2005-11-01            93  \n",
       "1        992       2003-05-22           336  \n",
       "2        322       2010-12-21           135  \n",
       "3        541       2006-10-10           309  \n",
       "4        386       2006-07-04           268  "
      ]
     },
     "metadata": {},
     "output_type": "display_data"
    }
   ],
   "source": [
    "#Функция для выводы первых 5 строк таблицы\n",
    "def read_head (bd):\n",
    "    query = '''\n",
    "        SELECT * \n",
    "        FROM {} \n",
    "        \n",
    "    '''.format(bd)\n",
    "    rez = pd.io.sql.read_sql(query, con = engine) \n",
    "    display(rez.head(5))\n",
    "   \n",
    "rez = read_head('books')\n"
   ]
  },
  {
   "cell_type": "code",
   "execution_count": 3,
   "metadata": {},
   "outputs": [
    {
     "data": {
      "text/html": [
       "<div>\n",
       "<style scoped>\n",
       "    .dataframe tbody tr th:only-of-type {\n",
       "        vertical-align: middle;\n",
       "    }\n",
       "\n",
       "    .dataframe tbody tr th {\n",
       "        vertical-align: top;\n",
       "    }\n",
       "\n",
       "    .dataframe thead th {\n",
       "        text-align: right;\n",
       "    }\n",
       "</style>\n",
       "<table border=\"1\" class=\"dataframe\">\n",
       "  <thead>\n",
       "    <tr style=\"text-align: right;\">\n",
       "      <th></th>\n",
       "      <th>author_id</th>\n",
       "      <th>author</th>\n",
       "    </tr>\n",
       "  </thead>\n",
       "  <tbody>\n",
       "    <tr>\n",
       "      <th>0</th>\n",
       "      <td>1</td>\n",
       "      <td>A.S. Byatt</td>\n",
       "    </tr>\n",
       "    <tr>\n",
       "      <th>1</th>\n",
       "      <td>2</td>\n",
       "      <td>Aesop/Laura Harris/Laura Gibbs</td>\n",
       "    </tr>\n",
       "    <tr>\n",
       "      <th>2</th>\n",
       "      <td>3</td>\n",
       "      <td>Agatha Christie</td>\n",
       "    </tr>\n",
       "    <tr>\n",
       "      <th>3</th>\n",
       "      <td>4</td>\n",
       "      <td>Alan Brennert</td>\n",
       "    </tr>\n",
       "    <tr>\n",
       "      <th>4</th>\n",
       "      <td>5</td>\n",
       "      <td>Alan Moore/David   Lloyd</td>\n",
       "    </tr>\n",
       "  </tbody>\n",
       "</table>\n",
       "</div>"
      ],
      "text/plain": [
       "   author_id                          author\n",
       "0          1                      A.S. Byatt\n",
       "1          2  Aesop/Laura Harris/Laura Gibbs\n",
       "2          3                 Agatha Christie\n",
       "3          4                   Alan Brennert\n",
       "4          5        Alan Moore/David   Lloyd"
      ]
     },
     "metadata": {},
     "output_type": "display_data"
    }
   ],
   "source": [
    "rez1 = read_head('authors')"
   ]
  },
  {
   "cell_type": "code",
   "execution_count": 4,
   "metadata": {},
   "outputs": [
    {
     "data": {
      "text/html": [
       "<div>\n",
       "<style scoped>\n",
       "    .dataframe tbody tr th:only-of-type {\n",
       "        vertical-align: middle;\n",
       "    }\n",
       "\n",
       "    .dataframe tbody tr th {\n",
       "        vertical-align: top;\n",
       "    }\n",
       "\n",
       "    .dataframe thead th {\n",
       "        text-align: right;\n",
       "    }\n",
       "</style>\n",
       "<table border=\"1\" class=\"dataframe\">\n",
       "  <thead>\n",
       "    <tr style=\"text-align: right;\">\n",
       "      <th></th>\n",
       "      <th>rating_id</th>\n",
       "      <th>book_id</th>\n",
       "      <th>username</th>\n",
       "      <th>rating</th>\n",
       "    </tr>\n",
       "  </thead>\n",
       "  <tbody>\n",
       "    <tr>\n",
       "      <th>0</th>\n",
       "      <td>1</td>\n",
       "      <td>1</td>\n",
       "      <td>ryanfranco</td>\n",
       "      <td>4</td>\n",
       "    </tr>\n",
       "    <tr>\n",
       "      <th>1</th>\n",
       "      <td>2</td>\n",
       "      <td>1</td>\n",
       "      <td>grantpatricia</td>\n",
       "      <td>2</td>\n",
       "    </tr>\n",
       "    <tr>\n",
       "      <th>2</th>\n",
       "      <td>3</td>\n",
       "      <td>1</td>\n",
       "      <td>brandtandrea</td>\n",
       "      <td>5</td>\n",
       "    </tr>\n",
       "    <tr>\n",
       "      <th>3</th>\n",
       "      <td>4</td>\n",
       "      <td>2</td>\n",
       "      <td>lorichen</td>\n",
       "      <td>3</td>\n",
       "    </tr>\n",
       "    <tr>\n",
       "      <th>4</th>\n",
       "      <td>5</td>\n",
       "      <td>2</td>\n",
       "      <td>mariokeller</td>\n",
       "      <td>2</td>\n",
       "    </tr>\n",
       "  </tbody>\n",
       "</table>\n",
       "</div>"
      ],
      "text/plain": [
       "   rating_id  book_id       username  rating\n",
       "0          1        1     ryanfranco       4\n",
       "1          2        1  grantpatricia       2\n",
       "2          3        1   brandtandrea       5\n",
       "3          4        2       lorichen       3\n",
       "4          5        2    mariokeller       2"
      ]
     },
     "metadata": {},
     "output_type": "display_data"
    }
   ],
   "source": [
    "rez2 = read_head('ratings')"
   ]
  },
  {
   "cell_type": "code",
   "execution_count": 5,
   "metadata": {},
   "outputs": [
    {
     "data": {
      "text/html": [
       "<div>\n",
       "<style scoped>\n",
       "    .dataframe tbody tr th:only-of-type {\n",
       "        vertical-align: middle;\n",
       "    }\n",
       "\n",
       "    .dataframe tbody tr th {\n",
       "        vertical-align: top;\n",
       "    }\n",
       "\n",
       "    .dataframe thead th {\n",
       "        text-align: right;\n",
       "    }\n",
       "</style>\n",
       "<table border=\"1\" class=\"dataframe\">\n",
       "  <thead>\n",
       "    <tr style=\"text-align: right;\">\n",
       "      <th></th>\n",
       "      <th>review_id</th>\n",
       "      <th>book_id</th>\n",
       "      <th>username</th>\n",
       "      <th>text</th>\n",
       "    </tr>\n",
       "  </thead>\n",
       "  <tbody>\n",
       "    <tr>\n",
       "      <th>0</th>\n",
       "      <td>1</td>\n",
       "      <td>1</td>\n",
       "      <td>brandtandrea</td>\n",
       "      <td>Mention society tell send professor analysis. ...</td>\n",
       "    </tr>\n",
       "    <tr>\n",
       "      <th>1</th>\n",
       "      <td>2</td>\n",
       "      <td>1</td>\n",
       "      <td>ryanfranco</td>\n",
       "      <td>Foot glass pretty audience hit themselves. Amo...</td>\n",
       "    </tr>\n",
       "    <tr>\n",
       "      <th>2</th>\n",
       "      <td>3</td>\n",
       "      <td>2</td>\n",
       "      <td>lorichen</td>\n",
       "      <td>Listen treat keep worry. Miss husband tax but ...</td>\n",
       "    </tr>\n",
       "    <tr>\n",
       "      <th>3</th>\n",
       "      <td>4</td>\n",
       "      <td>3</td>\n",
       "      <td>johnsonamanda</td>\n",
       "      <td>Finally month interesting blue could nature cu...</td>\n",
       "    </tr>\n",
       "    <tr>\n",
       "      <th>4</th>\n",
       "      <td>5</td>\n",
       "      <td>3</td>\n",
       "      <td>scotttamara</td>\n",
       "      <td>Nation purpose heavy give wait song will. List...</td>\n",
       "    </tr>\n",
       "  </tbody>\n",
       "</table>\n",
       "</div>"
      ],
      "text/plain": [
       "   review_id  book_id       username  \\\n",
       "0          1        1   brandtandrea   \n",
       "1          2        1     ryanfranco   \n",
       "2          3        2       lorichen   \n",
       "3          4        3  johnsonamanda   \n",
       "4          5        3    scotttamara   \n",
       "\n",
       "                                                text  \n",
       "0  Mention society tell send professor analysis. ...  \n",
       "1  Foot glass pretty audience hit themselves. Amo...  \n",
       "2  Listen treat keep worry. Miss husband tax but ...  \n",
       "3  Finally month interesting blue could nature cu...  \n",
       "4  Nation purpose heavy give wait song will. List...  "
      ]
     },
     "metadata": {},
     "output_type": "display_data"
    }
   ],
   "source": [
    "rez3 = read_head('reviews')"
   ]
  },
  {
   "cell_type": "code",
   "execution_count": 6,
   "metadata": {},
   "outputs": [
    {
     "data": {
      "text/html": [
       "<div>\n",
       "<style scoped>\n",
       "    .dataframe tbody tr th:only-of-type {\n",
       "        vertical-align: middle;\n",
       "    }\n",
       "\n",
       "    .dataframe tbody tr th {\n",
       "        vertical-align: top;\n",
       "    }\n",
       "\n",
       "    .dataframe thead th {\n",
       "        text-align: right;\n",
       "    }\n",
       "</style>\n",
       "<table border=\"1\" class=\"dataframe\">\n",
       "  <thead>\n",
       "    <tr style=\"text-align: right;\">\n",
       "      <th></th>\n",
       "      <th>publisher_id</th>\n",
       "      <th>publisher</th>\n",
       "    </tr>\n",
       "  </thead>\n",
       "  <tbody>\n",
       "    <tr>\n",
       "      <th>0</th>\n",
       "      <td>1</td>\n",
       "      <td>Ace</td>\n",
       "    </tr>\n",
       "    <tr>\n",
       "      <th>1</th>\n",
       "      <td>2</td>\n",
       "      <td>Ace Book</td>\n",
       "    </tr>\n",
       "    <tr>\n",
       "      <th>2</th>\n",
       "      <td>3</td>\n",
       "      <td>Ace Books</td>\n",
       "    </tr>\n",
       "    <tr>\n",
       "      <th>3</th>\n",
       "      <td>4</td>\n",
       "      <td>Ace Hardcover</td>\n",
       "    </tr>\n",
       "    <tr>\n",
       "      <th>4</th>\n",
       "      <td>5</td>\n",
       "      <td>Addison Wesley Publishing Company</td>\n",
       "    </tr>\n",
       "  </tbody>\n",
       "</table>\n",
       "</div>"
      ],
      "text/plain": [
       "   publisher_id                          publisher\n",
       "0             1                                Ace\n",
       "1             2                           Ace Book\n",
       "2             3                          Ace Books\n",
       "3             4                      Ace Hardcover\n",
       "4             5  Addison Wesley Publishing Company"
      ]
     },
     "metadata": {},
     "output_type": "display_data"
    }
   ],
   "source": [
    "rez4 = read_head('publishers')"
   ]
  },
  {
   "cell_type": "markdown",
   "metadata": {},
   "source": [
    "## Создадим запросы для ответов на поставленные вопросы\n"
   ]
  },
  {
   "cell_type": "markdown",
   "metadata": {},
   "source": [
    "### Посчитаем, сколько книг вышло после 1 января 2000 года"
   ]
  },
  {
   "cell_type": "code",
   "execution_count": 7,
   "metadata": {},
   "outputs": [
    {
     "data": {
      "text/plain": [
       "'Количество книг, выпущенных после 01.01.2000 г.'"
      ]
     },
     "metadata": {},
     "output_type": "display_data"
    },
    {
     "data": {
      "text/html": [
       "<div>\n",
       "<style scoped>\n",
       "    .dataframe tbody tr th:only-of-type {\n",
       "        vertical-align: middle;\n",
       "    }\n",
       "\n",
       "    .dataframe tbody tr th {\n",
       "        vertical-align: top;\n",
       "    }\n",
       "\n",
       "    .dataframe thead th {\n",
       "        text-align: right;\n",
       "    }\n",
       "</style>\n",
       "<table border=\"1\" class=\"dataframe\">\n",
       "  <thead>\n",
       "    <tr style=\"text-align: right;\">\n",
       "      <th></th>\n",
       "      <th>count</th>\n",
       "    </tr>\n",
       "  </thead>\n",
       "  <tbody>\n",
       "    <tr>\n",
       "      <th>0</th>\n",
       "      <td>819</td>\n",
       "    </tr>\n",
       "  </tbody>\n",
       "</table>\n",
       "</div>"
      ],
      "text/plain": [
       "   count\n",
       "0    819"
      ]
     },
     "metadata": {},
     "output_type": "display_data"
    }
   ],
   "source": [
    "query1 = '''\n",
    "    SELECT COUNT(book_id)\n",
    "    FROM books as b\n",
    "    WHERE b.publication_date::date > '2000-01-01'\n",
    "        \n",
    "    '''\n",
    "books_tot = pd.io.sql.read_sql(query1, con = engine) \n",
    "display('Количество книг, выпущенных после 01.01.2000 г.',books_tot)\n",
    " "
   ]
  },
  {
   "cell_type": "markdown",
   "metadata": {},
   "source": [
    "**После 01.01.2000г. выпущено 819 книг**"
   ]
  },
  {
   "cell_type": "markdown",
   "metadata": {},
   "source": [
    "### Для каждой книги посчитаем количество обзоров и среднюю оценку"
   ]
  },
  {
   "cell_type": "code",
   "execution_count": 9,
   "metadata": {},
   "outputs": [
    {
     "data": {
      "text/plain": [
       "'Количество обзоров и средняя оценка книг'"
      ]
     },
     "metadata": {},
     "output_type": "display_data"
    },
    {
     "data": {
      "text/html": [
       "<div>\n",
       "<style scoped>\n",
       "    .dataframe tbody tr th:only-of-type {\n",
       "        vertical-align: middle;\n",
       "    }\n",
       "\n",
       "    .dataframe tbody tr th {\n",
       "        vertical-align: top;\n",
       "    }\n",
       "\n",
       "    .dataframe thead th {\n",
       "        text-align: right;\n",
       "    }\n",
       "</style>\n",
       "<table border=\"1\" class=\"dataframe\">\n",
       "  <thead>\n",
       "    <tr style=\"text-align: right;\">\n",
       "      <th></th>\n",
       "      <th>Наименование</th>\n",
       "      <th>book_id</th>\n",
       "      <th>Количество обзоров</th>\n",
       "      <th>Средняя оценка</th>\n",
       "    </tr>\n",
       "  </thead>\n",
       "  <tbody>\n",
       "    <tr>\n",
       "      <th>0</th>\n",
       "      <td>Twilight (Twilight  #1)</td>\n",
       "      <td>948</td>\n",
       "      <td>7</td>\n",
       "      <td>3.66</td>\n",
       "    </tr>\n",
       "    <tr>\n",
       "      <th>1</th>\n",
       "      <td>Harry Potter and the Prisoner of Azkaban (Harr...</td>\n",
       "      <td>302</td>\n",
       "      <td>6</td>\n",
       "      <td>4.41</td>\n",
       "    </tr>\n",
       "    <tr>\n",
       "      <th>2</th>\n",
       "      <td>Harry Potter and the Chamber of Secrets (Harry...</td>\n",
       "      <td>299</td>\n",
       "      <td>6</td>\n",
       "      <td>4.29</td>\n",
       "    </tr>\n",
       "    <tr>\n",
       "      <th>3</th>\n",
       "      <td>The Book Thief</td>\n",
       "      <td>656</td>\n",
       "      <td>6</td>\n",
       "      <td>4.26</td>\n",
       "    </tr>\n",
       "    <tr>\n",
       "      <th>4</th>\n",
       "      <td>The Glass Castle</td>\n",
       "      <td>734</td>\n",
       "      <td>6</td>\n",
       "      <td>4.21</td>\n",
       "    </tr>\n",
       "    <tr>\n",
       "      <th>...</th>\n",
       "      <td>...</td>\n",
       "      <td>...</td>\n",
       "      <td>...</td>\n",
       "      <td>...</td>\n",
       "    </tr>\n",
       "    <tr>\n",
       "      <th>995</th>\n",
       "      <td>Disney's Beauty and the Beast (A Little Golden...</td>\n",
       "      <td>191</td>\n",
       "      <td>0</td>\n",
       "      <td>4.00</td>\n",
       "    </tr>\n",
       "    <tr>\n",
       "      <th>996</th>\n",
       "      <td>Essential Tales and Poems</td>\n",
       "      <td>221</td>\n",
       "      <td>0</td>\n",
       "      <td>4.00</td>\n",
       "    </tr>\n",
       "    <tr>\n",
       "      <th>997</th>\n",
       "      <td>Leonardo's Notebooks</td>\n",
       "      <td>387</td>\n",
       "      <td>0</td>\n",
       "      <td>4.00</td>\n",
       "    </tr>\n",
       "    <tr>\n",
       "      <th>998</th>\n",
       "      <td>Anne Rice's The Vampire Lestat: A Graphic Novel</td>\n",
       "      <td>83</td>\n",
       "      <td>0</td>\n",
       "      <td>3.67</td>\n",
       "    </tr>\n",
       "    <tr>\n",
       "      <th>999</th>\n",
       "      <td>The Natural Way to Draw</td>\n",
       "      <td>808</td>\n",
       "      <td>0</td>\n",
       "      <td>3.00</td>\n",
       "    </tr>\n",
       "  </tbody>\n",
       "</table>\n",
       "<p>1000 rows × 4 columns</p>\n",
       "</div>"
      ],
      "text/plain": [
       "                                          Наименование   book_id  \\\n",
       "0                              Twilight (Twilight  #1)       948   \n",
       "1    Harry Potter and the Prisoner of Azkaban (Harr...       302   \n",
       "2    Harry Potter and the Chamber of Secrets (Harry...       299   \n",
       "3                                       The Book Thief       656   \n",
       "4                                     The Glass Castle       734   \n",
       "..                                                 ...       ...   \n",
       "995  Disney's Beauty and the Beast (A Little Golden...       191   \n",
       "996                          Essential Tales and Poems       221   \n",
       "997                               Leonardo's Notebooks       387   \n",
       "998    Anne Rice's The Vampire Lestat: A Graphic Novel        83   \n",
       "999                            The Natural Way to Draw       808   \n",
       "\n",
       "     Количество обзоров  Средняя оценка  \n",
       "0                     7            3.66  \n",
       "1                     6            4.41  \n",
       "2                     6            4.29  \n",
       "3                     6            4.26  \n",
       "4                     6            4.21  \n",
       "..                  ...             ...  \n",
       "995                   0            4.00  \n",
       "996                   0            4.00  \n",
       "997                   0            4.00  \n",
       "998                   0            3.67  \n",
       "999                   0            3.00  \n",
       "\n",
       "[1000 rows x 4 columns]"
      ]
     },
     "metadata": {},
     "output_type": "display_data"
    }
   ],
   "source": [
    "query2 = '''\n",
    "    SELECT DISTINCT  b.title,b.book_id, \n",
    "           COUNT (DISTINCT rew.review_id) rew,\n",
    "           ROUND(AVG (rat.rating),2)\n",
    "    FROM books b  LEFT JOIN reviews rew ON b.book_id = rew.book_id\n",
    "    JOIN ratings rat ON b.book_id = rat.book_id\n",
    "    GROUP BY b.title,b.book_id\n",
    "    ORDER BY rew DESC, ROUND(AVG (rat.rating),2) DESC \n",
    "    '''\n",
    "books_r = pd.io.sql.read_sql(query2, con = engine) \n",
    "books_r.columns = ['Наименование',' book_id','Количество обзоров','Средняя оценка']\n",
    "display('Количество обзоров и средняя оценка книг',books_r)"
   ]
  },
  {
   "cell_type": "markdown",
   "metadata": {},
   "source": [
    "**Больше всего обзоров  вышло на \"Сумерки\", но средняя оценка у них ниже, чем у разных частей Грри Поттера со довольно высокой среденей оценкой (4.41 и 4.29) и с 6 обзорами на каждую часть. Всего ест данные о 1000 книгах.**"
   ]
  },
  {
   "cell_type": "markdown",
   "metadata": {},
   "source": [
    "### Исключим из анализа брошюры: определим издательство, которое выпустило наибольшее число книг толще 50 страниц. "
   ]
  },
  {
   "cell_type": "code",
   "execution_count": 10,
   "metadata": {},
   "outputs": [
    {
     "data": {
      "text/plain": [
       "'Издательство'"
      ]
     },
     "metadata": {},
     "output_type": "display_data"
    },
    {
     "data": {
      "text/html": [
       "<div>\n",
       "<style scoped>\n",
       "    .dataframe tbody tr th:only-of-type {\n",
       "        vertical-align: middle;\n",
       "    }\n",
       "\n",
       "    .dataframe tbody tr th {\n",
       "        vertical-align: top;\n",
       "    }\n",
       "\n",
       "    .dataframe thead th {\n",
       "        text-align: right;\n",
       "    }\n",
       "</style>\n",
       "<table border=\"1\" class=\"dataframe\">\n",
       "  <thead>\n",
       "    <tr style=\"text-align: right;\">\n",
       "      <th></th>\n",
       "      <th>publisher</th>\n",
       "    </tr>\n",
       "  </thead>\n",
       "  <tbody>\n",
       "    <tr>\n",
       "      <th>0</th>\n",
       "      <td>Penguin Books</td>\n",
       "    </tr>\n",
       "  </tbody>\n",
       "</table>\n",
       "</div>"
      ],
      "text/plain": [
       "       publisher\n",
       "0  Penguin Books"
      ]
     },
     "metadata": {},
     "output_type": "display_data"
    }
   ],
   "source": [
    "query3 = '''\n",
    "     WITH pub AS (SELECT b.publisher_id, COUNT(b.book_id), b.num_pages\n",
    "    FROM books b\n",
    "    WHERE b.num_pages > 50\n",
    "    GROUP BY  b.publisher_id, b.num_pages\n",
    "    ORDER BY COUNT(b.book_id) DESC\n",
    "    LIMIT 1) \n",
    "    SELECT p.publisher\n",
    "    FROM publishers p join pub  ON pub.publisher_id = p.publisher_id\n",
    "    '''\n",
    "publ_r = pd.io.sql.read_sql(query3, con = engine) \n",
    "display ('Издательство', publ_r)"
   ]
  },
  {
   "cell_type": "markdown",
   "metadata": {},
   "source": [
    "**Издательство, которое выпустило наибольшее число книг толще 50 страниц - \"Penguin Books\"**"
   ]
  },
  {
   "cell_type": "markdown",
   "metadata": {},
   "source": [
    "### Определим автора с самой высокой средней оценкой книг. Будем учитывать только книги с 50 и более оценками."
   ]
  },
  {
   "cell_type": "code",
   "execution_count": 11,
   "metadata": {},
   "outputs": [
    {
     "data": {
      "text/plain": [
       "'Автор книг с самой высокой средней оценкой'"
      ]
     },
     "metadata": {},
     "output_type": "display_data"
    },
    {
     "data": {
      "text/html": [
       "<div>\n",
       "<style scoped>\n",
       "    .dataframe tbody tr th:only-of-type {\n",
       "        vertical-align: middle;\n",
       "    }\n",
       "\n",
       "    .dataframe tbody tr th {\n",
       "        vertical-align: top;\n",
       "    }\n",
       "\n",
       "    .dataframe thead th {\n",
       "        text-align: right;\n",
       "    }\n",
       "</style>\n",
       "<table border=\"1\" class=\"dataframe\">\n",
       "  <thead>\n",
       "    <tr style=\"text-align: right;\">\n",
       "      <th></th>\n",
       "      <th>author</th>\n",
       "    </tr>\n",
       "  </thead>\n",
       "  <tbody>\n",
       "    <tr>\n",
       "      <th>0</th>\n",
       "      <td>J.K. Rowling/Mary GrandPré</td>\n",
       "    </tr>\n",
       "  </tbody>\n",
       "</table>\n",
       "</div>"
      ],
      "text/plain": [
       "                       author\n",
       "0  J.K. Rowling/Mary GrandPré"
      ]
     },
     "metadata": {},
     "output_type": "display_data"
    }
   ],
   "source": [
    "query4 = '''\n",
    "    WITH b_avg AS (SELECT   b.author_id,rat.book_id, COUNT(rat.rating_id),AVG(rat.rating)\n",
    "    FROM ratings rat join books b on rat.book_id = b.book_id\n",
    "    GROUP BY b.author_id,rat.book_id\n",
    "    HAVING COUNT(rat.rating_id) >=50\n",
    "    ORDER BY AVG (rat.rating) DESC)\n",
    "    \n",
    "    SELECT a.author\n",
    "    FROM authors a join \n",
    "    (SELECT b_avg.author_id, AVG (b_avg.avg) auth\n",
    "    FROM b_avg\n",
    "    GROUP BY   b_avg.author_id \n",
    "    ORDER BY auth DESC\n",
    "    LIMIT 1) auth ON  a.author_id = auth.author_id\n",
    "    \n",
    "    '''\n",
    "auth = pd.io.sql.read_sql(query4, con = engine) \n",
    "display ('Автор книг с самой высокой средней оценкой', auth)"
   ]
  },
  {
   "cell_type": "markdown",
   "metadata": {},
   "source": [
    "**Автор с самой высокой средней оценкой книг среди книг с 50 и более оценками -Джоан Роулинг с книгами, иллюстрированными Мэри Грандпре**"
   ]
  },
  {
   "cell_type": "markdown",
   "metadata": {},
   "source": [
    "### Посчитаем среднее количество обзоров от пользователей, которые поставили больше 50 оценок."
   ]
  },
  {
   "cell_type": "code",
   "execution_count": 13,
   "metadata": {},
   "outputs": [
    {
     "data": {
      "text/plain": [
       "'среднее количество обзоров от пользователей, которые поставили больше 50 оценок'"
      ]
     },
     "metadata": {},
     "output_type": "display_data"
    },
    {
     "data": {
      "text/html": [
       "<div>\n",
       "<style scoped>\n",
       "    .dataframe tbody tr th:only-of-type {\n",
       "        vertical-align: middle;\n",
       "    }\n",
       "\n",
       "    .dataframe tbody tr th {\n",
       "        vertical-align: top;\n",
       "    }\n",
       "\n",
       "    .dataframe thead th {\n",
       "        text-align: right;\n",
       "    }\n",
       "</style>\n",
       "<table border=\"1\" class=\"dataframe\">\n",
       "  <thead>\n",
       "    <tr style=\"text-align: right;\">\n",
       "      <th></th>\n",
       "      <th>round</th>\n",
       "    </tr>\n",
       "  </thead>\n",
       "  <tbody>\n",
       "    <tr>\n",
       "      <th>0</th>\n",
       "      <td>24.0</td>\n",
       "    </tr>\n",
       "  </tbody>\n",
       "</table>\n",
       "</div>"
      ],
      "text/plain": [
       "   round\n",
       "0   24.0"
      ]
     },
     "metadata": {},
     "output_type": "display_data"
    }
   ],
   "source": [
    "query5 = '''WITH us AS (SELECT  DISTINCT rat.username as name, COUNT (rat.rating_id) as count\n",
    "    FROM ratings rat\n",
    "    GROUP BY name\n",
    "    HAVING COUNT (rat.rating_id)  > 50\n",
    "    ORDER BY count DESC)\n",
    "    \n",
    "    SELECT ROUND (AVG(rew.count),0)\n",
    "    FROM (SELECT DISTINCT rew.username, COUNT (rew.review_id )\n",
    "    FROM us LEFT JOIN reviews rew ON us.name = rew.username\n",
    "    GROUP BY rew.username)rew\n",
    "    '''\n",
    "rew = pd.io.sql.read_sql(query5, con = engine) \n",
    "display ('среднее количество обзоров от пользователей, которые поставили больше 50 оценок', rew)"
   ]
  },
  {
   "cell_type": "markdown",
   "metadata": {},
   "source": [
    "**Пользователей, которые поставили больше 50 оценок, в среднем сделали 24 обзора**"
   ]
  },
  {
   "cell_type": "markdown",
   "metadata": {},
   "source": [
    "**Вывод**\n",
    "\n",
    "*После подключения к базе и изучения состава данных, мы составили запросы и  получили слежующие ответы на поставленные вопросы:*\n",
    "\n",
    "- После 01.01.2000г. выпущено 819 книг.\n",
    "\n",
    "- В Базе данных есть данные о рейтинге и обзорах гна 1000 книг, среди которых больше всего обзоров вышло на \"Сумерки\",но средняя оценка у них ниже, чем у разных частей Грри Поттера, котороые собрали по 6 обзоров, и имеют довольно высокую среденюю оценку (4.41 и 4.29). \n",
    "\n",
    "- Издательство, которое выпустило наибольшее число книг толще 50 страниц - \"Penguin Books\"\n",
    "\n",
    "- Автор с самой высокой средней оценкой книг среди книг с 50 и более оценками -Джоан Роулинг с книгами, иллюстрированными Мэри Грандпре\n",
    "- Пользователей, которые поставили больше 50 оценок, в среднем сделали 24 обзора\n"
   ]
  },
  {
   "cell_type": "code",
   "execution_count": null,
   "metadata": {},
   "outputs": [],
   "source": []
  }
 ],
 "metadata": {
  "ExecuteTimeLog": [
   {
    "duration": 76,
    "start_time": "2023-03-21T08:38:28.783Z"
   },
   {
    "duration": 8066,
    "start_time": "2023-03-21T08:38:49.894Z"
   },
   {
    "duration": 52,
    "start_time": "2023-03-21T08:45:33.598Z"
   },
   {
    "duration": 73,
    "start_time": "2023-03-21T08:48:17.581Z"
   },
   {
    "duration": 443,
    "start_time": "2023-03-21T08:48:30.114Z"
   },
   {
    "duration": 115,
    "start_time": "2023-03-21T08:49:36.228Z"
   },
   {
    "duration": 128,
    "start_time": "2023-03-21T08:53:24.359Z"
   },
   {
    "duration": 12,
    "start_time": "2023-03-21T08:53:32.091Z"
   },
   {
    "duration": 11,
    "start_time": "2023-03-21T08:53:34.308Z"
   },
   {
    "duration": 9,
    "start_time": "2023-03-21T08:53:46.117Z"
   },
   {
    "duration": 13,
    "start_time": "2023-03-21T08:53:52.228Z"
   },
   {
    "duration": 132,
    "start_time": "2023-03-21T08:55:51.651Z"
   },
   {
    "duration": 118,
    "start_time": "2023-03-21T08:56:15.915Z"
   },
   {
    "duration": 64,
    "start_time": "2023-03-21T08:56:39.942Z"
   },
   {
    "duration": 136,
    "start_time": "2023-03-21T08:56:43.229Z"
   },
   {
    "duration": 112,
    "start_time": "2023-03-21T08:56:53.520Z"
   },
   {
    "duration": 122,
    "start_time": "2023-03-21T08:57:26.519Z"
   },
   {
    "duration": 121,
    "start_time": "2023-03-21T08:57:36.599Z"
   },
   {
    "duration": 116,
    "start_time": "2023-03-21T08:57:49.932Z"
   },
   {
    "duration": 209,
    "start_time": "2023-03-21T08:58:06.991Z"
   },
   {
    "duration": 118,
    "start_time": "2023-03-21T08:58:18.810Z"
   },
   {
    "duration": 130,
    "start_time": "2023-03-21T08:59:31.596Z"
   },
   {
    "duration": 112,
    "start_time": "2023-03-21T08:59:40.118Z"
   },
   {
    "duration": 118,
    "start_time": "2023-03-21T08:59:43.660Z"
   },
   {
    "duration": 15820,
    "start_time": "2023-03-21T09:00:08.394Z"
   },
   {
    "duration": 83,
    "start_time": "2023-03-21T09:00:24.216Z"
   },
   {
    "duration": 0,
    "start_time": "2023-03-21T09:00:42.695Z"
   },
   {
    "duration": 0,
    "start_time": "2023-03-21T09:00:42.697Z"
   },
   {
    "duration": 8,
    "start_time": "2023-03-21T09:00:56.376Z"
   },
   {
    "duration": 10,
    "start_time": "2023-03-21T09:00:56.948Z"
   },
   {
    "duration": 10,
    "start_time": "2023-03-21T09:01:14.017Z"
   },
   {
    "duration": 4,
    "start_time": "2023-03-21T09:01:23.541Z"
   },
   {
    "duration": 27,
    "start_time": "2023-03-21T09:02:07.491Z"
   },
   {
    "duration": 6,
    "start_time": "2023-03-21T09:02:07.520Z"
   },
   {
    "duration": 12,
    "start_time": "2023-03-21T09:02:19.987Z"
   },
   {
    "duration": 99,
    "start_time": "2023-03-21T09:02:25.422Z"
   },
   {
    "duration": 12,
    "start_time": "2023-03-21T09:02:28.490Z"
   },
   {
    "duration": 9,
    "start_time": "2023-03-21T09:02:34.387Z"
   },
   {
    "duration": 9,
    "start_time": "2023-03-21T09:03:15.391Z"
   },
   {
    "duration": 6,
    "start_time": "2023-03-21T09:03:18.158Z"
   },
   {
    "duration": 9,
    "start_time": "2023-03-21T09:03:18.615Z"
   },
   {
    "duration": 5,
    "start_time": "2023-03-21T09:03:24.591Z"
   },
   {
    "duration": 8,
    "start_time": "2023-03-21T09:03:24.902Z"
   },
   {
    "duration": 9,
    "start_time": "2023-03-21T09:03:39.685Z"
   },
   {
    "duration": 11,
    "start_time": "2023-03-21T09:03:48.093Z"
   },
   {
    "duration": 9,
    "start_time": "2023-03-21T09:04:14.351Z"
   },
   {
    "duration": 4,
    "start_time": "2023-03-21T09:04:36.942Z"
   },
   {
    "duration": 6,
    "start_time": "2023-03-21T09:04:47.776Z"
   },
   {
    "duration": 11,
    "start_time": "2023-03-21T09:05:10.582Z"
   },
   {
    "duration": 9,
    "start_time": "2023-03-21T09:05:26.453Z"
   },
   {
    "duration": 347,
    "start_time": "2023-03-21T09:05:36.039Z"
   },
   {
    "duration": 113,
    "start_time": "2023-03-21T09:05:47.190Z"
   },
   {
    "duration": 116,
    "start_time": "2023-03-21T09:05:51.031Z"
   },
   {
    "duration": 108,
    "start_time": "2023-03-21T09:05:58.560Z"
   },
   {
    "duration": 114,
    "start_time": "2023-03-21T09:06:03.766Z"
   },
   {
    "duration": 190,
    "start_time": "2023-03-21T09:06:42.024Z"
   },
   {
    "duration": 194,
    "start_time": "2023-03-21T09:07:00.545Z"
   },
   {
    "duration": 178,
    "start_time": "2023-03-21T09:07:05.623Z"
   },
   {
    "duration": 323,
    "start_time": "2023-03-21T09:07:35.443Z"
   },
   {
    "duration": 95,
    "start_time": "2023-03-21T09:07:45.227Z"
   },
   {
    "duration": 189,
    "start_time": "2023-03-21T09:07:57.815Z"
   },
   {
    "duration": 129,
    "start_time": "2023-03-21T09:08:00.107Z"
   },
   {
    "duration": 151,
    "start_time": "2023-03-21T09:08:05.698Z"
   },
   {
    "duration": 142,
    "start_time": "2023-03-21T09:08:12.066Z"
   },
   {
    "duration": 308,
    "start_time": "2023-03-21T09:08:51.781Z"
   },
   {
    "duration": 125,
    "start_time": "2023-03-21T09:08:58.402Z"
   },
   {
    "duration": 74,
    "start_time": "2023-03-21T09:09:25.182Z"
   },
   {
    "duration": 100,
    "start_time": "2023-03-21T09:09:32.839Z"
   },
   {
    "duration": 84,
    "start_time": "2023-03-21T09:09:33.591Z"
   },
   {
    "duration": 117,
    "start_time": "2023-03-21T09:09:34.025Z"
   },
   {
    "duration": 91,
    "start_time": "2023-03-21T09:09:34.328Z"
   },
   {
    "duration": 79,
    "start_time": "2023-03-21T09:09:34.624Z"
   },
   {
    "duration": 3,
    "start_time": "2023-03-21T09:10:18.432Z"
   },
   {
    "duration": 2,
    "start_time": "2023-03-21T09:10:46.160Z"
   },
   {
    "duration": 101,
    "start_time": "2023-03-21T09:10:56.522Z"
   },
   {
    "duration": 123,
    "start_time": "2023-03-21T09:10:56.831Z"
   },
   {
    "duration": 121,
    "start_time": "2023-03-21T09:10:57.142Z"
   },
   {
    "duration": 91,
    "start_time": "2023-03-21T09:10:57.495Z"
   },
   {
    "duration": 77,
    "start_time": "2023-03-21T09:10:57.898Z"
   },
   {
    "duration": 2,
    "start_time": "2023-03-21T09:13:24.801Z"
   },
   {
    "duration": 8,
    "start_time": "2023-03-21T09:16:01.074Z"
   },
   {
    "duration": 169,
    "start_time": "2023-03-21T09:16:09.257Z"
   },
   {
    "duration": 288,
    "start_time": "2023-03-21T09:16:28.846Z"
   },
   {
    "duration": 134,
    "start_time": "2023-03-21T09:17:26.047Z"
   },
   {
    "duration": 71,
    "start_time": "2023-03-21T09:19:18.923Z"
   },
   {
    "duration": 71,
    "start_time": "2023-03-21T09:19:33.599Z"
   },
   {
    "duration": 72,
    "start_time": "2023-03-21T09:19:59.874Z"
   },
   {
    "duration": 74,
    "start_time": "2023-03-21T09:20:29.337Z"
   },
   {
    "duration": 81,
    "start_time": "2023-03-21T09:21:10.475Z"
   },
   {
    "duration": 81,
    "start_time": "2023-03-21T09:21:15.507Z"
   },
   {
    "duration": 3,
    "start_time": "2023-03-21T09:25:50.442Z"
   },
   {
    "duration": 83,
    "start_time": "2023-03-21T09:32:53.726Z"
   },
   {
    "duration": 4,
    "start_time": "2023-03-21T09:34:44.528Z"
   },
   {
    "duration": 326,
    "start_time": "2023-03-21T09:35:11.397Z"
   },
   {
    "duration": 410,
    "start_time": "2023-03-21T09:35:23.782Z"
   },
   {
    "duration": 188,
    "start_time": "2023-03-21T09:37:15.314Z"
   },
   {
    "duration": 285,
    "start_time": "2023-03-21T09:37:56.555Z"
   },
   {
    "duration": 167,
    "start_time": "2023-03-21T09:39:02.081Z"
   },
   {
    "duration": 344,
    "start_time": "2023-03-21T09:39:51.519Z"
   },
   {
    "duration": 283,
    "start_time": "2023-03-21T09:40:19.552Z"
   },
   {
    "duration": 109,
    "start_time": "2023-03-21T09:40:32.156Z"
   },
   {
    "duration": 108,
    "start_time": "2023-03-21T09:41:18.227Z"
   },
   {
    "duration": 218,
    "start_time": "2023-03-21T09:41:41.025Z"
   },
   {
    "duration": 824,
    "start_time": "2023-03-21T09:42:08.981Z"
   },
   {
    "duration": 429,
    "start_time": "2023-03-21T09:42:13.530Z"
   },
   {
    "duration": 190,
    "start_time": "2023-03-21T09:42:19.627Z"
   },
   {
    "duration": 240,
    "start_time": "2023-03-21T09:43:25.212Z"
   },
   {
    "duration": 124,
    "start_time": "2023-03-21T09:45:23.228Z"
   },
   {
    "duration": 147,
    "start_time": "2023-03-21T09:47:04.865Z"
   },
   {
    "duration": 120,
    "start_time": "2023-03-21T09:47:18.354Z"
   },
   {
    "duration": 124,
    "start_time": "2023-03-21T09:48:10.626Z"
   },
   {
    "duration": 116,
    "start_time": "2023-03-21T09:48:30.953Z"
   },
   {
    "duration": 116,
    "start_time": "2023-03-21T09:50:23.018Z"
   },
   {
    "duration": 123,
    "start_time": "2023-03-21T09:51:20.122Z"
   },
   {
    "duration": 121,
    "start_time": "2023-03-21T09:51:45.244Z"
   },
   {
    "duration": 179,
    "start_time": "2023-03-21T09:59:47.369Z"
   },
   {
    "duration": 327,
    "start_time": "2023-03-21T10:00:10.362Z"
   },
   {
    "duration": 147,
    "start_time": "2023-03-21T10:00:23.220Z"
   },
   {
    "duration": 331,
    "start_time": "2023-03-21T10:00:40.813Z"
   },
   {
    "duration": 94,
    "start_time": "2023-03-21T10:01:04.295Z"
   },
   {
    "duration": 108,
    "start_time": "2023-03-21T10:01:37.118Z"
   },
   {
    "duration": 767,
    "start_time": "2023-03-21T10:05:06.565Z"
   },
   {
    "duration": 165,
    "start_time": "2023-03-21T10:05:28.307Z"
   },
   {
    "duration": 102,
    "start_time": "2023-03-21T10:06:13.592Z"
   },
   {
    "duration": 201,
    "start_time": "2023-03-21T10:19:19.623Z"
   },
   {
    "duration": 243,
    "start_time": "2023-03-21T10:20:01.193Z"
   },
   {
    "duration": 271,
    "start_time": "2023-03-21T10:20:10.400Z"
   },
   {
    "duration": 256,
    "start_time": "2023-03-21T10:20:28.576Z"
   },
   {
    "duration": 87,
    "start_time": "2023-03-21T10:20:38.386Z"
   },
   {
    "duration": 147,
    "start_time": "2023-03-21T10:23:12.716Z"
   },
   {
    "duration": 95,
    "start_time": "2023-03-21T10:24:53.091Z"
   },
   {
    "duration": 215,
    "start_time": "2023-03-21T10:25:01.994Z"
   },
   {
    "duration": 113,
    "start_time": "2023-03-21T10:25:14.217Z"
   },
   {
    "duration": 487,
    "start_time": "2023-03-21T10:27:21.371Z"
   },
   {
    "duration": 937,
    "start_time": "2023-03-21T10:27:49.422Z"
   },
   {
    "duration": 238,
    "start_time": "2023-03-21T10:29:37.361Z"
   },
   {
    "duration": 77,
    "start_time": "2023-03-21T10:29:58.253Z"
   },
   {
    "duration": 464,
    "start_time": "2023-03-21T10:35:09.254Z"
   },
   {
    "duration": 118,
    "start_time": "2023-03-21T10:35:42.125Z"
   },
   {
    "duration": 76,
    "start_time": "2023-03-21T10:36:36.320Z"
   },
   {
    "duration": 72,
    "start_time": "2023-03-21T10:37:09.825Z"
   },
   {
    "duration": 76,
    "start_time": "2023-03-21T10:38:42.023Z"
   },
   {
    "duration": 73,
    "start_time": "2023-03-21T10:39:18.378Z"
   },
   {
    "duration": 74,
    "start_time": "2023-03-21T10:40:10.184Z"
   },
   {
    "duration": 187,
    "start_time": "2023-03-21T10:58:04.797Z"
   },
   {
    "duration": 128,
    "start_time": "2023-03-21T10:58:49.732Z"
   },
   {
    "duration": 134,
    "start_time": "2023-03-21T10:59:08.091Z"
   },
   {
    "duration": 140,
    "start_time": "2023-03-21T10:59:16.699Z"
   },
   {
    "duration": 208,
    "start_time": "2023-03-21T10:59:47.784Z"
   },
   {
    "duration": 154,
    "start_time": "2023-03-21T11:00:27.067Z"
   },
   {
    "duration": 186,
    "start_time": "2023-03-21T11:01:00.592Z"
   },
   {
    "duration": 126,
    "start_time": "2023-03-21T11:01:15.259Z"
   },
   {
    "duration": 130,
    "start_time": "2023-03-21T11:01:28.899Z"
   },
   {
    "duration": 71,
    "start_time": "2023-03-21T11:01:57.260Z"
   },
   {
    "duration": 74,
    "start_time": "2023-03-21T11:02:05.478Z"
   },
   {
    "duration": 71,
    "start_time": "2023-03-21T11:02:37.897Z"
   },
   {
    "duration": 180,
    "start_time": "2023-03-21T11:02:41.584Z"
   },
   {
    "duration": 74,
    "start_time": "2023-03-21T11:02:49.463Z"
   },
   {
    "duration": 76,
    "start_time": "2023-03-21T11:02:54.025Z"
   },
   {
    "duration": 118,
    "start_time": "2023-03-21T11:02:59.590Z"
   },
   {
    "duration": 71,
    "start_time": "2023-03-21T11:03:07.378Z"
   },
   {
    "duration": 73,
    "start_time": "2023-03-21T11:04:34.175Z"
   },
   {
    "duration": 77,
    "start_time": "2023-03-21T11:04:42.775Z"
   },
   {
    "duration": 155,
    "start_time": "2023-03-21T11:07:32.710Z"
   },
   {
    "duration": 80,
    "start_time": "2023-03-21T11:07:53.651Z"
   },
   {
    "duration": 74,
    "start_time": "2023-03-21T11:08:19.825Z"
   },
   {
    "duration": 73,
    "start_time": "2023-03-21T11:09:14.510Z"
   },
   {
    "duration": 77,
    "start_time": "2023-03-21T11:09:21.503Z"
   },
   {
    "duration": 75,
    "start_time": "2023-03-21T11:09:31.480Z"
   },
   {
    "duration": 71,
    "start_time": "2023-03-21T11:09:59.787Z"
   },
   {
    "duration": 75,
    "start_time": "2023-03-21T11:10:33.374Z"
   },
   {
    "duration": 8364,
    "start_time": "2023-03-21T11:18:08.320Z"
   },
   {
    "duration": 310,
    "start_time": "2023-03-21T11:18:16.686Z"
   },
   {
    "duration": 79,
    "start_time": "2023-03-21T11:18:16.998Z"
   },
   {
    "duration": 109,
    "start_time": "2023-03-21T11:18:17.080Z"
   },
   {
    "duration": 94,
    "start_time": "2023-03-21T11:18:17.191Z"
   },
   {
    "duration": 75,
    "start_time": "2023-03-21T11:18:17.287Z"
   },
   {
    "duration": 76,
    "start_time": "2023-03-21T11:18:17.364Z"
   },
   {
    "duration": 96,
    "start_time": "2023-03-21T11:18:17.441Z"
   },
   {
    "duration": 77,
    "start_time": "2023-03-21T11:18:17.539Z"
   },
   {
    "duration": 87,
    "start_time": "2023-03-21T11:18:17.618Z"
   },
   {
    "duration": 81,
    "start_time": "2023-03-21T11:18:17.706Z"
   },
   {
    "duration": 8514,
    "start_time": "2023-03-22T05:48:00.533Z"
   },
   {
    "duration": 58,
    "start_time": "2023-03-22T05:48:09.049Z"
   },
   {
    "duration": 13,
    "start_time": "2023-03-22T05:48:09.109Z"
   },
   {
    "duration": 71,
    "start_time": "2023-03-22T05:48:09.124Z"
   },
   {
    "duration": 24,
    "start_time": "2023-03-22T05:48:09.197Z"
   },
   {
    "duration": 16,
    "start_time": "2023-03-22T05:48:09.223Z"
   },
   {
    "duration": 13,
    "start_time": "2023-03-22T05:48:18.133Z"
   },
   {
    "duration": 32,
    "start_time": "2023-03-22T05:50:56.992Z"
   },
   {
    "duration": 29,
    "start_time": "2023-03-22T05:51:10.937Z"
   },
   {
    "duration": 228,
    "start_time": "2023-03-22T05:51:23.142Z"
   },
   {
    "duration": 95,
    "start_time": "2023-03-22T05:52:20.967Z"
   },
   {
    "duration": 31,
    "start_time": "2023-03-22T05:52:24.967Z"
   },
   {
    "duration": 129,
    "start_time": "2023-03-22T05:52:57.856Z"
   },
   {
    "duration": 30,
    "start_time": "2023-03-22T05:53:04.793Z"
   },
   {
    "duration": 21,
    "start_time": "2023-03-22T05:53:17.325Z"
   },
   {
    "duration": 33,
    "start_time": "2023-03-22T05:53:19.031Z"
   },
   {
    "duration": 36,
    "start_time": "2023-03-22T05:53:19.879Z"
   },
   {
    "duration": 34,
    "start_time": "2023-03-22T05:53:35.213Z"
   },
   {
    "duration": 35,
    "start_time": "2023-03-22T05:53:42.664Z"
   },
   {
    "duration": 34,
    "start_time": "2023-03-22T05:53:58.886Z"
   },
   {
    "duration": 40,
    "start_time": "2023-03-22T05:55:05.081Z"
   },
   {
    "duration": 40,
    "start_time": "2023-03-22T05:55:16.110Z"
   },
   {
    "duration": 29,
    "start_time": "2023-03-22T05:55:51.714Z"
   },
   {
    "duration": 29,
    "start_time": "2023-03-22T05:55:57.686Z"
   },
   {
    "duration": 31,
    "start_time": "2023-03-22T05:58:30.353Z"
   },
   {
    "duration": 31,
    "start_time": "2023-03-22T05:58:39.586Z"
   },
   {
    "duration": 476,
    "start_time": "2023-03-22T05:58:51.578Z"
   },
   {
    "duration": 94,
    "start_time": "2023-03-22T05:59:07.812Z"
   },
   {
    "duration": 32,
    "start_time": "2023-03-22T05:59:36.859Z"
   },
   {
    "duration": 34,
    "start_time": "2023-03-22T05:59:58.239Z"
   },
   {
    "duration": 30,
    "start_time": "2023-03-22T06:00:07.682Z"
   },
   {
    "duration": 30,
    "start_time": "2023-03-22T06:00:43.981Z"
   },
   {
    "duration": 31,
    "start_time": "2023-03-22T06:00:49.881Z"
   },
   {
    "duration": 32,
    "start_time": "2023-03-22T06:01:05.115Z"
   },
   {
    "duration": 42,
    "start_time": "2023-03-22T06:01:11.697Z"
   },
   {
    "duration": 34,
    "start_time": "2023-03-22T06:01:18.179Z"
   },
   {
    "duration": 31,
    "start_time": "2023-03-22T06:01:33.359Z"
   },
   {
    "duration": 32,
    "start_time": "2023-03-22T06:01:39.916Z"
   },
   {
    "duration": 124,
    "start_time": "2023-03-22T06:03:14.050Z"
   },
   {
    "duration": 31,
    "start_time": "2023-03-22T06:03:20.988Z"
   },
   {
    "duration": 96,
    "start_time": "2023-03-22T06:03:26.392Z"
   },
   {
    "duration": 33,
    "start_time": "2023-03-22T06:03:34.132Z"
   },
   {
    "duration": 91,
    "start_time": "2023-03-22T06:04:42.128Z"
   },
   {
    "duration": 31,
    "start_time": "2023-03-22T06:04:56.244Z"
   },
   {
    "duration": 97,
    "start_time": "2023-03-22T06:05:13.760Z"
   },
   {
    "duration": 113,
    "start_time": "2023-03-22T06:06:12.133Z"
   },
   {
    "duration": 33,
    "start_time": "2023-03-22T06:06:26.516Z"
   },
   {
    "duration": 30,
    "start_time": "2023-03-22T06:07:12.844Z"
   },
   {
    "duration": 118,
    "start_time": "2023-03-22T06:07:50.879Z"
   },
   {
    "duration": 31,
    "start_time": "2023-03-22T06:08:28.942Z"
   },
   {
    "duration": 31,
    "start_time": "2023-03-22T06:08:40.816Z"
   },
   {
    "duration": 32,
    "start_time": "2023-03-22T06:08:46.465Z"
   },
   {
    "duration": 129,
    "start_time": "2023-03-22T06:08:58.835Z"
   },
   {
    "duration": 32,
    "start_time": "2023-03-22T06:09:16.237Z"
   },
   {
    "duration": 118,
    "start_time": "2023-03-22T06:13:38.238Z"
   },
   {
    "duration": 126,
    "start_time": "2023-03-22T06:13:49.785Z"
   },
   {
    "duration": 18,
    "start_time": "2023-03-22T06:14:07.211Z"
   },
   {
    "duration": 84,
    "start_time": "2023-03-22T06:15:28.555Z"
   },
   {
    "duration": 16,
    "start_time": "2023-03-22T06:15:37.139Z"
   },
   {
    "duration": 29,
    "start_time": "2023-03-22T06:16:22.684Z"
   },
   {
    "duration": 17,
    "start_time": "2023-03-22T06:16:35.480Z"
   },
   {
    "duration": 90,
    "start_time": "2023-03-22T06:19:08.932Z"
   },
   {
    "duration": 17,
    "start_time": "2023-03-22T06:19:12.357Z"
   },
   {
    "duration": 15,
    "start_time": "2023-03-22T06:19:26.846Z"
   },
   {
    "duration": 18,
    "start_time": "2023-03-22T06:20:20.303Z"
   },
   {
    "duration": 105,
    "start_time": "2023-03-22T06:21:42.497Z"
   },
   {
    "duration": 98,
    "start_time": "2023-03-22T06:21:53.581Z"
   },
   {
    "duration": 18,
    "start_time": "2023-03-22T06:22:10.958Z"
   },
   {
    "duration": 108,
    "start_time": "2023-03-22T06:22:23.989Z"
   },
   {
    "duration": 108,
    "start_time": "2023-03-22T06:22:31.438Z"
   },
   {
    "duration": 5,
    "start_time": "2023-03-22T06:22:41.905Z"
   },
   {
    "duration": 3,
    "start_time": "2023-03-22T06:22:45.619Z"
   },
   {
    "duration": 42,
    "start_time": "2023-03-22T06:22:52.616Z"
   },
   {
    "duration": 124,
    "start_time": "2023-03-22T06:24:00.236Z"
   },
   {
    "duration": 115,
    "start_time": "2023-03-22T06:24:14.440Z"
   },
   {
    "duration": 15,
    "start_time": "2023-03-22T06:24:58.106Z"
   },
   {
    "duration": 16,
    "start_time": "2023-03-22T06:25:11.636Z"
   },
   {
    "duration": 2,
    "start_time": "2023-03-22T06:29:08.670Z"
   },
   {
    "duration": 4,
    "start_time": "2023-03-22T06:29:29.943Z"
   },
   {
    "duration": 17,
    "start_time": "2023-03-22T06:29:39.258Z"
   },
   {
    "duration": 38,
    "start_time": "2023-03-22T06:36:57.081Z"
   },
   {
    "duration": 31,
    "start_time": "2023-03-22T06:37:00.935Z"
   },
   {
    "duration": 38,
    "start_time": "2023-03-22T06:37:07.540Z"
   },
   {
    "duration": 34,
    "start_time": "2023-03-22T06:37:12.657Z"
   },
   {
    "duration": 31,
    "start_time": "2023-03-22T06:37:16.111Z"
   },
   {
    "duration": 89,
    "start_time": "2023-03-22T06:37:22.928Z"
   },
   {
    "duration": 34,
    "start_time": "2023-03-22T06:37:30.465Z"
   },
   {
    "duration": 33,
    "start_time": "2023-03-22T06:37:40.534Z"
   },
   {
    "duration": 9007,
    "start_time": "2023-03-22T06:38:06.292Z"
   },
   {
    "duration": 51,
    "start_time": "2023-03-22T06:38:15.302Z"
   },
   {
    "duration": 13,
    "start_time": "2023-03-22T06:38:15.354Z"
   },
   {
    "duration": 32,
    "start_time": "2023-03-22T06:38:15.369Z"
   },
   {
    "duration": 21,
    "start_time": "2023-03-22T06:38:15.403Z"
   },
   {
    "duration": 12,
    "start_time": "2023-03-22T06:38:15.426Z"
   },
   {
    "duration": 12,
    "start_time": "2023-03-22T06:38:15.440Z"
   },
   {
    "duration": 9,
    "start_time": "2023-03-22T06:38:15.453Z"
   },
   {
    "duration": 66,
    "start_time": "2023-03-22T06:38:15.464Z"
   },
   {
    "duration": 12,
    "start_time": "2023-03-22T06:38:15.533Z"
   },
   {
    "duration": 22,
    "start_time": "2023-03-22T06:38:15.547Z"
   },
   {
    "duration": 26,
    "start_time": "2023-03-22T06:38:15.570Z"
   },
   {
    "duration": 34,
    "start_time": "2023-03-22T06:38:15.598Z"
   },
   {
    "duration": 81,
    "start_time": "2023-03-22T22:04:22.065Z"
   }
  ],
  "kernelspec": {
   "display_name": "Python 3 (ipykernel)",
   "language": "python",
   "name": "python3"
  },
  "language_info": {
   "codemirror_mode": {
    "name": "ipython",
    "version": 3
   },
   "file_extension": ".py",
   "mimetype": "text/x-python",
   "name": "python",
   "nbconvert_exporter": "python",
   "pygments_lexer": "ipython3",
   "version": "3.9.5"
  },
  "toc": {
   "base_numbering": 1,
   "nav_menu": {},
   "number_sections": true,
   "sideBar": true,
   "skip_h1_title": true,
   "title_cell": "Table of Contents",
   "title_sidebar": "Contents",
   "toc_cell": false,
   "toc_position": {},
   "toc_section_display": true,
   "toc_window_display": false
  }
 },
 "nbformat": 4,
 "nbformat_minor": 2
}
