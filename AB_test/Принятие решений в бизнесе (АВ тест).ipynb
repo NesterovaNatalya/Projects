{
 "cells": [
  {
   "cell_type": "markdown",
   "metadata": {},
   "source": [
    "# ПРОЕКТ \"Принятие решений в бизнесе\""
   ]
  },
  {
   "cell_type": "markdown",
   "metadata": {},
   "source": [
    "# Описание проекта:\n",
    "**В данном проете мне, как аналитику крупного интернет - магазина, предстоит изучить сформулированные совместно с отделом маркетинга гипотезы, приоритизировать их, запустите A/B-тест и проанализировать его результаты.**\n",
    "\n",
    "Гипотезы будем приоритизировать двумя методами: без учёта обхвата и с учётом обхвата пользователй.\n",
    "\n",
    "Запуск А/В теста будем проводить на основе \"сырых\" и \"очищенных\" данных. Для этого предварительно проведём анализ данных с целью выявления экстремальных значений.\n",
    "\n",
    "В результате проекта должны быть сделаны выводи о результате проведения теста и выдвинуты рекомендации для бизнеса"
   ]
  },
  {
   "cell_type": "markdown",
   "metadata": {},
   "source": [
    "## Приоритизация гипотез."
   ]
  },
  {
   "cell_type": "markdown",
   "metadata": {},
   "source": [
    "### Подготовка данных"
   ]
  },
  {
   "cell_type": "markdown",
   "metadata": {},
   "source": [
    "#### Откроем файл с данными"
   ]
  },
  {
   "cell_type": "code",
   "execution_count": 1,
   "metadata": {},
   "outputs": [],
   "source": [
    "import pandas as pd\n",
    "import datetime as dt\n",
    "import numpy as np\n",
    "import matplotlib.pyplot as plt\n",
    "from pandas.plotting import register_matplotlib_converters\n",
    "import warnings\n",
    "import scipy.stats as stats"
   ]
  },
  {
   "cell_type": "code",
   "execution_count": 2,
   "metadata": {},
   "outputs": [
    {
     "data": {
      "text/html": [
       "<div>\n",
       "<style scoped>\n",
       "    .dataframe tbody tr th:only-of-type {\n",
       "        vertical-align: middle;\n",
       "    }\n",
       "\n",
       "    .dataframe tbody tr th {\n",
       "        vertical-align: top;\n",
       "    }\n",
       "\n",
       "    .dataframe thead th {\n",
       "        text-align: right;\n",
       "    }\n",
       "</style>\n",
       "<table border=\"1\" class=\"dataframe\">\n",
       "  <thead>\n",
       "    <tr style=\"text-align: right;\">\n",
       "      <th></th>\n",
       "      <th>Hypothesis</th>\n",
       "      <th>Reach</th>\n",
       "      <th>Impact</th>\n",
       "      <th>Confidence</th>\n",
       "      <th>Efforts</th>\n",
       "    </tr>\n",
       "  </thead>\n",
       "  <tbody>\n",
       "    <tr>\n",
       "      <th>0</th>\n",
       "      <td>Добавить два новых канала привлечения трафика,...</td>\n",
       "      <td>3</td>\n",
       "      <td>10</td>\n",
       "      <td>8</td>\n",
       "      <td>6</td>\n",
       "    </tr>\n",
       "    <tr>\n",
       "      <th>1</th>\n",
       "      <td>Запустить собственную службу доставки, что сок...</td>\n",
       "      <td>2</td>\n",
       "      <td>5</td>\n",
       "      <td>4</td>\n",
       "      <td>10</td>\n",
       "    </tr>\n",
       "    <tr>\n",
       "      <th>2</th>\n",
       "      <td>Добавить блоки рекомендаций товаров на сайт ин...</td>\n",
       "      <td>8</td>\n",
       "      <td>3</td>\n",
       "      <td>7</td>\n",
       "      <td>3</td>\n",
       "    </tr>\n",
       "    <tr>\n",
       "      <th>3</th>\n",
       "      <td>Изменить структура категорий, что увеличит кон...</td>\n",
       "      <td>8</td>\n",
       "      <td>3</td>\n",
       "      <td>3</td>\n",
       "      <td>8</td>\n",
       "    </tr>\n",
       "    <tr>\n",
       "      <th>4</th>\n",
       "      <td>Изменить цвет фона главной страницы, чтобы уве...</td>\n",
       "      <td>3</td>\n",
       "      <td>1</td>\n",
       "      <td>1</td>\n",
       "      <td>1</td>\n",
       "    </tr>\n",
       "    <tr>\n",
       "      <th>5</th>\n",
       "      <td>Добавить страницу отзывов клиентов о магазине,...</td>\n",
       "      <td>3</td>\n",
       "      <td>2</td>\n",
       "      <td>2</td>\n",
       "      <td>3</td>\n",
       "    </tr>\n",
       "    <tr>\n",
       "      <th>6</th>\n",
       "      <td>Показать на главной странице баннеры с актуаль...</td>\n",
       "      <td>5</td>\n",
       "      <td>3</td>\n",
       "      <td>8</td>\n",
       "      <td>3</td>\n",
       "    </tr>\n",
       "    <tr>\n",
       "      <th>7</th>\n",
       "      <td>Добавить форму подписки на все основные страни...</td>\n",
       "      <td>10</td>\n",
       "      <td>7</td>\n",
       "      <td>8</td>\n",
       "      <td>5</td>\n",
       "    </tr>\n",
       "    <tr>\n",
       "      <th>8</th>\n",
       "      <td>Запустить акцию, дающую скидку на товар в день...</td>\n",
       "      <td>1</td>\n",
       "      <td>9</td>\n",
       "      <td>9</td>\n",
       "      <td>5</td>\n",
       "    </tr>\n",
       "  </tbody>\n",
       "</table>\n",
       "</div>"
      ],
      "text/plain": [
       "                                          Hypothesis  Reach  Impact  \\\n",
       "0  Добавить два новых канала привлечения трафика,...      3      10   \n",
       "1  Запустить собственную службу доставки, что сок...      2       5   \n",
       "2  Добавить блоки рекомендаций товаров на сайт ин...      8       3   \n",
       "3  Изменить структура категорий, что увеличит кон...      8       3   \n",
       "4  Изменить цвет фона главной страницы, чтобы уве...      3       1   \n",
       "5  Добавить страницу отзывов клиентов о магазине,...      3       2   \n",
       "6  Показать на главной странице баннеры с актуаль...      5       3   \n",
       "7  Добавить форму подписки на все основные страни...     10       7   \n",
       "8  Запустить акцию, дающую скидку на товар в день...      1       9   \n",
       "\n",
       "   Confidence  Efforts  \n",
       "0           8        6  \n",
       "1           4       10  \n",
       "2           7        3  \n",
       "3           3        8  \n",
       "4           1        1  \n",
       "5           2        3  \n",
       "6           8        3  \n",
       "7           8        5  \n",
       "8           9        5  "
      ]
     },
     "metadata": {},
     "output_type": "display_data"
    }
   ],
   "source": [
    "data = pd.read_csv('/datasets/hypothesis.csv')\n",
    "display (data)"
   ]
  },
  {
   "cell_type": "markdown",
   "metadata": {},
   "source": [
    "#### Переименуем столбцы (переведём названия в нижний регистр)"
   ]
  },
  {
   "cell_type": "code",
   "execution_count": 3,
   "metadata": {},
   "outputs": [],
   "source": [
    "data.columns= data.columns.str.lower()"
   ]
  },
  {
   "cell_type": "markdown",
   "metadata": {},
   "source": [
    "### Применим метод ICE для приоритезации гипотез. Выведем таблицу сo столбцами названия гипотез и их приоритетом"
   ]
  },
  {
   "cell_type": "code",
   "execution_count": 4,
   "metadata": {},
   "outputs": [
    {
     "data": {
      "text/html": [
       "<div>\n",
       "<style scoped>\n",
       "    .dataframe tbody tr th:only-of-type {\n",
       "        vertical-align: middle;\n",
       "    }\n",
       "\n",
       "    .dataframe tbody tr th {\n",
       "        vertical-align: top;\n",
       "    }\n",
       "\n",
       "    .dataframe thead th {\n",
       "        text-align: right;\n",
       "    }\n",
       "</style>\n",
       "<table border=\"1\" class=\"dataframe\">\n",
       "  <thead>\n",
       "    <tr style=\"text-align: right;\">\n",
       "      <th></th>\n",
       "      <th>ICE</th>\n",
       "      <th>hypothesis</th>\n",
       "    </tr>\n",
       "  </thead>\n",
       "  <tbody>\n",
       "    <tr>\n",
       "      <th>8</th>\n",
       "      <td>16.200000</td>\n",
       "      <td>Запустить акцию, дающую скидку на товар в день рождения</td>\n",
       "    </tr>\n",
       "    <tr>\n",
       "      <th>0</th>\n",
       "      <td>13.333333</td>\n",
       "      <td>Добавить два новых канала привлечения трафика, что позволит привлекать на 30% больше пользователей</td>\n",
       "    </tr>\n",
       "    <tr>\n",
       "      <th>7</th>\n",
       "      <td>11.200000</td>\n",
       "      <td>Добавить форму подписки на все основные страницы, чтобы собрать базу клиентов для email-рассылок</td>\n",
       "    </tr>\n",
       "    <tr>\n",
       "      <th>6</th>\n",
       "      <td>8.000000</td>\n",
       "      <td>Показать на главной странице баннеры с актуальными акциями и распродажами, чтобы увеличить конверсию</td>\n",
       "    </tr>\n",
       "    <tr>\n",
       "      <th>2</th>\n",
       "      <td>7.000000</td>\n",
       "      <td>Добавить блоки рекомендаций товаров на сайт интернет магазина, чтобы повысить конверсию и средний чек заказа</td>\n",
       "    </tr>\n",
       "    <tr>\n",
       "      <th>1</th>\n",
       "      <td>2.000000</td>\n",
       "      <td>Запустить собственную службу доставки, что сократит срок доставки заказов</td>\n",
       "    </tr>\n",
       "    <tr>\n",
       "      <th>5</th>\n",
       "      <td>1.333333</td>\n",
       "      <td>Добавить страницу отзывов клиентов о магазине, что позволит увеличить количество заказов</td>\n",
       "    </tr>\n",
       "    <tr>\n",
       "      <th>3</th>\n",
       "      <td>1.125000</td>\n",
       "      <td>Изменить структура категорий, что увеличит конверсию, т.к. пользователи быстрее найдут нужный товар</td>\n",
       "    </tr>\n",
       "    <tr>\n",
       "      <th>4</th>\n",
       "      <td>1.000000</td>\n",
       "      <td>Изменить цвет фона главной страницы, чтобы увеличить вовлеченность пользователей</td>\n",
       "    </tr>\n",
       "  </tbody>\n",
       "</table>\n",
       "</div>"
      ],
      "text/plain": [
       "         ICE  \\\n",
       "8  16.200000   \n",
       "0  13.333333   \n",
       "7  11.200000   \n",
       "6   8.000000   \n",
       "2   7.000000   \n",
       "1   2.000000   \n",
       "5   1.333333   \n",
       "3   1.125000   \n",
       "4   1.000000   \n",
       "\n",
       "                                                                                                     hypothesis  \n",
       "8                                                       Запустить акцию, дающую скидку на товар в день рождения  \n",
       "0            Добавить два новых канала привлечения трафика, что позволит привлекать на 30% больше пользователей  \n",
       "7              Добавить форму подписки на все основные страницы, чтобы собрать базу клиентов для email-рассылок  \n",
       "6          Показать на главной странице баннеры с актуальными акциями и распродажами, чтобы увеличить конверсию  \n",
       "2  Добавить блоки рекомендаций товаров на сайт интернет магазина, чтобы повысить конверсию и средний чек заказа  \n",
       "1                                     Запустить собственную службу доставки, что сократит срок доставки заказов  \n",
       "5                      Добавить страницу отзывов клиентов о магазине, что позволит увеличить количество заказов  \n",
       "3           Изменить структура категорий, что увеличит конверсию, т.к. пользователи быстрее найдут нужный товар  \n",
       "4                              Изменить цвет фона главной страницы, чтобы увеличить вовлеченность пользователей  "
      ]
     },
     "metadata": {},
     "output_type": "display_data"
    }
   ],
   "source": [
    "data['ICE'] = (data['impact']*data['confidence'])/data['efforts']\n",
    "pd.options.display.max_colwidth = 120\n",
    "display(data[{'hypothesis','ICE'}].sort_values(by = 'ICE', ascending = False))\n"
   ]
  },
  {
   "cell_type": "markdown",
   "metadata": {},
   "source": [
    "**Вывод: Наиболее приоритетны следующие гипотезы:**\n",
    " * 'Запустить акцию, дающую скидку на товар в день рождения' (№9)\n",
    " * 'Добавить два новых канала привлечения трафика, что позволит привлекать на 30% больше пользователей'(№1) \n",
    " *'Добавить форму подписки на все основные страницы, чтобы собрать базу клиентов для email-рассылок' (№8)."
   ]
  },
  {
   "cell_type": "markdown",
   "metadata": {},
   "source": [
    "### Применим метод RICE для приоритезации гипотез. Выведем таблицу сo столбцами названия гипотез и их приоритетом"
   ]
  },
  {
   "cell_type": "code",
   "execution_count": 5,
   "metadata": {},
   "outputs": [
    {
     "data": {
      "text/html": [
       "<div>\n",
       "<style scoped>\n",
       "    .dataframe tbody tr th:only-of-type {\n",
       "        vertical-align: middle;\n",
       "    }\n",
       "\n",
       "    .dataframe tbody tr th {\n",
       "        vertical-align: top;\n",
       "    }\n",
       "\n",
       "    .dataframe thead th {\n",
       "        text-align: right;\n",
       "    }\n",
       "</style>\n",
       "<table border=\"1\" class=\"dataframe\">\n",
       "  <thead>\n",
       "    <tr style=\"text-align: right;\">\n",
       "      <th></th>\n",
       "      <th>RICE</th>\n",
       "      <th>hypothesis</th>\n",
       "    </tr>\n",
       "  </thead>\n",
       "  <tbody>\n",
       "    <tr>\n",
       "      <th>7</th>\n",
       "      <td>112.0</td>\n",
       "      <td>Добавить форму подписки на все основные страницы, чтобы собрать базу клиентов для email-рассылок</td>\n",
       "    </tr>\n",
       "    <tr>\n",
       "      <th>2</th>\n",
       "      <td>56.0</td>\n",
       "      <td>Добавить блоки рекомендаций товаров на сайт интернет магазина, чтобы повысить конверсию и средний чек заказа</td>\n",
       "    </tr>\n",
       "    <tr>\n",
       "      <th>0</th>\n",
       "      <td>40.0</td>\n",
       "      <td>Добавить два новых канала привлечения трафика, что позволит привлекать на 30% больше пользователей</td>\n",
       "    </tr>\n",
       "    <tr>\n",
       "      <th>6</th>\n",
       "      <td>40.0</td>\n",
       "      <td>Показать на главной странице баннеры с актуальными акциями и распродажами, чтобы увеличить конверсию</td>\n",
       "    </tr>\n",
       "    <tr>\n",
       "      <th>8</th>\n",
       "      <td>16.2</td>\n",
       "      <td>Запустить акцию, дающую скидку на товар в день рождения</td>\n",
       "    </tr>\n",
       "    <tr>\n",
       "      <th>3</th>\n",
       "      <td>9.0</td>\n",
       "      <td>Изменить структура категорий, что увеличит конверсию, т.к. пользователи быстрее найдут нужный товар</td>\n",
       "    </tr>\n",
       "    <tr>\n",
       "      <th>1</th>\n",
       "      <td>4.0</td>\n",
       "      <td>Запустить собственную службу доставки, что сократит срок доставки заказов</td>\n",
       "    </tr>\n",
       "    <tr>\n",
       "      <th>5</th>\n",
       "      <td>4.0</td>\n",
       "      <td>Добавить страницу отзывов клиентов о магазине, что позволит увеличить количество заказов</td>\n",
       "    </tr>\n",
       "    <tr>\n",
       "      <th>4</th>\n",
       "      <td>3.0</td>\n",
       "      <td>Изменить цвет фона главной страницы, чтобы увеличить вовлеченность пользователей</td>\n",
       "    </tr>\n",
       "  </tbody>\n",
       "</table>\n",
       "</div>"
      ],
      "text/plain": [
       "    RICE  \\\n",
       "7  112.0   \n",
       "2   56.0   \n",
       "0   40.0   \n",
       "6   40.0   \n",
       "8   16.2   \n",
       "3    9.0   \n",
       "1    4.0   \n",
       "5    4.0   \n",
       "4    3.0   \n",
       "\n",
       "                                                                                                     hypothesis  \n",
       "7              Добавить форму подписки на все основные страницы, чтобы собрать базу клиентов для email-рассылок  \n",
       "2  Добавить блоки рекомендаций товаров на сайт интернет магазина, чтобы повысить конверсию и средний чек заказа  \n",
       "0            Добавить два новых канала привлечения трафика, что позволит привлекать на 30% больше пользователей  \n",
       "6          Показать на главной странице баннеры с актуальными акциями и распродажами, чтобы увеличить конверсию  \n",
       "8                                                       Запустить акцию, дающую скидку на товар в день рождения  \n",
       "3           Изменить структура категорий, что увеличит конверсию, т.к. пользователи быстрее найдут нужный товар  \n",
       "1                                     Запустить собственную службу доставки, что сократит срок доставки заказов  \n",
       "5                      Добавить страницу отзывов клиентов о магазине, что позволит увеличить количество заказов  \n",
       "4                              Изменить цвет фона главной страницы, чтобы увеличить вовлеченность пользователей  "
      ]
     },
     "metadata": {},
     "output_type": "display_data"
    }
   ],
   "source": [
    "data['RICE'] = (data['reach']*data['impact']*data['confidence'])/data['efforts']\n",
    "pd.options.display.max_colwidth = 120\n",
    "display(data[{'hypothesis','RICE'}].sort_values(by = 'RICE', ascending = False))"
   ]
  },
  {
   "cell_type": "markdown",
   "metadata": {},
   "source": [
    "**Вывод: Исходя из результатов этого метода - наиболее перспективны восьмая,третья, первая и седьмая гипотезы. Такая разница с результатами первого метода объясняется показателем Reach, который имеет максимальное значение у восьмой гипотезы. Очень важно учитывать, как много пользователей завтронет гипотеза. Для девятой гипотезы этот параметр очень мал, может гипотеза и является очень перспективной, но если она практически ни на кого не повлияет, то стоит ли тратить время на её исследование?!Гипотеза №3'Добавить блоки рекомендаций товаров на сайт интернет магазина, чтобы повысить конверсию и средний чек заказа' не самая перспективная, но каcается очень многих пользователей. Её, возможно, тоже следует рассмотреть. По результатам обоих методов приоритизации можно утверждать, что в первую очередь стоит обратить внимание на гипотезу под номером 8:'Добавить форму подписки на все основные страницы, чтобы собрать базу клиентов для email-рассылок' **"
   ]
  },
  {
   "cell_type": "markdown",
   "metadata": {},
   "source": [
    "## Анализ А/Б теста"
   ]
  },
  {
   "cell_type": "markdown",
   "metadata": {},
   "source": [
    "### Подготовка данных для анализа"
   ]
  },
  {
   "cell_type": "markdown",
   "metadata": {},
   "source": [
    "#### Откроем и изучим файлы с данными"
   ]
  },
  {
   "cell_type": "code",
   "execution_count": 6,
   "metadata": {},
   "outputs": [
    {
     "name": "stdout",
     "output_type": "stream",
     "text": [
      "   transactionId   visitorId        date  revenue group\n",
      "0     3667963787  3312258926  2019-08-15     1650     B\n",
      "1     2804400009  3642806036  2019-08-15      730     B\n",
      "2     2961555356  4069496402  2019-08-15      400     A\n",
      "3     3797467345  1196621759  2019-08-15     9759     B\n",
      "4     2282983706  2322279887  2019-08-15     2308     B\n",
      "         date group  visitors\n",
      "0  2019-08-01     A       719\n",
      "1  2019-08-02     A       619\n",
      "2  2019-08-03     A       507\n",
      "3  2019-08-04     A       717\n",
      "4  2019-08-05     A       756\n"
     ]
    }
   ],
   "source": [
    "orders = pd.read_csv('/datasets/orders.csv') \n",
    "visitors = pd.read_csv('/datasets/visitors.csv')\n",
    "print(orders.head(5))\n",
    "print(visitors.head(5))"
   ]
  },
  {
   "cell_type": "code",
   "execution_count": 7,
   "metadata": {},
   "outputs": [
    {
     "name": "stdout",
     "output_type": "stream",
     "text": [
      "Количество дубликтов в данных с покупками 0\n",
      "Количество дубликтов в данных с клиентами 0\n"
     ]
    }
   ],
   "source": [
    "print ('Количество дубликтов в данных с покупками',orders.duplicated().sum())\n",
    "print ('Количество дубликтов в данных с клиентами',visitors.duplicated().sum())\n",
    "datesGroups = orders[['date', 'group']].drop_duplicates()"
   ]
  },
  {
   "cell_type": "code",
   "execution_count": 8,
   "metadata": {},
   "outputs": [
    {
     "name": "stdout",
     "output_type": "stream",
     "text": [
      "<class 'pandas.core.frame.DataFrame'>\n",
      "RangeIndex: 1197 entries, 0 to 1196\n",
      "Data columns (total 5 columns):\n",
      " #   Column         Non-Null Count  Dtype \n",
      "---  ------         --------------  ----- \n",
      " 0   transactionId  1197 non-null   int64 \n",
      " 1   visitorId      1197 non-null   int64 \n",
      " 2   date           1197 non-null   object\n",
      " 3   revenue        1197 non-null   int64 \n",
      " 4   group          1197 non-null   object\n",
      "dtypes: int64(3), object(2)\n",
      "memory usage: 46.9+ KB\n",
      "<class 'pandas.core.frame.DataFrame'>\n",
      "RangeIndex: 62 entries, 0 to 61\n",
      "Data columns (total 3 columns):\n",
      " #   Column    Non-Null Count  Dtype \n",
      "---  ------    --------------  ----- \n",
      " 0   date      62 non-null     object\n",
      " 1   group     62 non-null     object\n",
      " 2   visitors  62 non-null     int64 \n",
      "dtypes: int64(1), object(2)\n",
      "memory usage: 1.6+ KB\n"
     ]
    }
   ],
   "source": [
    "orders.info()\n",
    "visitors.info()"
   ]
  },
  {
   "cell_type": "code",
   "execution_count": 9,
   "metadata": {},
   "outputs": [],
   "source": [
    "orders['date'] = orders['date'].map(\n",
    "    lambda x: dt.datetime.strptime(x, '%Y-%m-%d')\n",
    ")\n",
    "\n",
    "visitors['date'] = visitors['date'].map(\n",
    "    lambda x: dt.datetime.strptime(x, '%Y-%m-%d')\n",
    ")\n"
   ]
  },
  {
   "cell_type": "markdown",
   "metadata": {},
   "source": [
    "### Построим график кумулятивной выручки по дням"
   ]
  },
  {
   "cell_type": "markdown",
   "metadata": {},
   "source": [
    "#### Изучим данные "
   ]
  },
  {
   "cell_type": "code",
   "execution_count": 10,
   "metadata": {},
   "outputs": [
    {
     "name": "stdout",
     "output_type": "stream",
     "text": [
      "Группы ['B' 'A']\n",
      "Дата начала теста 2019-08-01 00:00:00\n",
      "Дата окончания теста 2019-08-31 00:00:00\n",
      "Количество пользователей в группе А 557\n",
      "Количество пользователей в группе B 640\n",
      "Количество одинаковых пользователей в обеих группах: 0\n"
     ]
    }
   ],
   "source": [
    "# Посмотрим сколько групп в А/В тесте\n",
    "print('Группы',orders['group'].unique())\n",
    "#Даты начала и окончания теста\n",
    "print ('Дата начала теста', orders['date'].min())\n",
    "print ('Дата окончания теста', orders['date'].max())\n",
    "#Определим сколько пользователей в каждой группе\n",
    "print ('Количество пользователей в группе А', orders.query('group== \"A\"')['visitorId'].count())\n",
    "\n",
    "print ('Количество пользователей в группе B',  orders.query('group== \"B\"')['visitorId'].count())\n",
    "#Определим не попадают ли какие-то пользователи в обе группы:\n",
    "count = 0\n",
    "for el in orders.query('group== \"A\"')['visitorId'].unique() :\n",
    "    if el == orders.query('group== \"B\"')['visitorId'].unique().all():\n",
    "        count = count+1\n",
    "print('Количество одинаковых пользователей в обеих группах:',count)"
   ]
  },
  {
   "cell_type": "code",
   "execution_count": 11,
   "metadata": {},
   "outputs": [
    {
     "data": {
      "text/plain": [
       "<matplotlib.legend.Legend at 0x7f399a31dc40>"
      ]
     },
     "execution_count": 11,
     "metadata": {},
     "output_type": "execute_result"
    },
    {
     "data": {
      "image/png": "[encoded data removed]",
      "text/plain": [
       "<Figure size 432x288 with 1 Axes>"
      ]
     },
     "metadata": {
      "needs_background": "light"
     },
     "output_type": "display_data"
    }
   ],
   "source": [
    "register_matplotlib_converters()\n",
    "\n",
    "ordersAggregated = datesGroups.apply(\n",
    "    lambda x: orders[\n",
    "        np.logical_and(\n",
    "            orders['date'] <= x['date'], orders['group'] == x['group']\n",
    "        )\n",
    "    ].agg(\n",
    "        {\n",
    "            'date': 'max',\n",
    "            'group': 'max',\n",
    "            'transactionId': 'nunique',\n",
    "            'visitorId': 'nunique',\n",
    "            'revenue': 'sum',\n",
    "        }\n",
    "    ),\n",
    "    axis=1,\n",
    ").sort_values(by=['date', 'group'])\n",
    "\n",
    "visitorsAggregated = datesGroups.apply(\n",
    "    lambda x: visitors[\n",
    "        np.logical_and(\n",
    "            visitors['date'] <= x['date'], visitors['group'] == x['group']\n",
    "        )\n",
    "    ].agg({'date': 'max', 'group': 'max', 'visitors': 'sum'}),\n",
    "    axis=1,\n",
    ").sort_values(by=['date', 'group'])\n",
    "\n",
    "cumulativeData = ordersAggregated.merge(\n",
    "    visitorsAggregated, left_on=['date', 'group'], right_on=['date', 'group']\n",
    ")\n",
    "cumulativeData.columns = [\n",
    "    'date',\n",
    "    'group',\n",
    "    'orders',\n",
    "    'buyers',\n",
    "    'revenue',\n",
    "    'visitors',\n",
    "]\n",
    "cumulativeRevenueA = cumulativeData[cumulativeData['group']=='A'][['date','revenue', 'orders']]\n",
    "\n",
    "# датафрейм с кумулятивным количеством заказов и кумулятивной выручкой по дням в группе B\n",
    "cumulativeRevenueB = cumulativeData[cumulativeData['group']=='B'][['date','revenue', 'orders']]\n",
    "\n",
    "# Строим график выручки группы А\n",
    "plt.plot(cumulativeRevenueA['date'], cumulativeRevenueA['revenue'], label='A')\n",
    "\n",
    "# Строим график выручки группы B\n",
    "plt.plot(cumulativeRevenueB['date'], cumulativeRevenueB['revenue'], label='B')\n",
    "plt.xticks(rotation = 25)\n",
    "plt.title ('График кумулятивной выручки по дням')\n",
    "plt.xlabel('Даты')\n",
    "plt.ylabel('Куммулятивная сумма чека, т.р.')\n",
    "plt.legend() "
   ]
  },
  {
   "cell_type": "markdown",
   "metadata": {},
   "source": [
    "**Вывод:По графику видно, что группа В показывает устойчивый рост куммулятивной выручки по дням относительно группы А , начиная с 5 августа 2019 г. 13.08.2019 произошёл незначительный скачок роста показателя у группы А,что привело к равенству куммулятивной выручки на этот день, но далее группа В стала лидировать. с 17.08 по 21 августа куммулятивная выручка группы В резко выросла,возможно в эти дни были совершены самые дорогостоящие покупки. Позже рост стабилизировался, что может говорить о достаточном сроке проведения эксперимента.**"
   ]
  },
  {
   "cell_type": "markdown",
   "metadata": {},
   "source": [
    "### Построим график кумулятивного чека по дням"
   ]
  },
  {
   "cell_type": "code",
   "execution_count": 12,
   "metadata": {},
   "outputs": [
    {
     "data": {
      "text/plain": [
       "<matplotlib.legend.Legend at 0x7f399a041940>"
      ]
     },
     "execution_count": 12,
     "metadata": {},
     "output_type": "execute_result"
    },
    {
     "data": {
      "image/png": "[encoded data removed]",
      "text/plain": [
       "<Figure size 432x288 with 1 Axes>"
      ]
     },
     "metadata": {
      "needs_background": "light"
     },
     "output_type": "display_data"
    }
   ],
   "source": [
    "\n",
    "plt.plot(cumulativeRevenueA['date'], cumulativeRevenueA['revenue']/cumulativeRevenueA['orders'], label='A')\n",
    "plt.plot(cumulativeRevenueB['date'], cumulativeRevenueB['revenue']/cumulativeRevenueB['orders'], label='B')\n",
    "\n",
    "plt.xticks(rotation = 25)\n",
    "plt.title ('График кумулятивного чека по дням')\n",
    "plt.xlabel('Даты')\n",
    "plt.ylabel('Куммулятивная сумма чека, руб')\n",
    "plt.legend() \n"
   ]
  },
  {
   "cell_type": "markdown",
   "metadata": {},
   "source": [
    "**Вывод: Куммулятивный чек группы В больше, чем группы А, но на графике видны сильные колебания: резкий \"всплеск\" у группы А 13.08.2019 г и у группы В 18-19.09.2019 г. Скорее всего в эти дни были совершены особо крупные покупки,которые случаются нечасто. После \"всплеска\" показатель группы В начал устойчиво снижаться,в  то время,как группа А показывает маленький, но стабильный прирост. На протяжении послдених 4х дней картина стабилизировалась: кумулятивный чек по дням группы В значительно выше и практически ен менеятся, так же, как и у группы А**"
   ]
  },
  {
   "cell_type": "markdown",
   "metadata": {},
   "source": [
    "### Построим график относительного изменения кумулятивного среднего чека группы B к группе A. "
   ]
  },
  {
   "cell_type": "code",
   "execution_count": 13,
   "metadata": {},
   "outputs": [
    {
     "data": {
      "text/plain": [
       "Text(0, 0.5, 'Разница куммулятивной суммы  чека')"
      ]
     },
     "execution_count": 13,
     "metadata": {},
     "output_type": "execute_result"
    },
    {
     "data": {
      "image/png": "[encoded data removed]",
      "text/plain": [
       "<Figure size 432x288 with 1 Axes>"
      ]
     },
     "metadata": {
      "needs_background": "light"
     },
     "output_type": "display_data"
    }
   ],
   "source": [
    "mergedCumulativeRevenue = cumulativeRevenueA.merge(cumulativeRevenueB, left_on='date', right_on='date', how='left', suffixes=['A', 'B'])\n",
    "\n",
    "# cтроим отношение средних чеков\n",
    "plt.plot(mergedCumulativeRevenue['date'], (mergedCumulativeRevenue['revenueB']/mergedCumulativeRevenue['ordersB'])/(mergedCumulativeRevenue['revenueA']/mergedCumulativeRevenue['ordersA'])-1)\n",
    "plt.xticks(rotation = 25)\n",
    "# добавляем ось X\n",
    "plt.axhline(y=0, color='black', linestyle='--') \n",
    "plt.title ('График относительного изменения кумулятивного среднего чека группы B к группе A')\n",
    "plt.xlabel('Даты')\n",
    "plt.ylabel('Разница куммулятивной суммы  чека')\n"
   ]
  },
  {
   "cell_type": "markdown",
   "metadata": {},
   "source": [
    "**Вывод: На этом графике так же видно, что относительное изменения кумулятивного среднего чека группы B к группе A на протяжении всего срока эксперимента выше, за исключением первого дня и 13.08.2019г. Последнии дни этот показатель стабильно положительный**"
   ]
  },
  {
   "cell_type": "markdown",
   "metadata": {},
   "source": [
    "### Построим график кумулятивного среднего количества заказов на посетителя по группам. "
   ]
  },
  {
   "cell_type": "code",
   "execution_count": 14,
   "metadata": {},
   "outputs": [
    {
     "data": {
      "text/plain": [
       "(18109.0, 18140.0, 0.0, 0.05)"
      ]
     },
     "execution_count": 14,
     "metadata": {},
     "output_type": "execute_result"
    },
    {
     "data": {
      "image/png": "[encoded data removed]",
      "text/plain": [
       "<Figure size 432x288 with 1 Axes>"
      ]
     },
     "metadata": {
      "needs_background": "light"
     },
     "output_type": "display_data"
    }
   ],
   "source": [
    "# считаем кумулятивную конверсию\n",
    "cumulativeData['conversion'] = cumulativeData['orders']/cumulativeData['visitors']\n",
    "\n",
    "# отделяем данные по группе A\n",
    "cumulativeDataA = cumulativeData[cumulativeData['group']=='A']\n",
    "\n",
    "# отделяем данные по группе B\n",
    "cumulativeDataB = cumulativeData[cumulativeData['group']=='B']\n",
    "\n",
    "# строим графики\n",
    "\n",
    "plt.plot(cumulativeDataA['date'], cumulativeDataA['conversion'], label='A')\n",
    "plt.plot(cumulativeDataB['date'], cumulativeDataB['conversion'], label='B')\n",
    "plt.title ('Кумулятивное среднее количества заказов на посетителя по группам')\n",
    "plt.xlabel('Даты')\n",
    "plt.ylabel('Среднее количество заказов')\n",
    "plt.xticks(rotation = 25)\n",
    "\n",
    "plt.legend()\n",
    "\n",
    "# задаем масштаб осей\n",
    "plt.axis([\"2019-08-01\", '2019-09-01', 0, 0.05]) \n"
   ]
  },
  {
   "cell_type": "markdown",
   "metadata": {},
   "source": [
    "**Вывод: По графику видно, что начиная с 5 августа 2019 г среднее число заказов у группы В стабильно больше, чем у группы А.**"
   ]
  },
  {
   "cell_type": "markdown",
   "metadata": {},
   "source": [
    "### Построим график относительного изменения кумулятивного среднего количества заказов на посетителя группы B к группе A"
   ]
  },
  {
   "cell_type": "code",
   "execution_count": 15,
   "metadata": {},
   "outputs": [
    {
     "data": {
      "text/plain": [
       "(18109.0, 18140.0, -0.3, 0.3)"
      ]
     },
     "execution_count": 15,
     "metadata": {},
     "output_type": "execute_result"
    },
    {
     "data": {
      "image/png": "[encoded data removed]",
      "text/plain": [
       "<Figure size 432x288 with 1 Axes>"
      ]
     },
     "metadata": {
      "needs_background": "light"
     },
     "output_type": "display_data"
    }
   ],
   "source": [
    "mergedCumulativeConversions = cumulativeDataA[['date','conversion']].merge(cumulativeDataB[['date','conversion']], left_on='date', right_on='date', how='left', suffixes=['A', 'B'])\n",
    "\n",
    "plt.plot(mergedCumulativeConversions['date'], mergedCumulativeConversions['conversionB']/mergedCumulativeConversions['conversionA']-1, label=\"Относительный прирост среднего количества заказов группы B относительно группы A\")\n",
    "plt.legend()\n",
    "plt.xticks(rotation = 25)\n",
    "plt.title ('Относительное изменение кумулятивного среднего количества заказов на посетителя группы B к группе A')\n",
    "plt.xlabel('Даты')\n",
    "plt.ylabel('Доля изменения заказов')\n",
    "plt.axhline(y=0, color='black', linestyle='--')\n",
    "plt.axhline(y=0.1, color='grey', linestyle='--')\n",
    "plt.axis([\"2019-08-01\", '2019-09-01', -0.3, 0.3]) "
   ]
  },
  {
   "cell_type": "markdown",
   "metadata": {},
   "source": [
    "**Вывод: начиная с 05.08.2019 конверсия группы В становится лучше и лучше относительно конверсии группы А. После некоторого спада конверсии группы В с 15 по 22 августа, она звфиксировалась около 10 % прироста относительно группы А и после 29.08.2019 ночала снова расти.Положительная тенденция налицо** "
   ]
  },
  {
   "cell_type": "markdown",
   "metadata": {},
   "source": [
    "### Построим точечный график количества заказов по пользователям. "
   ]
  },
  {
   "cell_type": "markdown",
   "metadata": {},
   "source": [
    "#### Создадим таблицу с двумя столбцами - ID пользователей и количеством их заказов"
   ]
  },
  {
   "cell_type": "code",
   "execution_count": 16,
   "metadata": {},
   "outputs": [
    {
     "name": "stdout",
     "output_type": "stream",
     "text": [
      "     userId  orders\n",
      "0   5114589       1\n",
      "1   6958315       1\n",
      "2   8300375       2\n",
      "3  11685486       1\n",
      "4  39475350       1\n",
      "5  47206413       1\n",
      "6  48147722       1\n",
      "7  54447517       1\n",
      "8  56960363       1\n",
      "9  66685450       1\n"
     ]
    }
   ],
   "source": [
    "ordersByUsers  = orders.groupby( 'visitorId',as_index=False).agg({'transactionId' : 'nunique'})\n",
    "ordersByUsers.columns = ['userId' , 'orders']\n",
    "ordersByUsers.sort_values(by='orders',ascending=False) \n",
    "\n",
    "print(ordersByUsers .head(10))"
   ]
  },
  {
   "cell_type": "markdown",
   "metadata": {},
   "source": [
    "#### Построим точечный график"
   ]
  },
  {
   "cell_type": "code",
   "execution_count": 17,
   "metadata": {},
   "outputs": [
    {
     "data": {
      "text/plain": [
       "Text(0, 0.5, 'Количество заказов')"
      ]
     },
     "execution_count": 17,
     "metadata": {},
     "output_type": "execute_result"
    },
    {
     "data": {
      "image/png": "[encoded data removed]",
      "text/plain": [
       "<Figure size 432x288 with 1 Axes>"
      ]
     },
     "metadata": {
      "needs_background": "light"
     },
     "output_type": "display_data"
    }
   ],
   "source": [
    "x_values = pd.Series(range(0, len(ordersByUsers)))\n",
    "plt.scatter(x_values, ordersByUsers['orders']) \n",
    "plt.title ('Количества заказов по пользователям')\n",
    "plt.xlabel('Номера наблюдений')\n",
    "plt.ylabel('Количество заказов')\n"
   ]
  },
  {
   "cell_type": "markdown",
   "metadata": {},
   "source": [
    "**Вывод: По графику видно, что очень много пользователй совершили всего один заказ. Есть весомое количество пользователей,которые совершали покупку 2 -3 раза. Количество пользователей, совершивших более 4х заказов, крайне мало.**"
   ]
  },
  {
   "cell_type": "markdown",
   "metadata": {},
   "source": [
    "### Посчитаем 95-й и 99-й перцентили количества заказов на пользователя. "
   ]
  },
  {
   "cell_type": "code",
   "execution_count": 18,
   "metadata": {},
   "outputs": [
    {
     "name": "stdout",
     "output_type": "stream",
     "text": [
      "[2. 4.]\n"
     ]
    }
   ],
   "source": [
    "print(np.percentile(ordersByUsers['orders'], [95, 99]))"
   ]
  },
  {
   "cell_type": "markdown",
   "metadata": {},
   "source": [
    "**Вывод: не более 5% пользователей совершают больше 2х заказов и всего 1% - больше 4х**"
   ]
  },
  {
   "cell_type": "markdown",
   "metadata": {},
   "source": [
    "### Построим точечный график стоимостей заказов"
   ]
  },
  {
   "cell_type": "code",
   "execution_count": 19,
   "metadata": {},
   "outputs": [
    {
     "data": {
      "text/plain": [
       "Text(0, 0.5, 'Стоимость заказов, т.р.')"
      ]
     },
     "execution_count": 19,
     "metadata": {},
     "output_type": "execute_result"
    },
    {
     "data": {
      "image/png": "[encoded data removed]",
      "text/plain": [
       "<Figure size 432x288 with 1 Axes>"
      ]
     },
     "metadata": {
      "needs_background": "light"
     },
     "output_type": "display_data"
    }
   ],
   "source": [
    "x_values = pd.Series(range(0, len(orders['revenue'])))\n",
    "plt.scatter(x_values, orders['revenue']) \n",
    "plt.title ('Стоимость заказов')\n",
    "\n",
    "plt.xlabel('Номера наблюдений')\n",
    "plt.ylabel('Стоимость заказов, т.р.')"
   ]
  },
  {
   "cell_type": "markdown",
   "metadata": {},
   "source": [
    "**Вывод:Два заказа явно выделяются совей аномально большой стоимостью. Особенно не ваисывается в общую картину заказ, стоимостью более 120 т.р., когда абсолютное большинство чеков ниже 20 т.р.**"
   ]
  },
  {
   "cell_type": "markdown",
   "metadata": {},
   "source": [
    "### Посчитаем 95-й и 99-й перцентили стоимости заказов"
   ]
  },
  {
   "cell_type": "code",
   "execution_count": 20,
   "metadata": {},
   "outputs": [
    {
     "name": "stdout",
     "output_type": "stream",
     "text": [
      "[28000.  58233.2]\n"
     ]
    }
   ],
   "source": [
    "print(np.percentile(orders['revenue'], [95, 99])) "
   ]
  },
  {
   "cell_type": "markdown",
   "metadata": {},
   "source": [
    "**Вывод:5% заказов стоимостью больше 28000 руб. и всего 1% - дороже 58233 рублей**"
   ]
  },
  {
   "cell_type": "markdown",
   "metadata": {},
   "source": [
    "**Вывод: исходя из полученных данных считаю рациональным очистить данные от одного процента стоимости заказов, ограничив выборку по значению 99 перцентиля в 28 т.р., а количество заказов ограничить значением 95 перцентиля - 2 заказами** "
   ]
  },
  {
   "cell_type": "code",
   "execution_count": 21,
   "metadata": {},
   "outputs": [
    {
     "name": "stdout",
     "output_type": "stream",
     "text": [
      "Ограничение по стоимости заказов: 58233.2\n",
      "Ограничение по количеству заказов: 2.0\n"
     ]
    }
   ],
   "source": [
    "cost = round(np.percentile(orders['revenue'], [99])[0],2)\n",
    "count = np.percentile(ordersByUsers['orders'],[95])[0]\n",
    "print('Ограничение по стоимости заказов:',cost)\n",
    "print('Ограничение по количеству заказов:',count)"
   ]
  },
  {
   "cell_type": "markdown",
   "metadata": {},
   "source": [
    "### Посчитаем статистическую значимость различий в среднем количестве заказов на посетителя между группами по «сырым» данным."
   ]
  },
  {
   "cell_type": "markdown",
   "metadata": {},
   "source": [
    "#### Сформулируем гипотезы"
   ]
  },
  {
   "cell_type": "markdown",
   "metadata": {},
   "source": [
    "H0 - Нулевая гипотеза: Если добавить форму подписки на все основные страницы, чтобы собрать базу клиентов для email-рассылок, и делать рассылки с выгодными предложениями раз в пару дней, то это не приведёт к увеличению заказов.\n",
    "    \n",
    "Н1 - Альтернативная гипотеза: Если добавить форму подписки на все основные страницы, чтобы собрать базу клиентов для email-рассылок, и делать рассылки с выгодными предложениями раз в пару дней, то количество заказов увеличится"
   ]
  },
  {
   "cell_type": "code",
   "execution_count": 22,
   "metadata": {},
   "outputs": [
    {
     "data": {
      "text/plain": [
       "'P-value = 0.01679'"
      ]
     },
     "metadata": {},
     "output_type": "display_data"
    },
    {
     "data": {
      "text/plain": [
       "'Относительный прирост среднего группы В к конверсии группы А = 0.138'"
      ]
     },
     "metadata": {},
     "output_type": "display_data"
    }
   ],
   "source": [
    "visitorsADaily = visitors[visitors['group'] == 'A'][['date', 'visitors']]\n",
    "visitorsADaily.columns = ['date', 'visitorsPerDateA']\n",
    "\n",
    "visitorsACummulative = visitorsADaily.apply(\n",
    "    lambda x: visitorsADaily[visitorsADaily['date'] <= x['date']].agg(\n",
    "        {'date': 'max', 'visitorsPerDateA': 'sum'}\n",
    "    ),\n",
    "    axis=1,\n",
    ")\n",
    "visitorsACummulative.columns = ['date', 'visitorsCummulativeA']\n",
    "\n",
    "visitorsBDaily = visitors[visitors['group'] == 'B'][['date', 'visitors']]\n",
    "visitorsBDaily.columns = ['date', 'visitorsPerDateB']\n",
    "\n",
    "visitorsBCummulative = visitorsBDaily.apply(\n",
    "    lambda x: visitorsBDaily[visitorsBDaily['date'] <= x['date']].agg(\n",
    "        {'date': 'max', 'visitorsPerDateB': 'sum'}\n",
    "    ),\n",
    "    axis=1,\n",
    ")\n",
    "visitorsBCummulative.columns = ['date', 'visitorsCummulativeB']\n",
    "\n",
    "ordersADaily = (\n",
    "    orders[orders['group'] == 'A'][['date', 'transactionId', 'visitorId', 'revenue']]\n",
    "    .groupby('date', as_index=False)\n",
    "    .agg({'transactionId': pd.Series.nunique, 'revenue': 'sum'})\n",
    ")\n",
    "ordersADaily.columns = ['date', 'ordersPerDateA', 'revenuePerDateA']\n",
    "\n",
    "ordersACummulative = ordersADaily.apply(\n",
    "    lambda x: ordersADaily[ordersADaily['date'] <= x['date']].agg(\n",
    "        {'date': 'max', 'ordersPerDateA': 'sum', 'revenuePerDateA': 'sum'}\n",
    "    ),\n",
    "    axis=1,\n",
    ").sort_values(by=['date'])\n",
    "ordersACummulative.columns = [\n",
    "    'date',\n",
    "    'ordersCummulativeA',\n",
    "    'revenueCummulativeA',\n",
    "]\n",
    "\n",
    "ordersBDaily = (\n",
    "    orders[orders['group'] == 'B'][['date', 'transactionId', 'visitorId','revenue']]\n",
    "    .groupby('date', as_index=False)\n",
    "    .agg({'transactionId': pd.Series.nunique, 'revenue': 'sum'})\n",
    ")\n",
    "ordersBDaily.columns = ['date', 'ordersPerDateB', 'revenuePerDateB']\n",
    "\n",
    "ordersBCummulative = ordersBDaily.apply(\n",
    "    lambda x: ordersBDaily[ordersBDaily['date'] <= x['date']].agg(\n",
    "        {'date': 'max', 'ordersPerDateB': 'sum', 'revenuePerDateB': 'sum'}\n",
    "    ),\n",
    "    axis=1,\n",
    ").sort_values(by=['date'])\n",
    "ordersBCummulative.columns = [\n",
    "    'date',\n",
    "    'ordersCummulativeB',\n",
    "    'revenueCummulativeB',\n",
    "]\n",
    "\n",
    "data = (\n",
    "    ordersADaily.merge(\n",
    "        ordersBDaily, left_on='date', right_on='date', how='left'\n",
    "    )\n",
    "    .merge(ordersACummulative, left_on='date', right_on='date', how='left')\n",
    "    .merge(ordersBCummulative, left_on='date', right_on='date', how='left')\n",
    "    .merge(visitorsADaily, left_on='date', right_on='date', how='left')\n",
    "    .merge(visitorsBDaily, left_on='date', right_on='date', how='left')\n",
    "    .merge(visitorsACummulative, left_on='date', right_on='date', how='left')\n",
    "    .merge(visitorsBCummulative, left_on='date', right_on='date', how='left')\n",
    ")\n",
    "\n",
    "#print(data.head(5))\n",
    "\n",
    "ordersByUsersA = (\n",
    "    orders[orders['group'] == 'A']\n",
    "    .groupby('visitorId', as_index=False)\n",
    "    .agg({'transactionId': pd.Series.nunique})\n",
    ")\n",
    "ordersByUsersA.columns = ['userId', 'orders']\n",
    "\n",
    "ordersByUsersB = (\n",
    "    orders[orders['group'] == 'B']\n",
    "    .groupby('visitorId', as_index=False)\n",
    "    .agg({'transactionId': pd.Series.nunique})\n",
    ")\n",
    "ordersByUsersB.columns = ['userId', 'orders'] \n",
    "\n",
    "pd.Series(0, index=np.arange(data['visitorsPerDateA'].sum() - len(ordersByUsersA['orders'])), name='orders')\n",
    "  \n",
    "sampleA = pd.concat([ordersByUsersA['orders'],pd.Series(0, index=np.arange(data['visitorsPerDateA'].sum() - len(ordersByUsersA['orders'])), name='orders')],axis=0)\n",
    "\n",
    "sampleB = pd.concat([ordersByUsersB['orders'],pd.Series(0, index=np.arange(data['visitorsPerDateB'].sum() - len(ordersByUsersB['orders'])), name='orders')],axis=0) \n",
    "display('P-value = {0:.5f}'.format(stats.mannwhitneyu(sampleA, sampleB)[1]))\n",
    "display('Относительный прирост среднего группы В к конверсии группы А = {0:.3f}'.format((data['ordersPerDateB'].sum()/data['visitorsPerDateB'].sum())/(data['ordersPerDateA'].sum()/data['visitorsPerDateA'].sum())-1)) "
   ]
  },
  {
   "cell_type": "markdown",
   "metadata": {},
   "source": [
    "**Вывод:P-value меньше 0.05, значит нулевую гипотезу следует отвергнуть.Анализ сырых данных говорит о том, что в среднем количестве заказов между группами есть статистически значимые различия. Относительный прирост среднего количества заказов группы В к  среднему количеству заказов группы А равен 13,8%**"
   ]
  },
  {
   "cell_type": "markdown",
   "metadata": {},
   "source": [
    "### Посчитаем статистическую значимость различий в среднем чеке заказа между группами по «сырым» данным"
   ]
  },
  {
   "cell_type": "code",
   "execution_count": 23,
   "metadata": {},
   "outputs": [
    {
     "name": "stdout",
     "output_type": "stream",
     "text": [
      "P-value = 0.729\n",
      "Относительный прирост среднего чека группы B =0.259\n"
     ]
    }
   ],
   "source": [
    "print('P-value = {0:.3f}'.format(stats.mannwhitneyu(orders[orders['group']=='A']['revenue'], orders[orders['group']=='B']['revenue'])[1]))\n",
    "print('Относительный прирост среднего чека группы B ={0:.3f}'.format(orders[orders['group']=='B']['revenue'].mean()/orders[orders['group']=='A']['revenue'].mean()-1)) "
   ]
  },
  {
   "cell_type": "markdown",
   "metadata": {},
   "source": [
    "**Вывод:P-value больше 0.5 - статистически значимых отличий в среднем чеке между группами нет. При этом относительное различие среднего чека между группами - 25,9%. Видимо в данных есть сильные выбросы.**"
   ]
  },
  {
   "cell_type": "markdown",
   "metadata": {},
   "source": [
    "### Посчитаем статистическую значимость различий в среднем количестве заказов на посетителя между группами по «очищенным» данным. "
   ]
  },
  {
   "cell_type": "markdown",
   "metadata": {},
   "source": [
    "Так как значения  95-ого и 99-ого перцентиля стоимости заказов соответственно равны 28000 руб  58233,2 руб, а 95-й и 99-й перцентили количества заказов на пользователя равны 2 и 4 соответственно, считаю, что в \"очищенные данные\" должны войти заказы со стоимостью меньше 30000 руб и количество заказов на пользователя не должно быть болше 3. Так мы уберём от 1%-5% пользователей с наибольшим числом заказов и от 1% до 5% заказов с наибольшей стоимостью."
   ]
  },
  {
   "cell_type": "markdown",
   "metadata": {},
   "source": [
    "#### Составим таблицу с \"очищенными\" данными"
   ]
  },
  {
   "cell_type": "code",
   "execution_count": 24,
   "metadata": {},
   "outputs": [
    {
     "name": "stdout",
     "output_type": "stream",
     "text": [
      "1099    148427295\n",
      "18      199603092\n",
      "23      237748145\n",
      "37      249864742\n",
      "68      457167155\n",
      "dtype: int64\n"
     ]
    }
   ],
   "source": [
    "ordersByUsersA = (\n",
    "    orders[orders['group'] == 'A']\n",
    "    .groupby('visitorId', as_index=False)\n",
    "    .agg({'transactionId': pd.Series.nunique})\n",
    ")\n",
    "ordersByUsersA.columns = ['userId', 'orders']\n",
    "\n",
    "ordersByUsersB = (\n",
    "    orders[orders['group'] == 'B']\n",
    "    .groupby('visitorId', as_index=False)\n",
    "    .agg({'transactionId': pd.Series.nunique})\n",
    ")\n",
    "ordersByUsersB.columns = ['userId', 'orders']\n",
    "usersWithManyOrders = pd.concat(\n",
    "    [\n",
    "        ordersByUsersA[ordersByUsersA['orders'] > count]['userId'],\n",
    "        ordersByUsersB[ordersByUsersB['orders'] > count]['userId'],\n",
    "    ],\n",
    "    axis=0,\n",
    ")\n",
    "usersWithExpensiveOrders = orders[orders['revenue'] >= cost]['visitorId']\n",
    "abnormalUsers = (\n",
    "    pd.concat([usersWithManyOrders, usersWithExpensiveOrders], axis=0)\n",
    "    .drop_duplicates()\n",
    "    .sort_values()\n",
    ")\n",
    "print(abnormalUsers.head(5))"
   ]
  },
  {
   "cell_type": "markdown",
   "metadata": {},
   "source": [
    "#### Рассчитаем показатели"
   ]
  },
  {
   "cell_type": "code",
   "execution_count": 25,
   "metadata": {},
   "outputs": [
    {
     "name": "stdout",
     "output_type": "stream",
     "text": [
      "P-value = 0.01007\n",
      "Относительный прирост среднего группы В к группе А =0.174\n"
     ]
    }
   ],
   "source": [
    "sampleAFiltered = pd.concat(\n",
    "    [\n",
    "        ordersByUsersA[\n",
    "            np.logical_not(ordersByUsersA['userId'].isin(abnormalUsers))\n",
    "        ]['orders'],\n",
    "        pd.Series(\n",
    "            0,\n",
    "            index=np.arange(\n",
    "                data['visitorsPerDateA'].sum() - len(ordersByUsersA['orders'])\n",
    "            ),\n",
    "            name='orders',\n",
    "        ),\n",
    "    ],\n",
    "    axis=0,\n",
    ")\n",
    "\n",
    "sampleBFiltered = pd.concat(\n",
    "    [\n",
    "        ordersByUsersB[\n",
    "            np.logical_not(ordersByUsersB['userId'].isin(abnormalUsers))\n",
    "        ]['orders'],\n",
    "        pd.Series(\n",
    "            0,\n",
    "            index=np.arange(\n",
    "                data['visitorsPerDateB'].sum() - len(ordersByUsersB['orders'])\n",
    "            ),\n",
    "            name='orders',\n",
    "        ),\n",
    "    ],\n",
    "    axis=0,\n",
    ") \n",
    "print('P-value = {0:.5f}'.format(stats.mannwhitneyu(sampleAFiltered, sampleBFiltered)[1]))\n",
    "print('Относительный прирост среднего группы В к группе А ={0:.3f}'.format(sampleBFiltered.mean()/sampleAFiltered.mean()-1)) "
   ]
  },
  {
   "cell_type": "markdown",
   "metadata": {},
   "source": [
    "**Вывод:Как и в случае с сырыми данными статистическая значимость достигнута, сегмен B показывает относительный прирост на 14,8% лучшую, чем группа А. После \"очистки\" данных этот показатель увеличился на 1%**"
   ]
  },
  {
   "cell_type": "markdown",
   "metadata": {},
   "source": [
    "### Посчитаем статистическую значимость различий в среднем чеке заказа между группами по «очищенным» данным."
   ]
  },
  {
   "cell_type": "code",
   "execution_count": 26,
   "metadata": {},
   "outputs": [
    {
     "name": "stdout",
     "output_type": "stream",
     "text": [
      "P-value 0.798\n",
      "Относительный прирост среднего чека группы B =-0.020\n"
     ]
    }
   ],
   "source": [
    "print(\n",
    "    'P-value {0:.3f}'.format(\n",
    "        stats.mannwhitneyu(\n",
    "            orders[\n",
    "                np.logical_and(\n",
    "                    orders['group'] == 'A',\n",
    "                    np.logical_not(orders['visitorId'].isin(abnormalUsers)),\n",
    "                )\n",
    "            ]['revenue'],\n",
    "            orders[\n",
    "                np.logical_and(\n",
    "                    orders['group'] == 'B',\n",
    "                    np.logical_not(orders['visitorId'].isin(abnormalUsers)),\n",
    "                )\n",
    "            ]['revenue'],\n",
    "        )[1]\n",
    "    )\n",
    ")\n",
    "\n",
    "print(\n",
    "    \"Относительный прирост среднего чека группы B ={0:.3f}\".format(\n",
    "        orders[\n",
    "            np.logical_and(\n",
    "                orders['group'] == 'B',\n",
    "                np.logical_not(orders['visitorId'].isin(abnormalUsers)),\n",
    "            )\n",
    "        ]['revenue'].mean()\n",
    "        / orders[\n",
    "            np.logical_and(\n",
    "                orders['group'] == 'A',\n",
    "                np.logical_not(orders['visitorId'].isin(abnormalUsers)),\n",
    "            )\n",
    "        ]['revenue'].mean()\n",
    "        - 1\n",
    "    )\n",
    ") \n"
   ]
  },
  {
   "cell_type": "markdown",
   "metadata": {},
   "source": [
    "**Вывод:P-value вырос по сравнению с \"сырыми\" данными -  статистически значимых отличий в среднем чеке между группами нет. При этом относительное различие среднего чека между группами после удаления 'вбросов' снизилось на 26,1% и стало отрицательным  = - 2%. Верояно, в изначальных данных аномально крупные чеки встречались именно в группе В**"
   ]
  },
  {
   "cell_type": "markdown",
   "metadata": {},
   "source": [
    "# Итоговый вывод:"
   ]
  },
  {
   "cell_type": "markdown",
   "metadata": {},
   "source": [
    "Самой приоритетной гипотезой считаю гипотезу № 8 \"Добавить форму подписки на все основные страницы\"\n",
    "\n",
    "Есть статистически значимое различие в среднем количестве заказов на посетителя между группами как по «сырым», так и по \"очищенным\" данным.\n",
    "\n",
    "По среднему чеку между группами нет статистически значимого различия. \n",
    "\n",
    "График кумулятивного среднего количества заказов на посетителя по группам явно говорит о том, что результаты группы B стабильно лучше группы A.\n",
    "\n",
    "**По результатам А/В теста можно сделать вывод о том, что группа В устойчиво показывает лучший результат по количеству чеков.Тест можно закончить и признать его успешным, а группу В признать победителем. Можно рекомендовать вносить изменения на сайт.**"
   ]
  },
  {
   "cell_type": "code",
   "execution_count": null,
   "metadata": {},
   "outputs": [],
   "source": []
  }
 ],
 "metadata": {
  "ExecuteTimeLog": [
   {
    "duration": 46,
    "start_time": "2022-12-28T13:54:14.431Z"
   },
   {
    "duration": 389,
    "start_time": "2022-12-28T13:54:17.637Z"
   },
   {
    "duration": 81,
    "start_time": "2022-12-28T13:54:18.171Z"
   },
   {
    "duration": 1194,
    "start_time": "2022-12-28T13:58:15.272Z"
   },
   {
    "duration": 2,
    "start_time": "2022-12-28T13:58:48.536Z"
   },
   {
    "duration": 4,
    "start_time": "2022-12-28T14:01:19.221Z"
   },
   {
    "duration": 10,
    "start_time": "2022-12-28T14:01:21.707Z"
   },
   {
    "duration": 2,
    "start_time": "2022-12-28T14:04:54.211Z"
   },
   {
    "duration": 3,
    "start_time": "2022-12-28T14:05:54.435Z"
   },
   {
    "duration": 16,
    "start_time": "2022-12-28T14:06:25.868Z"
   },
   {
    "duration": 2,
    "start_time": "2022-12-28T14:17:29.840Z"
   },
   {
    "duration": 189,
    "start_time": "2022-12-28T14:19:54.207Z"
   },
   {
    "duration": 6,
    "start_time": "2022-12-28T14:23:36.732Z"
   },
   {
    "duration": 6,
    "start_time": "2022-12-28T14:23:50.300Z"
   },
   {
    "duration": 6,
    "start_time": "2022-12-28T14:24:04.114Z"
   },
   {
    "duration": 7,
    "start_time": "2022-12-28T14:25:13.822Z"
   },
   {
    "duration": 444,
    "start_time": "2022-12-29T06:39:49.045Z"
   },
   {
    "duration": 65,
    "start_time": "2022-12-29T06:39:49.491Z"
   },
   {
    "duration": 3,
    "start_time": "2022-12-29T06:39:50.290Z"
   },
   {
    "duration": 10,
    "start_time": "2022-12-29T06:39:51.092Z"
   },
   {
    "duration": 9,
    "start_time": "2022-12-29T06:39:52.187Z"
   },
   {
    "duration": 150,
    "start_time": "2022-12-29T06:39:54.061Z"
   },
   {
    "duration": 7,
    "start_time": "2022-12-29T06:39:54.457Z"
   },
   {
    "duration": 435,
    "start_time": "2022-12-29T06:50:51.743Z"
   },
   {
    "duration": 4,
    "start_time": "2022-12-29T06:51:44.750Z"
   },
   {
    "duration": 302,
    "start_time": "2022-12-29T06:54:08.095Z"
   },
   {
    "duration": 202,
    "start_time": "2022-12-29T06:54:42.078Z"
   },
   {
    "duration": 48,
    "start_time": "2022-12-29T06:55:19.969Z"
   },
   {
    "duration": 223,
    "start_time": "2022-12-29T06:56:12.929Z"
   },
   {
    "duration": 4,
    "start_time": "2022-12-29T06:56:57.736Z"
   },
   {
    "duration": 230,
    "start_time": "2022-12-29T06:57:37.481Z"
   },
   {
    "duration": 604,
    "start_time": "2022-12-29T06:58:38.968Z"
   },
   {
    "duration": 218,
    "start_time": "2022-12-29T06:59:43.943Z"
   },
   {
    "duration": 21,
    "start_time": "2022-12-29T07:04:28.329Z"
   },
   {
    "duration": 242,
    "start_time": "2022-12-29T07:08:59.827Z"
   },
   {
    "duration": 3,
    "start_time": "2022-12-29T07:09:55.330Z"
   },
   {
    "duration": 31,
    "start_time": "2022-12-29T07:09:55.610Z"
   },
   {
    "duration": 4,
    "start_time": "2022-12-29T07:09:56.258Z"
   },
   {
    "duration": 9,
    "start_time": "2022-12-29T07:09:56.793Z"
   },
   {
    "duration": 9,
    "start_time": "2022-12-29T07:09:57.665Z"
   },
   {
    "duration": 68,
    "start_time": "2022-12-29T07:09:59.194Z"
   },
   {
    "duration": 8,
    "start_time": "2022-12-29T07:09:59.587Z"
   },
   {
    "duration": 18,
    "start_time": "2022-12-29T07:09:59.921Z"
   },
   {
    "duration": 53,
    "start_time": "2022-12-29T07:10:00.257Z"
   },
   {
    "duration": 13,
    "start_time": "2022-12-29T07:10:14.433Z"
   },
   {
    "duration": 3,
    "start_time": "2022-12-29T07:10:21.602Z"
   },
   {
    "duration": 31,
    "start_time": "2022-12-29T07:10:21.914Z"
   },
   {
    "duration": 4,
    "start_time": "2022-12-29T07:10:22.535Z"
   },
   {
    "duration": 10,
    "start_time": "2022-12-29T07:10:23.127Z"
   },
   {
    "duration": 9,
    "start_time": "2022-12-29T07:10:24.056Z"
   },
   {
    "duration": 68,
    "start_time": "2022-12-29T07:10:25.873Z"
   },
   {
    "duration": 8,
    "start_time": "2022-12-29T07:10:26.745Z"
   },
   {
    "duration": 17,
    "start_time": "2022-12-29T07:10:27.458Z"
   },
   {
    "duration": 13,
    "start_time": "2022-12-29T07:10:27.977Z"
   },
   {
    "duration": 4,
    "start_time": "2022-12-29T07:10:29.455Z"
   },
   {
    "duration": 560,
    "start_time": "2022-12-29T07:10:30.361Z"
   },
   {
    "duration": 472,
    "start_time": "2022-12-29T07:13:42.482Z"
   },
   {
    "duration": 749,
    "start_time": "2022-12-29T07:14:45.491Z"
   },
   {
    "duration": 494,
    "start_time": "2022-12-29T07:15:07.691Z"
   },
   {
    "duration": 470,
    "start_time": "2022-12-29T07:15:15.921Z"
   },
   {
    "duration": 481,
    "start_time": "2022-12-29T07:15:29.978Z"
   },
   {
    "duration": 466,
    "start_time": "2022-12-29T07:15:37.451Z"
   },
   {
    "duration": 479,
    "start_time": "2022-12-29T07:15:49.139Z"
   },
   {
    "duration": 431,
    "start_time": "2022-12-29T07:16:08.517Z"
   },
   {
    "duration": 432,
    "start_time": "2022-12-29T07:16:28.833Z"
   },
   {
    "duration": 540,
    "start_time": "2022-12-29T07:16:41.348Z"
   },
   {
    "duration": 469,
    "start_time": "2022-12-29T07:16:52.364Z"
   },
   {
    "duration": 3,
    "start_time": "2022-12-29T07:18:02.852Z"
   },
   {
    "duration": 4,
    "start_time": "2022-12-29T07:18:37.245Z"
   },
   {
    "duration": 37,
    "start_time": "2022-12-29T07:18:37.779Z"
   },
   {
    "duration": 5,
    "start_time": "2022-12-29T07:18:38.449Z"
   },
   {
    "duration": 9,
    "start_time": "2022-12-29T07:18:39.003Z"
   },
   {
    "duration": 13,
    "start_time": "2022-12-29T07:18:39.876Z"
   },
   {
    "duration": 72,
    "start_time": "2022-12-29T07:18:41.490Z"
   },
   {
    "duration": 11,
    "start_time": "2022-12-29T07:18:41.788Z"
   },
   {
    "duration": 19,
    "start_time": "2022-12-29T07:18:42.114Z"
   },
   {
    "duration": 20,
    "start_time": "2022-12-29T07:18:42.412Z"
   },
   {
    "duration": 466,
    "start_time": "2022-12-29T07:18:44.298Z"
   },
   {
    "duration": 11,
    "start_time": "2022-12-29T07:19:37.572Z"
   },
   {
    "duration": 24,
    "start_time": "2022-12-29T07:19:38.335Z"
   },
   {
    "duration": 249,
    "start_time": "2022-12-29T07:19:39.019Z"
   },
   {
    "duration": 4,
    "start_time": "2022-12-29T07:19:55.333Z"
   },
   {
    "duration": 33,
    "start_time": "2022-12-29T07:19:55.643Z"
   },
   {
    "duration": 4,
    "start_time": "2022-12-29T07:19:56.316Z"
   },
   {
    "duration": 9,
    "start_time": "2022-12-29T07:19:56.982Z"
   },
   {
    "duration": 11,
    "start_time": "2022-12-29T07:19:58.061Z"
   },
   {
    "duration": 77,
    "start_time": "2022-12-29T07:19:59.988Z"
   },
   {
    "duration": 11,
    "start_time": "2022-12-29T07:20:00.580Z"
   },
   {
    "duration": 23,
    "start_time": "2022-12-29T07:20:01.052Z"
   },
   {
    "duration": 20,
    "start_time": "2022-12-29T07:20:01.518Z"
   },
   {
    "duration": 36,
    "start_time": "2022-12-29T07:20:03.092Z"
   },
   {
    "duration": 485,
    "start_time": "2022-12-29T07:21:10.299Z"
   },
   {
    "duration": 481,
    "start_time": "2022-12-29T07:21:21.736Z"
   },
   {
    "duration": 343,
    "start_time": "2022-12-29T07:24:18.917Z"
   },
   {
    "duration": 284,
    "start_time": "2022-12-29T07:24:36.014Z"
   },
   {
    "duration": 272,
    "start_time": "2022-12-29T07:24:59.509Z"
   },
   {
    "duration": 191,
    "start_time": "2022-12-29T07:25:29.501Z"
   },
   {
    "duration": 195,
    "start_time": "2022-12-29T07:26:02.633Z"
   },
   {
    "duration": 338,
    "start_time": "2022-12-29T07:26:07.343Z"
   },
   {
    "duration": 13,
    "start_time": "2022-12-29T07:29:37.465Z"
   },
   {
    "duration": 282,
    "start_time": "2022-12-29T07:31:29.769Z"
   },
   {
    "duration": 194,
    "start_time": "2022-12-29T07:32:07.910Z"
   },
   {
    "duration": 214,
    "start_time": "2022-12-29T07:32:19.175Z"
   },
   {
    "duration": 186,
    "start_time": "2022-12-29T07:32:27.240Z"
   },
   {
    "duration": 185,
    "start_time": "2022-12-29T07:32:34.426Z"
   },
   {
    "duration": 308,
    "start_time": "2022-12-29T07:33:59.802Z"
   },
   {
    "duration": 393,
    "start_time": "2022-12-29T07:34:10.441Z"
   },
   {
    "duration": 235,
    "start_time": "2022-12-29T07:35:32.377Z"
   },
   {
    "duration": 197,
    "start_time": "2022-12-29T07:35:37.674Z"
   },
   {
    "duration": 211,
    "start_time": "2022-12-29T07:35:48.538Z"
   },
   {
    "duration": 218,
    "start_time": "2022-12-29T07:36:25.496Z"
   },
   {
    "duration": 204,
    "start_time": "2022-12-29T07:37:05.321Z"
   },
   {
    "duration": 15,
    "start_time": "2022-12-29T07:37:35.514Z"
   },
   {
    "duration": 216,
    "start_time": "2022-12-29T07:37:44.594Z"
   },
   {
    "duration": 3,
    "start_time": "2022-12-29T07:37:57.985Z"
   },
   {
    "duration": 34,
    "start_time": "2022-12-29T07:37:58.305Z"
   },
   {
    "duration": 6,
    "start_time": "2022-12-29T07:37:58.903Z"
   },
   {
    "duration": 11,
    "start_time": "2022-12-29T07:37:59.513Z"
   },
   {
    "duration": 14,
    "start_time": "2022-12-29T07:38:00.487Z"
   },
   {
    "duration": 69,
    "start_time": "2022-12-29T07:38:02.096Z"
   },
   {
    "duration": 15,
    "start_time": "2022-12-29T07:38:02.408Z"
   },
   {
    "duration": 22,
    "start_time": "2022-12-29T07:38:02.738Z"
   },
   {
    "duration": 19,
    "start_time": "2022-12-29T07:38:03.048Z"
   },
   {
    "duration": 602,
    "start_time": "2022-12-29T07:38:03.690Z"
   },
   {
    "duration": 224,
    "start_time": "2022-12-29T07:38:05.782Z"
   },
   {
    "duration": 345,
    "start_time": "2022-12-29T07:38:07.840Z"
   },
   {
    "duration": 224,
    "start_time": "2022-12-29T07:38:09.168Z"
   },
   {
    "duration": 245,
    "start_time": "2022-12-29T07:38:29.908Z"
   },
   {
    "duration": 229,
    "start_time": "2022-12-29T07:39:07.841Z"
   },
   {
    "duration": 243,
    "start_time": "2022-12-29T07:39:14.048Z"
   },
   {
    "duration": 205,
    "start_time": "2022-12-29T07:39:24.555Z"
   },
   {
    "duration": 330,
    "start_time": "2022-12-29T07:39:33.257Z"
   },
   {
    "duration": 19,
    "start_time": "2022-12-29T07:43:57.268Z"
   },
   {
    "duration": 18,
    "start_time": "2022-12-29T07:44:03.970Z"
   },
   {
    "duration": 3,
    "start_time": "2022-12-29T07:45:07.580Z"
   },
   {
    "duration": 187,
    "start_time": "2022-12-29T07:46:04.018Z"
   },
   {
    "duration": 5,
    "start_time": "2022-12-29T07:47:27.050Z"
   },
   {
    "duration": 130,
    "start_time": "2022-12-29T07:49:32.843Z"
   },
   {
    "duration": 6,
    "start_time": "2022-12-29T07:50:43.941Z"
   },
   {
    "duration": 6,
    "start_time": "2022-12-29T07:50:49.102Z"
   },
   {
    "duration": 380,
    "start_time": "2022-12-29T07:57:39.405Z"
   },
   {
    "duration": 550,
    "start_time": "2022-12-29T07:58:42.792Z"
   },
   {
    "duration": 34,
    "start_time": "2022-12-29T07:58:43.476Z"
   },
   {
    "duration": 5,
    "start_time": "2022-12-29T07:58:44.085Z"
   },
   {
    "duration": 8,
    "start_time": "2022-12-29T07:58:44.652Z"
   },
   {
    "duration": 10,
    "start_time": "2022-12-29T07:58:45.396Z"
   },
   {
    "duration": 78,
    "start_time": "2022-12-29T07:58:46.668Z"
   },
   {
    "duration": 12,
    "start_time": "2022-12-29T07:58:46.919Z"
   },
   {
    "duration": 19,
    "start_time": "2022-12-29T07:58:47.166Z"
   },
   {
    "duration": 13,
    "start_time": "2022-12-29T07:58:47.450Z"
   },
   {
    "duration": 532,
    "start_time": "2022-12-29T07:58:47.908Z"
   },
   {
    "duration": 200,
    "start_time": "2022-12-29T07:58:48.668Z"
   },
   {
    "duration": 283,
    "start_time": "2022-12-29T07:58:49.404Z"
   },
   {
    "duration": 194,
    "start_time": "2022-12-29T07:58:49.909Z"
   },
   {
    "duration": 303,
    "start_time": "2022-12-29T07:58:50.689Z"
   },
   {
    "duration": 10,
    "start_time": "2022-12-29T07:58:51.748Z"
   },
   {
    "duration": 118,
    "start_time": "2022-12-29T07:58:52.237Z"
   },
   {
    "duration": 4,
    "start_time": "2022-12-29T07:58:53.068Z"
   },
   {
    "duration": 157,
    "start_time": "2022-12-29T07:58:53.889Z"
   },
   {
    "duration": 4,
    "start_time": "2022-12-29T07:58:54.708Z"
   },
   {
    "duration": 431,
    "start_time": "2022-12-29T07:58:55.565Z"
   },
   {
    "duration": 410,
    "start_time": "2022-12-29T07:59:31.414Z"
   },
   {
    "duration": 387,
    "start_time": "2022-12-29T08:00:21.889Z"
   },
   {
    "duration": 408,
    "start_time": "2022-12-29T08:00:30.438Z"
   },
   {
    "duration": 385,
    "start_time": "2022-12-29T08:01:27.321Z"
   },
   {
    "duration": 392,
    "start_time": "2022-12-29T08:05:02.849Z"
   },
   {
    "duration": 393,
    "start_time": "2022-12-29T08:05:51.040Z"
   },
   {
    "duration": 417,
    "start_time": "2022-12-29T08:06:10.071Z"
   },
   {
    "duration": 14,
    "start_time": "2022-12-29T08:08:37.904Z"
   },
   {
    "duration": 411,
    "start_time": "2022-12-29T08:09:08.714Z"
   },
   {
    "duration": 956,
    "start_time": "2022-12-29T08:18:16.400Z"
   },
   {
    "duration": 1374,
    "start_time": "2022-12-29T08:18:43.052Z"
   },
   {
    "duration": 1376,
    "start_time": "2022-12-29T08:20:13.377Z"
   },
   {
    "duration": 3,
    "start_time": "2022-12-29T08:20:53.821Z"
   },
   {
    "duration": 31,
    "start_time": "2022-12-29T08:20:54.207Z"
   },
   {
    "duration": 4,
    "start_time": "2022-12-29T08:20:54.945Z"
   },
   {
    "duration": 9,
    "start_time": "2022-12-29T08:20:55.660Z"
   },
   {
    "duration": 10,
    "start_time": "2022-12-29T08:20:56.817Z"
   },
   {
    "duration": 79,
    "start_time": "2022-12-29T08:20:58.506Z"
   },
   {
    "duration": 10,
    "start_time": "2022-12-29T08:20:58.858Z"
   },
   {
    "duration": 22,
    "start_time": "2022-12-29T08:20:59.217Z"
   },
   {
    "duration": 23,
    "start_time": "2022-12-29T08:20:59.581Z"
   },
   {
    "duration": 556,
    "start_time": "2022-12-29T08:21:00.281Z"
   },
   {
    "duration": 229,
    "start_time": "2022-12-29T08:21:01.746Z"
   },
   {
    "duration": 455,
    "start_time": "2022-12-29T08:21:02.625Z"
   },
   {
    "duration": 200,
    "start_time": "2022-12-29T08:21:03.156Z"
   },
   {
    "duration": 322,
    "start_time": "2022-12-29T08:21:03.977Z"
   },
   {
    "duration": 21,
    "start_time": "2022-12-29T08:21:05.073Z"
   },
   {
    "duration": 133,
    "start_time": "2022-12-29T08:21:05.633Z"
   },
   {
    "duration": 13,
    "start_time": "2022-12-29T08:21:06.485Z"
   },
   {
    "duration": 154,
    "start_time": "2022-12-29T08:21:07.361Z"
   },
   {
    "duration": 10,
    "start_time": "2022-12-29T08:21:08.305Z"
   },
   {
    "duration": 424,
    "start_time": "2022-12-29T08:21:09.316Z"
   },
   {
    "duration": 11,
    "start_time": "2022-12-29T08:21:10.738Z"
   },
   {
    "duration": 1014,
    "start_time": "2022-12-29T08:21:12.006Z"
   },
   {
    "duration": 1155,
    "start_time": "2022-12-29T08:21:19.565Z"
   },
   {
    "duration": 990,
    "start_time": "2022-12-29T08:21:53.868Z"
   },
   {
    "duration": 411,
    "start_time": "2022-12-29T08:22:16.101Z"
   },
   {
    "duration": 1265,
    "start_time": "2022-12-29T08:23:50.567Z"
   },
   {
    "duration": 1413,
    "start_time": "2022-12-29T08:24:28.372Z"
   },
   {
    "duration": 1657,
    "start_time": "2022-12-29T08:24:59.117Z"
   },
   {
    "duration": 202,
    "start_time": "2022-12-29T08:25:24.307Z"
   },
   {
    "duration": 34,
    "start_time": "2022-12-29T08:27:44.662Z"
   },
   {
    "duration": 28,
    "start_time": "2022-12-29T08:28:21.905Z"
   },
   {
    "duration": 1030,
    "start_time": "2022-12-29T08:34:10.132Z"
   },
   {
    "duration": 23,
    "start_time": "2022-12-29T08:34:45.175Z"
   },
   {
    "duration": 14,
    "start_time": "2022-12-29T08:35:23.706Z"
   },
   {
    "duration": 12,
    "start_time": "2022-12-29T08:37:00.604Z"
   },
   {
    "duration": 3,
    "start_time": "2022-12-29T08:52:14.114Z"
   },
   {
    "duration": 5,
    "start_time": "2022-12-29T09:01:36.004Z"
   },
   {
    "duration": 31,
    "start_time": "2022-12-29T09:01:36.442Z"
   },
   {
    "duration": 9,
    "start_time": "2022-12-29T09:01:37.778Z"
   },
   {
    "duration": 10,
    "start_time": "2022-12-29T09:01:38.813Z"
   },
   {
    "duration": 84,
    "start_time": "2022-12-29T09:03:15.867Z"
   },
   {
    "duration": 9,
    "start_time": "2022-12-29T09:03:17.007Z"
   },
   {
    "duration": 26,
    "start_time": "2022-12-29T09:03:18.382Z"
   },
   {
    "duration": 17,
    "start_time": "2022-12-29T09:03:21.470Z"
   },
   {
    "duration": 526,
    "start_time": "2022-12-29T09:03:23.238Z"
   },
   {
    "duration": 87,
    "start_time": "2022-12-29T09:21:22.847Z"
   },
   {
    "duration": 43,
    "start_time": "2022-12-29T09:22:56.915Z"
   },
   {
    "duration": 301,
    "start_time": "2022-12-29T09:29:21.020Z"
   },
   {
    "duration": 47,
    "start_time": "2022-12-29T09:33:55.710Z"
   },
   {
    "duration": 11,
    "start_time": "2022-12-29T09:34:06.633Z"
   },
   {
    "duration": 140,
    "start_time": "2022-12-29T09:34:08.106Z"
   },
   {
    "duration": 76,
    "start_time": "2022-12-29T09:37:10.763Z"
   },
   {
    "duration": 93,
    "start_time": "2022-12-29T09:45:30.172Z"
   },
   {
    "duration": 398,
    "start_time": "2022-12-29T09:45:46.668Z"
   },
   {
    "duration": 4,
    "start_time": "2022-12-29T09:57:56.801Z"
   },
   {
    "duration": 30,
    "start_time": "2022-12-29T09:57:57.022Z"
   },
   {
    "duration": 4,
    "start_time": "2022-12-29T09:57:57.445Z"
   },
   {
    "duration": 9,
    "start_time": "2022-12-29T09:57:57.904Z"
   },
   {
    "duration": 11,
    "start_time": "2022-12-29T09:57:58.773Z"
   },
   {
    "duration": 80,
    "start_time": "2022-12-29T09:57:59.927Z"
   },
   {
    "duration": 10,
    "start_time": "2022-12-29T09:58:00.144Z"
   },
   {
    "duration": 22,
    "start_time": "2022-12-29T09:58:00.360Z"
   },
   {
    "duration": 22,
    "start_time": "2022-12-29T09:58:00.566Z"
   },
   {
    "duration": 519,
    "start_time": "2022-12-29T09:58:01.013Z"
   },
   {
    "duration": 203,
    "start_time": "2022-12-29T09:58:01.703Z"
   },
   {
    "duration": 313,
    "start_time": "2022-12-29T09:58:02.357Z"
   },
   {
    "duration": 197,
    "start_time": "2022-12-29T09:58:03.014Z"
   },
   {
    "duration": 300,
    "start_time": "2022-12-29T09:58:03.704Z"
   },
   {
    "duration": 10,
    "start_time": "2022-12-29T09:58:04.623Z"
   },
   {
    "duration": 149,
    "start_time": "2022-12-29T09:58:05.071Z"
   },
   {
    "duration": 11,
    "start_time": "2022-12-29T09:58:05.795Z"
   },
   {
    "duration": 148,
    "start_time": "2022-12-29T09:58:06.520Z"
   },
   {
    "duration": 6,
    "start_time": "2022-12-29T09:58:07.395Z"
   },
   {
    "duration": 477,
    "start_time": "2022-12-29T09:58:08.233Z"
   },
   {
    "duration": 14,
    "start_time": "2022-12-29T09:58:09.097Z"
   },
   {
    "duration": 172,
    "start_time": "2022-12-29T09:58:10.469Z"
   },
   {
    "duration": 44,
    "start_time": "2022-12-29T09:58:11.069Z"
   },
   {
    "duration": 14,
    "start_time": "2022-12-29T09:58:12.045Z"
   },
   {
    "duration": 1277,
    "start_time": "2022-12-29T13:21:02.681Z"
   },
   {
    "duration": 67,
    "start_time": "2022-12-29T13:21:03.960Z"
   },
   {
    "duration": 3,
    "start_time": "2022-12-29T13:21:04.029Z"
   },
   {
    "duration": 21,
    "start_time": "2022-12-29T13:21:04.034Z"
   },
   {
    "duration": 26,
    "start_time": "2022-12-29T13:21:04.057Z"
   },
   {
    "duration": 146,
    "start_time": "2022-12-29T13:21:04.085Z"
   },
   {
    "duration": 9,
    "start_time": "2022-12-29T13:21:04.233Z"
   },
   {
    "duration": 20,
    "start_time": "2022-12-29T13:21:04.244Z"
   },
   {
    "duration": 13,
    "start_time": "2022-12-29T13:21:04.266Z"
   },
   {
    "duration": 592,
    "start_time": "2022-12-29T13:21:04.280Z"
   },
   {
    "duration": 200,
    "start_time": "2022-12-29T13:21:04.874Z"
   },
   {
    "duration": 314,
    "start_time": "2022-12-29T13:21:05.075Z"
   },
   {
    "duration": 170,
    "start_time": "2022-12-29T13:21:05.390Z"
   },
   {
    "duration": 324,
    "start_time": "2022-12-29T13:21:05.563Z"
   },
   {
    "duration": 13,
    "start_time": "2022-12-29T13:21:05.889Z"
   },
   {
    "duration": 122,
    "start_time": "2022-12-29T13:21:05.903Z"
   },
   {
    "duration": 4,
    "start_time": "2022-12-29T13:21:06.026Z"
   },
   {
    "duration": 149,
    "start_time": "2022-12-29T13:21:06.032Z"
   },
   {
    "duration": 4,
    "start_time": "2022-12-29T13:21:06.184Z"
   },
   {
    "duration": 433,
    "start_time": "2022-12-29T13:21:06.197Z"
   },
   {
    "duration": 12,
    "start_time": "2022-12-29T13:21:06.632Z"
   },
   {
    "duration": 177,
    "start_time": "2022-12-29T13:21:06.645Z"
   },
   {
    "duration": 29,
    "start_time": "2022-12-29T13:21:06.824Z"
   },
   {
    "duration": 17,
    "start_time": "2022-12-29T13:21:06.855Z"
   },
   {
    "duration": 79,
    "start_time": "2022-12-29T13:55:21.034Z"
   },
   {
    "duration": 1398,
    "start_time": "2022-12-29T13:55:25.938Z"
   },
   {
    "duration": 79,
    "start_time": "2022-12-29T13:55:27.338Z"
   },
   {
    "duration": 10,
    "start_time": "2022-12-29T13:55:27.610Z"
   },
   {
    "duration": 19,
    "start_time": "2022-12-29T13:55:29.070Z"
   },
   {
    "duration": 12,
    "start_time": "2022-12-29T13:55:41.360Z"
   },
   {
    "duration": 13,
    "start_time": "2022-12-29T13:55:48.010Z"
   },
   {
    "duration": 12,
    "start_time": "2022-12-29T13:55:55.831Z"
   },
   {
    "duration": 153,
    "start_time": "2022-12-29T14:01:44.858Z"
   },
   {
    "duration": 12,
    "start_time": "2022-12-29T14:01:45.194Z"
   },
   {
    "duration": 18,
    "start_time": "2022-12-29T14:01:45.535Z"
   },
   {
    "duration": 15,
    "start_time": "2022-12-29T14:01:45.823Z"
   },
   {
    "duration": 604,
    "start_time": "2022-12-29T14:02:10.947Z"
   },
   {
    "duration": 223,
    "start_time": "2022-12-29T14:07:27.410Z"
   },
   {
    "duration": 282,
    "start_time": "2022-12-29T14:08:47.576Z"
   },
   {
    "duration": 240,
    "start_time": "2022-12-29T14:08:59.878Z"
   },
   {
    "duration": 229,
    "start_time": "2022-12-29T14:09:27.852Z"
   },
   {
    "duration": 273,
    "start_time": "2022-12-29T14:09:39.394Z"
   },
   {
    "duration": 244,
    "start_time": "2022-12-29T14:09:57.857Z"
   },
   {
    "duration": 290,
    "start_time": "2022-12-29T14:10:49.695Z"
   },
   {
    "duration": 316,
    "start_time": "2022-12-29T14:10:58.180Z"
   },
   {
    "duration": 165,
    "start_time": "2022-12-29T14:11:21.787Z"
   },
   {
    "duration": 187,
    "start_time": "2022-12-29T14:11:37.802Z"
   },
   {
    "duration": 209,
    "start_time": "2022-12-29T14:11:46.907Z"
   },
   {
    "duration": 215,
    "start_time": "2022-12-29T14:11:54.189Z"
   },
   {
    "duration": 232,
    "start_time": "2022-12-29T14:12:32.781Z"
   },
   {
    "duration": 286,
    "start_time": "2022-12-29T14:12:59.762Z"
   },
   {
    "duration": 742,
    "start_time": "2022-12-29T14:13:57.227Z"
   },
   {
    "duration": 38,
    "start_time": "2022-12-29T14:14:21.982Z"
   },
   {
    "duration": 318,
    "start_time": "2022-12-29T14:15:09.386Z"
   },
   {
    "duration": 432,
    "start_time": "2022-12-29T14:16:27.877Z"
   },
   {
    "duration": 439,
    "start_time": "2022-12-29T14:16:42.012Z"
   },
   {
    "duration": 3,
    "start_time": "2022-12-29T16:50:11.183Z"
   },
   {
    "duration": 33,
    "start_time": "2022-12-29T16:50:11.903Z"
   },
   {
    "duration": 4,
    "start_time": "2022-12-29T16:50:14.419Z"
   },
   {
    "duration": 16,
    "start_time": "2022-12-29T16:50:15.103Z"
   },
   {
    "duration": 18,
    "start_time": "2022-12-29T16:50:16.918Z"
   },
   {
    "duration": 77,
    "start_time": "2022-12-29T16:50:29.773Z"
   },
   {
    "duration": 12,
    "start_time": "2022-12-29T16:50:30.158Z"
   },
   {
    "duration": 21,
    "start_time": "2022-12-29T16:50:30.557Z"
   },
   {
    "duration": 13,
    "start_time": "2022-12-29T16:50:30.973Z"
   },
   {
    "duration": 71,
    "start_time": "2022-12-29T16:52:54.686Z"
   },
   {
    "duration": 6,
    "start_time": "2022-12-29T16:53:03.413Z"
   },
   {
    "duration": 4,
    "start_time": "2022-12-29T16:53:24.146Z"
   },
   {
    "duration": 14,
    "start_time": "2022-12-29T16:56:00.703Z"
   },
   {
    "duration": 13,
    "start_time": "2022-12-29T16:56:11.367Z"
   },
   {
    "duration": 6,
    "start_time": "2022-12-29T16:56:18.607Z"
   },
   {
    "duration": 7,
    "start_time": "2022-12-29T16:58:55.116Z"
   },
   {
    "duration": 77,
    "start_time": "2022-12-29T17:01:17.591Z"
   },
   {
    "duration": 76,
    "start_time": "2022-12-29T17:01:21.904Z"
   },
   {
    "duration": 16,
    "start_time": "2022-12-29T17:01:27.887Z"
   },
   {
    "duration": 1341,
    "start_time": "2022-12-29T17:10:23.720Z"
   },
   {
    "duration": 84,
    "start_time": "2022-12-29T17:10:25.064Z"
   },
   {
    "duration": 4,
    "start_time": "2022-12-29T17:10:25.150Z"
   },
   {
    "duration": 16,
    "start_time": "2022-12-29T17:10:25.777Z"
   },
   {
    "duration": 13,
    "start_time": "2022-12-29T17:10:26.792Z"
   },
   {
    "duration": 179,
    "start_time": "2022-12-29T17:10:31.238Z"
   },
   {
    "duration": 12,
    "start_time": "2022-12-29T17:10:31.679Z"
   },
   {
    "duration": 17,
    "start_time": "2022-12-29T17:10:32.181Z"
   },
   {
    "duration": 13,
    "start_time": "2022-12-29T17:10:32.557Z"
   },
   {
    "duration": 77,
    "start_time": "2022-12-29T17:10:33.869Z"
   },
   {
    "duration": 91,
    "start_time": "2022-12-29T17:10:45.850Z"
   },
   {
    "duration": 16,
    "start_time": "2022-12-29T17:11:04.954Z"
   },
   {
    "duration": 137,
    "start_time": "2022-12-29T17:12:08.278Z"
   },
   {
    "duration": 9,
    "start_time": "2022-12-29T17:13:08.797Z"
   },
   {
    "duration": 12,
    "start_time": "2022-12-29T17:13:27.209Z"
   },
   {
    "duration": 75,
    "start_time": "2022-12-29T17:15:05.670Z"
   },
   {
    "duration": 24,
    "start_time": "2022-12-29T17:15:12.370Z"
   },
   {
    "duration": 72,
    "start_time": "2022-12-29T17:15:59.768Z"
   },
   {
    "duration": 73,
    "start_time": "2022-12-29T17:16:05.550Z"
   },
   {
    "duration": 25,
    "start_time": "2022-12-29T17:16:24.990Z"
   },
   {
    "duration": 23,
    "start_time": "2022-12-29T17:17:39.488Z"
   },
   {
    "duration": 20,
    "start_time": "2022-12-29T17:18:38.986Z"
   },
   {
    "duration": 767,
    "start_time": "2022-12-29T17:19:26.127Z"
   },
   {
    "duration": 720,
    "start_time": "2022-12-29T17:19:38.782Z"
   },
   {
    "duration": 683,
    "start_time": "2022-12-29T17:19:54.842Z"
   },
   {
    "duration": 689,
    "start_time": "2022-12-29T17:20:29.871Z"
   },
   {
    "duration": 719,
    "start_time": "2022-12-29T17:20:39.274Z"
   },
   {
    "duration": 761,
    "start_time": "2022-12-29T17:21:35.363Z"
   },
   {
    "duration": 67,
    "start_time": "2022-12-29T17:22:21.751Z"
   },
   {
    "duration": 3,
    "start_time": "2022-12-29T17:23:14.393Z"
   },
   {
    "duration": 14,
    "start_time": "2022-12-29T17:26:41.033Z"
   },
   {
    "duration": 534,
    "start_time": "2022-12-29T17:26:50.692Z"
   },
   {
    "duration": 193,
    "start_time": "2022-12-29T17:26:52.968Z"
   },
   {
    "duration": 367,
    "start_time": "2022-12-29T17:26:57.817Z"
   },
   {
    "duration": 207,
    "start_time": "2022-12-29T17:26:59.049Z"
   },
   {
    "duration": 66,
    "start_time": "2022-12-29T17:28:49.101Z"
   },
   {
    "duration": 318,
    "start_time": "2022-12-29T17:31:07.041Z"
   },
   {
    "duration": 206,
    "start_time": "2022-12-29T17:32:01.786Z"
   },
   {
    "duration": 10,
    "start_time": "2022-12-29T17:32:43.873Z"
   },
   {
    "duration": 244,
    "start_time": "2022-12-29T17:33:00.744Z"
   },
   {
    "duration": 359,
    "start_time": "2022-12-29T17:33:01.944Z"
   },
   {
    "duration": 192,
    "start_time": "2022-12-29T17:33:02.695Z"
   },
   {
    "duration": 327,
    "start_time": "2022-12-29T17:33:04.066Z"
   },
   {
    "duration": 11,
    "start_time": "2022-12-29T17:33:06.409Z"
   },
   {
    "duration": 113,
    "start_time": "2022-12-29T17:33:07.233Z"
   },
   {
    "duration": 4,
    "start_time": "2022-12-29T17:33:16.087Z"
   },
   {
    "duration": 117,
    "start_time": "2022-12-29T17:33:17.295Z"
   },
   {
    "duration": 126,
    "start_time": "2022-12-29T17:36:42.090Z"
   },
   {
    "duration": 149,
    "start_time": "2022-12-29T17:36:51.877Z"
   },
   {
    "duration": 134,
    "start_time": "2022-12-29T17:37:12.446Z"
   },
   {
    "duration": 12,
    "start_time": "2022-12-29T17:38:26.446Z"
   },
   {
    "duration": 109,
    "start_time": "2022-12-29T17:41:38.135Z"
   },
   {
    "duration": 88,
    "start_time": "2022-12-29T17:41:47.771Z"
   },
   {
    "duration": 100,
    "start_time": "2022-12-29T17:41:55.865Z"
   },
   {
    "duration": 126,
    "start_time": "2022-12-29T17:43:51.048Z"
   },
   {
    "duration": 128,
    "start_time": "2022-12-29T17:44:28.282Z"
   },
   {
    "duration": 146,
    "start_time": "2022-12-29T17:44:38.189Z"
   },
   {
    "duration": 247,
    "start_time": "2022-12-29T17:45:00.343Z"
   },
   {
    "duration": 136,
    "start_time": "2022-12-29T17:45:22.667Z"
   },
   {
    "duration": 142,
    "start_time": "2022-12-29T17:45:47.703Z"
   },
   {
    "duration": 135,
    "start_time": "2022-12-29T17:46:14.700Z"
   },
   {
    "duration": 144,
    "start_time": "2022-12-29T17:46:28.833Z"
   },
   {
    "duration": 143,
    "start_time": "2022-12-29T17:46:41.764Z"
   },
   {
    "duration": 141,
    "start_time": "2022-12-29T17:46:58.292Z"
   },
   {
    "duration": 5,
    "start_time": "2022-12-29T17:49:07.416Z"
   },
   {
    "duration": 361,
    "start_time": "2022-12-29T18:02:49.137Z"
   },
   {
    "duration": 15,
    "start_time": "2022-12-29T18:06:59.042Z"
   },
   {
    "duration": 126,
    "start_time": "2022-12-29T18:07:02.056Z"
   },
   {
    "duration": 73,
    "start_time": "2022-12-29T18:07:47.733Z"
   },
   {
    "duration": 146,
    "start_time": "2022-12-29T18:10:33.309Z"
   },
   {
    "duration": 96,
    "start_time": "2022-12-29T18:11:16.142Z"
   },
   {
    "duration": 228,
    "start_time": "2022-12-29T18:11:29.003Z"
   },
   {
    "duration": 157,
    "start_time": "2022-12-29T18:11:47.441Z"
   },
   {
    "duration": 145,
    "start_time": "2022-12-29T18:12:56.319Z"
   },
   {
    "duration": 139,
    "start_time": "2022-12-29T18:13:21.201Z"
   },
   {
    "duration": 4,
    "start_time": "2022-12-29T18:15:11.043Z"
   },
   {
    "duration": 171,
    "start_time": "2022-12-29T18:15:33.835Z"
   },
   {
    "duration": 82,
    "start_time": "2022-12-29T18:16:08.129Z"
   },
   {
    "duration": 157,
    "start_time": "2022-12-29T18:16:17.692Z"
   },
   {
    "duration": 6,
    "start_time": "2022-12-29T18:18:01.725Z"
   },
   {
    "duration": 7,
    "start_time": "2022-12-29T18:18:24.130Z"
   },
   {
    "duration": 68,
    "start_time": "2022-12-29T18:18:46.563Z"
   },
   {
    "duration": 5,
    "start_time": "2022-12-29T18:18:51.072Z"
   },
   {
    "duration": 9,
    "start_time": "2022-12-29T18:20:02.353Z"
   },
   {
    "duration": 76,
    "start_time": "2022-12-29T18:22:18.951Z"
   },
   {
    "duration": 68,
    "start_time": "2022-12-29T18:22:29.606Z"
   },
   {
    "duration": 5,
    "start_time": "2022-12-29T18:22:43.742Z"
   },
   {
    "duration": 6,
    "start_time": "2022-12-29T18:23:04.250Z"
   },
   {
    "duration": 5,
    "start_time": "2022-12-29T18:23:21.695Z"
   },
   {
    "duration": 6,
    "start_time": "2022-12-29T18:23:32.499Z"
   },
   {
    "duration": 6,
    "start_time": "2022-12-29T18:24:14.459Z"
   },
   {
    "duration": 11,
    "start_time": "2022-12-29T18:24:20.783Z"
   },
   {
    "duration": 5,
    "start_time": "2022-12-29T18:24:32.503Z"
   },
   {
    "duration": 6,
    "start_time": "2022-12-29T18:24:47.626Z"
   },
   {
    "duration": 131,
    "start_time": "2022-12-29T18:25:12.373Z"
   },
   {
    "duration": 3,
    "start_time": "2022-12-29T18:25:41.815Z"
   },
   {
    "duration": 31,
    "start_time": "2022-12-29T18:25:42.328Z"
   },
   {
    "duration": 3,
    "start_time": "2022-12-29T18:25:42.798Z"
   },
   {
    "duration": 11,
    "start_time": "2022-12-29T18:25:43.282Z"
   },
   {
    "duration": 14,
    "start_time": "2022-12-29T18:25:44.010Z"
   },
   {
    "duration": 67,
    "start_time": "2022-12-29T18:25:45.754Z"
   },
   {
    "duration": 12,
    "start_time": "2022-12-29T18:25:45.987Z"
   },
   {
    "duration": 16,
    "start_time": "2022-12-29T18:25:46.228Z"
   },
   {
    "duration": 12,
    "start_time": "2022-12-29T18:25:46.474Z"
   },
   {
    "duration": 716,
    "start_time": "2022-12-29T18:25:47.457Z"
   },
   {
    "duration": 454,
    "start_time": "2022-12-29T18:25:48.188Z"
   },
   {
    "duration": 180,
    "start_time": "2022-12-29T18:25:49.921Z"
   },
   {
    "duration": 299,
    "start_time": "2022-12-29T18:25:51.890Z"
   },
   {
    "duration": 193,
    "start_time": "2022-12-29T18:25:52.651Z"
   },
   {
    "duration": 345,
    "start_time": "2022-12-29T18:25:53.919Z"
   },
   {
    "duration": 9,
    "start_time": "2022-12-29T18:25:55.340Z"
   },
   {
    "duration": 128,
    "start_time": "2022-12-29T18:25:55.869Z"
   },
   {
    "duration": 4,
    "start_time": "2022-12-29T18:25:56.794Z"
   },
   {
    "duration": 167,
    "start_time": "2022-12-29T18:25:57.619Z"
   },
   {
    "duration": 5,
    "start_time": "2022-12-29T18:25:59.842Z"
   },
   {
    "duration": 7,
    "start_time": "2022-12-29T18:26:01.163Z"
   },
   {
    "duration": 442,
    "start_time": "2022-12-29T18:26:03.363Z"
   },
   {
    "duration": 12,
    "start_time": "2022-12-29T18:26:05.753Z"
   },
   {
    "duration": 134,
    "start_time": "2022-12-29T18:26:09.014Z"
   },
   {
    "duration": 5,
    "start_time": "2022-12-29T18:28:35.563Z"
   },
   {
    "duration": 6,
    "start_time": "2022-12-29T18:28:40.764Z"
   },
   {
    "duration": 5,
    "start_time": "2022-12-29T18:28:55.524Z"
   },
   {
    "duration": 73,
    "start_time": "2022-12-29T18:29:23.789Z"
   },
   {
    "duration": 83,
    "start_time": "2022-12-29T18:29:31.580Z"
   },
   {
    "duration": 5,
    "start_time": "2022-12-29T18:29:45.533Z"
   },
   {
    "duration": 97,
    "start_time": "2022-12-29T18:30:40.126Z"
   },
   {
    "duration": 5,
    "start_time": "2022-12-29T18:30:45.840Z"
   },
   {
    "duration": 134,
    "start_time": "2022-12-29T18:30:51.702Z"
   },
   {
    "duration": 28,
    "start_time": "2022-12-29T18:30:59.698Z"
   },
   {
    "duration": 13,
    "start_time": "2022-12-29T18:33:48.157Z"
   },
   {
    "duration": 75,
    "start_time": "2022-12-29T18:41:03.830Z"
   },
   {
    "duration": 68,
    "start_time": "2022-12-29T18:41:57.088Z"
   },
   {
    "duration": 3,
    "start_time": "2022-12-29T18:42:16.985Z"
   },
   {
    "duration": 31,
    "start_time": "2022-12-29T18:42:17.522Z"
   },
   {
    "duration": 3,
    "start_time": "2022-12-29T18:42:17.982Z"
   },
   {
    "duration": 11,
    "start_time": "2022-12-29T18:42:18.493Z"
   },
   {
    "duration": 14,
    "start_time": "2022-12-29T18:42:19.247Z"
   },
   {
    "duration": 67,
    "start_time": "2022-12-29T18:42:20.900Z"
   },
   {
    "duration": 9,
    "start_time": "2022-12-29T18:42:21.133Z"
   },
   {
    "duration": 15,
    "start_time": "2022-12-29T18:42:21.366Z"
   },
   {
    "duration": 12,
    "start_time": "2022-12-29T18:42:21.597Z"
   },
   {
    "duration": 725,
    "start_time": "2022-12-29T18:42:22.533Z"
   },
   {
    "duration": 446,
    "start_time": "2022-12-29T18:42:23.260Z"
   },
   {
    "duration": 192,
    "start_time": "2022-12-29T18:42:25.108Z"
   },
   {
    "duration": 296,
    "start_time": "2022-12-29T18:42:26.712Z"
   },
   {
    "duration": 215,
    "start_time": "2022-12-29T18:42:27.510Z"
   },
   {
    "duration": 313,
    "start_time": "2022-12-29T18:42:28.933Z"
   },
   {
    "duration": 10,
    "start_time": "2022-12-29T18:42:30.252Z"
   },
   {
    "duration": 124,
    "start_time": "2022-12-29T18:42:30.792Z"
   },
   {
    "duration": 5,
    "start_time": "2022-12-29T18:42:31.598Z"
   },
   {
    "duration": 128,
    "start_time": "2022-12-29T18:42:32.399Z"
   },
   {
    "duration": 4,
    "start_time": "2022-12-29T18:42:33.679Z"
   },
   {
    "duration": 6,
    "start_time": "2022-12-29T18:42:34.713Z"
   },
   {
    "duration": 332,
    "start_time": "2022-12-29T18:42:35.998Z"
   },
   {
    "duration": 10,
    "start_time": "2022-12-29T18:42:37.496Z"
   },
   {
    "duration": 125,
    "start_time": "2022-12-29T18:42:39.012Z"
   },
   {
    "duration": 28,
    "start_time": "2022-12-29T18:42:40.054Z"
   },
   {
    "duration": 15,
    "start_time": "2022-12-29T18:42:41.141Z"
   },
   {
    "duration": 61,
    "start_time": "2022-12-30T07:31:44.629Z"
   },
   {
    "duration": 1376,
    "start_time": "2023-04-04T11:50:00.067Z"
   },
   {
    "duration": 79,
    "start_time": "2023-04-04T11:50:01.446Z"
   },
   {
    "duration": 4,
    "start_time": "2023-04-04T11:50:01.526Z"
   },
   {
    "duration": 56,
    "start_time": "2023-04-04T11:50:01.531Z"
   },
   {
    "duration": 51,
    "start_time": "2023-04-04T11:50:01.589Z"
   },
   {
    "duration": 167,
    "start_time": "2023-04-04T11:50:01.642Z"
   },
   {
    "duration": 9,
    "start_time": "2023-04-04T11:50:01.810Z"
   },
   {
    "duration": 16,
    "start_time": "2023-04-04T11:50:01.821Z"
   },
   {
    "duration": 34,
    "start_time": "2023-04-04T11:50:01.839Z"
   },
   {
    "duration": 786,
    "start_time": "2023-04-04T11:50:01.875Z"
   },
   {
    "duration": 573,
    "start_time": "2023-04-04T11:50:02.663Z"
   },
   {
    "duration": 220,
    "start_time": "2023-04-04T11:50:03.237Z"
   },
   {
    "duration": 401,
    "start_time": "2023-04-04T11:50:03.461Z"
   },
   {
    "duration": 213,
    "start_time": "2023-04-04T11:50:03.865Z"
   },
   {
    "duration": 314,
    "start_time": "2023-04-04T11:50:04.080Z"
   },
   {
    "duration": 9,
    "start_time": "2023-04-04T11:50:04.395Z"
   },
   {
    "duration": 156,
    "start_time": "2023-04-04T11:50:04.406Z"
   },
   {
    "duration": 5,
    "start_time": "2023-04-04T11:50:04.564Z"
   },
   {
    "duration": 162,
    "start_time": "2023-04-04T11:50:04.571Z"
   },
   {
    "duration": 13,
    "start_time": "2023-04-04T11:50:04.735Z"
   },
   {
    "duration": 22,
    "start_time": "2023-04-04T11:50:04.750Z"
   },
   {
    "duration": 383,
    "start_time": "2023-04-04T11:50:04.776Z"
   },
   {
    "duration": 10,
    "start_time": "2023-04-04T11:50:05.161Z"
   },
   {
    "duration": 185,
    "start_time": "2023-04-04T11:50:05.173Z"
   },
   {
    "duration": 28,
    "start_time": "2023-04-04T11:50:05.360Z"
   },
   {
    "duration": 16,
    "start_time": "2023-04-04T11:50:05.390Z"
   }
  ],
  "kernelspec": {
   "display_name": "Python 3 (ipykernel)",
   "language": "python",
   "name": "python3"
  },
  "language_info": {
   "codemirror_mode": {
    "name": "ipython",
    "version": 3
   },
   "file_extension": ".py",
   "mimetype": "text/x-python",
   "name": "python",
   "nbconvert_exporter": "python",
   "pygments_lexer": "ipython3",
   "version": "3.9.5"
  },
  "toc": {
   "base_numbering": 1,
   "nav_menu": {},
   "number_sections": false,
   "sideBar": true,
   "skip_h1_title": false,
   "title_cell": "Table of Contents",
   "title_sidebar": "Contents",
   "toc_cell": false,
   "toc_position": {
    "height": "calc(100% - 180px)",
    "left": "10px",
    "top": "150px",
    "width": "165px"
   },
   "toc_section_display": true,
   "toc_window_display": true
  }
 },
 "nbformat": 4,
 "nbformat_minor": 2
}
